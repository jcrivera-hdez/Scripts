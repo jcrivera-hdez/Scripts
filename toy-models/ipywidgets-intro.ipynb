{
 "cells": [
  {
   "cell_type": "markdown",
   "metadata": {},
   "source": [
    "<html><head>\n",
    "\n",
    "\n",
    "<!-- Load require.js. Delete this if your page already loads require.js -->\n",
    "<script src=\"https://cdnjs.cloudflare.com/ajax/libs/require.js/2.3.4/require.min.js\" integrity=\"sha256-Ae2Vz/4ePdIu6ZyI/5ZGsYnb+m0JlOmKPjt6XZ9JJkA=\" crossorigin=\"anonymous\"></script>\n",
    "<script src=\"https://unpkg.com/@jupyter-widgets/html-manager@*/dist/embed-amd.js\" crossorigin=\"anonymous\"></script>\n",
    "<script type=\"application/vnd.jupyter.widget-state+json\">\n",
    "{\n",
    "    \"version_major\": 2,\n",
    "    \"version_minor\": 0,\n",
    "    \"state\": {\n",
    "        \"7880c0ec919747529eb8b1b5a0bf5e1e\": {\n",
    "            \"model_name\": \"LayoutModel\",\n",
    "            \"model_module\": \"@jupyter-widgets/base\",\n",
    "            \"model_module_version\": \"1.2.0\",\n",
    "            \"state\": {}\n",
    "        },\n",
    "        \"c954135964ca43818c2bcda1372b7267\": {\n",
    "            \"model_name\": \"SliderStyleModel\",\n",
    "            \"model_module\": \"@jupyter-widgets/controls\",\n",
    "            \"model_module_version\": \"1.5.0\",\n",
    "            \"state\": {\n",
    "                \"description_width\": \"\"\n",
    "            }\n",
    "        },\n",
    "        \"79a76655902b4e409ed4a540974e07f0\": {\n",
    "            \"model_name\": \"IntSliderModel\",\n",
    "            \"model_module\": \"@jupyter-widgets/controls\",\n",
    "            \"model_module_version\": \"1.5.0\",\n",
    "            \"state\": {\n",
    "                \"layout\": \"IPY_MODEL_7880c0ec919747529eb8b1b5a0bf5e1e\",\n",
    "                \"style\": \"IPY_MODEL_c954135964ca43818c2bcda1372b7267\"\n",
    "            }\n",
    "        },\n",
    "        \"a8ca2d3589a0416ebedb64f3458fe576\": {\n",
    "            \"model_name\": \"LayoutModel\",\n",
    "            \"model_module\": \"@jupyter-widgets/base\",\n",
    "            \"model_module_version\": \"1.2.0\",\n",
    "            \"state\": {}\n",
    "        },\n",
    "        \"7723fabe9761443d97d447f68cb38144\": {\n",
    "            \"model_name\": \"SliderStyleModel\",\n",
    "            \"model_module\": \"@jupyter-widgets/controls\",\n",
    "            \"model_module_version\": \"1.5.0\",\n",
    "            \"state\": {\n",
    "                \"description_width\": \"\"\n",
    "            }\n",
    "        },\n",
    "        \"1081f4dfe9b54523a3b410437c7d1047\": {\n",
    "            \"model_name\": \"IntSliderModel\",\n",
    "            \"model_module\": \"@jupyter-widgets/controls\",\n",
    "            \"model_module_version\": \"1.5.0\",\n",
    "            \"state\": {\n",
    "                \"layout\": \"IPY_MODEL_a8ca2d3589a0416ebedb64f3458fe576\",\n",
    "                \"style\": \"IPY_MODEL_7723fabe9761443d97d447f68cb38144\"\n",
    "            }\n",
    "        },\n",
    "        \"e51822ccc73345c688c9927d098c041e\": {\n",
    "            \"model_name\": \"LayoutModel\",\n",
    "            \"model_module\": \"@jupyter-widgets/base\",\n",
    "            \"model_module_version\": \"1.2.0\",\n",
    "            \"state\": {}\n",
    "        },\n",
    "        \"48f2441148e04d87abc25e51b957cfce\": {\n",
    "            \"model_name\": \"SliderStyleModel\",\n",
    "            \"model_module\": \"@jupyter-widgets/controls\",\n",
    "            \"model_module_version\": \"1.5.0\",\n",
    "            \"state\": {\n",
    "                \"description_width\": \"\"\n",
    "            }\n",
    "        },\n",
    "        \"dc0feb7037e84f999add5078a3df1e89\": {\n",
    "            \"model_name\": \"IntSliderModel\",\n",
    "            \"model_module\": \"@jupyter-widgets/controls\",\n",
    "            \"model_module_version\": \"1.5.0\",\n",
    "            \"state\": {\n",
    "                \"continuous_update\": false,\n",
    "                \"description\": \"Test:\",\n",
    "                \"layout\": \"IPY_MODEL_e51822ccc73345c688c9927d098c041e\",\n",
    "                \"max\": 10,\n",
    "                \"style\": \"IPY_MODEL_48f2441148e04d87abc25e51b957cfce\",\n",
    "                \"value\": 7\n",
    "            }\n",
    "        },\n",
    "        \"f3f1d8a4e2e046ec9ea1d01fe7654bc5\": {\n",
    "            \"model_name\": \"LayoutModel\",\n",
    "            \"model_module\": \"@jupyter-widgets/base\",\n",
    "            \"model_module_version\": \"1.2.0\",\n",
    "            \"state\": {}\n",
    "        },\n",
    "        \"dcf0af8a18964b05bd22255ed8411da5\": {\n",
    "            \"model_name\": \"SliderStyleModel\",\n",
    "            \"model_module\": \"@jupyter-widgets/controls\",\n",
    "            \"model_module_version\": \"1.5.0\",\n",
    "            \"state\": {\n",
    "                \"description_width\": \"\"\n",
    "            }\n",
    "        },\n",
    "        \"c5d1937e1eda4614850382a099440c29\": {\n",
    "            \"model_name\": \"FloatSliderModel\",\n",
    "            \"model_module\": \"@jupyter-widgets/controls\",\n",
    "            \"model_module_version\": \"1.5.0\",\n",
    "            \"state\": {\n",
    "                \"continuous_update\": false,\n",
    "                \"description\": \"Test:\",\n",
    "                \"layout\": \"IPY_MODEL_f3f1d8a4e2e046ec9ea1d01fe7654bc5\",\n",
    "                \"max\": 10,\n",
    "                \"orientation\": \"vertical\",\n",
    "                \"readout_format\": \".1f\",\n",
    "                \"step\": 0.1,\n",
    "                \"style\": \"IPY_MODEL_dcf0af8a18964b05bd22255ed8411da5\",\n",
    "                \"value\": 7.5\n",
    "            }\n",
    "        },\n",
    "        \"dcb35f8f3c0f4998bb58090d227a4867\": {\n",
    "            \"model_name\": \"LayoutModel\",\n",
    "            \"model_module\": \"@jupyter-widgets/base\",\n",
    "            \"model_module_version\": \"1.2.0\",\n",
    "            \"state\": {}\n",
    "        },\n",
    "        \"8a1e8b58b4f84082ac18f777c2de1dc0\": {\n",
    "            \"model_name\": \"DescriptionStyleModel\",\n",
    "            \"model_module\": \"@jupyter-widgets/controls\",\n",
    "            \"model_module_version\": \"1.5.0\",\n",
    "            \"state\": {\n",
    "                \"description_width\": \"\"\n",
    "            }\n",
    "        },\n",
    "        \"3878e5f3b61c4307b88c18845c5aa4a6\": {\n",
    "            \"model_name\": \"FloatTextModel\",\n",
    "            \"model_module\": \"@jupyter-widgets/controls\",\n",
    "            \"model_module_version\": \"1.5.0\",\n",
    "            \"state\": {\n",
    "                \"layout\": \"IPY_MODEL_dcb35f8f3c0f4998bb58090d227a4867\",\n",
    "                \"step\": null,\n",
    "                \"style\": \"IPY_MODEL_8a1e8b58b4f84082ac18f777c2de1dc0\",\n",
    "                \"value\": 42.642\n",
    "            }\n",
    "        },\n",
    "        \"1a630388707849eb92200829720e38af\": {\n",
    "            \"model_name\": \"LayoutModel\",\n",
    "            \"model_module\": \"@jupyter-widgets/base\",\n",
    "            \"model_module_version\": \"1.2.0\",\n",
    "            \"state\": {}\n",
    "        },\n",
    "        \"ac6b1a9b69184f4ab8858e033b40791c\": {\n",
    "            \"model_name\": \"SliderStyleModel\",\n",
    "            \"model_module\": \"@jupyter-widgets/controls\",\n",
    "            \"model_module_version\": \"1.5.0\",\n",
    "            \"state\": {\n",
    "                \"description_width\": \"\"\n",
    "            }\n",
    "        },\n",
    "        \"cad201356773455695823ba9445a1661\": {\n",
    "            \"model_name\": \"FloatSliderModel\",\n",
    "            \"model_module\": \"@jupyter-widgets/controls\",\n",
    "            \"model_module_version\": \"1.5.0\",\n",
    "            \"state\": {\n",
    "                \"layout\": \"IPY_MODEL_1a630388707849eb92200829720e38af\",\n",
    "                \"readout_format\": \".3f\",\n",
    "                \"step\": 0.001,\n",
    "                \"style\": \"IPY_MODEL_ac6b1a9b69184f4ab8858e033b40791c\",\n",
    "                \"value\": 42.642\n",
    "            }\n",
    "        },\n",
    "        \"893bc48d6df3492da4cb5220f93b3c2d\": {\n",
    "            \"model_name\": \"LinkModel\",\n",
    "            \"model_module\": \"@jupyter-widgets/controls\",\n",
    "            \"model_module_version\": \"1.5.0\",\n",
    "            \"state\": {\n",
    "                \"source\": [\n",
    "                    \"IPY_MODEL_3878e5f3b61c4307b88c18845c5aa4a6\",\n",
    "                    \"value\"\n",
    "                ],\n",
    "                \"target\": [\n",
    "                    \"IPY_MODEL_cad201356773455695823ba9445a1661\",\n",
    "                    \"value\"\n",
    "                ]\n",
    "            }\n",
    "        },\n",
    "        \"cbb30afc05d34ce7a56bfed85ae564c8\": {\n",
    "            \"model_name\": \"LayoutModel\",\n",
    "            \"model_module\": \"@jupyter-widgets/base\",\n",
    "            \"model_module_version\": \"1.2.0\",\n",
    "            \"state\": {}\n",
    "        },\n",
    "        \"0d0e8a6b3f2640059635679d3f2cd622\": {\n",
    "            \"model_name\": \"DescriptionStyleModel\",\n",
    "            \"model_module\": \"@jupyter-widgets/controls\",\n",
    "            \"model_module_version\": \"1.5.0\",\n",
    "            \"state\": {\n",
    "                \"description_width\": \"\"\n",
    "            }\n",
    "        },\n",
    "        \"3a6e15724cce4465b3c220085b312435\": {\n",
    "            \"model_name\": \"PlayModel\",\n",
    "            \"model_module\": \"@jupyter-widgets/controls\",\n",
    "            \"model_module_version\": \"1.5.0\",\n",
    "            \"state\": {\n",
    "                \"description\": \"Press play\",\n",
    "                \"interval\": 500,\n",
    "                \"layout\": \"IPY_MODEL_cbb30afc05d34ce7a56bfed85ae564c8\",\n",
    "                \"style\": \"IPY_MODEL_0d0e8a6b3f2640059635679d3f2cd622\",\n",
    "                \"value\": 50\n",
    "            }\n",
    "        },\n",
    "        \"d759235afc694e299be46ed8dec4201c\": {\n",
    "            \"model_name\": \"LayoutModel\",\n",
    "            \"model_module\": \"@jupyter-widgets/base\",\n",
    "            \"model_module_version\": \"1.2.0\",\n",
    "            \"state\": {}\n",
    "        },\n",
    "        \"7f00940a786d46669e27d5ea0e9e3e7a\": {\n",
    "            \"model_name\": \"SliderStyleModel\",\n",
    "            \"model_module\": \"@jupyter-widgets/controls\",\n",
    "            \"model_module_version\": \"1.5.0\",\n",
    "            \"state\": {\n",
    "                \"description_width\": \"\"\n",
    "            }\n",
    "        },\n",
    "        \"508406c0e0804f5fbc8154c560b3a2c2\": {\n",
    "            \"model_name\": \"IntSliderModel\",\n",
    "            \"model_module\": \"@jupyter-widgets/controls\",\n",
    "            \"model_module_version\": \"1.5.0\",\n",
    "            \"state\": {\n",
    "                \"layout\": \"IPY_MODEL_d759235afc694e299be46ed8dec4201c\",\n",
    "                \"style\": \"IPY_MODEL_7f00940a786d46669e27d5ea0e9e3e7a\",\n",
    "                \"value\": 50\n",
    "            }\n",
    "        },\n",
    "        \"4cce5940bef2484cb2b6a2c4ec381120\": {\n",
    "            \"model_name\": \"LinkModel\",\n",
    "            \"model_module\": \"@jupyter-widgets/controls\",\n",
    "            \"model_module_version\": \"1.5.0\",\n",
    "            \"state\": {\n",
    "                \"source\": [\n",
    "                    \"IPY_MODEL_3a6e15724cce4465b3c220085b312435\",\n",
    "                    \"value\"\n",
    "                ],\n",
    "                \"target\": [\n",
    "                    \"IPY_MODEL_508406c0e0804f5fbc8154c560b3a2c2\",\n",
    "                    \"value\"\n",
    "                ]\n",
    "            }\n",
    "        },\n",
    "        \"e8c5ebb7d90041a6a41195849ae30a28\": {\n",
    "            \"model_name\": \"LayoutModel\",\n",
    "            \"model_module\": \"@jupyter-widgets/base\",\n",
    "            \"model_module_version\": \"1.2.0\",\n",
    "            \"state\": {}\n",
    "        },\n",
    "        \"52f94d1dad704622a5e8d49b83a5e02f\": {\n",
    "            \"model_name\": \"HBoxModel\",\n",
    "            \"model_module\": \"@jupyter-widgets/controls\",\n",
    "            \"model_module_version\": \"1.5.0\",\n",
    "            \"state\": {\n",
    "                \"children\": [\n",
    "                    \"IPY_MODEL_3a6e15724cce4465b3c220085b312435\",\n",
    "                    \"IPY_MODEL_508406c0e0804f5fbc8154c560b3a2c2\"\n",
    "                ],\n",
    "                \"layout\": \"IPY_MODEL_e8c5ebb7d90041a6a41195849ae30a28\"\n",
    "            }\n",
    "        },\n",
    "        \"9eb5936daa064d768d3f0cd86a848894\": {\n",
    "            \"model_name\": \"LayoutModel\",\n",
    "            \"model_module\": \"@jupyter-widgets/base\",\n",
    "            \"model_module_version\": \"1.2.0\",\n",
    "            \"state\": {}\n",
    "        },\n",
    "        \"1fd9f1ffb3184a01b76e0b88fd900b6e\": {\n",
    "            \"model_name\": \"VBoxModel\",\n",
    "            \"model_module\": \"@jupyter-widgets/controls\",\n",
    "            \"model_module_version\": \"1.5.0\",\n",
    "            \"state\": {\n",
    "                \"_dom_classes\": [\n",
    "                    \"widget-interact\"\n",
    "                ],\n",
    "                \"children\": [\n",
    "                    \"IPY_MODEL_09b072a6b9b047e8b6f1232d8ac26f79\",\n",
    "                    \"IPY_MODEL_6243ea5fc2ad4fc887e6ca3c0c620a7d\"\n",
    "                ],\n",
    "                \"layout\": \"IPY_MODEL_9eb5936daa064d768d3f0cd86a848894\"\n",
    "            }\n",
    "        },\n",
    "        \"d7dce2c74f8246b8b92c95f01e2cfe26\": {\n",
    "            \"model_name\": \"LayoutModel\",\n",
    "            \"model_module\": \"@jupyter-widgets/base\",\n",
    "            \"model_module_version\": \"1.2.0\",\n",
    "            \"state\": {}\n",
    "        },\n",
    "        \"81e1248dc0aa41c9914409a0096dbf9b\": {\n",
    "            \"model_name\": \"SliderStyleModel\",\n",
    "            \"model_module\": \"@jupyter-widgets/controls\",\n",
    "            \"model_module_version\": \"1.5.0\",\n",
    "            \"state\": {\n",
    "                \"description_width\": \"\"\n",
    "            }\n",
    "        },\n",
    "        \"09b072a6b9b047e8b6f1232d8ac26f79\": {\n",
    "            \"model_name\": \"FloatSliderModel\",\n",
    "            \"model_module\": \"@jupyter-widgets/controls\",\n",
    "            \"model_module_version\": \"1.5.0\",\n",
    "            \"state\": {\n",
    "                \"description\": \"bw\",\n",
    "                \"layout\": \"IPY_MODEL_d7dce2c74f8246b8b92c95f01e2cfe26\",\n",
    "                \"max\": 3,\n",
    "                \"min\": 0.1,\n",
    "                \"step\": 0.1,\n",
    "                \"style\": \"IPY_MODEL_81e1248dc0aa41c9914409a0096dbf9b\",\n",
    "                \"value\": 0.3\n",
    "            }\n",
    "        },\n",
    "        \"f315c2c8b1514a76bf08341ebca5eb7f\": {\n",
    "            \"model_name\": \"LayoutModel\",\n",
    "            \"model_module\": \"@jupyter-widgets/base\",\n",
    "            \"model_module_version\": \"1.2.0\",\n",
    "            \"state\": {}\n",
    "        },\n",
    "        \"6243ea5fc2ad4fc887e6ca3c0c620a7d\": {\n",
    "            \"model_name\": \"OutputModel\",\n",
    "            \"model_module\": \"@jupyter-widgets/output\",\n",
    "            \"model_module_version\": \"1.0.0\",\n",
    "            \"state\": {\n",
    "                \"layout\": \"IPY_MODEL_f315c2c8b1514a76bf08341ebca5eb7f\",\n",
    "                \"outputs\": [\n",
    "                    {\n",
    "                        \"output_type\": \"display_data\",\n",
    "                        \"data\": {\n",
    "                            \"text/plain\": \"<Figure size 432x288 with 1 Axes>\",\n",
    "                            \"image/png\": \"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\\n\"\n",
    "                        },\n",
    "                        \"metadata\": {\n",
    "                            \"needs_background\": \"light\"\n",
    "                        }\n",
    "                    }\n",
    "                ]\n",
    "            }\n",
    "        },\n",
    "        \"bcf965ca2867481299b592abaf173470\": {\n",
    "            \"model_name\": \"LayoutModel\",\n",
    "            \"model_module\": \"@jupyter-widgets/base\",\n",
    "            \"model_module_version\": \"1.2.0\",\n",
    "            \"state\": {}\n",
    "        },\n",
    "        \"a41c1a6ae27d4c9c8dfc5147982b046e\": {\n",
    "            \"model_name\": \"VBoxModel\",\n",
    "            \"model_module\": \"@jupyter-widgets/controls\",\n",
    "            \"model_module_version\": \"1.5.0\",\n",
    "            \"state\": {\n",
    "                \"_dom_classes\": [\n",
    "                    \"widget-interact\"\n",
    "                ],\n",
    "                \"children\": [\n",
    "                    \"IPY_MODEL_55546fdeacb34a7883245a257509ccb8\",\n",
    "                    \"IPY_MODEL_4d2bb2a6abd449d286b3466fb0e6290e\"\n",
    "                ],\n",
    "                \"layout\": \"IPY_MODEL_bcf965ca2867481299b592abaf173470\"\n",
    "            }\n",
    "        },\n",
    "        \"fdcee04a4f8645d4b3f842640e01d8a1\": {\n",
    "            \"model_name\": \"LayoutModel\",\n",
    "            \"model_module\": \"@jupyter-widgets/base\",\n",
    "            \"model_module_version\": \"1.2.0\",\n",
    "            \"state\": {}\n",
    "        },\n",
    "        \"77b332587c4e4ce5add6911370df034e\": {\n",
    "            \"model_name\": \"SliderStyleModel\",\n",
    "            \"model_module\": \"@jupyter-widgets/controls\",\n",
    "            \"model_module_version\": \"1.5.0\",\n",
    "            \"state\": {\n",
    "                \"description_width\": \"\"\n",
    "            }\n",
    "        },\n",
    "        \"55546fdeacb34a7883245a257509ccb8\": {\n",
    "            \"model_name\": \"FloatSliderModel\",\n",
    "            \"model_module\": \"@jupyter-widgets/controls\",\n",
    "            \"model_module_version\": \"1.5.0\",\n",
    "            \"state\": {\n",
    "                \"description\": \"bw\",\n",
    "                \"layout\": \"IPY_MODEL_fdcee04a4f8645d4b3f842640e01d8a1\",\n",
    "                \"max\": 3,\n",
    "                \"min\": 0.1,\n",
    "                \"step\": 0.1,\n",
    "                \"style\": \"IPY_MODEL_77b332587c4e4ce5add6911370df034e\",\n",
    "                \"value\": 0.6\n",
    "            }\n",
    "        },\n",
    "        \"ab4a7c0e45a24e2ba7f2a45b46a07348\": {\n",
    "            \"model_name\": \"LayoutModel\",\n",
    "            \"model_module\": \"@jupyter-widgets/base\",\n",
    "            \"model_module_version\": \"1.2.0\",\n",
    "            \"state\": {}\n",
    "        },\n",
    "        \"4d2bb2a6abd449d286b3466fb0e6290e\": {\n",
    "            \"model_name\": \"OutputModel\",\n",
    "            \"model_module\": \"@jupyter-widgets/output\",\n",
    "            \"model_module_version\": \"1.0.0\",\n",
    "            \"state\": {\n",
    "                \"layout\": \"IPY_MODEL_ab4a7c0e45a24e2ba7f2a45b46a07348\",\n",
    "                \"outputs\": [\n",
    "                    {\n",
    "                        \"output_type\": \"display_data\",\n",
    "                        \"data\": {\n",
    "                            \"text/plain\": \"<Figure size 432x288 with 1 Axes>\",\n",
    "                            \"image/png\": \"iVBORw0KGgoAAAANSUhEUgAAAZgAAAEKCAYAAAAvlUMdAAAABHNCSVQICAgIfAhkiAAAAAlwSFlzAAALEgAACxIB0t1+/AAAADh0RVh0U29mdHdhcmUAbWF0cGxvdGxpYiB2ZXJzaW9uMy4yLjIsIGh0dHA6Ly9tYXRwbG90bGliLm9yZy+WH4yJAAAgAElEQVR4nO3deXxV9Z3/8dcnGyEESAJhX4UoIlrEgFh3qxao/aFdrE5bHccZ6lhnbGemHduZ6dh2pmOt2qkzjoy2TtW2olVb0KGD1n1DCMqOYECEQICwhbBk//z+uCc3l5DlJrknNwnv5+NxH/cs3++93y+H5JPzPd/zOebuiIiIJFpKshsgIiK9kwKMiIiEQgFGRERCoQAjIiKhUIAREZFQKMCIiEgoQg0wZjbLzDaaWbGZ3dHMfjOz+4P9q81sWrA908yWmdkqM1tnZt+PqZNnZi+a2YfBe26YfRARkY4JLcCYWSrwADAbmAxcb2aTmxSbDRQEr3nAg8H2KuAyd/8EMBWYZWYzg313AC+5ewHwUrAuIiLdTJhnMDOAYnff4u7VwAJgbpMyc4HHPGIpkGNmw4P1w0GZ9ODlMXUeDZYfBa4OsQ8iItJBaSF+9khge8x6CXBuHGVGAqXBGdAKYCLwgLu/G5QZ6u6lAO5eamZDmvtyM5tH5KyIfv36nTNp0qROdkdE5OSyYsWKve6e39H6YQYYa2Zb07w0LZZx9zpgqpnlAL8zsynuvjbeL3f3h4CHAAoLC72oqCjeqiIiApjZx52pH+YQWQkwOmZ9FLCzvWXc/SDwKjAr2LTbzIYDBO97EtdkERFJlDADzHKgwMzGm1kGcB2wqEmZRcANwWyymUB5MOyVH5y5YGZ9gcuBD2Lq3Bgs3wgsDLEPIiLSQaENkbl7rZndBiwBUoFH3H2dmd0S7J8PLAbmAMXAUeCmoPpw4NHgOkwK8JS7Px/suwt4ysxuBrYBXwyrDyIi0nF2MqTr1zUYEZH2M7MV7l7Y0fq6k19EREKhACMiIqFQgBERkVAowIiISCgUYEREJBQKMCIiEgoFGBERCYUCjIiIhEIBRkREQqEAIyIioVCAERGRUCjAiIhIKBRgREQkFAowIiISCgUYEREJhQKMiIiEQgFGRERCoQAjIiKhUIAREZFQKMCIiEgoFGBERCQUCjAiIhIKBRgREQmFAoyIiIRCAUZEREKhACMiIqFQgBERkVCEGmDMbJaZbTSzYjO7o5n9Zmb3B/tXm9m0YPtoM3vFzDaY2Tozuz2mzp1mtsPMVgavOWH2QUREOiYtrA82s1TgAeAKoARYbmaL3H19TLHZQEHwOhd4MHivBf7W3d8zs/7ACjN7MabuT939nrDaLiIinRfmGcwMoNjdt7h7NbAAmNukzFzgMY9YCuSY2XB3L3X39wDcvQLYAIwMsa0iIpJgYQaYkcD2mPUSTgwSbZYxs3HA2cC7MZtvC4bUHjGz3EQ1WEREEifMAGPNbPP2lDGzbOAZ4BvufijY/CAwAZgKlAL3NvvlZvPMrMjMisrKytrbdhER6aQwA0wJMDpmfRSwM94yZpZOJLj82t2fbSjg7rvdvc7d64GHiQzFncDdH3L3QncvzM/P73RnRESkfcIMMMuBAjMbb2YZwHXAoiZlFgE3BLPJZgLl7l5qZgb8Atjg7vfFVjCz4TGr1wBrw+uCiIh0VGizyNy91sxuA5YAqcAj7r7OzG4J9s8HFgNzgGLgKHBTUP184KvAGjNbGWz7rrsvBu42s6lEhtK2Al8Lqw8iItJx5t70skjvU1hY6EVFRcluhohIj2JmK9y9sKP1dSe/iIiEQgFGRERCoQAjIiKhUIAREZFQKMCIiEgoFGBERCQUCjAiIhIKBRgREQmFAoyIiIRCAUZEREKhACMiIqFQgBERkVAowIiISCgUYEREJBQKMCIiEgoFGBERCYUCjIiIhEIBRkREQqEAIyIioVCAERGRUCjAiIhIKBRgREQkFAowIiISCgUYEREJhQKMiIiEQgFGRERCoQAjIiKhUIAREZFQhBpgzGyWmW00s2Izu6OZ/WZm9wf7V5vZtGD7aDN7xcw2mNk6M7s9pk6emb1oZh8G77lh9kFERDomtABjZqnAA8BsYDJwvZlNblJsNlAQvOYBDwbba4G/dffTgZnA12Pq3gG85O4FwEvBuoiIdDNhnsHMAIrdfYu7VwMLgLlNyswFHvOIpUCOmQ1391J3fw/A3SuADcDImDqPBsuPAleH2AcREemgMAPMSGB7zHoJjUEi7jJmNg44G3g32DTU3UsBgvchzX25mc0zsyIzKyorK+tgF0REpKPCDDDWzDZvTxkzywaeAb7h7ofa8+Xu/pC7F7p7YX5+fnuqiohIAoQZYEqA0THro4Cd8ZYxs3QiweXX7v5sTJndZjY8KDMc2JPgdouISAKEGWCWAwVmNt7MMoDrgEVNyiwCbghmk80Eyt291MwM+AWwwd3va6bOjcHyjcDC8LogIiIdlRbWB7t7rZndBiwBUoFH3H2dmd0S7J8PLAbmAMXAUeCmoPr5wFeBNWa2Mtj2XXdfDNwFPGVmNwPbgC+G1QcREek4c296WaT3KSws9KKiomQ3Q0SkRzGzFe5e2NH6upNfRERCoQAjIiKhUIAREZFQKMCIiEgoFGBERCQUCjAiIhIKBRgREQmFAoyIiIRCAUZEREKhACMiIqFQgBERkVAowIiISCgUYEREJBQKMCIiEoq4AoyZPWNmnzEzBSQREYlLvAHjQeBPgA/N7C4zmxRim0REpBeIK8C4+x/d/cvANGAr8KKZvW1mN5lZepgNFBGRninuIS8zGwT8KfDnwPvAz4gEnBdDaZmIiPRoafEUMrNngUnA48Bn3b002PWkmelZxCIicoK4Agzwc3dfHLvBzPq4e1VnntcsIiK9V7xDZP/SzLZ3EtkQERHpXVo9gzGzYcBIoK+ZnQ1YsGsAkBVy20REpAdra4js00Qu7I8C7ovZXgF8N6Q2iYhIL9BqgHH3R4FHzezz7v5MF7VJRER6gbaGyL7i7r8CxpnZ3zTd7+73NVNNRESkzSGyfsF7dtgNERGR3qWtIbL/Dt6/3zXNERGR3iLeZJd3m9kAM0s3s5fMbK+ZfSWOerPMbKOZFZvZHc3sNzO7P9i/2symxex7xMz2mNnaJnXuNLMdZrYyeM2Jpw8iItK14r0P5kp3PwRcBZQApwLfaq2CmaUCDwCzgcnA9WY2uUmx2UBB8JpHJKlmg18Cs1r4+J+6+9TgtbiFMiIikkTxBpiGhJZzgCfcfX8cdWYAxe6+xd2rgQXA3CZl5gKPecRSIMfMhgO4++tAPN8jIiLdULwB5jkz+wAoBF4ys3ygso06I4HtMeslwbb2lmnObcGQ2iNmlttcATObZ2ZFZlZUVlYWx0eKiEgixZuu/w7gPKDQ3WuAI5x4NtKUNbPNO1CmqQeBCcBUoBS4t7lC7v6Quxe6e2F+fn4bHykiIokWb7JLgNOJ3A8TW+exVsqXAKNj1kcBOztQ5jjuvrth2cweBp5vrbyIiCRHvLPIHgfuAS4ApgevtrIoLwcKzGy8mWUA1wGLmpRZBNwQzCabCZTHPAqgpbYMj1m9BljbUlkREUmeeM9gCoHJ7t7W8FWUu9ea2W3AEiAVeMTd15nZLcH++cBiIhMHioGjwE0N9c3sCeASYLCZlQD/7O6/AO42s6lEhtK2Al+Lt00iItJ14g0wa4FhRK55xC2YQry4ybb5McsOfL2Fute3sP2r7WmDiIgkR7wBZjCw3syWAVUNG939/4XSKhER6fHiDTB3htkIERHpfeIKMO7+mpmNBQrc/Y9mlkXkuoqIiEiz4gowZvYXRFK55BG5B2UkMB/4VHhNEzne5rLDPFW0nXe37GfnwWM4MCG/HxdMHMy100czpH9mspsoIjHiHSL7OpHUL+8CuPuHZjYktFaJxNhTUcm//u8GFq488Rapsooqlm7Zz/0vF/PXl03kaxdPID013gQVIhKmeH8Sq4J8YgAEN1vGPWVZpKPeKt7Lp3/6erPBJVZ1bT33vLCJL//8XQ4erW61rIh0jXjPYF4zs+8Cfc3sCuBW4LnwmiUCz6wo4VtPr6I+5k+ZaWNyuPS0IYwb3I/6emfj7goWryll676jACz7aD/X/vc7PDnvPHL7ZSSp5SICYPHcO2lmKcDNwJVE8octAX7enhsvk6mwsNCLioqS3Qxph6eD4NLwPywnK51bL5nImSMHnlC2rt5ZuHIHv11REt129pgcfvPnM+mbobkoIh1lZivcva2sLS2KN9llPfB74FZ3/4K7P9xTgov0PK9vKuPvn1kdDS5j87L40TVnNhtcAFJTjM9NG8Wtl0yIZk99f9tB/mmhsgiJJFOrASbIEXanme0FPgA2mlmZmX2va5onJ5uP9x3h679+j7pgXGxsXhb/+JnJ5Ga1Pdx1YUE+N5w3Lrr+9IoSflu0veUKIhKqts5gvgGcD0x390HungecC5xvZt8MvXVyUqmsqePrv3mPiqpaAPL6ZfDtWZPIzow/6fenzxjKRQWDo+s/eG49u8rbenSRiIShrQBzA3C9u3/UsMHdtwBfCfaJJMxP/7iJtTsOAZCWYvzNFaeS184L9WbGTeePZ9iAyD0xFVW1/OPvNVQmkgxtBZh0d9/bdKO7l9H4GGWRTntv2wEefn1LdP3L545hQn52hz4rMz2VeRedEl3/44bdvPLBnk63UUTap60A09oNBbrZQBKitq6e7z67Jjod+YwRA7jyjGGd+szThw/g0tMa7wX+4fPrqa6t79Rnikj7tBVgPmFmh5p5VQBndkUDpfd7fOnHfLCrAoA+aSl87aJTSLHmnqbdPl+aPpq+6ZFpylv2HuHJ5ds6/ZkiEr9WA4y7p7r7gGZe/d1dQ2TSaQeOVHPfi5ui61efPZL8BOUUG9g3nc9NGxldv//lYo5V1yXks0WkbUraJEn1n68UU1EZmTU2bEAmnzlzeBs12ufKycPIzYr8LVRWUcWj72xN6OeLSMsUYCRpSg4c5fF3Po6uXz9jTMITVWakpfC5aaOi6z9/YwuVNTqLEekKCjCSNA+8spnqusiF94Ih2UwflxvK91xyaj6DgunOew9Xs2CZrsWIdAUFGEmKkgNHj7vL/kvTR2MJuLDfnLTUFK46a0R0/aHXt1BTpxllImFTgJGkmP/aZmqDecmThvVn8vABoX7fZZOGMCDICLCzvJLFa0pD/T4RUYCRJNh7uIrfFjVmPv7ctFGhnb00yEhLOe7emoff2ILytYqESwFGutyjb2+lKrjpcfzgfkwZEe7ZS4MrJg8lPTUSyNbuOMTSLfu75HtFTlYKMNKlKmvq+NXSxpljnz1rROhnLw0GZKZzUUF+dP3Rt7d2yfeKnKwUYKRLLVy5gwNHawDIz+7DjPF5Xfr9s6Y0DpO9sH4XJQeOdun3i5xMFGCky7g7//PW1uj6lWcMJTWla85eGozKzWJK8OCyeodfLdWUZZGwKMBIl1m+9cBxOccuiUlG2ZU+fcbQ6PJTRdupqtWNlyJhCDXAmNksM9toZsVmdkcz+83M7g/2rzazaTH7HjGzPWa2tkmdPDN70cw+DN7DuTtPEu7X7zZee7lg4mCy+8T/ILFEmjY6N3rj5f4j1fxhza6ktEOktwstwJhZKvAAMBuYDFxvZpObFJsNFASvecCDMft+Ccxq5qPvAF5y9wLgpWBdurmmv8g/dfrQVkqHKyXFjvv+2EkHIpI4YZ7BzACK3X2Lu1cDC4C5TcrMBR7ziKVAjpkNB3D314Hm5pHOBR4Nlh8Frg6l9ZJQz6woiaaFmTgkm/GD+yW1PZeelk9qMHut6OMDbNpdkdT2iPRGYQaYkcD2mPWSYFt7yzQ11N1LAYL3ZgfyzWyemRWZWVFZWVm7Gi6J5e48GZMW5rJJybn2EisnK4PCmNxnv3lXF/tFEi3MANPc9KCmt07HU6ZD3P0hdy9098L8/Py2K0ho3t9+kOI9h4HIxf3zThmU5BZFxA6TPfNeiZ4VI5JgYQaYEmB0zPooYGcHyjS1u2EYLXjXw9a7uaeWN569nHfKIDKDp0wm2xkjBjB0QB8AKiprlZ9MJMHCDDDLgQIzG29mGcB1wKImZRYBNwSzyWYC5Q3DX61YBNwYLN8ILExkoyWxKmvqeH514yFN1tTk5qSYcWlMexbokcoiCRVagHH3WuA2YAmwAXjK3deZ2S1mdktQbDGwBSgGHgZubahvZk8A7wCnmVmJmd0c7LoLuMLMPgSuCNalm3ph/W4OVzU+sfLUodlJbtHxLj618WL/8q0HKN6ji/0iiRLqjQjuvphIEIndNj9m2YGvt1D3+ha27wM+lcBmSoieWdGYNfnCgsFdlncsXjlZGUwbm8PyrQcAWLBsO/94VdPZ9CLSEbqTX0Kzp6KSNz5snMF3YcHgJLamZbGz2p59f4fu7BdJEAUYCc1zq0oJninGpGH9ye+fmdwGteCskTkMzm68s//F9buT3CKR3kEBRkKzcOWO6PIF3fTsBSJ39l98aszF/mXbWyktIvFSgJFQbC47zOqScgDSUoxzx3ePe19aculp+dGbst4s3sv2/UrjL9JZCjASioUrG29nmjo6J2mJLeM1KLsPnxidE11/crnOYkQ6SwFGEs7deW5VY4A5f2L3HR6LFXtPzG9XbKc2yJ0mIh2jACMJt3bHIT7aewSAzPQUpo3pGU9UmDY2h4F90wHYfaiKVzYqh51IZyjASMItWtV4cX/62Dwy0nrGf7O0lBQuPrUxb92CZbqzX6QzesZPvvQY9fV+XGqYT07s3hf3m4q9J+aVjXvYefBYElsj0rMpwEhCrdh2gNLySgCy+6QxZeTAJLeofYYOyIy2ud51sV+kMxRgJKFiL+6fOz6PtJSe91/s8knHJ8Cs0cV+kQ7peT/90m3V1tUfl/L+vAk9a3iswTnjco+72P/SBt3ZL9IRCjCSMEu37Gfv4WoAcvqmc/qwAUluUcekpaRw6WmNF/t/tVQX+0U6QgFGEub51Y3DYzNPGURKSvfKnNwel00aSkPi5zeL97K57HByGyTSAynASEJU19bzh7W7ous9dXisQX7/Psfdv/P4Ox8nsTUiPZMCjCTEW8V7KT9WA8Dg7AwKhnSvB4t1xJWTh0aXn1lREn1wmojERwFGEiJ29tjMUwZ1uweLdcSUkQMZkRN5xEBFVS1PF2nKskh7KMBIp1XW1PFCzDNUPjmhZ+Qea0uKGbPOGBZd/+XbW6lveMCNiLRJAUY67dWNe6LDR8MGZDJuUFaSW5Q4Fxbk0y8jFYCt+47yR01ZFombAox02qKY4bHzJvSO4bEGmempx6WPefiNLUlsjUjPogAjnVJRWcMfN+yJrn+yh88ea86sKcNJDaZcL996gBUfH0hyi0R6BgUY6ZQX1u2mujaSSmVsXhajcnvP8FiDvH4ZnB8TOP/rleIktkak51CAkU5ZGDM81hvPXhp89hMjoo9UfumDPazdUZ7U9oj0BAow0mFlFVW8+WHjQ7nO6yWzx5ozKjeLGePzouv/8fKHSWyNSM+gACMd9vzqnTTM2p00rD/5/fskt0Ehu/rskdHlJet2s6ZEZzEirVGAkQ77/crG4bHzJ/bes5cG4wb1O+4s5p4XNiaxNSLdnwKMdMiWssOs2n4QgNQUY+b43nv9JdYXzxkVTYL52qYy3ogZIhSR44UaYMxslpltNLNiM7ujmf1mZvcH+1eb2bS26prZnWa2w8xWBq85YfZBmvfsezuiy2ePziE7My2Jrek6o3KzuLigMZX/vzy/gVo9kEykWaEFGDNLBR4AZgOTgevNbHKTYrOBguA1D3gwzro/dfepwWtxWH2Q5tXXO797vzHAXBTzC/dkcO300fRJi/zobNxdweNLlWlZpDlhnsHMAIrdfYu7VwMLgLlNyswFHvOIpUCOmQ2Ps64kydKP9rHj4DEAsvukMXVMTpJb1LVyszK4emrjBf97lmxkZ/DvISKNwgwwI4HY9LMlwbZ4yrRV97ZgSO0RM8tFutTTRSXR5fMmDCI99eS7lHfVWcMZmdMXgCPVdfz9M6uVCFOkiTB/MzSXkKrpT2BLZVqr+yAwAZgKlAL3NvvlZvPMrMjMisrKdCE2UQ5V1rB4bWl0/ZJTT67hsQZpqSn8+YXjo/9R3/hwL798e2uo31lf7xytrqVOgUx6iDCvzJYAo2PWRwE74yyT0VJdd4+mszWzh4Hnm/tyd38IeAigsLBQP5EJ8vyqUiprGlPDjB/cL8ktSp5JwwbwmbOG8/zqSMD90eINnDlqINPH5bVRMz77j1Tz4vpdvLapjNUl5ZSWV0aDy8icvnxi9EAumzSU2VOG0a/PyTHJQnqWMP9XLgcKzGw8sAO4DviTJmUWERnuWgCcC5S7e6mZlbVU18yGu3vDn9DXAGtD7IM0sWD5tujyJafl96rMyR1xbeFo1u08xEd7j1Bb79zy+Ap+e8t5nJLf8Sd6rvh4P4+8uZUX1u+ipq75v412HDzGjoPHWLxmF99ftI6vnjeWr108gYF90zv8vSKJFtoQmbvXArcBS4ANwFPuvs7MbjGzW4Jii4EtQDHwMHBra3WDOneb2RozWw1cCnwzrD7I8dbuKGd1cPd6eqqdFDdXtiU9NYVvXn4q/YNp2vuOVPPln7/L5rLD7focd+e1TWVcO/8dPv/gO/zvmtJmg0t6qp0wflxRVct/vbqZS+95ld+/vwN3nbBL92Anw3/GwsJCLyoqSnYzerzvPLuGJ5ZFzmAumDiYr186Mckt6j427a7gR4s3UBVklh6Qmca/XzeVyyYNbbVeXb3z4vrdPPja5uiNq7EmDsnm3PF5nDFiIKNy+5KemkJtXT07Dh5j1faDvLqpjNLyyuPqzDlzGP92zVkMzNLZjHSOma1w98IO11eAkXgcqqxh5o9e4mh1HQD//NnJTBo2IMmt6l7W7ijnJ0s2Uh1z4+WcM4fxtYsmcNaogdHhRHdnc9lh/rBmF79dUcK2/UeP+5xUMy4oGMzsKcMYO6j1a1z17ryzeR9PLNvGviPV0e2j8/oy/yvncMaIgQnsoZxsFGDioADTeY+8+RE/eH49AKNy+3L358866a+/NGdz2WHueWEjB4/WHLd9UL8MxgzKot5h+/6j7I8JBg3SU41LTxvCZz8xgsHZ7Usceqy6jt8s+/i4h79lpqfw02unMvvM4R3rjJz0FGDioADTOfX1zmX3vsrWfZG/tG++YDyXn9760M/J7NCxGn75zlbe2bwvrvL9+qTyqUlDmTVlGLlZGZ367mUf7Wf+a5s5VlMX3fbtWafxlxdP0B8E0m6dDTCa2yhtenXTnmhw6ZeRygW6uN+qAX3T+evLCvjsWSP4w5pS3tt+gCNVdceV6ZueyhkjBjDzlEEUjsulT1pqQr57xvg8Rub25Z4lG9l1KHJt5u7/28i2fUf54dVTTsqbYiV5FGCkTQ+9viW6fMlpQ8hMT8wvw95u/OB+3HrpROrrnbLDVRw4Wk2KGTl90xncvw8pIZ1RjMzpyw/nTuGnf9zE+tJDACxYvp3S8koe+PI0snXPjHQR/TkjrVpdcpClW/YDkYvPs6cMS3KLep6UFGPogEwmDRvAqUP7M2RAZmjBpUF2ZhrfmT3puLPNhmnQpeXKmyZdQwFGWvXgq5ujyzMnDGJQOy8+S/KkpaZw6yUTuCbmSZzrSw9x9QNv6Wmc0iUUYKRFm3ZX8Ie1u6LrV52l2Ug9jZlxbeFo5l10CqnBWdPuQ1V8Yf7bLFy5o43aIp2jACMteuCV4ujytDG5jGvjngzpvi49bQh3zJ5Ev4zI9bOq2npuX7CSOxeto7pWD0yTcCjASLM27qpg0arG3KSxwyzSM00ZOZAfXj2FETmZ0W2/fHsrX5j/Nh/tPZLElklvpQAjzbr3hY003CI1dXQOE4d0PHmjdB/DB0ZmmE0f1/gYpdUl5cz52Rs8/s5WPdNGEkoBRk5QtHU/L6yPPhWBL00f3Upp6WmyMtL45uWn8tWZY0lNiVyXOVZTxz8tXMd1Dy1l0+6KJLdQegsFGDlOfb1HU8JA5ImVuvbS+5gZc84czg/nTok+mRNg2db9zPnZG/zw+fWUN0l3I9JeCjBynKffKzkuJf/108ckuUUSpvGD+/Gja85k7tQR0VlmtfXOL978iIt+8goPvb6Zypq6Nj5FpHkKMBK1/0g1/7Z4Q3T9M2cOJ7+/7nvp7TLSUrhu+hj+7XNnMmlY/+j28mM1/GjxB1x09ys88uZHCjTSbgowEvUv/7ueA8GwyODsDOZO1cyxk8novCy+d9Vkbv9UAUNi/rDYU1HFD55fzwU/fpkHXimm/JiGziQ+CjACwAvrdvHse4033t30yfHKOXYSMjNmnjKIe7/4Cf7s/HHkxjy0bO/han6yZCPn3/UyP3x+PdubPMdGpCml6xd2H6pkzs/eiD6w6vwJg7jtsoIkt0q6g+rael7+YA/Prd55wjNsUgyumDyUGz85jvNOGaTHAfRCStcvnVJbV89fP/F+NLjkZKXzp58cn+RWSXeRkZbCrCnDuPz0Iby1eS/PrSplx8FIssx6hyXrdrNk3W4m5Pfj+hlj+Ny0UeT169wzbaT30BnMSe77z63jf97aCoAZ/MOc0/WYXWlRvTurth9k8dpdrN1xYsLMjNQULp88hGvOHsXFp+aTkaZR+J5MZzDSYY+/szUaXAA+P22Ugou0KsWMs8fkcvaYXEoOHOWF9bt548MyKmsi+cyq6+pZvGYXi9fsYkBmGldMHsaVZwzlwoLBZGXo183JRmcwJ6mFK3fwjSdXRtPBzBifx+2fKgj9OSXS+xyrruPtzXt5ZeMeNpc1n9MsIy2FGePy+OTEQcwYl8eUkQM1iaQH6OwZjALMSejpFSV8++lVNKSdmpDfj3/8zGT9wEunlRw4yhsf7uXtzXvZe7i6xXJpKcZpw/pz+vABFAzJZtzgfozOzWL4wExystI1YaCbUICJgwJMhLvzny8Xc++Lm6LbRuX25XtXTaZ/ZnorNUXax93ZXHaEoo/3s+LjA5QciP8pmhmpKeT1y2Bg33SyM9Po1yeNvukpZKankpGaQp/0FDJSU+mTnkJmWip9M1LIyqZsB6cAAAphSURBVEijf2YaOVkZDOqXwZD+fRiU3Seaa006RtdgJC7lR2v41tOrjktiOTYvi+/MOV3BRRLOzJg4JJuJQ7K5bvoY9h2uYu3OQ2woPcTGXRXsOlTZYt3qunp2HapstUw80lKMETl9GTsoiwn52dEzpknD+utsvYvoDKaXc3eWrNvF9xauY09FVXT7GSMG8I3LTyW7j/7GkK53pKqWj/cdoeTAMXYcPMauQ5XsPVzFgSM1HAs5JU3D8NzZY3I4Z2wuhWPzGJXbV8NyzdAQWRxO1gCz7KP93PfiRpZu2X/c9k+fMYyvzBxDWoqmkEr3U1lTx+GqWo5U1XKsuo7K2jqqauqprqunts6pqa+nptapqYtsq6qtp7KmjiNBnfLKWg4cqeZwVW3c3zl8YCYzxudFXuPymDgkWwEHBZi4nEwB5uDRahav2cWC5duiWZEbDOybzs0XjGf6uLwktU6k61TV1rHnUBW7yivZcfAY2/YfZeu+I5SWtz30lpuVzjljc5k2Npepo3M4c+TAk3IouVsHGDObBfwMSAV+7u53Ndlvwf45wFHgT939vdbqmlke8CQwDtgKXOvuB1prR28NMO5OWUUV60oP8f62gyzdvI8V2w5Q1+SphCkGl58+lC+eM5rsTA2JycntSFUtm8sO8+Gew2zcVcGHeyqi9/G0ZtygLE4fPoBTh/ZnwpBsxg/qx+i8vgzs23tnvXXbAGNmqcAm4AqgBFgOXO/u62PKzAH+ikiAORf4mbuf21pdM7sb2O/ud5nZHUCuu/99a23pCQHmUGUNC1fu5EhVLXX1TnVt5PS/sqaOY9WRIYNDwal/WUVV3BdAx+ZlMXfqCIYOyGy7sMhJqN6drfuO8kHpITbsqjgh51q8+mWkMii7D7lZ6Qzom06/jDSy+qSSlZFKZloqGWkppKemkJ5qpKakkJoSuXE18opMjMjv34crJw8lLbV7DF9351lkM4Bid98CYGYLgLnA+pgyc4HHPBLllppZjpkNJ3J20lLducAlQf1HgVeBVgNMd7dt31Fm/ex1jlYn/uLmx/uPcv/LxQn/XBE53pHqOo7sP8q2/W2XbU3BkGz+cPuF3SbIdEaYAWYksD1mvYTIWUpbZUa2UXeou5cCuHupmQ1p7svNbB4wL1g9bGYbO9KJThoM7G2rUEpm/5y0nKETuqA9HVZ3tJzUrN6RRkZ96X56Sz+g830pBdK/vXU1dbXd4cE7p3WmcpgBprlByabjcS2Viaduq9z9IeCh9tRJNDMr6szpZXdiZkW15XvUl26mt/Slt/QDel9fOlM/zHOwEmB0zPooYGecZVqruzsYRiN435PANouISIKEGWCWAwVmNt7MMoDrgEVNyiwCbrCImUB5MPzVWt1FwI3B8o3AwhD7ICIiHRTaEJm715rZbcASIlONH3H3dWZ2S7B/PrCYyAyyYiLTlG9qrW7w0XcBT5nZzcA24Ith9SEBkjpEl2DqS/fUW/rSW/oB6kvUSXGjpYiIdL2ePw9ORES6JQUYEREJhQJMSMxslpltNLPiIONAj2JmW81sjZmtbJiqaGZ5ZvaimX0YvOcmu51NmdkjZrbHzNbGbGux3Wb2neAYbTSzTyen1c1roS93mtmO4LisDLJhNOzrln0xs9Fm9oqZbTCzdWZ2e7C9xx2XVvrSE49LppktM7NVQV++H2xP3HFxd70S/CIyMWEzcAqQAawCJie7Xe3sw1ZgcJNtdwN3BMt3AD9OdjubafdFwDRgbVvtBiYHx6YPMD44ZqnJ7kMbfbkT+LtmynbbvgDDgWnBcn8iaaAm98Tj0kpfeuJxMSA7WE4H3gVmJvK46AwmHNE0Oe5eDTSkuunp5hJJz0PwfnUS29Isd38daJqso6V2zwUWuHuVu39EZDbjjC5paBxa6EtLum1f3L3UgyS27l4BbCCSraPHHZdW+tKS7twXd/fDwWp68HISeFwUYMLRUgqcnsSBF8xsRZB2B5qk6QGaTdPTDbXU7p56nG4zs9XBEFrD8EWP6IuZjQPOJvLXco8+Lk36Aj3wuJhZqpmtJHLD+ovuntDjogATjk6nuukGznf3acBs4OtmdlGyGxSCnnicHgQmAFOJpK26N9je7ftiZtnAM8A33P1Qa0Wb2dbd+9Ijj4u717n7VCLZUmaY2ZRWire7Lwow4YgnTU635u47g/c9wO+InAr31DQ9LbW7xx0nd98d/FKoBx6mcYiiW/fFzNKJ/EL+tbs/G2zukcelub701OPSwN0PEslMP4sEHhcFmHDEkyan2zKzfmbWv2EZuBJYS89N09NSuxcB15lZHzMbDxQAy5LQvrg1/OAHriFyXKAb98XMDPgFsMHd74vZ1eOOS0t96aHHJd/McoLlvsDlwAck8rgkeyZDb30RSYGzichMi39Idnva2fZTiMwWWQWsa2g/MAh4CfgweM9LdlubafsTRIYoaoj8xXVza+0G/iE4RhuB2clufxx9eRxYA6wOfuCHd/e+ABcQGUpZDawMXnN64nFppS898bicBbwftHkt8L1ge8KOi1LFiIhIKDREJiIioVCAERGRUCjAiIhIKBRgREQkFAowIiISCgUYkRhmNi42e7GIdJwCjEiCmFlojyBPpJ7STun5FGBETpRqZg8Hz8h4wcz6mtlUM1saJDP8XUMyQzN71cx+ZGavAbeb2RfNbG3wjI3XgzKpZvYTM1se1P9asP0SM3s9+Lz1ZjbfzFKCfddb5Hk8a83sx8G2a83svmD5djPbEixPMLM3g+VzzOy1IEnpkpiUH8e1s2v/OeVkpb9kRE5UAFzv7n9hZk8Bnwe+DfyVu79mZj8A/hn4RlA+x90vBjCzNcCn3X1HQxoOInfgl7v7dDPrA7xlZi8E+2YQec7Gx8D/AZ8zs7eBHwPnAAeIZLW+Gngd+FZQ70Jgn5mNJHJ3+RtBjqz/AOa6e5mZfQn4V+DPmrZTpCsowIic6CN3XxksryCSJTfH3V8Ltj0K/Dam/JMxy28BvwwCU0NSxyuBs8zsC8H6QCJBrBpY5u4NZyJPEAkWNcCr7l4WbP81cJG7/97MsoM8caOB3xB5KNmFwXedBkwBXoykzCKVSKqZ5topEjoFGJETVcUs1wE5LRUMHGlYcPdbzOxc4DPASjObSiTN+V+5+5LYSmZ2CSemO3eaT4ve4B3gJiK5oN4gcnZyHvC3wBhgnbuf11Y7RbqCrsGItK0cOGBmFwbrXwVea66gmU1w93fd/XvAXiJnGkuAvwyGsDCzU4Ms1RB5Bsf44NrLl4A3iTzA6mIzG2xmqcD1Md/3OvB3wfv7wKVAlbuXEwk6+WZ2XvA96WZ2RuL+GUTaR2cwIvG5EZhvZlnAFiJnEc35iZkVEDkLeYlIRurVwDjgvSDdexmNj6F9B7gLOJNI0Pidu9eb2XeAV4LPWezuDSnT3yAStF539zoz204kxTruXh0Mw91vZgOJ/Hz/O5GM2CJdTtmURZIkGCL7O3e/KtltEQmDhshERCQUOoMREZFQ6AxGRERCoQAjIiKhUIAREZFQKMCIiEgoFGBERCQU/x9YGF4aZy+RNwAAAABJRU5ErkJggg==\\n\"\n",
    "                        },\n",
    "                        \"metadata\": {\n",
    "                            \"needs_background\": \"light\"\n",
    "                        }\n",
    "                    }\n",
    "                ]\n",
    "            }\n",
    "        },\n",
    "        \"2786c4ac6ba54e4e962b08833c2a0a3f\": {\n",
    "            \"model_name\": \"LayoutModel\",\n",
    "            \"model_module\": \"@jupyter-widgets/base\",\n",
    "            \"model_module_version\": \"1.2.0\",\n",
    "            \"state\": {}\n",
    "        },\n",
    "        \"019d4c953d064346b5850283f10abb00\": {\n",
    "            \"model_name\": \"VBoxModel\",\n",
    "            \"model_module\": \"@jupyter-widgets/controls\",\n",
    "            \"model_module_version\": \"1.5.0\",\n",
    "            \"state\": {\n",
    "                \"_dom_classes\": [\n",
    "                    \"widget-interact\"\n",
    "                ],\n",
    "                \"children\": [\n",
    "                    \"IPY_MODEL_bd29e94fa8f04195bdafb5a994575df3\",\n",
    "                    \"IPY_MODEL_99b5e203ae77433d864847c0b5a87bf9\"\n",
    "                ],\n",
    "                \"layout\": \"IPY_MODEL_2786c4ac6ba54e4e962b08833c2a0a3f\"\n",
    "            }\n",
    "        },\n",
    "        \"6e76363cbde34df1bb139ae68ae3790f\": {\n",
    "            \"model_name\": \"LayoutModel\",\n",
    "            \"model_module\": \"@jupyter-widgets/base\",\n",
    "            \"model_module_version\": \"1.2.0\",\n",
    "            \"state\": {}\n",
    "        },\n",
    "        \"fb701bfb142740fe879651dcda344b7c\": {\n",
    "            \"model_name\": \"SliderStyleModel\",\n",
    "            \"model_module\": \"@jupyter-widgets/controls\",\n",
    "            \"model_module_version\": \"1.5.0\",\n",
    "            \"state\": {\n",
    "                \"description_width\": \"\"\n",
    "            }\n",
    "        },\n",
    "        \"bd29e94fa8f04195bdafb5a994575df3\": {\n",
    "            \"model_name\": \"FloatSliderModel\",\n",
    "            \"model_module\": \"@jupyter-widgets/controls\",\n",
    "            \"model_module_version\": \"1.5.0\",\n",
    "            \"state\": {\n",
    "                \"description\": \"bw\",\n",
    "                \"layout\": \"IPY_MODEL_6e76363cbde34df1bb139ae68ae3790f\",\n",
    "                \"max\": 3,\n",
    "                \"min\": 0.1,\n",
    "                \"step\": 0.1,\n",
    "                \"style\": \"IPY_MODEL_fb701bfb142740fe879651dcda344b7c\",\n",
    "                \"value\": 1.9\n",
    "            }\n",
    "        },\n",
    "        \"178583886e1d41818d8e2c9e0bdf4f58\": {\n",
    "            \"model_name\": \"LayoutModel\",\n",
    "            \"model_module\": \"@jupyter-widgets/base\",\n",
    "            \"model_module_version\": \"1.2.0\",\n",
    "            \"state\": {}\n",
    "        },\n",
    "        \"99b5e203ae77433d864847c0b5a87bf9\": {\n",
    "            \"model_name\": \"OutputModel\",\n",
    "            \"model_module\": \"@jupyter-widgets/output\",\n",
    "            \"model_module_version\": \"1.0.0\",\n",
    "            \"state\": {\n",
    "                \"layout\": \"IPY_MODEL_178583886e1d41818d8e2c9e0bdf4f58\",\n",
    "                \"outputs\": [\n",
    "                    {\n",
    "                        \"output_type\": \"display_data\",\n",
    "                        \"data\": {\n",
    "                            \"text/plain\": \"<Figure size 432x288 with 1 Axes>\",\n",
    "                            \"image/png\": \"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\\n\"\n",
    "                        },\n",
    "                        \"metadata\": {\n",
    "                            \"needs_background\": \"light\"\n",
    "                        }\n",
    "                    }\n",
    "                ]\n",
    "            }\n",
    "        },\n",
    "        \"a1da8566759b42028c187e2c6fe76e37\": {\n",
    "            \"model_name\": \"LayoutModel\",\n",
    "            \"model_module\": \"@jupyter-widgets/base\",\n",
    "            \"model_module_version\": \"1.2.0\",\n",
    "            \"state\": {}\n",
    "        },\n",
    "        \"8bb47bc46c604cc2a6fabdc62af07d1a\": {\n",
    "            \"model_name\": \"VBoxModel\",\n",
    "            \"model_module\": \"@jupyter-widgets/controls\",\n",
    "            \"model_module_version\": \"1.5.0\",\n",
    "            \"state\": {\n",
    "                \"_dom_classes\": [\n",
    "                    \"widget-interact\"\n",
    "                ],\n",
    "                \"children\": [\n",
    "                    \"IPY_MODEL_d35c8fd760b24c66ba58836378be7d98\",\n",
    "                    \"IPY_MODEL_4f437be88ebd41deaf823add02df2085\"\n",
    "                ],\n",
    "                \"layout\": \"IPY_MODEL_a1da8566759b42028c187e2c6fe76e37\"\n",
    "            }\n",
    "        },\n",
    "        \"cc1f4a11a1864fec972a7c5bc309d21e\": {\n",
    "            \"model_name\": \"LayoutModel\",\n",
    "            \"model_module\": \"@jupyter-widgets/base\",\n",
    "            \"model_module_version\": \"1.2.0\",\n",
    "            \"state\": {}\n",
    "        },\n",
    "        \"67b44875785341c29547f68db7c95fe4\": {\n",
    "            \"model_name\": \"SliderStyleModel\",\n",
    "            \"model_module\": \"@jupyter-widgets/controls\",\n",
    "            \"model_module_version\": \"1.5.0\",\n",
    "            \"state\": {\n",
    "                \"description_width\": \"\"\n",
    "            }\n",
    "        },\n",
    "        \"d35c8fd760b24c66ba58836378be7d98\": {\n",
    "            \"model_name\": \"FloatSliderModel\",\n",
    "            \"model_module\": \"@jupyter-widgets/controls\",\n",
    "            \"model_module_version\": \"1.5.0\",\n",
    "            \"state\": {\n",
    "                \"description\": \"bw\",\n",
    "                \"layout\": \"IPY_MODEL_cc1f4a11a1864fec972a7c5bc309d21e\",\n",
    "                \"max\": 3,\n",
    "                \"min\": 0.1,\n",
    "                \"step\": 0.1,\n",
    "                \"style\": \"IPY_MODEL_67b44875785341c29547f68db7c95fe4\",\n",
    "                \"value\": 1.4\n",
    "            }\n",
    "        },\n",
    "        \"a640d3bb28fc44e7879f0970131a468f\": {\n",
    "            \"model_name\": \"LayoutModel\",\n",
    "            \"model_module\": \"@jupyter-widgets/base\",\n",
    "            \"model_module_version\": \"1.2.0\",\n",
    "            \"state\": {}\n",
    "        },\n",
    "        \"4f437be88ebd41deaf823add02df2085\": {\n",
    "            \"model_name\": \"OutputModel\",\n",
    "            \"model_module\": \"@jupyter-widgets/output\",\n",
    "            \"model_module_version\": \"1.0.0\",\n",
    "            \"state\": {\n",
    "                \"layout\": \"IPY_MODEL_a640d3bb28fc44e7879f0970131a468f\",\n",
    "                \"outputs\": [\n",
    "                    {\n",
    "                        \"output_type\": \"display_data\",\n",
    "                        \"data\": {\n",
    "                            \"text/plain\": \"<Figure size 432x288 with 1 Axes>\",\n",
    "                            \"image/png\": \"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\\n\"\n",
    "                        },\n",
    "                        \"metadata\": {\n",
    "                            \"needs_background\": \"light\"\n",
    "                        }\n",
    "                    }\n",
    "                ]\n",
    "            }\n",
    "        },\n",
    "        \"2a6a241cef604c989af73134cb65708b\": {\n",
    "            \"model_name\": \"LayoutModel\",\n",
    "            \"model_module\": \"@jupyter-widgets/base\",\n",
    "            \"model_module_version\": \"1.2.0\",\n",
    "            \"state\": {}\n",
    "        },\n",
    "        \"eee83f8bf70942c3adb30f809e3318f5\": {\n",
    "            \"model_name\": \"VBoxModel\",\n",
    "            \"model_module\": \"@jupyter-widgets/controls\",\n",
    "            \"model_module_version\": \"1.5.0\",\n",
    "            \"state\": {\n",
    "                \"_dom_classes\": [\n",
    "                    \"widget-interact\"\n",
    "                ],\n",
    "                \"children\": [\n",
    "                    \"IPY_MODEL_83026964368142868cf7eca811350276\",\n",
    "                    \"IPY_MODEL_70cf5e380a734f7e8ca72c29603bc65d\"\n",
    "                ],\n",
    "                \"layout\": \"IPY_MODEL_2a6a241cef604c989af73134cb65708b\"\n",
    "            }\n",
    "        },\n",
    "        \"24d2c08256ef49a8925d4581ff710f42\": {\n",
    "            \"model_name\": \"LayoutModel\",\n",
    "            \"model_module\": \"@jupyter-widgets/base\",\n",
    "            \"model_module_version\": \"1.2.0\",\n",
    "            \"state\": {}\n",
    "        },\n",
    "        \"009f42a2c161493ba1539d46779e6599\": {\n",
    "            \"model_name\": \"SliderStyleModel\",\n",
    "            \"model_module\": \"@jupyter-widgets/controls\",\n",
    "            \"model_module_version\": \"1.5.0\",\n",
    "            \"state\": {\n",
    "                \"description_width\": \"\"\n",
    "            }\n",
    "        },\n",
    "        \"83026964368142868cf7eca811350276\": {\n",
    "            \"model_name\": \"FloatSliderModel\",\n",
    "            \"model_module\": \"@jupyter-widgets/controls\",\n",
    "            \"model_module_version\": \"1.5.0\",\n",
    "            \"state\": {\n",
    "                \"description\": \"bw\",\n",
    "                \"layout\": \"IPY_MODEL_24d2c08256ef49a8925d4581ff710f42\",\n",
    "                \"max\": 3,\n",
    "                \"min\": 0.1,\n",
    "                \"step\": 0.1,\n",
    "                \"style\": \"IPY_MODEL_009f42a2c161493ba1539d46779e6599\",\n",
    "                \"value\": 0.5\n",
    "            }\n",
    "        },\n",
    "        \"86cbab8e6ede4d3b966f8442bb4fc2b3\": {\n",
    "            \"model_name\": \"LayoutModel\",\n",
    "            \"model_module\": \"@jupyter-widgets/base\",\n",
    "            \"model_module_version\": \"1.2.0\",\n",
    "            \"state\": {}\n",
    "        },\n",
    "        \"70cf5e380a734f7e8ca72c29603bc65d\": {\n",
    "            \"model_name\": \"OutputModel\",\n",
    "            \"model_module\": \"@jupyter-widgets/output\",\n",
    "            \"model_module_version\": \"1.0.0\",\n",
    "            \"state\": {\n",
    "                \"layout\": \"IPY_MODEL_86cbab8e6ede4d3b966f8442bb4fc2b3\",\n",
    "                \"outputs\": [\n",
    "                    {\n",
    "                        \"output_type\": \"display_data\",\n",
    "                        \"data\": {\n",
    "                            \"text/plain\": \"<Figure size 432x288 with 1 Axes>\",\n",
    "                            \"image/png\": \"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\\n\"\n",
    "                        },\n",
    "                        \"metadata\": {\n",
    "                            \"needs_background\": \"light\"\n",
    "                        }\n",
    "                    }\n",
    "                ]\n",
    "            }\n",
    "        },\n",
    "        \"89fde2c5c36e4c78af7e62beac080781\": {\n",
    "            \"model_name\": \"LayoutModel\",\n",
    "            \"model_module\": \"@jupyter-widgets/base\",\n",
    "            \"model_module_version\": \"1.2.0\",\n",
    "            \"state\": {}\n",
    "        },\n",
    "        \"4945e8c589bd440ea44e53b20361dfa1\": {\n",
    "            \"model_name\": \"VBoxModel\",\n",
    "            \"model_module\": \"@jupyter-widgets/controls\",\n",
    "            \"model_module_version\": \"1.5.0\",\n",
    "            \"state\": {\n",
    "                \"_dom_classes\": [\n",
    "                    \"widget-interact\"\n",
    "                ],\n",
    "                \"children\": [\n",
    "                    \"IPY_MODEL_4231f9c157224616846bc660151e59f2\",\n",
    "                    \"IPY_MODEL_113f4c0898424a08a73dae5e248afdd1\"\n",
    "                ],\n",
    "                \"layout\": \"IPY_MODEL_89fde2c5c36e4c78af7e62beac080781\"\n",
    "            }\n",
    "        },\n",
    "        \"652d491d7cc54e89bc84d570a253d10e\": {\n",
    "            \"model_name\": \"LayoutModel\",\n",
    "            \"model_module\": \"@jupyter-widgets/base\",\n",
    "            \"model_module_version\": \"1.2.0\",\n",
    "            \"state\": {}\n",
    "        },\n",
    "        \"7abfeb020bae4b0b943cfbdd6a16dc8c\": {\n",
    "            \"model_name\": \"SliderStyleModel\",\n",
    "            \"model_module\": \"@jupyter-widgets/controls\",\n",
    "            \"model_module_version\": \"1.5.0\",\n",
    "            \"state\": {\n",
    "                \"description_width\": \"\"\n",
    "            }\n",
    "        },\n",
    "        \"4231f9c157224616846bc660151e59f2\": {\n",
    "            \"model_name\": \"FloatSliderModel\",\n",
    "            \"model_module\": \"@jupyter-widgets/controls\",\n",
    "            \"model_module_version\": \"1.5.0\",\n",
    "            \"state\": {\n",
    "                \"description\": \"bw\",\n",
    "                \"layout\": \"IPY_MODEL_652d491d7cc54e89bc84d570a253d10e\",\n",
    "                \"max\": 3,\n",
    "                \"min\": 0.1,\n",
    "                \"step\": 0.1,\n",
    "                \"style\": \"IPY_MODEL_7abfeb020bae4b0b943cfbdd6a16dc8c\",\n",
    "                \"value\": 2.6\n",
    "            }\n",
    "        },\n",
    "        \"6d726c47b2e24c4bbb53522b4f82b0d5\": {\n",
    "            \"model_name\": \"LayoutModel\",\n",
    "            \"model_module\": \"@jupyter-widgets/base\",\n",
    "            \"model_module_version\": \"1.2.0\",\n",
    "            \"state\": {}\n",
    "        },\n",
    "        \"113f4c0898424a08a73dae5e248afdd1\": {\n",
    "            \"model_name\": \"OutputModel\",\n",
    "            \"model_module\": \"@jupyter-widgets/output\",\n",
    "            \"model_module_version\": \"1.0.0\",\n",
    "            \"state\": {\n",
    "                \"layout\": \"IPY_MODEL_6d726c47b2e24c4bbb53522b4f82b0d5\",\n",
    "                \"outputs\": [\n",
    "                    {\n",
    "                        \"output_type\": \"display_data\",\n",
    "                        \"data\": {\n",
    "                            \"text/plain\": \"<Figure size 432x288 with 1 Axes>\",\n",
    "                            \"image/png\": \"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\\n\"\n",
    "                        },\n",
    "                        \"metadata\": {\n",
    "                            \"needs_background\": \"light\"\n",
    "                        }\n",
    "                    }\n",
    "                ]\n",
    "            }\n",
    "        },\n",
    "        \"f9e5c5ff6cc6474cbdec2a2e49a88db6\": {\n",
    "            \"model_name\": \"LayoutModel\",\n",
    "            \"model_module\": \"@jupyter-widgets/base\",\n",
    "            \"model_module_version\": \"1.2.0\",\n",
    "            \"state\": {}\n",
    "        },\n",
    "        \"495edc73d3284e08a6e167e740a5b8f2\": {\n",
    "            \"model_name\": \"VBoxModel\",\n",
    "            \"model_module\": \"@jupyter-widgets/controls\",\n",
    "            \"model_module_version\": \"1.5.0\",\n",
    "            \"state\": {\n",
    "                \"_dom_classes\": [\n",
    "                    \"widget-interact\"\n",
    "                ],\n",
    "                \"children\": [\n",
    "                    \"IPY_MODEL_f32a74687a1145a29aa3756d530663fd\",\n",
    "                    \"IPY_MODEL_ab02d9e9920d4ce2a85158b0a8bed156\"\n",
    "                ],\n",
    "                \"layout\": \"IPY_MODEL_f9e5c5ff6cc6474cbdec2a2e49a88db6\"\n",
    "            }\n",
    "        },\n",
    "        \"5abd12beefec4da0a235678791abe927\": {\n",
    "            \"model_name\": \"LayoutModel\",\n",
    "            \"model_module\": \"@jupyter-widgets/base\",\n",
    "            \"model_module_version\": \"1.2.0\",\n",
    "            \"state\": {}\n",
    "        },\n",
    "        \"c001a5e3dd7c4d10a7188948edce603a\": {\n",
    "            \"model_name\": \"SliderStyleModel\",\n",
    "            \"model_module\": \"@jupyter-widgets/controls\",\n",
    "            \"model_module_version\": \"1.5.0\",\n",
    "            \"state\": {\n",
    "                \"description_width\": \"\"\n",
    "            }\n",
    "        },\n",
    "        \"f32a74687a1145a29aa3756d530663fd\": {\n",
    "            \"model_name\": \"FloatSliderModel\",\n",
    "            \"model_module\": \"@jupyter-widgets/controls\",\n",
    "            \"model_module_version\": \"1.5.0\",\n",
    "            \"state\": {\n",
    "                \"description\": \"bw\",\n",
    "                \"layout\": \"IPY_MODEL_5abd12beefec4da0a235678791abe927\",\n",
    "                \"max\": 3,\n",
    "                \"min\": 0.1,\n",
    "                \"step\": 0.1,\n",
    "                \"style\": \"IPY_MODEL_c001a5e3dd7c4d10a7188948edce603a\",\n",
    "                \"value\": 1\n",
    "            }\n",
    "        },\n",
    "        \"5cb8024a1dc04f87a758f0be816610f1\": {\n",
    "            \"model_name\": \"LayoutModel\",\n",
    "            \"model_module\": \"@jupyter-widgets/base\",\n",
    "            \"model_module_version\": \"1.2.0\",\n",
    "            \"state\": {}\n",
    "        },\n",
    "        \"ab02d9e9920d4ce2a85158b0a8bed156\": {\n",
    "            \"model_name\": \"OutputModel\",\n",
    "            \"model_module\": \"@jupyter-widgets/output\",\n",
    "            \"model_module_version\": \"1.0.0\",\n",
    "            \"state\": {\n",
    "                \"layout\": \"IPY_MODEL_5cb8024a1dc04f87a758f0be816610f1\",\n",
    "                \"outputs\": [\n",
    "                    {\n",
    "                        \"output_type\": \"display_data\",\n",
    "                        \"data\": {\n",
    "                            \"text/plain\": \"<Figure size 432x288 with 1 Axes>\",\n",
    "                            \"image/png\": \"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\\n\"\n",
    "                        },\n",
    "                        \"metadata\": {\n",
    "                            \"needs_background\": \"light\"\n",
    "                        }\n",
    "                    }\n",
    "                ]\n",
    "            }\n",
    "        },\n",
    "        \"50e638c3fa6547bba0513daaadb238f9\": {\n",
    "            \"model_name\": \"LayoutModel\",\n",
    "            \"model_module\": \"@jupyter-widgets/base\",\n",
    "            \"model_module_version\": \"1.2.0\",\n",
    "            \"state\": {}\n",
    "        },\n",
    "        \"fcd163649dae4a9ea8921dac5b0f1db0\": {\n",
    "            \"model_name\": \"VBoxModel\",\n",
    "            \"model_module\": \"@jupyter-widgets/controls\",\n",
    "            \"model_module_version\": \"1.5.0\",\n",
    "            \"state\": {\n",
    "                \"_dom_classes\": [\n",
    "                    \"widget-interact\"\n",
    "                ],\n",
    "                \"children\": [\n",
    "                    \"IPY_MODEL_961e621c8fe747e79258fbdf5517c1fe\",\n",
    "                    \"IPY_MODEL_494186b895d9482194d7626e6d69377a\"\n",
    "                ],\n",
    "                \"layout\": \"IPY_MODEL_50e638c3fa6547bba0513daaadb238f9\"\n",
    "            }\n",
    "        },\n",
    "        \"31cc2c5e8ecd4f80b786d3585233b809\": {\n",
    "            \"model_name\": \"LayoutModel\",\n",
    "            \"model_module\": \"@jupyter-widgets/base\",\n",
    "            \"model_module_version\": \"1.2.0\",\n",
    "            \"state\": {}\n",
    "        },\n",
    "        \"bf5fdc5cc7c64e89b4e6b34075571e33\": {\n",
    "            \"model_name\": \"SliderStyleModel\",\n",
    "            \"model_module\": \"@jupyter-widgets/controls\",\n",
    "            \"model_module_version\": \"1.5.0\",\n",
    "            \"state\": {\n",
    "                \"description_width\": \"\"\n",
    "            }\n",
    "        },\n",
    "        \"961e621c8fe747e79258fbdf5517c1fe\": {\n",
    "            \"model_name\": \"FloatSliderModel\",\n",
    "            \"model_module\": \"@jupyter-widgets/controls\",\n",
    "            \"model_module_version\": \"1.5.0\",\n",
    "            \"state\": {\n",
    "                \"description\": \"bw\",\n",
    "                \"layout\": \"IPY_MODEL_31cc2c5e8ecd4f80b786d3585233b809\",\n",
    "                \"max\": 3,\n",
    "                \"min\": 0.1,\n",
    "                \"step\": 0.1,\n",
    "                \"style\": \"IPY_MODEL_bf5fdc5cc7c64e89b4e6b34075571e33\",\n",
    "                \"value\": 1\n",
    "            }\n",
    "        },\n",
    "        \"3127b59436e84ec98f32ece0c79cbb81\": {\n",
    "            \"model_name\": \"LayoutModel\",\n",
    "            \"model_module\": \"@jupyter-widgets/base\",\n",
    "            \"model_module_version\": \"1.2.0\",\n",
    "            \"state\": {}\n",
    "        },\n",
    "        \"494186b895d9482194d7626e6d69377a\": {\n",
    "            \"model_name\": \"OutputModel\",\n",
    "            \"model_module\": \"@jupyter-widgets/output\",\n",
    "            \"model_module_version\": \"1.0.0\",\n",
    "            \"state\": {\n",
    "                \"layout\": \"IPY_MODEL_3127b59436e84ec98f32ece0c79cbb81\",\n",
    "                \"outputs\": [\n",
    "                    {\n",
    "                        \"output_type\": \"display_data\",\n",
    "                        \"data\": {\n",
    "                            \"text/plain\": \"<Figure size 432x288 with 1 Axes>\",\n",
    "                            \"image/png\": \"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\\n\"\n",
    "                        },\n",
    "                        \"metadata\": {\n",
    "                            \"needs_background\": \"light\"\n",
    "                        }\n",
    "                    }\n",
    "                ]\n",
    "            }\n",
    "        },\n",
    "        \"615e83af13cf4c379bbe0fd70e876ba7\": {\n",
    "            \"model_name\": \"LayoutModel\",\n",
    "            \"model_module\": \"@jupyter-widgets/base\",\n",
    "            \"model_module_version\": \"1.2.0\",\n",
    "            \"state\": {}\n",
    "        },\n",
    "        \"36d1ccb9c81d43f693e511eceff07483\": {\n",
    "            \"model_name\": \"VBoxModel\",\n",
    "            \"model_module\": \"@jupyter-widgets/controls\",\n",
    "            \"model_module_version\": \"1.5.0\",\n",
    "            \"state\": {\n",
    "                \"_dom_classes\": [\n",
    "                    \"widget-interact\"\n",
    "                ],\n",
    "                \"children\": [\n",
    "                    \"IPY_MODEL_749ed77fa8ee4a5da8878036c8287026\",\n",
    "                    \"IPY_MODEL_cd4bb21bab4747f6ad5a4c8464f406af\"\n",
    "                ],\n",
    "                \"layout\": \"IPY_MODEL_615e83af13cf4c379bbe0fd70e876ba7\"\n",
    "            }\n",
    "        },\n",
    "        \"db2f9ce13aba40e082d465564ecc8ee8\": {\n",
    "            \"model_name\": \"LayoutModel\",\n",
    "            \"model_module\": \"@jupyter-widgets/base\",\n",
    "            \"model_module_version\": \"1.2.0\",\n",
    "            \"state\": {}\n",
    "        },\n",
    "        \"de076e19ba304b2da129bf9fb4510c56\": {\n",
    "            \"model_name\": \"SliderStyleModel\",\n",
    "            \"model_module\": \"@jupyter-widgets/controls\",\n",
    "            \"model_module_version\": \"1.5.0\",\n",
    "            \"state\": {\n",
    "                \"description_width\": \"\"\n",
    "            }\n",
    "        },\n",
    "        \"749ed77fa8ee4a5da8878036c8287026\": {\n",
    "            \"model_name\": \"FloatSliderModel\",\n",
    "            \"model_module\": \"@jupyter-widgets/controls\",\n",
    "            \"model_module_version\": \"1.5.0\",\n",
    "            \"state\": {\n",
    "                \"description\": \"bw\",\n",
    "                \"layout\": \"IPY_MODEL_db2f9ce13aba40e082d465564ecc8ee8\",\n",
    "                \"max\": 3,\n",
    "                \"min\": 0.1,\n",
    "                \"step\": 0.1,\n",
    "                \"style\": \"IPY_MODEL_de076e19ba304b2da129bf9fb4510c56\",\n",
    "                \"value\": 0.9\n",
    "            }\n",
    "        },\n",
    "        \"5589d47eddff4044a6c7eae58a83e736\": {\n",
    "            \"model_name\": \"LayoutModel\",\n",
    "            \"model_module\": \"@jupyter-widgets/base\",\n",
    "            \"model_module_version\": \"1.2.0\",\n",
    "            \"state\": {}\n",
    "        },\n",
    "        \"cd4bb21bab4747f6ad5a4c8464f406af\": {\n",
    "            \"model_name\": \"OutputModel\",\n",
    "            \"model_module\": \"@jupyter-widgets/output\",\n",
    "            \"model_module_version\": \"1.0.0\",\n",
    "            \"state\": {\n",
    "                \"layout\": \"IPY_MODEL_5589d47eddff4044a6c7eae58a83e736\",\n",
    "                \"outputs\": [\n",
    "                    {\n",
    "                        \"output_type\": \"display_data\",\n",
    "                        \"data\": {\n",
    "                            \"text/plain\": \"<Figure size 432x288 with 1 Axes>\",\n",
    "                            \"image/png\": \"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\\n\"\n",
    "                        },\n",
    "                        \"metadata\": {\n",
    "                            \"needs_background\": \"light\"\n",
    "                        }\n",
    "                    }\n",
    "                ]\n",
    "            }\n",
    "        },\n",
    "        \"d75be5871964479bb9208314dc7b8430\": {\n",
    "            \"model_name\": \"LayoutModel\",\n",
    "            \"model_module\": \"@jupyter-widgets/base\",\n",
    "            \"model_module_version\": \"1.2.0\",\n",
    "            \"state\": {}\n",
    "        },\n",
    "        \"7769ca26aa244949a40efc66ae14c22e\": {\n",
    "            \"model_name\": \"VBoxModel\",\n",
    "            \"model_module\": \"@jupyter-widgets/controls\",\n",
    "            \"model_module_version\": \"1.5.0\",\n",
    "            \"state\": {\n",
    "                \"_dom_classes\": [\n",
    "                    \"widget-interact\"\n",
    "                ],\n",
    "                \"children\": [\n",
    "                    \"IPY_MODEL_3242d68478054dfda3f4911e1983dcd9\",\n",
    "                    \"IPY_MODEL_47e7dedb20254bf5b9889a75e57b36f7\"\n",
    "                ],\n",
    "                \"layout\": \"IPY_MODEL_d75be5871964479bb9208314dc7b8430\"\n",
    "            }\n",
    "        },\n",
    "        \"9f701a81a2e64c46975ee349a2825d46\": {\n",
    "            \"model_name\": \"LayoutModel\",\n",
    "            \"model_module\": \"@jupyter-widgets/base\",\n",
    "            \"model_module_version\": \"1.2.0\",\n",
    "            \"state\": {}\n",
    "        },\n",
    "        \"fa73646152a94dac8dbce37527cc996d\": {\n",
    "            \"model_name\": \"SliderStyleModel\",\n",
    "            \"model_module\": \"@jupyter-widgets/controls\",\n",
    "            \"model_module_version\": \"1.5.0\",\n",
    "            \"state\": {\n",
    "                \"description_width\": \"\"\n",
    "            }\n",
    "        },\n",
    "        \"3242d68478054dfda3f4911e1983dcd9\": {\n",
    "            \"model_name\": \"FloatSliderModel\",\n",
    "            \"model_module\": \"@jupyter-widgets/controls\",\n",
    "            \"model_module_version\": \"1.5.0\",\n",
    "            \"state\": {\n",
    "                \"description\": \"bw\",\n",
    "                \"layout\": \"IPY_MODEL_9f701a81a2e64c46975ee349a2825d46\",\n",
    "                \"max\": 3,\n",
    "                \"min\": 0.1,\n",
    "                \"step\": 0.1,\n",
    "                \"style\": \"IPY_MODEL_fa73646152a94dac8dbce37527cc996d\",\n",
    "                \"value\": 1.3\n",
    "            }\n",
    "        },\n",
    "        \"b431ffc967d54c5baf27578471b14b5c\": {\n",
    "            \"model_name\": \"LayoutModel\",\n",
    "            \"model_module\": \"@jupyter-widgets/base\",\n",
    "            \"model_module_version\": \"1.2.0\",\n",
    "            \"state\": {}\n",
    "        },\n",
    "        \"47e7dedb20254bf5b9889a75e57b36f7\": {\n",
    "            \"model_name\": \"OutputModel\",\n",
    "            \"model_module\": \"@jupyter-widgets/output\",\n",
    "            \"model_module_version\": \"1.0.0\",\n",
    "            \"state\": {\n",
    "                \"layout\": \"IPY_MODEL_b431ffc967d54c5baf27578471b14b5c\",\n",
    "                \"outputs\": [\n",
    "                    {\n",
    "                        \"output_type\": \"display_data\",\n",
    "                        \"data\": {\n",
    "                            \"text/plain\": \"<Figure size 432x288 with 1 Axes>\",\n",
    "                            \"image/png\": \"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\\n\"\n",
    "                        },\n",
    "                        \"metadata\": {\n",
    "                            \"needs_background\": \"light\"\n",
    "                        }\n",
    "                    }\n",
    "                ]\n",
    "            }\n",
    "        },\n",
    "        \"246ec54e62114af596a8bfbefc313d17\": {\n",
    "            \"model_name\": \"LayoutModel\",\n",
    "            \"model_module\": \"@jupyter-widgets/base\",\n",
    "            \"model_module_version\": \"1.2.0\",\n",
    "            \"state\": {}\n",
    "        },\n",
    "        \"ebffb006d9a941968bffb84425517432\": {\n",
    "            \"model_name\": \"SliderStyleModel\",\n",
    "            \"model_module\": \"@jupyter-widgets/controls\",\n",
    "            \"model_module_version\": \"1.5.0\",\n",
    "            \"state\": {\n",
    "                \"description_width\": \"\"\n",
    "            }\n",
    "        },\n",
    "        \"9ce55047c441422cb56f754308efa8ee\": {\n",
    "            \"model_name\": \"IntSliderModel\",\n",
    "            \"model_module\": \"@jupyter-widgets/controls\",\n",
    "            \"model_module_version\": \"1.5.0\",\n",
    "            \"state\": {\n",
    "                \"description\": \"bandwidth\",\n",
    "                \"layout\": \"IPY_MODEL_246ec54e62114af596a8bfbefc313d17\",\n",
    "                \"max\": 3,\n",
    "                \"readout_format\": \".1f\",\n",
    "                \"step\": 0,\n",
    "                \"style\": \"IPY_MODEL_ebffb006d9a941968bffb84425517432\"\n",
    "            }\n",
    "        },\n",
    "        \"832b424da895441abc692afce548fbc9\": {\n",
    "            \"model_name\": \"LayoutModel\",\n",
    "            \"model_module\": \"@jupyter-widgets/base\",\n",
    "            \"model_module_version\": \"1.2.0\",\n",
    "            \"state\": {}\n",
    "        },\n",
    "        \"ca5c5137218746d38395c258049bcc0d\": {\n",
    "            \"model_name\": \"VBoxModel\",\n",
    "            \"model_module\": \"@jupyter-widgets/controls\",\n",
    "            \"model_module_version\": \"1.5.0\",\n",
    "            \"state\": {\n",
    "                \"_dom_classes\": [\n",
    "                    \"widget-interact\"\n",
    "                ],\n",
    "                \"children\": [\n",
    "                    \"IPY_MODEL_9ce55047c441422cb56f754308efa8ee\",\n",
    "                    \"IPY_MODEL_8131ee9a5aeb4ff6b7d9b63a26bdec6b\"\n",
    "                ],\n",
    "                \"layout\": \"IPY_MODEL_832b424da895441abc692afce548fbc9\"\n",
    "            }\n",
    "        },\n",
    "        \"bcb31569a34b483fa9621a81f3881129\": {\n",
    "            \"model_name\": \"LayoutModel\",\n",
    "            \"model_module\": \"@jupyter-widgets/base\",\n",
    "            \"model_module_version\": \"1.2.0\",\n",
    "            \"state\": {}\n",
    "        },\n",
    "        \"8131ee9a5aeb4ff6b7d9b63a26bdec6b\": {\n",
    "            \"model_name\": \"OutputModel\",\n",
    "            \"model_module\": \"@jupyter-widgets/output\",\n",
    "            \"model_module_version\": \"1.0.0\",\n",
    "            \"state\": {\n",
    "                \"layout\": \"IPY_MODEL_bcb31569a34b483fa9621a81f3881129\",\n",
    "                \"outputs\": [\n",
    "                    {\n",
    "                        \"output_type\": \"stream\",\n",
    "                        \"text\": \"C:\\\\Users\\\\JC\\\\anaconda3\\\\lib\\\\site-packages\\\\scipy\\\\stats\\\\kde.py:571: RuntimeWarning: divide by zero encountered in true_divide\\n  self.inv_cov = self._data_inv_cov / self.factor**2\\n\",\n",
    "                        \"name\": \"stderr\"\n",
    "                    },\n",
    "                    {\n",
    "                        \"output_type\": \"display_data\",\n",
    "                        \"data\": {\n",
    "                            \"text/plain\": \"<Figure size 432x288 with 1 Axes>\",\n",
    "                            \"image/png\": \"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\\n\"\n",
    "                        },\n",
    "                        \"metadata\": {\n",
    "                            \"needs_background\": \"light\"\n",
    "                        }\n",
    "                    }\n",
    "                ]\n",
    "            }\n",
    "        },\n",
    "        \"0e1a5d5272eb41dc8f97c6bf20df91de\": {\n",
    "            \"model_name\": \"LayoutModel\",\n",
    "            \"model_module\": \"@jupyter-widgets/base\",\n",
    "            \"model_module_version\": \"1.2.0\",\n",
    "            \"state\": {}\n",
    "        },\n",
    "        \"6cd79b3b52ef40c1a915e9ee02a49941\": {\n",
    "            \"model_name\": \"SliderStyleModel\",\n",
    "            \"model_module\": \"@jupyter-widgets/controls\",\n",
    "            \"model_module_version\": \"1.5.0\",\n",
    "            \"state\": {\n",
    "                \"description_width\": \"\"\n",
    "            }\n",
    "        },\n",
    "        \"cf436d74ea0841058b75b8913f6c04ac\": {\n",
    "            \"model_name\": \"IntSliderModel\",\n",
    "            \"model_module\": \"@jupyter-widgets/controls\",\n",
    "            \"model_module_version\": \"1.5.0\",\n",
    "            \"state\": {\n",
    "                \"description\": \"bandwidth\",\n",
    "                \"layout\": \"IPY_MODEL_0e1a5d5272eb41dc8f97c6bf20df91de\",\n",
    "                \"max\": 3,\n",
    "                \"readout_format\": \".1f\",\n",
    "                \"step\": 0,\n",
    "                \"style\": \"IPY_MODEL_6cd79b3b52ef40c1a915e9ee02a49941\",\n",
    "                \"value\": 1\n",
    "            }\n",
    "        },\n",
    "        \"43958d2db4f54c249406c8626f62cf13\": {\n",
    "            \"model_name\": \"LayoutModel\",\n",
    "            \"model_module\": \"@jupyter-widgets/base\",\n",
    "            \"model_module_version\": \"1.2.0\",\n",
    "            \"state\": {}\n",
    "        },\n",
    "        \"c50c8388c36346499285548d52595f0a\": {\n",
    "            \"model_name\": \"VBoxModel\",\n",
    "            \"model_module\": \"@jupyter-widgets/controls\",\n",
    "            \"model_module_version\": \"1.5.0\",\n",
    "            \"state\": {\n",
    "                \"_dom_classes\": [\n",
    "                    \"widget-interact\"\n",
    "                ],\n",
    "                \"children\": [\n",
    "                    \"IPY_MODEL_cf436d74ea0841058b75b8913f6c04ac\",\n",
    "                    \"IPY_MODEL_4e12a0714ed54e6fa63489e2791fbc8c\"\n",
    "                ],\n",
    "                \"layout\": \"IPY_MODEL_43958d2db4f54c249406c8626f62cf13\"\n",
    "            }\n",
    "        },\n",
    "        \"a0695c3437a04077be5fab8c117d2dd2\": {\n",
    "            \"model_name\": \"LayoutModel\",\n",
    "            \"model_module\": \"@jupyter-widgets/base\",\n",
    "            \"model_module_version\": \"1.2.0\",\n",
    "            \"state\": {}\n",
    "        },\n",
    "        \"4e12a0714ed54e6fa63489e2791fbc8c\": {\n",
    "            \"model_name\": \"OutputModel\",\n",
    "            \"model_module\": \"@jupyter-widgets/output\",\n",
    "            \"model_module_version\": \"1.0.0\",\n",
    "            \"state\": {\n",
    "                \"layout\": \"IPY_MODEL_a0695c3437a04077be5fab8c117d2dd2\",\n",
    "                \"outputs\": [\n",
    "                    {\n",
    "                        \"output_type\": \"display_data\",\n",
    "                        \"data\": {\n",
    "                            \"text/plain\": \"<Figure size 432x288 with 1 Axes>\",\n",
    "                            \"image/png\": \"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\\n\"\n",
    "                        },\n",
    "                        \"metadata\": {\n",
    "                            \"needs_background\": \"light\"\n",
    "                        }\n",
    "                    }\n",
    "                ]\n",
    "            }\n",
    "        },\n",
    "        \"7ae0a6de87c2454d8d27f411c1dbc38f\": {\n",
    "            \"model_name\": \"LayoutModel\",\n",
    "            \"model_module\": \"@jupyter-widgets/base\",\n",
    "            \"model_module_version\": \"1.2.0\",\n",
    "            \"state\": {}\n",
    "        },\n",
    "        \"2c998d00554b48dba9c903b3101c0e66\": {\n",
    "            \"model_name\": \"SliderStyleModel\",\n",
    "            \"model_module\": \"@jupyter-widgets/controls\",\n",
    "            \"model_module_version\": \"1.5.0\",\n",
    "            \"state\": {\n",
    "                \"description_width\": \"\"\n",
    "            }\n",
    "        },\n",
    "        \"25a7856acc904c10ad6b45b4ac97622d\": {\n",
    "            \"model_name\": \"IntSliderModel\",\n",
    "            \"model_module\": \"@jupyter-widgets/controls\",\n",
    "            \"model_module_version\": \"1.5.0\",\n",
    "            \"state\": {\n",
    "                \"description\": \"bandwidth\",\n",
    "                \"layout\": \"IPY_MODEL_7ae0a6de87c2454d8d27f411c1dbc38f\",\n",
    "                \"max\": 3,\n",
    "                \"readout_format\": \".1f\",\n",
    "                \"step\": 0,\n",
    "                \"style\": \"IPY_MODEL_2c998d00554b48dba9c903b3101c0e66\",\n",
    "                \"value\": 1\n",
    "            }\n",
    "        },\n",
    "        \"c71105b810114301b9c4d24438750115\": {\n",
    "            \"model_name\": \"LayoutModel\",\n",
    "            \"model_module\": \"@jupyter-widgets/base\",\n",
    "            \"model_module_version\": \"1.2.0\",\n",
    "            \"state\": {}\n",
    "        },\n",
    "        \"493212d154f84a19a0d371e02b1a668b\": {\n",
    "            \"model_name\": \"VBoxModel\",\n",
    "            \"model_module\": \"@jupyter-widgets/controls\",\n",
    "            \"model_module_version\": \"1.5.0\",\n",
    "            \"state\": {\n",
    "                \"_dom_classes\": [\n",
    "                    \"widget-interact\"\n",
    "                ],\n",
    "                \"children\": [\n",
    "                    \"IPY_MODEL_25a7856acc904c10ad6b45b4ac97622d\",\n",
    "                    \"IPY_MODEL_f660a1cd93a14a898ca016be36be05f7\"\n",
    "                ],\n",
    "                \"layout\": \"IPY_MODEL_c71105b810114301b9c4d24438750115\"\n",
    "            }\n",
    "        },\n",
    "        \"8f26e59828fd4e938888140f06845a54\": {\n",
    "            \"model_name\": \"LayoutModel\",\n",
    "            \"model_module\": \"@jupyter-widgets/base\",\n",
    "            \"model_module_version\": \"1.2.0\",\n",
    "            \"state\": {}\n",
    "        },\n",
    "        \"f660a1cd93a14a898ca016be36be05f7\": {\n",
    "            \"model_name\": \"OutputModel\",\n",
    "            \"model_module\": \"@jupyter-widgets/output\",\n",
    "            \"model_module_version\": \"1.0.0\",\n",
    "            \"state\": {\n",
    "                \"layout\": \"IPY_MODEL_8f26e59828fd4e938888140f06845a54\",\n",
    "                \"outputs\": [\n",
    "                    {\n",
    "                        \"output_type\": \"display_data\",\n",
    "                        \"data\": {\n",
    "                            \"text/plain\": \"<Figure size 432x288 with 1 Axes>\",\n",
    "                            \"image/png\": \"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\\n\"\n",
    "                        },\n",
    "                        \"metadata\": {\n",
    "                            \"needs_background\": \"light\"\n",
    "                        }\n",
    "                    }\n",
    "                ]\n",
    "            }\n",
    "        },\n",
    "        \"e5a3303f57864e5a9edd1fb25a1e44b8\": {\n",
    "            \"model_name\": \"LayoutModel\",\n",
    "            \"model_module\": \"@jupyter-widgets/base\",\n",
    "            \"model_module_version\": \"1.2.0\",\n",
    "            \"state\": {}\n",
    "        },\n",
    "        \"2c37137da2c44a0f9280771203da6448\": {\n",
    "            \"model_name\": \"SliderStyleModel\",\n",
    "            \"model_module\": \"@jupyter-widgets/controls\",\n",
    "            \"model_module_version\": \"1.5.0\",\n",
    "            \"state\": {\n",
    "                \"description_width\": \"\"\n",
    "            }\n",
    "        },\n",
    "        \"8d5f241ad4ee423984ba6bcc029b6913\": {\n",
    "            \"model_name\": \"FloatSliderModel\",\n",
    "            \"model_module\": \"@jupyter-widgets/controls\",\n",
    "            \"model_module_version\": \"1.5.0\",\n",
    "            \"state\": {\n",
    "                \"description\": \"bandwidth\",\n",
    "                \"layout\": \"IPY_MODEL_e5a3303f57864e5a9edd1fb25a1e44b8\",\n",
    "                \"max\": 3,\n",
    "                \"min\": 0.1,\n",
    "                \"readout_format\": \".1f\",\n",
    "                \"step\": 0.1,\n",
    "                \"style\": \"IPY_MODEL_2c37137da2c44a0f9280771203da6448\",\n",
    "                \"value\": 2.1\n",
    "            }\n",
    "        },\n",
    "        \"01a776e30bac432abe382f511380dcee\": {\n",
    "            \"model_name\": \"LayoutModel\",\n",
    "            \"model_module\": \"@jupyter-widgets/base\",\n",
    "            \"model_module_version\": \"1.2.0\",\n",
    "            \"state\": {}\n",
    "        },\n",
    "        \"70b534fcfa0f4aa7a61b4d7dfa958d5c\": {\n",
    "            \"model_name\": \"VBoxModel\",\n",
    "            \"model_module\": \"@jupyter-widgets/controls\",\n",
    "            \"model_module_version\": \"1.5.0\",\n",
    "            \"state\": {\n",
    "                \"_dom_classes\": [\n",
    "                    \"widget-interact\"\n",
    "                ],\n",
    "                \"children\": [\n",
    "                    \"IPY_MODEL_8d5f241ad4ee423984ba6bcc029b6913\",\n",
    "                    \"IPY_MODEL_4c3fb9340efe4e93bbfff20d72a61449\"\n",
    "                ],\n",
    "                \"layout\": \"IPY_MODEL_01a776e30bac432abe382f511380dcee\"\n",
    "            }\n",
    "        },\n",
    "        \"00a9ed71b8bd4664bf271e4117fa5008\": {\n",
    "            \"model_name\": \"LayoutModel\",\n",
    "            \"model_module\": \"@jupyter-widgets/base\",\n",
    "            \"model_module_version\": \"1.2.0\",\n",
    "            \"state\": {}\n",
    "        },\n",
    "        \"4c3fb9340efe4e93bbfff20d72a61449\": {\n",
    "            \"model_name\": \"OutputModel\",\n",
    "            \"model_module\": \"@jupyter-widgets/output\",\n",
    "            \"model_module_version\": \"1.0.0\",\n",
    "            \"state\": {\n",
    "                \"layout\": \"IPY_MODEL_00a9ed71b8bd4664bf271e4117fa5008\",\n",
    "                \"outputs\": [\n",
    "                    {\n",
    "                        \"output_type\": \"display_data\",\n",
    "                        \"data\": {\n",
    "                            \"text/plain\": \"<Figure size 432x288 with 1 Axes>\",\n",
    "                            \"image/png\": \"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\\n\"\n",
    "                        },\n",
    "                        \"metadata\": {\n",
    "                            \"needs_background\": \"light\"\n",
    "                        }\n",
    "                    }\n",
    "                ]\n",
    "            }\n",
    "        },\n",
    "        \"02b0d22d263d4d1e9f7a6770a3bbe131\": {\n",
    "            \"model_name\": \"LayoutModel\",\n",
    "            \"model_module\": \"@jupyter-widgets/base\",\n",
    "            \"model_module_version\": \"1.2.0\",\n",
    "            \"state\": {}\n",
    "        },\n",
    "        \"99c1d85730564ea0aa4e6db76daf2370\": {\n",
    "            \"model_name\": \"SliderStyleModel\",\n",
    "            \"model_module\": \"@jupyter-widgets/controls\",\n",
    "            \"model_module_version\": \"1.5.0\",\n",
    "            \"state\": {\n",
    "                \"description_width\": \"\"\n",
    "            }\n",
    "        },\n",
    "        \"907db3242e794941b73ac3792b2d41d5\": {\n",
    "            \"model_name\": \"FloatSliderModel\",\n",
    "            \"model_module\": \"@jupyter-widgets/controls\",\n",
    "            \"model_module_version\": \"1.5.0\",\n",
    "            \"state\": {\n",
    "                \"description\": \"bandwidth\",\n",
    "                \"layout\": \"IPY_MODEL_02b0d22d263d4d1e9f7a6770a3bbe131\",\n",
    "                \"max\": 3,\n",
    "                \"min\": 0.1,\n",
    "                \"readout_format\": \".1f\",\n",
    "                \"step\": 0.1,\n",
    "                \"style\": \"IPY_MODEL_99c1d85730564ea0aa4e6db76daf2370\",\n",
    "                \"value\": 1\n",
    "            }\n",
    "        },\n",
    "        \"b6a3494e6adb482b98ce4801063b508d\": {\n",
    "            \"model_name\": \"LayoutModel\",\n",
    "            \"model_module\": \"@jupyter-widgets/base\",\n",
    "            \"model_module_version\": \"1.2.0\",\n",
    "            \"state\": {}\n",
    "        },\n",
    "        \"b011e52489664765a8771b3149bc84c2\": {\n",
    "            \"model_name\": \"VBoxModel\",\n",
    "            \"model_module\": \"@jupyter-widgets/controls\",\n",
    "            \"model_module_version\": \"1.5.0\",\n",
    "            \"state\": {\n",
    "                \"_dom_classes\": [\n",
    "                    \"widget-interact\"\n",
    "                ],\n",
    "                \"children\": [\n",
    "                    \"IPY_MODEL_907db3242e794941b73ac3792b2d41d5\",\n",
    "                    \"IPY_MODEL_b756528e7acf4c0e892f4e17387ea188\"\n",
    "                ],\n",
    "                \"layout\": \"IPY_MODEL_b6a3494e6adb482b98ce4801063b508d\"\n",
    "            }\n",
    "        },\n",
    "        \"a8e6653753f149f19652584059154366\": {\n",
    "            \"model_name\": \"LayoutModel\",\n",
    "            \"model_module\": \"@jupyter-widgets/base\",\n",
    "            \"model_module_version\": \"1.2.0\",\n",
    "            \"state\": {}\n",
    "        },\n",
    "        \"b756528e7acf4c0e892f4e17387ea188\": {\n",
    "            \"model_name\": \"OutputModel\",\n",
    "            \"model_module\": \"@jupyter-widgets/output\",\n",
    "            \"model_module_version\": \"1.0.0\",\n",
    "            \"state\": {\n",
    "                \"layout\": \"IPY_MODEL_a8e6653753f149f19652584059154366\",\n",
    "                \"outputs\": [\n",
    "                    {\n",
    "                        \"output_type\": \"display_data\",\n",
    "                        \"data\": {\n",
    "                            \"text/plain\": \"<Figure size 432x288 with 1 Axes>\",\n",
    "                            \"image/png\": \"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\\n\"\n",
    "                        },\n",
    "                        \"metadata\": {\n",
    "                            \"needs_background\": \"light\"\n",
    "                        }\n",
    "                    }\n",
    "                ]\n",
    "            }\n",
    "        },\n",
    "        \"dc0846b1dc7d411d986a52c637599a5c\": {\n",
    "            \"model_name\": \"LayoutModel\",\n",
    "            \"model_module\": \"@jupyter-widgets/base\",\n",
    "            \"model_module_version\": \"1.2.0\",\n",
    "            \"state\": {}\n",
    "        },\n",
    "        \"587d336beb48494e8f9863b720eacb32\": {\n",
    "            \"model_name\": \"VBoxModel\",\n",
    "            \"model_module\": \"@jupyter-widgets/controls\",\n",
    "            \"model_module_version\": \"1.5.0\",\n",
    "            \"state\": {\n",
    "                \"_dom_classes\": [\n",
    "                    \"widget-interact\"\n",
    "                ],\n",
    "                \"children\": [\n",
    "                    \"IPY_MODEL_af43681b53bd442792009580066f0897\",\n",
    "                    \"IPY_MODEL_434f54f9b6544b40a5662119e2c5411a\"\n",
    "                ],\n",
    "                \"layout\": \"IPY_MODEL_dc0846b1dc7d411d986a52c637599a5c\"\n",
    "            }\n",
    "        },\n",
    "        \"c819e7a991bd466c86d4432ea021a959\": {\n",
    "            \"model_name\": \"LayoutModel\",\n",
    "            \"model_module\": \"@jupyter-widgets/base\",\n",
    "            \"model_module_version\": \"1.2.0\",\n",
    "            \"state\": {}\n",
    "        },\n",
    "        \"cd473f2abf3e44829c067923a5f09cb0\": {\n",
    "            \"model_name\": \"SliderStyleModel\",\n",
    "            \"model_module\": \"@jupyter-widgets/controls\",\n",
    "            \"model_module_version\": \"1.5.0\",\n",
    "            \"state\": {\n",
    "                \"description_width\": \"\"\n",
    "            }\n",
    "        },\n",
    "        \"af43681b53bd442792009580066f0897\": {\n",
    "            \"model_name\": \"FloatSliderModel\",\n",
    "            \"model_module\": \"@jupyter-widgets/controls\",\n",
    "            \"model_module_version\": \"1.5.0\",\n",
    "            \"state\": {\n",
    "                \"description\": \"bw\",\n",
    "                \"layout\": \"IPY_MODEL_c819e7a991bd466c86d4432ea021a959\",\n",
    "                \"max\": 3,\n",
    "                \"min\": 0.1,\n",
    "                \"step\": 0.1,\n",
    "                \"style\": \"IPY_MODEL_cd473f2abf3e44829c067923a5f09cb0\",\n",
    "                \"value\": 1\n",
    "            }\n",
    "        },\n",
    "        \"2785733f4aed479b8b592c011bd9f032\": {\n",
    "            \"model_name\": \"LayoutModel\",\n",
    "            \"model_module\": \"@jupyter-widgets/base\",\n",
    "            \"model_module_version\": \"1.2.0\",\n",
    "            \"state\": {}\n",
    "        },\n",
    "        \"434f54f9b6544b40a5662119e2c5411a\": {\n",
    "            \"model_name\": \"OutputModel\",\n",
    "            \"model_module\": \"@jupyter-widgets/output\",\n",
    "            \"model_module_version\": \"1.0.0\",\n",
    "            \"state\": {\n",
    "                \"layout\": \"IPY_MODEL_2785733f4aed479b8b592c011bd9f032\",\n",
    "                \"outputs\": [\n",
    "                    {\n",
    "                        \"output_type\": \"display_data\",\n",
    "                        \"data\": {\n",
    "                            \"text/plain\": \"<Figure size 432x288 with 1 Axes>\",\n",
    "                            \"image/png\": \"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\\n\"\n",
    "                        },\n",
    "                        \"metadata\": {\n",
    "                            \"needs_background\": \"light\"\n",
    "                        }\n",
    "                    }\n",
    "                ]\n",
    "            }\n",
    "        },\n",
    "        \"35d4d85bbc7b4ec6af98321d195057d5\": {\n",
    "            \"model_name\": \"LayoutModel\",\n",
    "            \"model_module\": \"@jupyter-widgets/base\",\n",
    "            \"model_module_version\": \"1.2.0\",\n",
    "            \"state\": {}\n",
    "        },\n",
    "        \"161d4b59d1424bfc83cb8baaa21ad3e6\": {\n",
    "            \"model_name\": \"DescriptionStyleModel\",\n",
    "            \"model_module\": \"@jupyter-widgets/controls\",\n",
    "            \"model_module_version\": \"1.5.0\",\n",
    "            \"state\": {\n",
    "                \"description_width\": \"\"\n",
    "            }\n",
    "        },\n",
    "        \"ae47719ae67c4b7e96b566e68f39246e\": {\n",
    "            \"model_name\": \"PlayModel\",\n",
    "            \"model_module\": \"@jupyter-widgets/controls\",\n",
    "            \"model_module_version\": \"1.5.0\",\n",
    "            \"state\": {\n",
    "                \"description\": \"Press play\",\n",
    "                \"interval\": 500,\n",
    "                \"layout\": \"IPY_MODEL_35d4d85bbc7b4ec6af98321d195057d5\",\n",
    "                \"max\": 3,\n",
    "                \"step\": 0,\n",
    "                \"style\": \"IPY_MODEL_161d4b59d1424bfc83cb8baaa21ad3e6\"\n",
    "            }\n",
    "        },\n",
    "        \"e4d5f2711ac44ec78dd708820ec79e73\": {\n",
    "            \"model_name\": \"LayoutModel\",\n",
    "            \"model_module\": \"@jupyter-widgets/base\",\n",
    "            \"model_module_version\": \"1.2.0\",\n",
    "            \"state\": {}\n",
    "        },\n",
    "        \"b493da199a464a2daa20b647e6933e93\": {\n",
    "            \"model_name\": \"SliderStyleModel\",\n",
    "            \"model_module\": \"@jupyter-widgets/controls\",\n",
    "            \"model_module_version\": \"1.5.0\",\n",
    "            \"state\": {\n",
    "                \"description_width\": \"\"\n",
    "            }\n",
    "        },\n",
    "        \"34d7f17ff4cb4843a018369e8bb81caa\": {\n",
    "            \"model_name\": \"FloatSliderModel\",\n",
    "            \"model_module\": \"@jupyter-widgets/controls\",\n",
    "            \"model_module_version\": \"1.5.0\",\n",
    "            \"state\": {\n",
    "                \"description\": \"bw\",\n",
    "                \"layout\": \"IPY_MODEL_e4d5f2711ac44ec78dd708820ec79e73\",\n",
    "                \"step\": 0.1,\n",
    "                \"style\": \"IPY_MODEL_b493da199a464a2daa20b647e6933e93\"\n",
    "            }\n",
    "        },\n",
    "        \"04bb8d072451461f84fdc93500e66968\": {\n",
    "            \"model_name\": \"LinkModel\",\n",
    "            \"model_module\": \"@jupyter-widgets/controls\",\n",
    "            \"model_module_version\": \"1.5.0\",\n",
    "            \"state\": {\n",
    "                \"source\": [\n",
    "                    \"IPY_MODEL_ae47719ae67c4b7e96b566e68f39246e\",\n",
    "                    \"value\"\n",
    "                ],\n",
    "                \"target\": [\n",
    "                    \"IPY_MODEL_34d7f17ff4cb4843a018369e8bb81caa\",\n",
    "                    \"value\"\n",
    "                ]\n",
    "            }\n",
    "        },\n",
    "        \"0df1026402f84ff69ed23e6ed89d88a8\": {\n",
    "            \"model_name\": \"LayoutModel\",\n",
    "            \"model_module\": \"@jupyter-widgets/base\",\n",
    "            \"model_module_version\": \"1.2.0\",\n",
    "            \"state\": {}\n",
    "        },\n",
    "        \"b6fb6316547842d980c9698ec5b82db8\": {\n",
    "            \"model_name\": \"HBoxModel\",\n",
    "            \"model_module\": \"@jupyter-widgets/controls\",\n",
    "            \"model_module_version\": \"1.5.0\",\n",
    "            \"state\": {\n",
    "                \"children\": [\n",
    "                    \"IPY_MODEL_ae47719ae67c4b7e96b566e68f39246e\",\n",
    "                    \"IPY_MODEL_34d7f17ff4cb4843a018369e8bb81caa\"\n",
    "                ],\n",
    "                \"layout\": \"IPY_MODEL_0df1026402f84ff69ed23e6ed89d88a8\"\n",
    "            }\n",
    "        },\n",
    "        \"d1d0dd2485c74f3f9fe413514c4b829e\": {\n",
    "            \"model_name\": \"LayoutModel\",\n",
    "            \"model_module\": \"@jupyter-widgets/base\",\n",
    "            \"model_module_version\": \"1.2.0\",\n",
    "            \"state\": {}\n",
    "        },\n",
    "        \"fb1c67b9f20f4c1b9bc6a7f5f9b0ecfd\": {\n",
    "            \"model_name\": \"VBoxModel\",\n",
    "            \"model_module\": \"@jupyter-widgets/controls\",\n",
    "            \"model_module_version\": \"1.5.0\",\n",
    "            \"state\": {\n",
    "                \"_dom_classes\": [\n",
    "                    \"widget-interact\"\n",
    "                ],\n",
    "                \"children\": [\n",
    "                    \"IPY_MODEL_34d7f17ff4cb4843a018369e8bb81caa\",\n",
    "                    \"IPY_MODEL_4d8ea770ba33467e87ada08b9e7888e3\"\n",
    "                ],\n",
    "                \"layout\": \"IPY_MODEL_d1d0dd2485c74f3f9fe413514c4b829e\"\n",
    "            }\n",
    "        },\n",
    "        \"f75e693e87b844cdb88a5aa79bb5ba3e\": {\n",
    "            \"model_name\": \"LayoutModel\",\n",
    "            \"model_module\": \"@jupyter-widgets/base\",\n",
    "            \"model_module_version\": \"1.2.0\",\n",
    "            \"state\": {}\n",
    "        },\n",
    "        \"4d8ea770ba33467e87ada08b9e7888e3\": {\n",
    "            \"model_name\": \"OutputModel\",\n",
    "            \"model_module\": \"@jupyter-widgets/output\",\n",
    "            \"model_module_version\": \"1.0.0\",\n",
    "            \"state\": {\n",
    "                \"layout\": \"IPY_MODEL_f75e693e87b844cdb88a5aa79bb5ba3e\",\n",
    "                \"outputs\": [\n",
    "                    {\n",
    "                        \"output_type\": \"stream\",\n",
    "                        \"text\": \"C:\\\\Users\\\\JC\\\\anaconda3\\\\lib\\\\site-packages\\\\scipy\\\\stats\\\\kde.py:571: RuntimeWarning: divide by zero encountered in true_divide\\n  self.inv_cov = self._data_inv_cov / self.factor**2\\n\",\n",
    "                        \"name\": \"stderr\"\n",
    "                    },\n",
    "                    {\n",
    "                        \"output_type\": \"display_data\",\n",
    "                        \"data\": {\n",
    "                            \"text/plain\": \"<Figure size 432x288 with 1 Axes>\",\n",
    "                            \"image/png\": \"iVBORw0KGgoAAAANSUhEUgAAAZgAAAEKCAYAAAAvlUMdAAAABHNCSVQICAgIfAhkiAAAAAlwSFlzAAALEgAACxIB0t1+/AAAADh0RVh0U29mdHdhcmUAbWF0cGxvdGxpYiB2ZXJzaW9uMy4yLjIsIGh0dHA6Ly9tYXRwbG90bGliLm9yZy+WH4yJAAAWx0lEQVR4nO3df5Bd5X3f8ffHQvgHOBHYwtEItRC6MVHdRJbXGA+x43ZiW1LSym7qBrU2lLqRaa2M3drpKE7HwZ02g0mMWzKMCMQaC9eFkPqXktEUE40NTmIMK1uAZKywlYmR0YCoE7DDFAx8+8c9G98sV7t3V/uwP/x+zdy55zw/7n0enZE+Ouee+9xUFZIkzbXnzfcAJElLkwEjSWrCgJEkNWHASJKaMGAkSU0YMJKkJpoGTJINSQ4lGU+yfUB9klzV1d+dZH1X/oIkdyS5K8nBJB/q63N6kluS3Nc9n9ZyDpKk2WkWMEmWAVcDG4G1wJYkayc12wiMdI+twI6u/AngH1XVTwPrgA1Jzu/qtgN7q2oE2NvtS5IWmJZnMOcB41V1uKqeBG4ENk9qsxm4vnpuB1YkWdXtf69rs7x7VF+fXd32LuAtDecgSZqlkxq+9mrggb79I8BrhmizGjjanQHtA/4ecHVVfaVr87KqOgpQVUeTnDHozZNspXdWxCmnnPKqc8899wSnI0k/XPbt2/dIVa2cbf+WAZMBZZPXpTlum6p6GliXZAXwmSSvqKoDw755VV0LXAswOjpaY2Njw3aVJAFJ/uJE+re8RHYEWNO3fybw4EzbVNVfAV8ENnRFDyVZBdA9Pzx3Q5YkzZWWAXMnMJLk7CQnAxcCuye12Q1c1N1Ndj7waHfZa2V35kKSFwI/B3yjr8/F3fbFwOcazkGSNEvNLpFV1VNJtgE3A8uAnVV1MMmlXf01wB5gEzAOPA5c0nVfBezqPod5HnBTVf1RV3c5cFOSdwLfAt7Wag6SpNnLD8Ny/X4GI0kzl2RfVY3Otr/f5JckNWHASJKaMGAkSU0YMJKkJgwYSVITBowkqQkDRpLUhAEjSWrCgJEkNWHASJKaMGAkSU0YMJKkJgwYSVITBowkqQkDRpLUhAEjSWrCgJEkNWHASJKaMGAkSU0YMJKkJgwYSVITBowkqQkDRpLUhAEjSWrCgJEkNWHASJKaMGAkSU00DZgkG5IcSjKeZPuA+iS5qqu/O8n6rnxNki8kuTfJwSTv6etzWZJvJ9nfPTa1nIMkaXZOavXCSZYBVwNvBI4AdybZXVVf72u2ERjpHq8BdnTPTwHvq6qvJnkxsC/JLX19P1pVv91q7JKkE9fyDOY8YLyqDlfVk8CNwOZJbTYD11fP7cCKJKuq6mhVfRWgqr4L3AusbjhWSdIcaxkwq4EH+vaP8OyQmLZNkrOAVwJf6Sve1l1S25nktLkasCRp7rQMmAwoq5m0SXIq8CngvVX1WFe8AzgHWAccBT4y8M2TrUnGkowdO3ZspmOXJJ2glgFzBFjTt38m8OCwbZIspxcun6yqT080qKqHqurpqnoGuI7epbhnqaprq2q0qkZXrlx5wpORJM1My4C5ExhJcnaSk4ELgd2T2uwGLuruJjsfeLSqjiYJ8DHg3qq6sr9DklV9u28FDrSbgiRptprdRVZVTyXZBtwMLAN2VtXBJJd29dcAe4BNwDjwOHBJ1/0C4B3APUn2d2UfqKo9wBVJ1tG7lHY/8K5Wc5AkzV6qJn8ssvSMjo7W2NjYfA9DkhaVJPuqanS2/f0mvySpCQNGktSEASNJasKAkSQ1YcBIkpowYCRJTRgwkqQmDBhJUhMGjCSpCQNGktSEASNJasKAkSQ1YcBIkpowYCRJTRgwkqQmDBhJUhMGjCSpCQNGktSEASNJasKAkSQ1YcBIkpowYCRJTRgwkqQmDBhJUhMGjCSpCQNGktSEASNJasKAkSQ10TRgkmxIcijJeJLtA+qT5Kqu/u4k67vyNUm+kOTeJAeTvKevz+lJbklyX/d8Wss5SJJmp1nAJFkGXA1sBNYCW5KsndRsIzDSPbYCO7ryp4D3VdVPAucD7+7rux3YW1UjwN5uX5K0wLQ8gzkPGK+qw1X1JHAjsHlSm83A9dVzO7AiyaqqOlpVXwWoqu8C9wKr+/rs6rZ3AW9pOAdJ0iy1DJjVwAN9+0f4QUgM3SbJWcArga90RS+rqqMA3fMZg948ydYkY0nGjh07NsspSJJmq2XAZEBZzaRNklOBTwHvrarHZvLmVXVtVY1W1ejKlStn0lWSNAdaBswRYE3f/pnAg8O2SbKcXrh8sqo+3dfmoSSrujargIfneNySpDnQMmDuBEaSnJ3kZOBCYPekNruBi7q7yc4HHq2qo0kCfAy4t6quHNDn4m77YuBz7aYgSZqtk1q9cFU9lWQbcDOwDNhZVQeTXNrVXwPsATYB48DjwCVd9wuAdwD3JNnflX2gqvYAlwM3JXkn8C3gba3mIEmavVRN/lhk6RkdHa2xsbH5HoYkLSpJ9lXV6Gz7+01+SVITBowkqQkDRpLUhAEjSWrCgJEkNWHASJKaMGAkSU0YMJKkJgwYSVITBowkqQkDRpLUhAEjSWrCgJEkNWHASJKaGCpgknwqyc8nMZAkSUMZNjB2AP8CuC/J5UnObTgmSdISMFTAVNUfV9W/BNYD9wO3JPmzJJckWd5ygJKkxWnoS15JXgL8K+DfAF8D/ju9wLmlycgkSYvaScM0SvJp4FzgE8A/rqqjXdXvJ/G3iCVJzzJUwAC/V1V7+guSPL+qnjiR32uWJC1dw14i+y8Dyr48lwORJC0tU57BJPkxYDXwwiSvBNJV/QjwosZjkyQtYtNdInszvQ/2zwSu7Cv/LvCBRmOSJC0BUwZMVe0CdiX5xar61HM0JknSEjDdJbK3V9X/AM5K8h8m11fVlQO6SZI07SWyU7rnU1sPRJK0tEx3iex3u+cPPTfDkSQtFcMudnlFkh9JsjzJ3iSPJHn7EP02JDmUZDzJ9gH1SXJVV393kvV9dTuTPJzkwKQ+lyX5dpL93WPTMHOQJD23hv0ezJuq6jHgF4AjwE8AvzpVhyTLgKuBjcBaYEuStZOabQRGusdWeotqTvg4sOE4L//RqlrXPfYcp40kaR4NGzATC1puAm6oqu8M0ec8YLyqDlfVk8CNwOZJbTYD11fP7cCKJKsAquo2YJj3kSQtQMMGzB8m+QYwCuxNshL4f9P0WQ080Ld/pCubaZtBtnWX1HYmOW1QgyRbk4wlGTt27NgQLylJmkvDLte/HXgtMFpV3wf+mmefjUyWAWU1izaT7QDOAdYBR4GPDGpUVddW1WhVja5cuXKal5QkzbVhF7sE+El634fp73P9FO2PAGv69s8EHpxFm7+lqh6a2E5yHfBHU7WXJM2PYe8i+wTw28DPAK/uHtOtonwnMJLk7CQnAxcCuye12Q1c1N1Ndj7waN9PARxvLKv6dt8KHDheW0nS/Bn2DGYUWFtV012++htV9VSSbcDNwDJgZ1UdTHJpV38NsIfejQPjwOPAJRP9k9wAvAF4aZIjwG9U1ceAK5Kso3cp7X7gXcOOSZL03Bk2YA4AP0bvM4+hdbcQ75lUdk3fdgHvPk7fLccpf8dMxiBJmh/DBsxLga8nuQN4YqKwqv5Jk1FJkha9YQPmspaDkCQtPUMFTFXdmuTvAiNV9cdJXkTvcxVJkgYa9i6yXwb+F/C7XdFq4LOtBiVJWvyG/Sb/u4ELgMcAquo+4IxWg5IkLX7DBswT3XpiAHRfthz6lmVJ0g+fYQPm1iQfAF6Y5I3AHwB/2G5YkqTFbtiA2Q4cA+6h98XGPcB/ajUoSdLiN+xdZM8k+Szw2apyaWJJ0rSmPIPp1gi7LMkjwDeAQ0mOJfngczM8SdJiNd0lsvfSu3vs1VX1kqo6HXgNcEGSf998dJKkRWu6gLkI2FJV35woqKrDwNu7OkmSBpouYJZX1SOTC7vPYZYPaC9JEjB9wDw5yzpJ0g+56e4i++kkjw0oD/CCBuORJC0RUwZMVbmgpSRpVob9oqUkSTNiwEiSmjBgJElNGDCSpCYMGElSEwaMJKkJA0aS1IQBI0lqwoCRJDVhwEiSmjBgJElNNA2YJBuSHEoynmT7gPokuaqrvzvJ+r66nUkeTnJgUp/Tk9yS5L7u+bSWc5AkzU6zgEmyDLga2AisBbYkWTup2UZgpHtsBXb01X0c2DDgpbcDe6tqBNjb7UuSFpiWZzDnAeNVdbiqngRuBDZParMZuL56bgdWJFkFUFW3Ad8Z8LqbgV3d9i7gLU1GL0k6IS0DZjXwQN/+ka5spm0me1lVHQXons8Y1CjJ1iRjScaOHTs2o4FLkk5cy4DJgLKaRZtZqaprq2q0qkZXrlw5Fy8pSZqBlgFzBFjTt38m8OAs2kz20MRltO754RMcpySpgZYBcycwkuTsJCcDFwK7J7XZDVzU3U12PvDoxOWvKewGLu62LwY+N5eDliTNjWYBU1VPAduAm4F7gZuq6mCSS5Nc2jXbAxwGxoHrgH830T/JDcCXgZcnOZLknV3V5cAbk9wHvLHblyQtMKmak488FrTR0dEaGxub72FI0qKSZF9Vjc62v9/klyQ1YcBIkpowYCRJTRgwkqQmDBhJUhMGjCSpCQNGktSEASNJasKAkSQ1YcBIkpowYCRJTRgwkqQmDBhJUhMGjCSpCQNGktSEASNJasKAkSQ1YcBIkpowYCRJTRgwkqQmDBhJUhMGjCSpCQNGktSEASNJasKAkSQ1YcBIkpowYCRJTTQNmCQbkhxKMp5k+4D6JLmqq787yfrp+ia5LMm3k+zvHptazkGSNDvNAibJMuBqYCOwFtiSZO2kZhuBke6xFdgxZN+PVtW67rGn1RwkSbPX8gzmPGC8qg5X1ZPAjcDmSW02A9dXz+3AiiSrhuwrSVrAWgbMauCBvv0jXdkwbabru627pLYzyWlzN2RJ0lxpGTAZUFZDtpmq7w7gHGAdcBT4yMA3T7YmGUsyduzYseFGLEmaMy0D5giwpm//TODBIdsct29VPVRVT1fVM8B19C6nPUtVXVtVo1U1unLlyhOaiCRp5loGzJ3ASJKzk5wMXAjsntRmN3BRdzfZ+cCjVXV0qr7dZzQT3gocaDgHSdIsndTqhavqqSTbgJuBZcDOqjqY5NKu/hpgD7AJGAceBy6Zqm/30lckWUfvktn9wLtazUGSNHupmvyxyNIzOjpaY2Nj8z0MSVpUkuyrqtHZ9veb/JKkJgwYSVITBowkqQkDRpLUhAEjSWrCgJEkNWHASJKaMGAkSU0YMJKkJgwYSVITBowkqQkDRpLUhAEjSWrCgJEkNWHASJKaMGAkSU0YMJKkJgwYSVITBowkqQkDRpLUhAEjSWrCgJEkNWHASJKaMGAkSU0YMJKkJgwYSVITBowkqQkDRpLURNOASbIhyaEk40m2D6hPkqu6+ruTrJ+ub5LTk9yS5L7u+bSWc5AkzU6zgEmyDLga2AisBbYkWTup2UZgpHtsBXYM0Xc7sLeqRoC93b4kaYFpeQZzHjBeVYer6kngRmDzpDabgeur53ZgRZJV0/TdDOzqtncBb2k4B0nSLJ3U8LVXAw/07R8BXjNEm9XT9H1ZVR0FqKqjSc4Y9OZJttI7KwL4XpJDs5nECXop8Mg8vG8LzmVhWipzWSrzgKU1l5efSOeWAZMBZTVkm2H6TqmqrgWunUmfuZZkrKpG53MMc8W5LExLZS5LZR6w9OZyIv1bXiI7Aqzp2z8TeHDINlP1fai7jEb3/PAcjlmSNEdaBsydwEiSs5OcDFwI7J7UZjdwUXc32fnAo93lr6n67gYu7rYvBj7XcA6SpFlqdomsqp5Ksg24GVgG7Kyqg0ku7eqvAfYAm4Bx4HHgkqn6di99OXBTkncC3wLe1moOc2BeL9HNMeeyMC2VuSyVeYBz+RupmtFHG5IkDcVv8kuSmjBgJElNGDCNTLdMzkKX5P4k9yTZP3Gr4mJYpifJziQPJznQV3bccSf5te4YHUry5vkZ9WDHmctlSb7dHZf9STb11S3IuSRZk+QLSe5NcjDJe7ryRXdcppjLYjwuL0hyR5K7url8qCufu+NSVT7m+EHvxoT/A/w4cDJwF7B2vsc1wzncD7x0UtkVwPZuezvw4fke54Bxvx5YDxyYbtz0liG6C3g+cHZ3zJbN9xymmctlwPsHtF2wcwFWAeu77RcDf96Nd9EdlynmshiPS4BTu+3lwFeA8+fyuHgG08Ywy+QsRgt+mZ6qug34zqTi4417M3BjVT1RVd+kdzfjec/JQIdwnLkcz4KdS1UdraqvdtvfBe6lt1rHojsuU8zleBbyXKqqvtftLu8exRweFwOmjeMtgbOYFPD5JPu6ZXdg0jI9wMBlehag4417sR6nbd3q4zv7Ll8sirkkOQt4Jb3/LS/q4zJpLrAIj0uSZUn20/vC+i1VNafHxYBp44SXulkALqiq9fRWtH53ktfP94AaWIzHaQdwDrAOOAp8pCtf8HNJcirwKeC9VfXYVE0HlC30uSzK41JVT1fVOnqrpZyX5BVTNJ/xXAyYNoZZJmdBq6oHu+eHgc/QOxVerMv0HG/ci+44VdVD3T8KzwDX8YNLFAt6LkmW0/sH+ZNV9emueFEel0FzWazHZUJV/RXwRWADc3hcDJg2hlkmZ8FKckqSF09sA28CDrB4l+k53rh3AxcmeX6Ss+n9LtEd8zC+oU38xe+8ld5xgQU8lyQBPgbcW1VX9lUtuuNyvLks0uOyMsmKbvuFwM8B32Auj8t838mwVB/0lsD5c3p3Wvz6fI9nhmP/cXp3i9wFHJwYP/ASej/ydl/3fPp8j3XA2G+gd4ni+/T+x/XOqcYN/Hp3jA4BG+d7/EPM5RPAPcDd3V/4VQt9LsDP0LuUcjewv3tsWozHZYq5LMbj8lPA17oxHwA+2JXP2XFxqRhJUhNeIpMkNWHASJKaMGAkSU0YMJKkJgwYSVITBozUJ8lZ/asXS5o9A0aaI0ma/QT5XFos49TiZ8BIz7YsyXXdb2R8PskLk6xLcnu3mOFnJhYzTPLFJL+Z5FbgPUneluRA9xsbt3VtliX5rSR3dv3f1ZW/Iclt3et9Pck1SZ7X1W1J7/d4DiT5cFf2z5Nc2W2/J8nhbvucJH/Sbb8qya3dIqU39y358bfG+dz+ceqHlf+TkZ5tBNhSVb+c5CbgF4H/CPxKVd2a5D8DvwG8t2u/oqp+FiDJPcCbq+rbE8tw0PsG/qNV9eokzwf+NMnnu7rz6P3Oxl8A/xv4p0n+DPgw8CrgL+mtav0W4DbgV7t+rwP+b5LV9L5d/qVujazfATZX1bEkvwT8V+BfTx6n9FwwYKRn+2ZV7e+299FbJXdFVd3ale0C/qCv/e/3bf8p8PEumCYWdXwT8FNJ/lm3/6P0QuxJ4I6qmjgTuYFeWHwf+GJVHevKPwm8vqo+m+TUbp24NcD/pPejZK/r3uvlwCuAW3pLZrGM3lIzg8YpNWfASM/2RN/208CK4zXs/PXERlVdmuQ1wM8D+5Oso7fM+a9U1c39nZK8gWcvd14MXhZ9wpeBS+itBfUlemcnrwXeB/wd4GBVvXa6cUrPBT+Dkab3KPCXSV7X7b8DuHVQwyTnVNVXquqDwCP0zjRuBv5tdwmLJD/RrVINvd/gOLv77OWXgD+h9wNWP5vkpUmWAVv63u824P3d89eAfwg8UVWP0gudlUle273P8iR/f+7+GKSZ8QxGGs7FwDVJXgQcpncWMchvJRmhdxayl96K1HcDZwFf7ZZ7P8YPfob2y8DlwD+gFxqfqapnkvwa8IXudfZU1cSS6V+iF1q3VdXTSR6gt8Q6VfVkdxnuqiQ/Su/v93+jtyK29JxzNWVpnnSXyN5fVb8w32ORWvASmSSpCc9gJElNeAYjSWrCgJEkNWHASJKaMGAkSU0YMJKkJv4/HEL7nRvLUvQAAAAASUVORK5CYII=\\n\"\n",
    "                        },\n",
    "                        \"metadata\": {\n",
    "                            \"needs_background\": \"light\"\n",
    "                        }\n",
    "                    }\n",
    "                ]\n",
    "            }\n",
    "        },\n",
    "        \"3f5d28aafb434fd1a95159236921eaa0\": {\n",
    "            \"model_name\": \"LayoutModel\",\n",
    "            \"model_module\": \"@jupyter-widgets/base\",\n",
    "            \"model_module_version\": \"1.2.0\",\n",
    "            \"state\": {}\n",
    "        },\n",
    "        \"471c3b7545744b81bd411fbd122b4194\": {\n",
    "            \"model_name\": \"DescriptionStyleModel\",\n",
    "            \"model_module\": \"@jupyter-widgets/controls\",\n",
    "            \"model_module_version\": \"1.5.0\",\n",
    "            \"state\": {\n",
    "                \"description_width\": \"\"\n",
    "            }\n",
    "        },\n",
    "        \"feab31d79ec74c70aa27bbd63ddad465\": {\n",
    "            \"model_name\": \"PlayModel\",\n",
    "            \"model_module\": \"@jupyter-widgets/controls\",\n",
    "            \"model_module_version\": \"1.5.0\",\n",
    "            \"state\": {\n",
    "                \"description\": \"Press play\",\n",
    "                \"interval\": 500,\n",
    "                \"layout\": \"IPY_MODEL_3f5d28aafb434fd1a95159236921eaa0\",\n",
    "                \"style\": \"IPY_MODEL_471c3b7545744b81bd411fbd122b4194\"\n",
    "            }\n",
    "        },\n",
    "        \"2b947da396af41c0b8d9cfdc90586f92\": {\n",
    "            \"model_name\": \"LayoutModel\",\n",
    "            \"model_module\": \"@jupyter-widgets/base\",\n",
    "            \"model_module_version\": \"1.2.0\",\n",
    "            \"state\": {}\n",
    "        },\n",
    "        \"f87be6cfc2c4458fb10f99212fcd9d9c\": {\n",
    "            \"model_name\": \"SliderStyleModel\",\n",
    "            \"model_module\": \"@jupyter-widgets/controls\",\n",
    "            \"model_module_version\": \"1.5.0\",\n",
    "            \"state\": {\n",
    "                \"description_width\": \"\"\n",
    "            }\n",
    "        },\n",
    "        \"42ccac299048441c9ebe726e8e68679d\": {\n",
    "            \"model_name\": \"FloatSliderModel\",\n",
    "            \"model_module\": \"@jupyter-widgets/controls\",\n",
    "            \"model_module_version\": \"1.5.0\",\n",
    "            \"state\": {\n",
    "                \"layout\": \"IPY_MODEL_2b947da396af41c0b8d9cfdc90586f92\",\n",
    "                \"step\": 0.1,\n",
    "                \"style\": \"IPY_MODEL_f87be6cfc2c4458fb10f99212fcd9d9c\"\n",
    "            }\n",
    "        },\n",
    "        \"51a7ac7a565e472489a8285c31606227\": {\n",
    "            \"model_name\": \"LinkModel\",\n",
    "            \"model_module\": \"@jupyter-widgets/controls\",\n",
    "            \"model_module_version\": \"1.5.0\",\n",
    "            \"state\": {\n",
    "                \"source\": [\n",
    "                    \"IPY_MODEL_feab31d79ec74c70aa27bbd63ddad465\",\n",
    "                    \"value\"\n",
    "                ],\n",
    "                \"target\": [\n",
    "                    \"IPY_MODEL_42ccac299048441c9ebe726e8e68679d\",\n",
    "                    \"value\"\n",
    "                ]\n",
    "            }\n",
    "        },\n",
    "        \"ca6b98ef37bb4cf49e30a1dc4f021c69\": {\n",
    "            \"model_name\": \"LayoutModel\",\n",
    "            \"model_module\": \"@jupyter-widgets/base\",\n",
    "            \"model_module_version\": \"1.2.0\",\n",
    "            \"state\": {}\n",
    "        },\n",
    "        \"b31ca7b9d5c24394b6e9b955eb23b7f5\": {\n",
    "            \"model_name\": \"HBoxModel\",\n",
    "            \"model_module\": \"@jupyter-widgets/controls\",\n",
    "            \"model_module_version\": \"1.5.0\",\n",
    "            \"state\": {\n",
    "                \"children\": [\n",
    "                    \"IPY_MODEL_feab31d79ec74c70aa27bbd63ddad465\",\n",
    "                    \"IPY_MODEL_42ccac299048441c9ebe726e8e68679d\"\n",
    "                ],\n",
    "                \"layout\": \"IPY_MODEL_ca6b98ef37bb4cf49e30a1dc4f021c69\"\n",
    "            }\n",
    "        },\n",
    "        \"45537c9a91414c058cbc82007a60d3be\": {\n",
    "            \"model_name\": \"LayoutModel\",\n",
    "            \"model_module\": \"@jupyter-widgets/base\",\n",
    "            \"model_module_version\": \"1.2.0\",\n",
    "            \"state\": {}\n",
    "        },\n",
    "        \"5152f745c7ed4c3ab8373d6ff5d4555d\": {\n",
    "            \"model_name\": \"DescriptionStyleModel\",\n",
    "            \"model_module\": \"@jupyter-widgets/controls\",\n",
    "            \"model_module_version\": \"1.5.0\",\n",
    "            \"state\": {\n",
    "                \"description_width\": \"\"\n",
    "            }\n",
    "        },\n",
    "        \"0873ad98964945c2ab139d2d248ac5d3\": {\n",
    "            \"model_name\": \"PlayModel\",\n",
    "            \"model_module\": \"@jupyter-widgets/controls\",\n",
    "            \"model_module_version\": \"1.5.0\",\n",
    "            \"state\": {\n",
    "                \"_playing\": true,\n",
    "                \"description\": \"Press play\",\n",
    "                \"interval\": 500,\n",
    "                \"layout\": \"IPY_MODEL_45537c9a91414c058cbc82007a60d3be\",\n",
    "                \"step\": 0,\n",
    "                \"style\": \"IPY_MODEL_5152f745c7ed4c3ab8373d6ff5d4555d\",\n",
    "                \"value\": 50\n",
    "            }\n",
    "        },\n",
    "        \"7801894c27be44aa85d5cdab0f88c950\": {\n",
    "            \"model_name\": \"LayoutModel\",\n",
    "            \"model_module\": \"@jupyter-widgets/base\",\n",
    "            \"model_module_version\": \"1.2.0\",\n",
    "            \"state\": {}\n",
    "        },\n",
    "        \"4bbc7dbb4d034ccbba08d5bee8e24c45\": {\n",
    "            \"model_name\": \"SliderStyleModel\",\n",
    "            \"model_module\": \"@jupyter-widgets/controls\",\n",
    "            \"model_module_version\": \"1.5.0\",\n",
    "            \"state\": {\n",
    "                \"description_width\": \"\"\n",
    "            }\n",
    "        },\n",
    "        \"7a86cd92dfb84b818a94aa1b15d8c7fd\": {\n",
    "            \"model_name\": \"FloatSliderModel\",\n",
    "            \"model_module\": \"@jupyter-widgets/controls\",\n",
    "            \"model_module_version\": \"1.5.0\",\n",
    "            \"state\": {\n",
    "                \"layout\": \"IPY_MODEL_7801894c27be44aa85d5cdab0f88c950\",\n",
    "                \"step\": 0.1,\n",
    "                \"style\": \"IPY_MODEL_4bbc7dbb4d034ccbba08d5bee8e24c45\",\n",
    "                \"value\": 50\n",
    "            }\n",
    "        },\n",
    "        \"7c0fb56608a642e7896a8d6eea415881\": {\n",
    "            \"model_name\": \"LinkModel\",\n",
    "            \"model_module\": \"@jupyter-widgets/controls\",\n",
    "            \"model_module_version\": \"1.5.0\",\n",
    "            \"state\": {\n",
    "                \"source\": [\n",
    "                    \"IPY_MODEL_0873ad98964945c2ab139d2d248ac5d3\",\n",
    "                    \"value\"\n",
    "                ],\n",
    "                \"target\": [\n",
    "                    \"IPY_MODEL_7a86cd92dfb84b818a94aa1b15d8c7fd\",\n",
    "                    \"value\"\n",
    "                ]\n",
    "            }\n",
    "        },\n",
    "        \"0e7deffe12564af7835283e2de0da0c4\": {\n",
    "            \"model_name\": \"LayoutModel\",\n",
    "            \"model_module\": \"@jupyter-widgets/base\",\n",
    "            \"model_module_version\": \"1.2.0\",\n",
    "            \"state\": {}\n",
    "        },\n",
    "        \"29b4490dcc7f4853bcfc40396e7f7bcd\": {\n",
    "            \"model_name\": \"HBoxModel\",\n",
    "            \"model_module\": \"@jupyter-widgets/controls\",\n",
    "            \"model_module_version\": \"1.5.0\",\n",
    "            \"state\": {\n",
    "                \"children\": [\n",
    "                    \"IPY_MODEL_0873ad98964945c2ab139d2d248ac5d3\",\n",
    "                    \"IPY_MODEL_7a86cd92dfb84b818a94aa1b15d8c7fd\"\n",
    "                ],\n",
    "                \"layout\": \"IPY_MODEL_0e7deffe12564af7835283e2de0da0c4\"\n",
    "            }\n",
    "        },\n",
    "        \"82cd08056e304a9dadaecc636a752ab5\": {\n",
    "            \"model_name\": \"LayoutModel\",\n",
    "            \"model_module\": \"@jupyter-widgets/base\",\n",
    "            \"model_module_version\": \"1.2.0\",\n",
    "            \"state\": {}\n",
    "        },\n",
    "        \"b97dc1f0df004712a5538cd189d5015d\": {\n",
    "            \"model_name\": \"DescriptionStyleModel\",\n",
    "            \"model_module\": \"@jupyter-widgets/controls\",\n",
    "            \"model_module_version\": \"1.5.0\",\n",
    "            \"state\": {\n",
    "                \"description_width\": \"\"\n",
    "            }\n",
    "        },\n",
    "        \"6a75a85115bc440187bbe4493a7d8613\": {\n",
    "            \"model_name\": \"PlayModel\",\n",
    "            \"model_module\": \"@jupyter-widgets/controls\",\n",
    "            \"model_module_version\": \"1.5.0\",\n",
    "            \"state\": {\n",
    "                \"_playing\": true,\n",
    "                \"description\": \"Press play\",\n",
    "                \"interval\": 500,\n",
    "                \"layout\": \"IPY_MODEL_82cd08056e304a9dadaecc636a752ab5\",\n",
    "                \"step\": 0,\n",
    "                \"style\": \"IPY_MODEL_b97dc1f0df004712a5538cd189d5015d\"\n",
    "            }\n",
    "        },\n",
    "        \"1c4ec0517ae94e689bc20b89efff0ff3\": {\n",
    "            \"model_name\": \"LayoutModel\",\n",
    "            \"model_module\": \"@jupyter-widgets/base\",\n",
    "            \"model_module_version\": \"1.2.0\",\n",
    "            \"state\": {}\n",
    "        },\n",
    "        \"a6a799d73e7c49d4aa31f7966ee264b1\": {\n",
    "            \"model_name\": \"SliderStyleModel\",\n",
    "            \"model_module\": \"@jupyter-widgets/controls\",\n",
    "            \"model_module_version\": \"1.5.0\",\n",
    "            \"state\": {\n",
    "                \"description_width\": \"\"\n",
    "            }\n",
    "        },\n",
    "        \"f8a78004cde94adfbfdcd8c3702c1a7d\": {\n",
    "            \"model_name\": \"FloatSliderModel\",\n",
    "            \"model_module\": \"@jupyter-widgets/controls\",\n",
    "            \"model_module_version\": \"1.5.0\",\n",
    "            \"state\": {\n",
    "                \"layout\": \"IPY_MODEL_1c4ec0517ae94e689bc20b89efff0ff3\",\n",
    "                \"step\": 0.1,\n",
    "                \"style\": \"IPY_MODEL_a6a799d73e7c49d4aa31f7966ee264b1\"\n",
    "            }\n",
    "        },\n",
    "        \"614a13b2824b4cd0b32c13ab0a7a7ea3\": {\n",
    "            \"model_name\": \"LinkModel\",\n",
    "            \"model_module\": \"@jupyter-widgets/controls\",\n",
    "            \"model_module_version\": \"1.5.0\",\n",
    "            \"state\": {\n",
    "                \"source\": [\n",
    "                    \"IPY_MODEL_6a75a85115bc440187bbe4493a7d8613\",\n",
    "                    \"value\"\n",
    "                ],\n",
    "                \"target\": [\n",
    "                    \"IPY_MODEL_f8a78004cde94adfbfdcd8c3702c1a7d\",\n",
    "                    \"value\"\n",
    "                ]\n",
    "            }\n",
    "        },\n",
    "        \"30373cc5626f4494b87d0700c896cf55\": {\n",
    "            \"model_name\": \"LayoutModel\",\n",
    "            \"model_module\": \"@jupyter-widgets/base\",\n",
    "            \"model_module_version\": \"1.2.0\",\n",
    "            \"state\": {}\n",
    "        },\n",
    "        \"5269b92c97ce4b5a8750eccf39cd4552\": {\n",
    "            \"model_name\": \"HBoxModel\",\n",
    "            \"model_module\": \"@jupyter-widgets/controls\",\n",
    "            \"model_module_version\": \"1.5.0\",\n",
    "            \"state\": {\n",
    "                \"children\": [\n",
    "                    \"IPY_MODEL_6a75a85115bc440187bbe4493a7d8613\",\n",
    "                    \"IPY_MODEL_f8a78004cde94adfbfdcd8c3702c1a7d\"\n",
    "                ],\n",
    "                \"layout\": \"IPY_MODEL_30373cc5626f4494b87d0700c896cf55\"\n",
    "            }\n",
    "        },\n",
    "        \"368e8fc67bf3407d86a2b8dee90c6f4f\": {\n",
    "            \"model_name\": \"LayoutModel\",\n",
    "            \"model_module\": \"@jupyter-widgets/base\",\n",
    "            \"model_module_version\": \"1.2.0\",\n",
    "            \"state\": {}\n",
    "        },\n",
    "        \"e92ea61529f64d8ba99ba8b8414a05af\": {\n",
    "            \"model_name\": \"DescriptionStyleModel\",\n",
    "            \"model_module\": \"@jupyter-widgets/controls\",\n",
    "            \"model_module_version\": \"1.5.0\",\n",
    "            \"state\": {\n",
    "                \"description_width\": \"\"\n",
    "            }\n",
    "        },\n",
    "        \"44edd716f8ff4371b139f68f07640085\": {\n",
    "            \"model_name\": \"PlayModel\",\n",
    "            \"model_module\": \"@jupyter-widgets/controls\",\n",
    "            \"model_module_version\": \"1.5.0\",\n",
    "            \"state\": {\n",
    "                \"description\": \"Press play\",\n",
    "                \"interval\": 500,\n",
    "                \"layout\": \"IPY_MODEL_368e8fc67bf3407d86a2b8dee90c6f4f\",\n",
    "                \"style\": \"IPY_MODEL_e92ea61529f64d8ba99ba8b8414a05af\",\n",
    "                \"value\": 58\n",
    "            }\n",
    "        },\n",
    "        \"149fe1ed80224d65956089eca87c0d5e\": {\n",
    "            \"model_name\": \"LayoutModel\",\n",
    "            \"model_module\": \"@jupyter-widgets/base\",\n",
    "            \"model_module_version\": \"1.2.0\",\n",
    "            \"state\": {}\n",
    "        },\n",
    "        \"849f1e80af4342128eae99e947846c38\": {\n",
    "            \"model_name\": \"SliderStyleModel\",\n",
    "            \"model_module\": \"@jupyter-widgets/controls\",\n",
    "            \"model_module_version\": \"1.5.0\",\n",
    "            \"state\": {\n",
    "                \"description_width\": \"\"\n",
    "            }\n",
    "        },\n",
    "        \"4c46d98599ae47c0ab3312fd9b47e233\": {\n",
    "            \"model_name\": \"FloatSliderModel\",\n",
    "            \"model_module\": \"@jupyter-widgets/controls\",\n",
    "            \"model_module_version\": \"1.5.0\",\n",
    "            \"state\": {\n",
    "                \"layout\": \"IPY_MODEL_149fe1ed80224d65956089eca87c0d5e\",\n",
    "                \"step\": 0.1,\n",
    "                \"style\": \"IPY_MODEL_849f1e80af4342128eae99e947846c38\",\n",
    "                \"value\": 58\n",
    "            }\n",
    "        },\n",
    "        \"8d842d8ac8054649a259744351364e85\": {\n",
    "            \"model_name\": \"LinkModel\",\n",
    "            \"model_module\": \"@jupyter-widgets/controls\",\n",
    "            \"model_module_version\": \"1.5.0\",\n",
    "            \"state\": {\n",
    "                \"source\": [\n",
    "                    \"IPY_MODEL_44edd716f8ff4371b139f68f07640085\",\n",
    "                    \"value\"\n",
    "                ],\n",
    "                \"target\": [\n",
    "                    \"IPY_MODEL_4c46d98599ae47c0ab3312fd9b47e233\",\n",
    "                    \"value\"\n",
    "                ]\n",
    "            }\n",
    "        },\n",
    "        \"5728f40042754fe58ffde7092070d376\": {\n",
    "            \"model_name\": \"LayoutModel\",\n",
    "            \"model_module\": \"@jupyter-widgets/base\",\n",
    "            \"model_module_version\": \"1.2.0\",\n",
    "            \"state\": {}\n",
    "        },\n",
    "        \"39aa6dad1dff4ff596e7397d6b2bfb62\": {\n",
    "            \"model_name\": \"HBoxModel\",\n",
    "            \"model_module\": \"@jupyter-widgets/controls\",\n",
    "            \"model_module_version\": \"1.5.0\",\n",
    "            \"state\": {\n",
    "                \"children\": [\n",
    "                    \"IPY_MODEL_44edd716f8ff4371b139f68f07640085\",\n",
    "                    \"IPY_MODEL_4c46d98599ae47c0ab3312fd9b47e233\"\n",
    "                ],\n",
    "                \"layout\": \"IPY_MODEL_5728f40042754fe58ffde7092070d376\"\n",
    "            }\n",
    "        },\n",
    "        \"5dd160c3077145f79741fb5422cfc2ae\": {\n",
    "            \"model_name\": \"LayoutModel\",\n",
    "            \"model_module\": \"@jupyter-widgets/base\",\n",
    "            \"model_module_version\": \"1.2.0\",\n",
    "            \"state\": {}\n",
    "        },\n",
    "        \"cf5c55ac623945b2a2d95c8395bb7262\": {\n",
    "            \"model_name\": \"DescriptionStyleModel\",\n",
    "            \"model_module\": \"@jupyter-widgets/controls\",\n",
    "            \"model_module_version\": \"1.5.0\",\n",
    "            \"state\": {\n",
    "                \"description_width\": \"\"\n",
    "            }\n",
    "        },\n",
    "        \"9872163a810b44f88265aca6eff1bff9\": {\n",
    "            \"model_name\": \"PlayModel\",\n",
    "            \"model_module\": \"@jupyter-widgets/controls\",\n",
    "            \"model_module_version\": \"1.5.0\",\n",
    "            \"state\": {\n",
    "                \"description\": \"Press play\",\n",
    "                \"interval\": 500,\n",
    "                \"layout\": \"IPY_MODEL_5dd160c3077145f79741fb5422cfc2ae\",\n",
    "                \"max\": 3,\n",
    "                \"min\": 1,\n",
    "                \"style\": \"IPY_MODEL_cf5c55ac623945b2a2d95c8395bb7262\",\n",
    "                \"value\": 1\n",
    "            }\n",
    "        },\n",
    "        \"fdb805b5f0ba4608a86f13681682ef7b\": {\n",
    "            \"model_name\": \"LayoutModel\",\n",
    "            \"model_module\": \"@jupyter-widgets/base\",\n",
    "            \"model_module_version\": \"1.2.0\",\n",
    "            \"state\": {}\n",
    "        },\n",
    "        \"011bfa95f323457b8c54af09fb0a340b\": {\n",
    "            \"model_name\": \"SliderStyleModel\",\n",
    "            \"model_module\": \"@jupyter-widgets/controls\",\n",
    "            \"model_module_version\": \"1.5.0\",\n",
    "            \"state\": {\n",
    "                \"description_width\": \"\"\n",
    "            }\n",
    "        },\n",
    "        \"cdf4e5b3d7cd4a8b9a330935074f0ed3\": {\n",
    "            \"model_name\": \"FloatSliderModel\",\n",
    "            \"model_module\": \"@jupyter-widgets/controls\",\n",
    "            \"model_module_version\": \"1.5.0\",\n",
    "            \"state\": {\n",
    "                \"description\": \"bw\",\n",
    "                \"layout\": \"IPY_MODEL_fdb805b5f0ba4608a86f13681682ef7b\",\n",
    "                \"step\": 0.1,\n",
    "                \"style\": \"IPY_MODEL_011bfa95f323457b8c54af09fb0a340b\",\n",
    "                \"value\": 1\n",
    "            }\n",
    "        },\n",
    "        \"2c565e345b914f67807a47bcdddbaeb0\": {\n",
    "            \"model_name\": \"LinkModel\",\n",
    "            \"model_module\": \"@jupyter-widgets/controls\",\n",
    "            \"model_module_version\": \"1.5.0\",\n",
    "            \"state\": {\n",
    "                \"source\": [\n",
    "                    \"IPY_MODEL_9872163a810b44f88265aca6eff1bff9\",\n",
    "                    \"value\"\n",
    "                ],\n",
    "                \"target\": [\n",
    "                    \"IPY_MODEL_cdf4e5b3d7cd4a8b9a330935074f0ed3\",\n",
    "                    \"value\"\n",
    "                ]\n",
    "            }\n",
    "        },\n",
    "        \"3bb93faf3ad44fad81a7263cc872dbe8\": {\n",
    "            \"model_name\": \"LayoutModel\",\n",
    "            \"model_module\": \"@jupyter-widgets/base\",\n",
    "            \"model_module_version\": \"1.2.0\",\n",
    "            \"state\": {}\n",
    "        },\n",
    "        \"d09a9d98ea6f4e2fb0346b323dc6e22c\": {\n",
    "            \"model_name\": \"HBoxModel\",\n",
    "            \"model_module\": \"@jupyter-widgets/controls\",\n",
    "            \"model_module_version\": \"1.5.0\",\n",
    "            \"state\": {\n",
    "                \"children\": [\n",
    "                    \"IPY_MODEL_9872163a810b44f88265aca6eff1bff9\",\n",
    "                    \"IPY_MODEL_cdf4e5b3d7cd4a8b9a330935074f0ed3\"\n",
    "                ],\n",
    "                \"layout\": \"IPY_MODEL_3bb93faf3ad44fad81a7263cc872dbe8\"\n",
    "            }\n",
    "        },\n",
    "        \"4a52648c98d140b488bc7387edc13623\": {\n",
    "            \"model_name\": \"LayoutModel\",\n",
    "            \"model_module\": \"@jupyter-widgets/base\",\n",
    "            \"model_module_version\": \"1.2.0\",\n",
    "            \"state\": {}\n",
    "        },\n",
    "        \"2650bbedd37e449180415e014ce02a82\": {\n",
    "            \"model_name\": \"VBoxModel\",\n",
    "            \"model_module\": \"@jupyter-widgets/controls\",\n",
    "            \"model_module_version\": \"1.5.0\",\n",
    "            \"state\": {\n",
    "                \"_dom_classes\": [\n",
    "                    \"widget-interact\"\n",
    "                ],\n",
    "                \"children\": [\n",
    "                    \"IPY_MODEL_cdf4e5b3d7cd4a8b9a330935074f0ed3\",\n",
    "                    \"IPY_MODEL_23fa8c04486f43c490a00e11641b4831\"\n",
    "                ],\n",
    "                \"layout\": \"IPY_MODEL_4a52648c98d140b488bc7387edc13623\"\n",
    "            }\n",
    "        },\n",
    "        \"101d70b453874dbc941eb359adf31bf6\": {\n",
    "            \"model_name\": \"LayoutModel\",\n",
    "            \"model_module\": \"@jupyter-widgets/base\",\n",
    "            \"model_module_version\": \"1.2.0\",\n",
    "            \"state\": {}\n",
    "        },\n",
    "        \"23fa8c04486f43c490a00e11641b4831\": {\n",
    "            \"model_name\": \"OutputModel\",\n",
    "            \"model_module\": \"@jupyter-widgets/output\",\n",
    "            \"model_module_version\": \"1.0.0\",\n",
    "            \"state\": {\n",
    "                \"layout\": \"IPY_MODEL_101d70b453874dbc941eb359adf31bf6\",\n",
    "                \"outputs\": [\n",
    "                    {\n",
    "                        \"output_type\": \"display_data\",\n",
    "                        \"data\": {\n",
    "                            \"text/plain\": \"<Figure size 432x288 with 1 Axes>\",\n",
    "                            \"image/png\": \"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\\n\"\n",
    "                        },\n",
    "                        \"metadata\": {\n",
    "                            \"needs_background\": \"light\"\n",
    "                        }\n",
    "                    }\n",
    "                ]\n",
    "            }\n",
    "        },\n",
    "        \"6fe1ee8e2981436993865893315f8a3b\": {\n",
    "            \"model_name\": \"LayoutModel\",\n",
    "            \"model_module\": \"@jupyter-widgets/base\",\n",
    "            \"model_module_version\": \"1.2.0\",\n",
    "            \"state\": {}\n",
    "        },\n",
    "        \"ceb1a75c4b7a4c0f886b1af3083d8179\": {\n",
    "            \"model_name\": \"VBoxModel\",\n",
    "            \"model_module\": \"@jupyter-widgets/controls\",\n",
    "            \"model_module_version\": \"1.5.0\",\n",
    "            \"state\": {\n",
    "                \"_dom_classes\": [\n",
    "                    \"widget-interact\"\n",
    "                ],\n",
    "                \"children\": [\n",
    "                    \"IPY_MODEL_707e55a244b64a248d4e92a96deabde1\",\n",
    "                    \"IPY_MODEL_fa3dad29f22943d1a6d689103ca48a23\",\n",
    "                    \"IPY_MODEL_3b025d3030da4977a1f59e1633dd84e5\"\n",
    "                ],\n",
    "                \"layout\": \"IPY_MODEL_6fe1ee8e2981436993865893315f8a3b\"\n",
    "            }\n",
    "        },\n",
    "        \"735627cc17924349a25bb42f002a8e54\": {\n",
    "            \"model_name\": \"LayoutModel\",\n",
    "            \"model_module\": \"@jupyter-widgets/base\",\n",
    "            \"model_module_version\": \"1.2.0\",\n",
    "            \"state\": {}\n",
    "        },\n",
    "        \"39001518a15244e2ad8463ee6486a35b\": {\n",
    "            \"model_name\": \"SliderStyleModel\",\n",
    "            \"model_module\": \"@jupyter-widgets/controls\",\n",
    "            \"model_module_version\": \"1.5.0\",\n",
    "            \"state\": {\n",
    "                \"description_width\": \"\"\n",
    "            }\n",
    "        },\n",
    "        \"707e55a244b64a248d4e92a96deabde1\": {\n",
    "            \"model_name\": \"FloatSliderModel\",\n",
    "            \"model_module\": \"@jupyter-widgets/controls\",\n",
    "            \"model_module_version\": \"1.5.0\",\n",
    "            \"state\": {\n",
    "                \"description\": \"m\",\n",
    "                \"layout\": \"IPY_MODEL_735627cc17924349a25bb42f002a8e54\",\n",
    "                \"max\": 2,\n",
    "                \"min\": -2,\n",
    "                \"step\": 0.1,\n",
    "                \"style\": \"IPY_MODEL_39001518a15244e2ad8463ee6486a35b\",\n",
    "                \"value\": 0.4\n",
    "            }\n",
    "        },\n",
    "        \"63c6d088410c496fb89220bbbd06b088\": {\n",
    "            \"model_name\": \"LayoutModel\",\n",
    "            \"model_module\": \"@jupyter-widgets/base\",\n",
    "            \"model_module_version\": \"1.2.0\",\n",
    "            \"state\": {}\n",
    "        },\n",
    "        \"c3983139d414455b8139ffd7e9843221\": {\n",
    "            \"model_name\": \"SliderStyleModel\",\n",
    "            \"model_module\": \"@jupyter-widgets/controls\",\n",
    "            \"model_module_version\": \"1.5.0\",\n",
    "            \"state\": {\n",
    "                \"description_width\": \"\"\n",
    "            }\n",
    "        },\n",
    "        \"fa3dad29f22943d1a6d689103ca48a23\": {\n",
    "            \"model_name\": \"FloatSliderModel\",\n",
    "            \"model_module\": \"@jupyter-widgets/controls\",\n",
    "            \"model_module_version\": \"1.5.0\",\n",
    "            \"state\": {\n",
    "                \"description\": \"b\",\n",
    "                \"layout\": \"IPY_MODEL_63c6d088410c496fb89220bbbd06b088\",\n",
    "                \"max\": 3,\n",
    "                \"min\": -3,\n",
    "                \"step\": 0.5,\n",
    "                \"style\": \"IPY_MODEL_c3983139d414455b8139ffd7e9843221\",\n",
    "                \"value\": -0.5\n",
    "            }\n",
    "        },\n",
    "        \"24893574baf7486494f2d69e7a624786\": {\n",
    "            \"model_name\": \"LayoutModel\",\n",
    "            \"model_module\": \"@jupyter-widgets/base\",\n",
    "            \"model_module_version\": \"1.2.0\",\n",
    "            \"state\": {\n",
    "                \"height\": \"350px\"\n",
    "            }\n",
    "        },\n",
    "        \"3b025d3030da4977a1f59e1633dd84e5\": {\n",
    "            \"model_name\": \"OutputModel\",\n",
    "            \"model_module\": \"@jupyter-widgets/output\",\n",
    "            \"model_module_version\": \"1.0.0\",\n",
    "            \"state\": {\n",
    "                \"layout\": \"IPY_MODEL_24893574baf7486494f2d69e7a624786\",\n",
    "                \"outputs\": [\n",
    "                    {\n",
    "                        \"output_type\": \"display_data\",\n",
    "                        \"data\": {\n",
    "                            \"text/plain\": \"<Figure size 432x288 with 1 Axes>\",\n",
    "                            \"image/png\": \"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\\n\"\n",
    "                        },\n",
    "                        \"metadata\": {\n",
    "                            \"needs_background\": \"light\"\n",
    "                        }\n",
    "                    }\n",
    "                ]\n",
    "            }\n",
    "        },\n",
    "        \"71c6a58525324b7abb696b04559b1d3a\": {\n",
    "            \"model_name\": \"LayoutModel\",\n",
    "            \"model_module\": \"@jupyter-widgets/base\",\n",
    "            \"model_module_version\": \"1.2.0\",\n",
    "            \"state\": {}\n",
    "        },\n",
    "        \"cf48733d767d44f09f97b3f786b75e58\": {\n",
    "            \"model_name\": \"VBoxModel\",\n",
    "            \"model_module\": \"@jupyter-widgets/controls\",\n",
    "            \"model_module_version\": \"1.5.0\",\n",
    "            \"state\": {\n",
    "                \"_dom_classes\": [\n",
    "                    \"widget-interact\"\n",
    "                ],\n",
    "                \"children\": [\n",
    "                    \"IPY_MODEL_fc7367c8978c4beaa5679a4c057f029a\",\n",
    "                    \"IPY_MODEL_3502c290a61743b395bad743e3af000e\",\n",
    "                    \"IPY_MODEL_7ad02664044a4fc9954e15ee9184c8e3\",\n",
    "                    \"IPY_MODEL_62db065b29f740c3b7e3ce55d217179d\"\n",
    "                ],\n",
    "                \"layout\": \"IPY_MODEL_71c6a58525324b7abb696b04559b1d3a\"\n",
    "            }\n",
    "        },\n",
    "        \"ef8211482da04e049e66e97c099a0b65\": {\n",
    "            \"model_name\": \"LayoutModel\",\n",
    "            \"model_module\": \"@jupyter-widgets/base\",\n",
    "            \"model_module_version\": \"1.2.0\",\n",
    "            \"state\": {}\n",
    "        },\n",
    "        \"4f1bb1a346c04b83a589a0193e9c6f3c\": {\n",
    "            \"model_name\": \"SliderStyleModel\",\n",
    "            \"model_module\": \"@jupyter-widgets/controls\",\n",
    "            \"model_module_version\": \"1.5.0\",\n",
    "            \"state\": {\n",
    "                \"description_width\": \"\"\n",
    "            }\n",
    "        },\n",
    "        \"fc7367c8978c4beaa5679a4c057f029a\": {\n",
    "            \"model_name\": \"FloatSliderModel\",\n",
    "            \"model_module\": \"@jupyter-widgets/controls\",\n",
    "            \"model_module_version\": \"1.5.0\",\n",
    "            \"state\": {\n",
    "                \"description\": \"a\",\n",
    "                \"layout\": \"IPY_MODEL_ef8211482da04e049e66e97c099a0b65\",\n",
    "                \"max\": 2,\n",
    "                \"min\": -2,\n",
    "                \"step\": 0.1,\n",
    "                \"style\": \"IPY_MODEL_4f1bb1a346c04b83a589a0193e9c6f3c\"\n",
    "            }\n",
    "        },\n",
    "        \"275d0524a9264e6e9b6069949762d5a6\": {\n",
    "            \"model_name\": \"LayoutModel\",\n",
    "            \"model_module\": \"@jupyter-widgets/base\",\n",
    "            \"model_module_version\": \"1.2.0\",\n",
    "            \"state\": {}\n",
    "        },\n",
    "        \"c19927b7816148e09a9f00b66a4128ad\": {\n",
    "            \"model_name\": \"SliderStyleModel\",\n",
    "            \"model_module\": \"@jupyter-widgets/controls\",\n",
    "            \"model_module_version\": \"1.5.0\",\n",
    "            \"state\": {\n",
    "                \"description_width\": \"\"\n",
    "            }\n",
    "        },\n",
    "        \"3502c290a61743b395bad743e3af000e\": {\n",
    "            \"model_name\": \"FloatSliderModel\",\n",
    "            \"model_module\": \"@jupyter-widgets/controls\",\n",
    "            \"model_module_version\": \"1.5.0\",\n",
    "            \"state\": {\n",
    "                \"description\": \"b\",\n",
    "                \"layout\": \"IPY_MODEL_275d0524a9264e6e9b6069949762d5a6\",\n",
    "                \"max\": 3,\n",
    "                \"min\": -3,\n",
    "                \"step\": 0.5,\n",
    "                \"style\": \"IPY_MODEL_c19927b7816148e09a9f00b66a4128ad\"\n",
    "            }\n",
    "        },\n",
    "        \"894b67beda3543d2ba180d8117bf2669\": {\n",
    "            \"model_name\": \"LayoutModel\",\n",
    "            \"model_module\": \"@jupyter-widgets/base\",\n",
    "            \"model_module_version\": \"1.2.0\",\n",
    "            \"state\": {}\n",
    "        },\n",
    "        \"99ffc3d5b99b43b1a9171a0988ce3722\": {\n",
    "            \"model_name\": \"SliderStyleModel\",\n",
    "            \"model_module\": \"@jupyter-widgets/controls\",\n",
    "            \"model_module_version\": \"1.5.0\",\n",
    "            \"state\": {\n",
    "                \"description_width\": \"\"\n",
    "            }\n",
    "        },\n",
    "        \"7ad02664044a4fc9954e15ee9184c8e3\": {\n",
    "            \"model_name\": \"FloatSliderModel\",\n",
    "            \"model_module\": \"@jupyter-widgets/controls\",\n",
    "            \"model_module_version\": \"1.5.0\",\n",
    "            \"state\": {\n",
    "                \"description\": \"c\",\n",
    "                \"layout\": \"IPY_MODEL_894b67beda3543d2ba180d8117bf2669\",\n",
    "                \"max\": 1,\n",
    "                \"min\": -1,\n",
    "                \"step\": 0.1,\n",
    "                \"style\": \"IPY_MODEL_99ffc3d5b99b43b1a9171a0988ce3722\"\n",
    "            }\n",
    "        },\n",
    "        \"ea776d7dfd4b4ba4a570a1c00beb2b69\": {\n",
    "            \"model_name\": \"LayoutModel\",\n",
    "            \"model_module\": \"@jupyter-widgets/base\",\n",
    "            \"model_module_version\": \"1.2.0\",\n",
    "            \"state\": {\n",
    "                \"height\": \"350px\"\n",
    "            }\n",
    "        },\n",
    "        \"62db065b29f740c3b7e3ce55d217179d\": {\n",
    "            \"model_name\": \"OutputModel\",\n",
    "            \"model_module\": \"@jupyter-widgets/output\",\n",
    "            \"model_module_version\": \"1.0.0\",\n",
    "            \"state\": {\n",
    "                \"layout\": \"IPY_MODEL_ea776d7dfd4b4ba4a570a1c00beb2b69\",\n",
    "                \"outputs\": [\n",
    "                    {\n",
    "                        \"output_type\": \"display_data\",\n",
    "                        \"data\": {\n",
    "                            \"text/plain\": \"<Figure size 432x288 with 1 Axes>\",\n",
    "                            \"image/png\": \"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\\n\"\n",
    "                        },\n",
    "                        \"metadata\": {\n",
    "                            \"needs_background\": \"light\"\n",
    "                        }\n",
    "                    }\n",
    "                ]\n",
    "            }\n",
    "        },\n",
    "        \"a920da24718c45fbb7749eeab54b7dd2\": {\n",
    "            \"model_name\": \"LayoutModel\",\n",
    "            \"model_module\": \"@jupyter-widgets/base\",\n",
    "            \"model_module_version\": \"1.2.0\",\n",
    "            \"state\": {}\n",
    "        },\n",
    "        \"314220e685484645abcfa35c86ef38e9\": {\n",
    "            \"model_name\": \"VBoxModel\",\n",
    "            \"model_module\": \"@jupyter-widgets/controls\",\n",
    "            \"model_module_version\": \"1.5.0\",\n",
    "            \"state\": {\n",
    "                \"_dom_classes\": [\n",
    "                    \"widget-interact\"\n",
    "                ],\n",
    "                \"children\": [\n",
    "                    \"IPY_MODEL_33d32050777e423eaf12208112b71522\",\n",
    "                    \"IPY_MODEL_e2803f7be87044aa8e99d3e8365b4fbe\",\n",
    "                    \"IPY_MODEL_ad9848b0c8d94ce8837176a998401c6b\",\n",
    "                    \"IPY_MODEL_869a7abd05a44b699977b43cbce37951\"\n",
    "                ],\n",
    "                \"layout\": \"IPY_MODEL_a920da24718c45fbb7749eeab54b7dd2\"\n",
    "            }\n",
    "        },\n",
    "        \"9dfacc987b9e4c968bace6db6764d1ce\": {\n",
    "            \"model_name\": \"LayoutModel\",\n",
    "            \"model_module\": \"@jupyter-widgets/base\",\n",
    "            \"model_module_version\": \"1.2.0\",\n",
    "            \"state\": {}\n",
    "        },\n",
    "        \"f6a8d4d891744587918a1a975135aaed\": {\n",
    "            \"model_name\": \"SliderStyleModel\",\n",
    "            \"model_module\": \"@jupyter-widgets/controls\",\n",
    "            \"model_module_version\": \"1.5.0\",\n",
    "            \"state\": {\n",
    "                \"description_width\": \"\"\n",
    "            }\n",
    "        },\n",
    "        \"33d32050777e423eaf12208112b71522\": {\n",
    "            \"model_name\": \"FloatSliderModel\",\n",
    "            \"model_module\": \"@jupyter-widgets/controls\",\n",
    "            \"model_module_version\": \"1.5.0\",\n",
    "            \"state\": {\n",
    "                \"description\": \"a\",\n",
    "                \"layout\": \"IPY_MODEL_9dfacc987b9e4c968bace6db6764d1ce\",\n",
    "                \"max\": 2,\n",
    "                \"min\": -2,\n",
    "                \"step\": 0.1,\n",
    "                \"style\": \"IPY_MODEL_f6a8d4d891744587918a1a975135aaed\",\n",
    "                \"value\": 0.1\n",
    "            }\n",
    "        },\n",
    "        \"8faf6dcf4e414ff0a060e277c8aa09d3\": {\n",
    "            \"model_name\": \"LayoutModel\",\n",
    "            \"model_module\": \"@jupyter-widgets/base\",\n",
    "            \"model_module_version\": \"1.2.0\",\n",
    "            \"state\": {}\n",
    "        },\n",
    "        \"8f16757b7be540ffa59f3eade06ded39\": {\n",
    "            \"model_name\": \"SliderStyleModel\",\n",
    "            \"model_module\": \"@jupyter-widgets/controls\",\n",
    "            \"model_module_version\": \"1.5.0\",\n",
    "            \"state\": {\n",
    "                \"description_width\": \"\"\n",
    "            }\n",
    "        },\n",
    "        \"e2803f7be87044aa8e99d3e8365b4fbe\": {\n",
    "            \"model_name\": \"FloatSliderModel\",\n",
    "            \"model_module\": \"@jupyter-widgets/controls\",\n",
    "            \"model_module_version\": \"1.5.0\",\n",
    "            \"state\": {\n",
    "                \"description\": \"b\",\n",
    "                \"layout\": \"IPY_MODEL_8faf6dcf4e414ff0a060e277c8aa09d3\",\n",
    "                \"max\": 3,\n",
    "                \"min\": -3,\n",
    "                \"step\": 0.1,\n",
    "                \"style\": \"IPY_MODEL_8f16757b7be540ffa59f3eade06ded39\"\n",
    "            }\n",
    "        },\n",
    "        \"86aa080df3744bef9b387bcb3fecd4ee\": {\n",
    "            \"model_name\": \"LayoutModel\",\n",
    "            \"model_module\": \"@jupyter-widgets/base\",\n",
    "            \"model_module_version\": \"1.2.0\",\n",
    "            \"state\": {}\n",
    "        },\n",
    "        \"0fc2210518094a5b86f0f57c90118f10\": {\n",
    "            \"model_name\": \"SliderStyleModel\",\n",
    "            \"model_module\": \"@jupyter-widgets/controls\",\n",
    "            \"model_module_version\": \"1.5.0\",\n",
    "            \"state\": {\n",
    "                \"description_width\": \"\"\n",
    "            }\n",
    "        },\n",
    "        \"ad9848b0c8d94ce8837176a998401c6b\": {\n",
    "            \"model_name\": \"FloatSliderModel\",\n",
    "            \"model_module\": \"@jupyter-widgets/controls\",\n",
    "            \"model_module_version\": \"1.5.0\",\n",
    "            \"state\": {\n",
    "                \"description\": \"c\",\n",
    "                \"layout\": \"IPY_MODEL_86aa080df3744bef9b387bcb3fecd4ee\",\n",
    "                \"max\": 1,\n",
    "                \"min\": -1,\n",
    "                \"step\": 0.1,\n",
    "                \"style\": \"IPY_MODEL_0fc2210518094a5b86f0f57c90118f10\"\n",
    "            }\n",
    "        },\n",
    "        \"0427a8bc9d6f4da49c6205520f1a1d0b\": {\n",
    "            \"model_name\": \"LayoutModel\",\n",
    "            \"model_module\": \"@jupyter-widgets/base\",\n",
    "            \"model_module_version\": \"1.2.0\",\n",
    "            \"state\": {\n",
    "                \"height\": \"350px\"\n",
    "            }\n",
    "        },\n",
    "        \"869a7abd05a44b699977b43cbce37951\": {\n",
    "            \"model_name\": \"OutputModel\",\n",
    "            \"model_module\": \"@jupyter-widgets/output\",\n",
    "            \"model_module_version\": \"1.0.0\",\n",
    "            \"state\": {\n",
    "                \"layout\": \"IPY_MODEL_0427a8bc9d6f4da49c6205520f1a1d0b\",\n",
    "                \"outputs\": [\n",
    "                    {\n",
    "                        \"output_type\": \"display_data\",\n",
    "                        \"data\": {\n",
    "                            \"text/plain\": \"<Figure size 432x288 with 1 Axes>\",\n",
    "                            \"image/png\": \"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\\n\"\n",
    "                        },\n",
    "                        \"metadata\": {\n",
    "                            \"needs_background\": \"light\"\n",
    "                        }\n",
    "                    }\n",
    "                ]\n",
    "            }\n",
    "        },\n",
    "        \"540812693c434fca9da2997d99350046\": {\n",
    "            \"model_name\": \"LayoutModel\",\n",
    "            \"model_module\": \"@jupyter-widgets/base\",\n",
    "            \"model_module_version\": \"1.2.0\",\n",
    "            \"state\": {}\n",
    "        },\n",
    "        \"d50157ebd51d447c93fd5946b7b7a375\": {\n",
    "            \"model_name\": \"VBoxModel\",\n",
    "            \"model_module\": \"@jupyter-widgets/controls\",\n",
    "            \"model_module_version\": \"1.5.0\",\n",
    "            \"state\": {\n",
    "                \"_dom_classes\": [\n",
    "                    \"widget-interact\"\n",
    "                ],\n",
    "                \"children\": [\n",
    "                    \"IPY_MODEL_3aa21024448e42119beb8ea2ac770ccd\",\n",
    "                    \"IPY_MODEL_732b1c956879403ca69fb9f5508149c3\",\n",
    "                    \"IPY_MODEL_d2a64b8bf64a49dd9d02dbdf2a1f8103\",\n",
    "                    \"IPY_MODEL_25eb331629dc438f9a390ef2e77d92f1\"\n",
    "                ],\n",
    "                \"layout\": \"IPY_MODEL_540812693c434fca9da2997d99350046\"\n",
    "            }\n",
    "        },\n",
    "        \"d84afc110f614095996502fa87648e64\": {\n",
    "            \"model_name\": \"LayoutModel\",\n",
    "            \"model_module\": \"@jupyter-widgets/base\",\n",
    "            \"model_module_version\": \"1.2.0\",\n",
    "            \"state\": {}\n",
    "        },\n",
    "        \"89944a93f911412f85b6fa3540993981\": {\n",
    "            \"model_name\": \"SliderStyleModel\",\n",
    "            \"model_module\": \"@jupyter-widgets/controls\",\n",
    "            \"model_module_version\": \"1.5.0\",\n",
    "            \"state\": {\n",
    "                \"description_width\": \"\"\n",
    "            }\n",
    "        },\n",
    "        \"3aa21024448e42119beb8ea2ac770ccd\": {\n",
    "            \"model_name\": \"FloatSliderModel\",\n",
    "            \"model_module\": \"@jupyter-widgets/controls\",\n",
    "            \"model_module_version\": \"1.5.0\",\n",
    "            \"state\": {\n",
    "                \"description\": \"a\",\n",
    "                \"layout\": \"IPY_MODEL_d84afc110f614095996502fa87648e64\",\n",
    "                \"max\": 2,\n",
    "                \"min\": -2,\n",
    "                \"step\": 0.1,\n",
    "                \"style\": \"IPY_MODEL_89944a93f911412f85b6fa3540993981\",\n",
    "                \"value\": 0.2\n",
    "            }\n",
    "        },\n",
    "        \"6673ff97ac7c484584724e79aa7b6431\": {\n",
    "            \"model_name\": \"LayoutModel\",\n",
    "            \"model_module\": \"@jupyter-widgets/base\",\n",
    "            \"model_module_version\": \"1.2.0\",\n",
    "            \"state\": {}\n",
    "        },\n",
    "        \"f345625ae11f4e7fa96215d9cbfedb3f\": {\n",
    "            \"model_name\": \"SliderStyleModel\",\n",
    "            \"model_module\": \"@jupyter-widgets/controls\",\n",
    "            \"model_module_version\": \"1.5.0\",\n",
    "            \"state\": {\n",
    "                \"description_width\": \"\"\n",
    "            }\n",
    "        },\n",
    "        \"732b1c956879403ca69fb9f5508149c3\": {\n",
    "            \"model_name\": \"FloatSliderModel\",\n",
    "            \"model_module\": \"@jupyter-widgets/controls\",\n",
    "            \"model_module_version\": \"1.5.0\",\n",
    "            \"state\": {\n",
    "                \"description\": \"b\",\n",
    "                \"layout\": \"IPY_MODEL_6673ff97ac7c484584724e79aa7b6431\",\n",
    "                \"max\": 3,\n",
    "                \"min\": -3,\n",
    "                \"step\": 0.1,\n",
    "                \"style\": \"IPY_MODEL_f345625ae11f4e7fa96215d9cbfedb3f\",\n",
    "                \"value\": 1\n",
    "            }\n",
    "        },\n",
    "        \"b85277d234b84898bb9a89d2dfc65bf8\": {\n",
    "            \"model_name\": \"LayoutModel\",\n",
    "            \"model_module\": \"@jupyter-widgets/base\",\n",
    "            \"model_module_version\": \"1.2.0\",\n",
    "            \"state\": {}\n",
    "        },\n",
    "        \"376974da61c34c98a912543fd9b39dcd\": {\n",
    "            \"model_name\": \"SliderStyleModel\",\n",
    "            \"model_module\": \"@jupyter-widgets/controls\",\n",
    "            \"model_module_version\": \"1.5.0\",\n",
    "            \"state\": {\n",
    "                \"description_width\": \"\"\n",
    "            }\n",
    "        },\n",
    "        \"d2a64b8bf64a49dd9d02dbdf2a1f8103\": {\n",
    "            \"model_name\": \"FloatSliderModel\",\n",
    "            \"model_module\": \"@jupyter-widgets/controls\",\n",
    "            \"model_module_version\": \"1.5.0\",\n",
    "            \"state\": {\n",
    "                \"description\": \"c\",\n",
    "                \"layout\": \"IPY_MODEL_b85277d234b84898bb9a89d2dfc65bf8\",\n",
    "                \"max\": 1,\n",
    "                \"min\": -1,\n",
    "                \"step\": 0.1,\n",
    "                \"style\": \"IPY_MODEL_376974da61c34c98a912543fd9b39dcd\",\n",
    "                \"value\": -1\n",
    "            }\n",
    "        },\n",
    "        \"3b340e1d6cf445a7b0b92bd6f0cbee98\": {\n",
    "            \"model_name\": \"LayoutModel\",\n",
    "            \"model_module\": \"@jupyter-widgets/base\",\n",
    "            \"model_module_version\": \"1.2.0\",\n",
    "            \"state\": {\n",
    "                \"height\": \"350px\"\n",
    "            }\n",
    "        },\n",
    "        \"25eb331629dc438f9a390ef2e77d92f1\": {\n",
    "            \"model_name\": \"OutputModel\",\n",
    "            \"model_module\": \"@jupyter-widgets/output\",\n",
    "            \"model_module_version\": \"1.0.0\",\n",
    "            \"state\": {\n",
    "                \"layout\": \"IPY_MODEL_3b340e1d6cf445a7b0b92bd6f0cbee98\",\n",
    "                \"outputs\": [\n",
    "                    {\n",
    "                        \"output_type\": \"display_data\",\n",
    "                        \"data\": {\n",
    "                            \"text/plain\": \"<Figure size 432x288 with 1 Axes>\",\n",
    "                            \"image/png\": \"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\\n\"\n",
    "                        },\n",
    "                        \"metadata\": {\n",
    "                            \"needs_background\": \"light\"\n",
    "                        }\n",
    "                    }\n",
    "                ]\n",
    "            }\n",
    "        },\n",
    "        \"7dbae9b59f1747c0a8f66e777c77a501\": {\n",
    "            \"model_name\": \"LayoutModel\",\n",
    "            \"model_module\": \"@jupyter-widgets/base\",\n",
    "            \"model_module_version\": \"1.2.0\",\n",
    "            \"state\": {}\n",
    "        },\n",
    "        \"410e21348ef84e4aaab094d9d958589f\": {\n",
    "            \"model_name\": \"VBoxModel\",\n",
    "            \"model_module\": \"@jupyter-widgets/controls\",\n",
    "            \"model_module_version\": \"1.5.0\",\n",
    "            \"state\": {\n",
    "                \"_dom_classes\": [\n",
    "                    \"widget-interact\"\n",
    "                ],\n",
    "                \"children\": [\n",
    "                    \"IPY_MODEL_3998a1e48d4d498c94b2844a712d3e1a\",\n",
    "                    \"IPY_MODEL_32385703d4c64cc985de4332e101ff5c\",\n",
    "                    \"IPY_MODEL_e14511d0b18b4b609d9c32fa054e7124\",\n",
    "                    \"IPY_MODEL_00c84b8fc37b454ea616bd7179cb97ad\"\n",
    "                ],\n",
    "                \"layout\": \"IPY_MODEL_7dbae9b59f1747c0a8f66e777c77a501\"\n",
    "            }\n",
    "        },\n",
    "        \"65cc42c6cc04481da6b8288ca9a5b60e\": {\n",
    "            \"model_name\": \"LayoutModel\",\n",
    "            \"model_module\": \"@jupyter-widgets/base\",\n",
    "            \"model_module_version\": \"1.2.0\",\n",
    "            \"state\": {}\n",
    "        },\n",
    "        \"22c133edd102407b8ae7c6269546ab47\": {\n",
    "            \"model_name\": \"SliderStyleModel\",\n",
    "            \"model_module\": \"@jupyter-widgets/controls\",\n",
    "            \"model_module_version\": \"1.5.0\",\n",
    "            \"state\": {\n",
    "                \"description_width\": \"\"\n",
    "            }\n",
    "        },\n",
    "        \"3998a1e48d4d498c94b2844a712d3e1a\": {\n",
    "            \"model_name\": \"FloatSliderModel\",\n",
    "            \"model_module\": \"@jupyter-widgets/controls\",\n",
    "            \"model_module_version\": \"1.5.0\",\n",
    "            \"state\": {\n",
    "                \"description\": \"a\",\n",
    "                \"layout\": \"IPY_MODEL_65cc42c6cc04481da6b8288ca9a5b60e\",\n",
    "                \"max\": 2,\n",
    "                \"min\": -2,\n",
    "                \"step\": 0.1,\n",
    "                \"style\": \"IPY_MODEL_22c133edd102407b8ae7c6269546ab47\",\n",
    "                \"value\": -0.1\n",
    "            }\n",
    "        },\n",
    "        \"f98fd9d6c22a49ad91bad9eef34b301c\": {\n",
    "            \"model_name\": \"LayoutModel\",\n",
    "            \"model_module\": \"@jupyter-widgets/base\",\n",
    "            \"model_module_version\": \"1.2.0\",\n",
    "            \"state\": {}\n",
    "        },\n",
    "        \"9c046a077dd24f0e9345450f51ccb929\": {\n",
    "            \"model_name\": \"SliderStyleModel\",\n",
    "            \"model_module\": \"@jupyter-widgets/controls\",\n",
    "            \"model_module_version\": \"1.5.0\",\n",
    "            \"state\": {\n",
    "                \"description_width\": \"\"\n",
    "            }\n",
    "        },\n",
    "        \"32385703d4c64cc985de4332e101ff5c\": {\n",
    "            \"model_name\": \"FloatSliderModel\",\n",
    "            \"model_module\": \"@jupyter-widgets/controls\",\n",
    "            \"model_module_version\": \"1.5.0\",\n",
    "            \"state\": {\n",
    "                \"description\": \"b\",\n",
    "                \"layout\": \"IPY_MODEL_f98fd9d6c22a49ad91bad9eef34b301c\",\n",
    "                \"max\": 3,\n",
    "                \"min\": -3,\n",
    "                \"step\": 0.1,\n",
    "                \"style\": \"IPY_MODEL_9c046a077dd24f0e9345450f51ccb929\",\n",
    "                \"value\": -1.5\n",
    "            }\n",
    "        },\n",
    "        \"43af10ebfe2b4578ae5139019fd2acc5\": {\n",
    "            \"model_name\": \"LayoutModel\",\n",
    "            \"model_module\": \"@jupyter-widgets/base\",\n",
    "            \"model_module_version\": \"1.2.0\",\n",
    "            \"state\": {}\n",
    "        },\n",
    "        \"9ddca2d68ca24bd6bc414b93f2d57033\": {\n",
    "            \"model_name\": \"SliderStyleModel\",\n",
    "            \"model_module\": \"@jupyter-widgets/controls\",\n",
    "            \"model_module_version\": \"1.5.0\",\n",
    "            \"state\": {\n",
    "                \"description_width\": \"\"\n",
    "            }\n",
    "        },\n",
    "        \"e14511d0b18b4b609d9c32fa054e7124\": {\n",
    "            \"model_name\": \"FloatSliderModel\",\n",
    "            \"model_module\": \"@jupyter-widgets/controls\",\n",
    "            \"model_module_version\": \"1.5.0\",\n",
    "            \"state\": {\n",
    "                \"description\": \"c\",\n",
    "                \"layout\": \"IPY_MODEL_43af10ebfe2b4578ae5139019fd2acc5\",\n",
    "                \"max\": 10,\n",
    "                \"min\": -10,\n",
    "                \"step\": 0.1,\n",
    "                \"style\": \"IPY_MODEL_9ddca2d68ca24bd6bc414b93f2d57033\",\n",
    "                \"value\": 4.6\n",
    "            }\n",
    "        },\n",
    "        \"56b2897972b8486fb2171b17ad8482fc\": {\n",
    "            \"model_name\": \"LayoutModel\",\n",
    "            \"model_module\": \"@jupyter-widgets/base\",\n",
    "            \"model_module_version\": \"1.2.0\",\n",
    "            \"state\": {\n",
    "                \"height\": \"350px\"\n",
    "            }\n",
    "        },\n",
    "        \"00c84b8fc37b454ea616bd7179cb97ad\": {\n",
    "            \"model_name\": \"OutputModel\",\n",
    "            \"model_module\": \"@jupyter-widgets/output\",\n",
    "            \"model_module_version\": \"1.0.0\",\n",
    "            \"state\": {\n",
    "                \"layout\": \"IPY_MODEL_56b2897972b8486fb2171b17ad8482fc\",\n",
    "                \"outputs\": [\n",
    "                    {\n",
    "                        \"output_type\": \"display_data\",\n",
    "                        \"data\": {\n",
    "                            \"text/plain\": \"<Figure size 432x288 with 1 Axes>\",\n",
    "                            \"image/png\": \"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\\n\"\n",
    "                        },\n",
    "                        \"metadata\": {\n",
    "                            \"needs_background\": \"light\"\n",
    "                        }\n",
    "                    }\n",
    "                ]\n",
    "            }\n",
    "        },\n",
    "        \"44affbf0874f4e65af8aa46a0b553144\": {\n",
    "            \"model_name\": \"LayoutModel\",\n",
    "            \"model_module\": \"@jupyter-widgets/base\",\n",
    "            \"model_module_version\": \"1.2.0\",\n",
    "            \"state\": {}\n",
    "        },\n",
    "        \"6b0286a01b294076a3133ebfa9b8f387\": {\n",
    "            \"model_name\": \"VBoxModel\",\n",
    "            \"model_module\": \"@jupyter-widgets/controls\",\n",
    "            \"model_module_version\": \"1.5.0\",\n",
    "            \"state\": {\n",
    "                \"_dom_classes\": [\n",
    "                    \"widget-interact\"\n",
    "                ],\n",
    "                \"children\": [\n",
    "                    \"IPY_MODEL_737b0453c4294a6b891622b4f5c262c9\",\n",
    "                    \"IPY_MODEL_98be279d6dd64815b287fc03dd166e7c\",\n",
    "                    \"IPY_MODEL_a283b451b40e4dd88c5bcb7724e40ba0\",\n",
    "                    \"IPY_MODEL_8ab2a7f197404e04b39034665022311a\"\n",
    "                ],\n",
    "                \"layout\": \"IPY_MODEL_44affbf0874f4e65af8aa46a0b553144\"\n",
    "            }\n",
    "        },\n",
    "        \"0671707f8b8d442e914cc5c62f369b33\": {\n",
    "            \"model_name\": \"LayoutModel\",\n",
    "            \"model_module\": \"@jupyter-widgets/base\",\n",
    "            \"model_module_version\": \"1.2.0\",\n",
    "            \"state\": {}\n",
    "        },\n",
    "        \"481eb7f27ca040ed8be52e708269526f\": {\n",
    "            \"model_name\": \"SliderStyleModel\",\n",
    "            \"model_module\": \"@jupyter-widgets/controls\",\n",
    "            \"model_module_version\": \"1.5.0\",\n",
    "            \"state\": {\n",
    "                \"description_width\": \"\"\n",
    "            }\n",
    "        },\n",
    "        \"737b0453c4294a6b891622b4f5c262c9\": {\n",
    "            \"model_name\": \"FloatSliderModel\",\n",
    "            \"model_module\": \"@jupyter-widgets/controls\",\n",
    "            \"model_module_version\": \"1.5.0\",\n",
    "            \"state\": {\n",
    "                \"description\": \"a\",\n",
    "                \"layout\": \"IPY_MODEL_0671707f8b8d442e914cc5c62f369b33\",\n",
    "                \"max\": 2,\n",
    "                \"min\": -2,\n",
    "                \"step\": 0.1,\n",
    "                \"style\": \"IPY_MODEL_481eb7f27ca040ed8be52e708269526f\",\n",
    "                \"value\": -0.7\n",
    "            }\n",
    "        },\n",
    "        \"c95573991f3142da9153e0f67399ba07\": {\n",
    "            \"model_name\": \"LayoutModel\",\n",
    "            \"model_module\": \"@jupyter-widgets/base\",\n",
    "            \"model_module_version\": \"1.2.0\",\n",
    "            \"state\": {}\n",
    "        },\n",
    "        \"063de81fecfc4b71877543dfe25da3c7\": {\n",
    "            \"model_name\": \"SliderStyleModel\",\n",
    "            \"model_module\": \"@jupyter-widgets/controls\",\n",
    "            \"model_module_version\": \"1.5.0\",\n",
    "            \"state\": {\n",
    "                \"description_width\": \"\"\n",
    "            }\n",
    "        },\n",
    "        \"98be279d6dd64815b287fc03dd166e7c\": {\n",
    "            \"model_name\": \"FloatSliderModel\",\n",
    "            \"model_module\": \"@jupyter-widgets/controls\",\n",
    "            \"model_module_version\": \"1.5.0\",\n",
    "            \"state\": {\n",
    "                \"description\": \"b\",\n",
    "                \"layout\": \"IPY_MODEL_c95573991f3142da9153e0f67399ba07\",\n",
    "                \"max\": 3,\n",
    "                \"min\": -3,\n",
    "                \"step\": 0.1,\n",
    "                \"style\": \"IPY_MODEL_063de81fecfc4b71877543dfe25da3c7\",\n",
    "                \"value\": 3\n",
    "            }\n",
    "        },\n",
    "        \"5aa6095114df4f4bb946c8393f82a9bd\": {\n",
    "            \"model_name\": \"LayoutModel\",\n",
    "            \"model_module\": \"@jupyter-widgets/base\",\n",
    "            \"model_module_version\": \"1.2.0\",\n",
    "            \"state\": {}\n",
    "        },\n",
    "        \"4604007f5e7d4e13a05e09bb5b55816a\": {\n",
    "            \"model_name\": \"SliderStyleModel\",\n",
    "            \"model_module\": \"@jupyter-widgets/controls\",\n",
    "            \"model_module_version\": \"1.5.0\",\n",
    "            \"state\": {\n",
    "                \"description_width\": \"\"\n",
    "            }\n",
    "        },\n",
    "        \"a283b451b40e4dd88c5bcb7724e40ba0\": {\n",
    "            \"model_name\": \"FloatSliderModel\",\n",
    "            \"model_module\": \"@jupyter-widgets/controls\",\n",
    "            \"model_module_version\": \"1.5.0\",\n",
    "            \"state\": {\n",
    "                \"description\": \"c\",\n",
    "                \"layout\": \"IPY_MODEL_5aa6095114df4f4bb946c8393f82a9bd\",\n",
    "                \"max\": 10,\n",
    "                \"min\": -10,\n",
    "                \"step\": 0.1,\n",
    "                \"style\": \"IPY_MODEL_4604007f5e7d4e13a05e09bb5b55816a\",\n",
    "                \"value\": 10\n",
    "            }\n",
    "        },\n",
    "        \"88c1b1b404f448239b5269b0aaacf2bf\": {\n",
    "            \"model_name\": \"LayoutModel\",\n",
    "            \"model_module\": \"@jupyter-widgets/base\",\n",
    "            \"model_module_version\": \"1.2.0\",\n",
    "            \"state\": {\n",
    "                \"height\": \"350px\"\n",
    "            }\n",
    "        },\n",
    "        \"8ab2a7f197404e04b39034665022311a\": {\n",
    "            \"model_name\": \"OutputModel\",\n",
    "            \"model_module\": \"@jupyter-widgets/output\",\n",
    "            \"model_module_version\": \"1.0.0\",\n",
    "            \"state\": {\n",
    "                \"layout\": \"IPY_MODEL_88c1b1b404f448239b5269b0aaacf2bf\",\n",
    "                \"outputs\": [\n",
    "                    {\n",
    "                        \"output_type\": \"display_data\",\n",
    "                        \"data\": {\n",
    "                            \"text/plain\": \"<Figure size 432x288 with 1 Axes>\",\n",
    "                            \"image/png\": \"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\\n\"\n",
    "                        },\n",
    "                        \"metadata\": {\n",
    "                            \"needs_background\": \"light\"\n",
    "                        }\n",
    "                    }\n",
    "                ]\n",
    "            }\n",
    "        },\n",
    "        \"88f4d84bf02146948c15e8a9c112f200\": {\n",
    "            \"model_name\": \"LayoutModel\",\n",
    "            \"model_module\": \"@jupyter-widgets/base\",\n",
    "            \"model_module_version\": \"1.2.0\",\n",
    "            \"state\": {}\n",
    "        },\n",
    "        \"d26ea49278a740c6b8536204a1d63220\": {\n",
    "            \"model_name\": \"VBoxModel\",\n",
    "            \"model_module\": \"@jupyter-widgets/controls\",\n",
    "            \"model_module_version\": \"1.5.0\",\n",
    "            \"state\": {\n",
    "                \"_dom_classes\": [\n",
    "                    \"widget-interact\"\n",
    "                ],\n",
    "                \"children\": [\n",
    "                    \"IPY_MODEL_91926dbc559b457cadddf88850c179c4\",\n",
    "                    \"IPY_MODEL_a999b2e1b9754f7a834a780e6d82fa29\",\n",
    "                    \"IPY_MODEL_8f47180fe35b4c59a63fd2e244fbcd62\",\n",
    "                    \"IPY_MODEL_d6204aac95d445db9ac339ee24e0942b\"\n",
    "                ],\n",
    "                \"layout\": \"IPY_MODEL_88f4d84bf02146948c15e8a9c112f200\"\n",
    "            }\n",
    "        },\n",
    "        \"4b87ed20ca1a40e19dea1ad6053b92d4\": {\n",
    "            \"model_name\": \"LayoutModel\",\n",
    "            \"model_module\": \"@jupyter-widgets/base\",\n",
    "            \"model_module_version\": \"1.2.0\",\n",
    "            \"state\": {}\n",
    "        },\n",
    "        \"f1d7756e352a4f56946a5ea726f3fc3a\": {\n",
    "            \"model_name\": \"SliderStyleModel\",\n",
    "            \"model_module\": \"@jupyter-widgets/controls\",\n",
    "            \"model_module_version\": \"1.5.0\",\n",
    "            \"state\": {\n",
    "                \"description_width\": \"\"\n",
    "            }\n",
    "        },\n",
    "        \"91926dbc559b457cadddf88850c179c4\": {\n",
    "            \"model_name\": \"FloatSliderModel\",\n",
    "            \"model_module\": \"@jupyter-widgets/controls\",\n",
    "            \"model_module_version\": \"1.5.0\",\n",
    "            \"state\": {\n",
    "                \"description\": \"a\",\n",
    "                \"layout\": \"IPY_MODEL_4b87ed20ca1a40e19dea1ad6053b92d4\",\n",
    "                \"max\": 2,\n",
    "                \"min\": -2,\n",
    "                \"step\": 0.1,\n",
    "                \"style\": \"IPY_MODEL_f1d7756e352a4f56946a5ea726f3fc3a\",\n",
    "                \"value\": 0.6\n",
    "            }\n",
    "        },\n",
    "        \"019605bf3d354a24a8fd3196943468c5\": {\n",
    "            \"model_name\": \"LayoutModel\",\n",
    "            \"model_module\": \"@jupyter-widgets/base\",\n",
    "            \"model_module_version\": \"1.2.0\",\n",
    "            \"state\": {}\n",
    "        },\n",
    "        \"8185b663b86f4eda95cd834b024b3b45\": {\n",
    "            \"model_name\": \"SliderStyleModel\",\n",
    "            \"model_module\": \"@jupyter-widgets/controls\",\n",
    "            \"model_module_version\": \"1.5.0\",\n",
    "            \"state\": {\n",
    "                \"description_width\": \"\"\n",
    "            }\n",
    "        },\n",
    "        \"a999b2e1b9754f7a834a780e6d82fa29\": {\n",
    "            \"model_name\": \"FloatSliderModel\",\n",
    "            \"model_module\": \"@jupyter-widgets/controls\",\n",
    "            \"model_module_version\": \"1.5.0\",\n",
    "            \"state\": {\n",
    "                \"description\": \"b\",\n",
    "                \"layout\": \"IPY_MODEL_019605bf3d354a24a8fd3196943468c5\",\n",
    "                \"max\": 3,\n",
    "                \"min\": -3,\n",
    "                \"step\": 0.1,\n",
    "                \"style\": \"IPY_MODEL_8185b663b86f4eda95cd834b024b3b45\",\n",
    "                \"value\": -1.2\n",
    "            }\n",
    "        },\n",
    "        \"ee8d59449b3e4911a6e843f09b411050\": {\n",
    "            \"model_name\": \"LayoutModel\",\n",
    "            \"model_module\": \"@jupyter-widgets/base\",\n",
    "            \"model_module_version\": \"1.2.0\",\n",
    "            \"state\": {}\n",
    "        },\n",
    "        \"64be7f8feea442cc97c27546471617e2\": {\n",
    "            \"model_name\": \"SliderStyleModel\",\n",
    "            \"model_module\": \"@jupyter-widgets/controls\",\n",
    "            \"model_module_version\": \"1.5.0\",\n",
    "            \"state\": {\n",
    "                \"description_width\": \"\"\n",
    "            }\n",
    "        },\n",
    "        \"8f47180fe35b4c59a63fd2e244fbcd62\": {\n",
    "            \"model_name\": \"FloatSliderModel\",\n",
    "            \"model_module\": \"@jupyter-widgets/controls\",\n",
    "            \"model_module_version\": \"1.5.0\",\n",
    "            \"state\": {\n",
    "                \"description\": \"c\",\n",
    "                \"layout\": \"IPY_MODEL_ee8d59449b3e4911a6e843f09b411050\",\n",
    "                \"max\": 5,\n",
    "                \"min\": -5,\n",
    "                \"step\": 0.1,\n",
    "                \"style\": \"IPY_MODEL_64be7f8feea442cc97c27546471617e2\",\n",
    "                \"value\": -3.4\n",
    "            }\n",
    "        },\n",
    "        \"cbbd8c95365c42cebd4ef23848226b99\": {\n",
    "            \"model_name\": \"LayoutModel\",\n",
    "            \"model_module\": \"@jupyter-widgets/base\",\n",
    "            \"model_module_version\": \"1.2.0\",\n",
    "            \"state\": {\n",
    "                \"height\": \"350px\"\n",
    "            }\n",
    "        },\n",
    "        \"d6204aac95d445db9ac339ee24e0942b\": {\n",
    "            \"model_name\": \"OutputModel\",\n",
    "            \"model_module\": \"@jupyter-widgets/output\",\n",
    "            \"model_module_version\": \"1.0.0\",\n",
    "            \"state\": {\n",
    "                \"layout\": \"IPY_MODEL_cbbd8c95365c42cebd4ef23848226b99\",\n",
    "                \"outputs\": [\n",
    "                    {\n",
    "                        \"output_type\": \"display_data\",\n",
    "                        \"data\": {\n",
    "                            \"text/plain\": \"<Figure size 432x288 with 1 Axes>\",\n",
    "                            \"image/png\": \"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\\n\"\n",
    "                        },\n",
    "                        \"metadata\": {\n",
    "                            \"needs_background\": \"light\"\n",
    "                        }\n",
    "                    }\n",
    "                ]\n",
    "            }\n",
    "        },\n",
    "        \"6c2612dc6ebe4db28324bf853d4f55bc\": {\n",
    "            \"model_name\": \"LayoutModel\",\n",
    "            \"model_module\": \"@jupyter-widgets/base\",\n",
    "            \"model_module_version\": \"1.2.0\",\n",
    "            \"state\": {}\n",
    "        },\n",
    "        \"c2cbad7e741c4105b69bec7260067c99\": {\n",
    "            \"model_name\": \"SliderStyleModel\",\n",
    "            \"model_module\": \"@jupyter-widgets/controls\",\n",
    "            \"model_module_version\": \"1.5.0\",\n",
    "            \"state\": {\n",
    "                \"description_width\": \"\"\n",
    "            }\n",
    "        },\n",
    "        \"e08f33b079974441aa6a25ca42ed905c\": {\n",
    "            \"model_name\": \"FloatSliderModel\",\n",
    "            \"model_module\": \"@jupyter-widgets/controls\",\n",
    "            \"model_module_version\": \"1.5.0\",\n",
    "            \"state\": {\n",
    "                \"description\": \"bandwidth\",\n",
    "                \"layout\": \"IPY_MODEL_6c2612dc6ebe4db28324bf853d4f55bc\",\n",
    "                \"max\": 3,\n",
    "                \"min\": 0.1,\n",
    "                \"orientation\": \"vertical\",\n",
    "                \"readout_format\": \".1f\",\n",
    "                \"step\": 0.1,\n",
    "                \"style\": \"IPY_MODEL_c2cbad7e741c4105b69bec7260067c99\",\n",
    "                \"value\": 2\n",
    "            }\n",
    "        },\n",
    "        \"5c84653a43ef4381970f3c19ed4f7423\": {\n",
    "            \"model_name\": \"LayoutModel\",\n",
    "            \"model_module\": \"@jupyter-widgets/base\",\n",
    "            \"model_module_version\": \"1.2.0\",\n",
    "            \"state\": {}\n",
    "        },\n",
    "        \"f7c0dbc74ea54fc58cc4aab509d87d81\": {\n",
    "            \"model_name\": \"VBoxModel\",\n",
    "            \"model_module\": \"@jupyter-widgets/controls\",\n",
    "            \"model_module_version\": \"1.5.0\",\n",
    "            \"state\": {\n",
    "                \"_dom_classes\": [\n",
    "                    \"widget-interact\"\n",
    "                ],\n",
    "                \"children\": [\n",
    "                    \"IPY_MODEL_e08f33b079974441aa6a25ca42ed905c\",\n",
    "                    \"IPY_MODEL_5bf2b2040399458caebe695b2728d311\"\n",
    "                ],\n",
    "                \"layout\": \"IPY_MODEL_5c84653a43ef4381970f3c19ed4f7423\"\n",
    "            }\n",
    "        },\n",
    "        \"34396293f80147208db0d193a74e0ca4\": {\n",
    "            \"model_name\": \"LayoutModel\",\n",
    "            \"model_module\": \"@jupyter-widgets/base\",\n",
    "            \"model_module_version\": \"1.2.0\",\n",
    "            \"state\": {}\n",
    "        },\n",
    "        \"5bf2b2040399458caebe695b2728d311\": {\n",
    "            \"model_name\": \"OutputModel\",\n",
    "            \"model_module\": \"@jupyter-widgets/output\",\n",
    "            \"model_module_version\": \"1.0.0\",\n",
    "            \"state\": {\n",
    "                \"layout\": \"IPY_MODEL_34396293f80147208db0d193a74e0ca4\",\n",
    "                \"outputs\": [\n",
    "                    {\n",
    "                        \"output_type\": \"display_data\",\n",
    "                        \"data\": {\n",
    "                            \"text/plain\": \"<Figure size 432x288 with 1 Axes>\",\n",
    "                            \"image/png\": \"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\\n\"\n",
    "                        },\n",
    "                        \"metadata\": {\n",
    "                            \"needs_background\": \"light\"\n",
    "                        }\n",
    "                    }\n",
    "                ]\n",
    "            }\n",
    "        },\n",
    "        \"297ecc833db0444180696af446871699\": {\n",
    "            \"model_name\": \"LayoutModel\",\n",
    "            \"model_module\": \"@jupyter-widgets/base\",\n",
    "            \"model_module_version\": \"1.2.0\",\n",
    "            \"state\": {}\n",
    "        },\n",
    "        \"6e414f75e4794e1cb24ebdea80738041\": {\n",
    "            \"model_name\": \"SliderStyleModel\",\n",
    "            \"model_module\": \"@jupyter-widgets/controls\",\n",
    "            \"model_module_version\": \"1.5.0\",\n",
    "            \"state\": {\n",
    "                \"description_width\": \"\"\n",
    "            }\n",
    "        },\n",
    "        \"6724350cc7b64a54915c7cc3d0cc40aa\": {\n",
    "            \"model_name\": \"FloatSliderModel\",\n",
    "            \"model_module\": \"@jupyter-widgets/controls\",\n",
    "            \"model_module_version\": \"1.5.0\",\n",
    "            \"state\": {\n",
    "                \"description\": \"bandwidth\",\n",
    "                \"layout\": \"IPY_MODEL_297ecc833db0444180696af446871699\",\n",
    "                \"max\": 3,\n",
    "                \"min\": 0.1,\n",
    "                \"readout_format\": \".1f\",\n",
    "                \"step\": 0.1,\n",
    "                \"style\": \"IPY_MODEL_6e414f75e4794e1cb24ebdea80738041\",\n",
    "                \"value\": 1.3\n",
    "            }\n",
    "        },\n",
    "        \"a6c6d46c5639466d85a33f7d0c7838d4\": {\n",
    "            \"model_name\": \"LayoutModel\",\n",
    "            \"model_module\": \"@jupyter-widgets/base\",\n",
    "            \"model_module_version\": \"1.2.0\",\n",
    "            \"state\": {}\n",
    "        },\n",
    "        \"c0bedada780c4599a0f4b1f0803e28cc\": {\n",
    "            \"model_name\": \"VBoxModel\",\n",
    "            \"model_module\": \"@jupyter-widgets/controls\",\n",
    "            \"model_module_version\": \"1.5.0\",\n",
    "            \"state\": {\n",
    "                \"_dom_classes\": [\n",
    "                    \"widget-interact\"\n",
    "                ],\n",
    "                \"children\": [\n",
    "                    \"IPY_MODEL_6724350cc7b64a54915c7cc3d0cc40aa\",\n",
    "                    \"IPY_MODEL_d3fc7b326e7a425ba68e2efe8f42a692\"\n",
    "                ],\n",
    "                \"layout\": \"IPY_MODEL_a6c6d46c5639466d85a33f7d0c7838d4\"\n",
    "            }\n",
    "        },\n",
    "        \"5fbc31d64a444702a72c243f01775628\": {\n",
    "            \"model_name\": \"LayoutModel\",\n",
    "            \"model_module\": \"@jupyter-widgets/base\",\n",
    "            \"model_module_version\": \"1.2.0\",\n",
    "            \"state\": {}\n",
    "        },\n",
    "        \"d3fc7b326e7a425ba68e2efe8f42a692\": {\n",
    "            \"model_name\": \"OutputModel\",\n",
    "            \"model_module\": \"@jupyter-widgets/output\",\n",
    "            \"model_module_version\": \"1.0.0\",\n",
    "            \"state\": {\n",
    "                \"layout\": \"IPY_MODEL_5fbc31d64a444702a72c243f01775628\",\n",
    "                \"outputs\": [\n",
    "                    {\n",
    "                        \"output_type\": \"display_data\",\n",
    "                        \"data\": {\n",
    "                            \"text/plain\": \"<Figure size 432x288 with 1 Axes>\",\n",
    "                            \"image/png\": \"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\\n\"\n",
    "                        },\n",
    "                        \"metadata\": {\n",
    "                            \"needs_background\": \"light\"\n",
    "                        }\n",
    "                    }\n",
    "                ]\n",
    "            }\n",
    "        }\n",
    "    }\n",
    "}\n",
    "</script>\n",
    "</head>\n",
    "<body>\n",
    "\n",
    "<script type=\"application/vnd.jupyter.widget-view+json\">\n",
    "{\n",
    "    \"version_major\": 2,\n",
    "    \"version_minor\": 0,\n",
    "    \"model_id\": \"79a76655902b4e409ed4a540974e07f0\"\n",
    "}\n",
    "</script>\n",
    "\n",
    "<script type=\"application/vnd.jupyter.widget-view+json\">\n",
    "{\n",
    "    \"version_major\": 2,\n",
    "    \"version_minor\": 0,\n",
    "    \"model_id\": \"1081f4dfe9b54523a3b410437c7d1047\"\n",
    "}\n",
    "</script>\n",
    "\n",
    "<script type=\"application/vnd.jupyter.widget-view+json\">\n",
    "{\n",
    "    \"version_major\": 2,\n",
    "    \"version_minor\": 0,\n",
    "    \"model_id\": \"dc0feb7037e84f999add5078a3df1e89\"\n",
    "}\n",
    "</script>\n",
    "\n",
    "<script type=\"application/vnd.jupyter.widget-view+json\">\n",
    "{\n",
    "    \"version_major\": 2,\n",
    "    \"version_minor\": 0,\n",
    "    \"model_id\": \"c5d1937e1eda4614850382a099440c29\"\n",
    "}\n",
    "</script>\n",
    "\n",
    "<script type=\"application/vnd.jupyter.widget-view+json\">\n",
    "{\n",
    "    \"version_major\": 2,\n",
    "    \"version_minor\": 0,\n",
    "    \"model_id\": \"3878e5f3b61c4307b88c18845c5aa4a6\"\n",
    "}\n",
    "</script>\n",
    "\n",
    "<script type=\"application/vnd.jupyter.widget-view+json\">\n",
    "{\n",
    "    \"version_major\": 2,\n",
    "    \"version_minor\": 0,\n",
    "    \"model_id\": \"cad201356773455695823ba9445a1661\"\n",
    "}\n",
    "</script>\n",
    "\n",
    "<script type=\"application/vnd.jupyter.widget-view+json\">\n",
    "{\n",
    "    \"version_major\": 2,\n",
    "    \"version_minor\": 0,\n",
    "    \"model_id\": \"39aa6dad1dff4ff596e7397d6b2bfb62\"\n",
    "}\n",
    "</script>\n",
    "\n",
    "<script type=\"application/vnd.jupyter.widget-view+json\">\n",
    "{\n",
    "    \"version_major\": 2,\n",
    "    \"version_minor\": 0,\n",
    "    \"model_id\": \"c0bedada780c4599a0f4b1f0803e28cc\"\n",
    "}\n",
    "</script>\n",
    "\n",
    "<script type=\"application/vnd.jupyter.widget-view+json\">\n",
    "{\n",
    "    \"version_major\": 2,\n",
    "    \"version_minor\": 0,\n",
    "    \"model_id\": \"d26ea49278a740c6b8536204a1d63220\"\n",
    "}\n",
    "</script>\n",
    "\n",
    "</body>\n",
    "</html>\n"
   ]
  },
  {
   "cell_type": "markdown",
   "metadata": {},
   "source": [
    "Author: Juan Carlos Rivera Hernández\n",
    "\n",
    "Affiliation: Nanostructure Physics, KTH Royal Institute of Technology, Stockholm, Sweden\n",
    "\n",
    "Documentation: https://ipywidgets.readthedocs.io/en/latest/examples/Widget%20Basics.html"
   ]
  },
  {
   "cell_type": "markdown",
   "metadata": {},
   "source": [
    "# Simple Widget Introduction\n",
    "\n",
    "To use the widget framework, we need to import ipywidgets."
   ]
  },
  {
   "cell_type": "code",
   "execution_count": 1,
   "metadata": {},
   "outputs": [],
   "source": [
    "import ipywidgets as widgets"
   ]
  },
  {
   "cell_type": "markdown",
   "metadata": {},
   "source": [
    "## Simple Integer Slider\n",
    "\n",
    "Widgets have their own display repr which allows them to be displayed using IPython’s display framework. Constructing and returning an IntSlider automatically displays the widget (as seen below):\n"
   ]
  },
  {
   "cell_type": "code",
   "execution_count": 2,
   "metadata": {},
   "outputs": [
    {
     "data": {
      "application/vnd.jupyter.widget-view+json": {
       "model_id": "79a76655902b4e409ed4a540974e07f0",
       "version_major": 2,
       "version_minor": 0
      },
      "text/plain": [
       "IntSlider(value=0)"
      ]
     },
     "metadata": {},
     "output_type": "display_data"
    }
   ],
   "source": [
    "widgets.IntSlider()"
   ]
  },
  {
   "cell_type": "markdown",
   "metadata": {},
   "source": [
    "You can also explicitly display a widget using:"
   ]
  },
  {
   "cell_type": "code",
   "execution_count": 3,
   "metadata": {},
   "outputs": [
    {
     "data": {
      "application/vnd.jupyter.widget-view+json": {
       "model_id": "1081f4dfe9b54523a3b410437c7d1047",
       "version_major": 2,
       "version_minor": 0
      },
      "text/plain": [
       "IntSlider(value=0)"
      ]
     },
     "metadata": {},
     "output_type": "display_data"
    }
   ],
   "source": [
    "from IPython.display import display\n",
    "w = widgets.IntSlider()\n",
    "display(w)"
   ]
  },
  {
   "cell_type": "markdown",
   "metadata": {},
   "source": [
    "## Slider Properties\n",
    "\n",
    "To read the value of a widget, we use:"
   ]
  },
  {
   "cell_type": "code",
   "execution_count": 4,
   "metadata": {},
   "outputs": [
    {
     "data": {
      "text/plain": [
       "0"
      ]
     },
     "execution_count": 4,
     "metadata": {},
     "output_type": "execute_result"
    }
   ],
   "source": [
    "w.value"
   ]
  },
  {
   "cell_type": "markdown",
   "metadata": {},
   "source": [
    "To see the entire list of synchronized, stateful properties of any specific widget, you can query the keys property."
   ]
  },
  {
   "cell_type": "code",
   "execution_count": 5,
   "metadata": {},
   "outputs": [
    {
     "data": {
      "text/plain": [
       "['_dom_classes',\n",
       " '_model_module',\n",
       " '_model_module_version',\n",
       " '_model_name',\n",
       " '_view_count',\n",
       " '_view_module',\n",
       " '_view_module_version',\n",
       " '_view_name',\n",
       " 'continuous_update',\n",
       " 'description',\n",
       " 'description_tooltip',\n",
       " 'disabled',\n",
       " 'layout',\n",
       " 'max',\n",
       " 'min',\n",
       " 'orientation',\n",
       " 'readout',\n",
       " 'readout_format',\n",
       " 'step',\n",
       " 'style',\n",
       " 'value']"
      ]
     },
     "execution_count": 5,
     "metadata": {},
     "output_type": "execute_result"
    }
   ],
   "source": [
    "w.keys"
   ]
  },
  {
   "cell_type": "markdown",
   "metadata": {},
   "source": [
    "We thus can get a lot of infomration from our widget:"
   ]
  },
  {
   "cell_type": "code",
   "execution_count": 6,
   "metadata": {},
   "outputs": [
    {
     "name": "stdout",
     "output_type": "stream",
     "text": [
      "step:  1\n",
      "min value:  0\n",
      "min value:  100\n"
     ]
    }
   ],
   "source": [
    "# step\n",
    "print('step: ', w.step)\n",
    "\n",
    "# min value\n",
    "print('min value: ', w.min)\n",
    "\n",
    "# max value\n",
    "print('min value: ', w.max)"
   ]
  },
  {
   "cell_type": "markdown",
   "metadata": {},
   "source": [
    "We can change the step of the slider, make it float, link to sliders or even display the slider vertically:"
   ]
  },
  {
   "cell_type": "code",
   "execution_count": 7,
   "metadata": {},
   "outputs": [
    {
     "data": {
      "application/vnd.jupyter.widget-view+json": {
       "model_id": "dc0feb7037e84f999add5078a3df1e89",
       "version_major": 2,
       "version_minor": 0
      },
      "text/plain": [
       "IntSlider(value=7, continuous_update=False, description='Test:', max=10)"
      ]
     },
     "metadata": {},
     "output_type": "display_data"
    }
   ],
   "source": [
    "widgets.IntSlider(\n",
    "    value=7,\n",
    "    min=0,\n",
    "    max=10,\n",
    "    step=1,\n",
    "    description='Test:',\n",
    "    disabled=False,\n",
    "    continuous_update=False,\n",
    "    orientation='horizontal',\n",
    "    readout=True,\n",
    "    readout_format='d'\n",
    ")"
   ]
  },
  {
   "cell_type": "code",
   "execution_count": 8,
   "metadata": {},
   "outputs": [
    {
     "data": {
      "application/vnd.jupyter.widget-view+json": {
       "model_id": "c5d1937e1eda4614850382a099440c29",
       "version_major": 2,
       "version_minor": 0
      },
      "text/plain": [
       "FloatSlider(value=7.5, continuous_update=False, description='Test:', max=10.0, orientation='vertical', readout…"
      ]
     },
     "metadata": {},
     "output_type": "display_data"
    }
   ],
   "source": [
    "widgets.FloatSlider(\n",
    "    value=7.5,\n",
    "    min=0,\n",
    "    max=10,\n",
    "    step=0.1,\n",
    "    description='Test:',\n",
    "    disabled=False,\n",
    "    continuous_update=False,\n",
    "    orientation='vertical',\n",
    "    readout=True,\n",
    "    readout_format='.1f',\n",
    ")"
   ]
  },
  {
   "cell_type": "code",
   "execution_count": 9,
   "metadata": {},
   "outputs": [
    {
     "data": {
      "application/vnd.jupyter.widget-view+json": {
       "model_id": "3878e5f3b61c4307b88c18845c5aa4a6",
       "version_major": 2,
       "version_minor": 0
      },
      "text/plain": [
       "FloatText(value=0.0)"
      ]
     },
     "metadata": {},
     "output_type": "display_data"
    },
    {
     "data": {
      "application/vnd.jupyter.widget-view+json": {
       "model_id": "cad201356773455695823ba9445a1661",
       "version_major": 2,
       "version_minor": 0
      },
      "text/plain": [
       "FloatSlider(value=0.0, readout_format='.3f', step=0.001)"
      ]
     },
     "metadata": {},
     "output_type": "display_data"
    }
   ],
   "source": [
    "a = widgets.FloatText()\n",
    "b = widgets.FloatSlider(step=0.001, readout_format='.3f')\n",
    "display(a, b)\n",
    "\n",
    "mylink = widgets.jslink( (a, 'value'), (b, 'value'))\n",
    "\n",
    "# To unlink widgets\n",
    "# mylink.unlink()"
   ]
  },
  {
   "cell_type": "markdown",
   "metadata": {},
   "source": [
    "## Play (Animation) Widget\n",
    "\n",
    "The Play widget is useful to perform animations by iterating on a sequence of integers with a certain speed. The value of the slider below is linked to the player."
   ]
  },
  {
   "cell_type": "code",
   "execution_count": 36,
   "metadata": {},
   "outputs": [
    {
     "data": {
      "application/vnd.jupyter.widget-view+json": {
       "model_id": "39aa6dad1dff4ff596e7397d6b2bfb62",
       "version_major": 2,
       "version_minor": 0
      },
      "text/plain": [
       "HBox(children=(Play(value=50, description='Press play', interval=500), FloatSlider(value=0.0)))"
      ]
     },
     "metadata": {},
     "output_type": "display_data"
    }
   ],
   "source": [
    "play = widgets.Play(\n",
    "    value=50,\n",
    "    min=0,\n",
    "    max=100,\n",
    "    step=1,\n",
    "    interval=500,\n",
    "    description='Press play',\n",
    "    disabled = False\n",
    ")\n",
    "\n",
    "slider = widgets.IntSlider()\n",
    "widgets.jslink( (play, 'value'), (slider, 'value') )\n",
    "widgets.HBox( [play, slider] )"
   ]
  },
  {
   "cell_type": "markdown",
   "metadata": {},
   "source": [
    "## Widget example"
   ]
  },
  {
   "cell_type": "code",
   "execution_count": 11,
   "metadata": {},
   "outputs": [],
   "source": [
    "import seaborn as sns\n",
    "from matplotlib import pyplot as plt"
   ]
  },
  {
   "cell_type": "markdown",
   "metadata": {},
   "source": [
    "### Widget with interact function syntax"
   ]
  },
  {
   "cell_type": "code",
   "execution_count": 48,
   "metadata": {},
   "outputs": [
    {
     "data": {
      "application/vnd.jupyter.widget-view+json": {
       "model_id": "c0bedada780c4599a0f4b1f0803e28cc",
       "version_major": 2,
       "version_minor": 0
      },
      "text/plain": [
       "interactive(children=(FloatSlider(value=1.0, description='bandwidth', max=3.0, min=0.1, readout_format='.1f'),…"
      ]
     },
     "metadata": {},
     "output_type": "display_data"
    },
    {
     "data": {
      "text/plain": [
       "<function __main__.bandwidth_widget(bw=1)>"
      ]
     },
     "execution_count": 48,
     "metadata": {},
     "output_type": "execute_result"
    }
   ],
   "source": [
    "cars = sns.load_dataset('mpg')\n",
    "\n",
    "def bandwidth_widget(bw=1):\n",
    "    sns.kdeplot(cars.horsepower, lw=3, fill=True, bw_adjust=bw)\n",
    "    plt.xlim(-30, 300)\n",
    "    plt.ylim(0, 0.03)\n",
    "\n",
    "widgets.interact( bandwidth_widget, \n",
    "                  bw=widgets.FloatSlider(min=0.1, \n",
    "                                         max=3, \n",
    "                                         step=0.1,\n",
    "                                         value=1,\n",
    "                                         description='bandwidth',\n",
    "                                         readout_format='.1f',\n",
    "                                         )\n",
    "                )\n",
    "\n",
    "# Analogous code\n",
    "#@widgets.interact( bw=(0.1, 3, 0.1) )\n",
    "#def bandwidth_widget(bw=1):\n",
    "#    sns.kdeplot(cars.horsepower, lw=3, fill=True, bw_adjust=bw)\n",
    "#    plt.xlim(-30, 300)\n",
    "#    plt.ylim(0, 0.03)"
   ]
  },
  {
   "cell_type": "markdown",
   "metadata": {},
   "source": [
    "### Widget with interactive function syntax"
   ]
  },
  {
   "cell_type": "code",
   "execution_count": 46,
   "metadata": {},
   "outputs": [
    {
     "data": {
      "application/vnd.jupyter.widget-view+json": {
       "model_id": "d26ea49278a740c6b8536204a1d63220",
       "version_major": 2,
       "version_minor": 0
      },
      "text/plain": [
       "interactive(children=(FloatSlider(value=0.0, description='a', max=2.0, min=-2.0), FloatSlider(value=0.0, descr…"
      ]
     },
     "metadata": {},
     "output_type": "display_data"
    }
   ],
   "source": [
    "%matplotlib inline\n",
    "from ipywidgets import interactive\n",
    "import matplotlib.pyplot as plt\n",
    "import numpy as np\n",
    "\n",
    "def f(a, b, c):\n",
    "    plt.figure(2)\n",
    "    x = np.linspace(-15, 15, num=1000)\n",
    "    plt.plot(x, a*x**2 + b*x + c)\n",
    "    plt.xlim(-10, 10)\n",
    "    plt.ylim(-10, 10)\n",
    "    plt.show()\n",
    "\n",
    "interactive_plot = interactive(f, a=(-2.0, 2.0, 0.1), b=(-3, 3, 0.1), c=(-5, 5, 0.1))\n",
    "output = interactive_plot.children[-1]\n",
    "output.layout.height = '350px'\n",
    "interactive_plot"
   ]
  },
  {
   "cell_type": "code",
   "execution_count": 39,
   "metadata": {},
   "outputs": [],
   "source": []
  }
 ],
 "metadata": {
  "kernelspec": {
   "display_name": "Python 3",
   "language": "python",
   "name": "python3"
  },
  "language_info": {
   "codemirror_mode": {
    "name": "ipython",
    "version": 3
   },
   "file_extension": ".py",
   "mimetype": "text/x-python",
   "name": "python",
   "nbconvert_exporter": "python",
   "pygments_lexer": "ipython3",
   "version": "3.8.3"
  },
  "widgets": {
   "application/vnd.jupyter.widget-state+json": {
    "state": {
     "009f42a2c161493ba1539d46779e6599": {
      "model_module": "@jupyter-widgets/controls",
      "model_module_version": "1.5.0",
      "model_name": "SliderStyleModel",
      "state": {
       "description_width": ""
      }
     },
     "00a9ed71b8bd4664bf271e4117fa5008": {
      "model_module": "@jupyter-widgets/base",
      "model_module_version": "1.2.0",
      "model_name": "LayoutModel",
      "state": {}
     },
     "00c84b8fc37b454ea616bd7179cb97ad": {
      "model_module": "@jupyter-widgets/output",
      "model_module_version": "1.0.0",
      "model_name": "OutputModel",
      "state": {
       "layout": "IPY_MODEL_56b2897972b8486fb2171b17ad8482fc",
       "outputs": [
        {
         "data": {
          "image/png": "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\n",
          "text/plain": "<Figure size 432x288 with 1 Axes>"
         },
         "metadata": {
          "needs_background": "light"
         },
         "output_type": "display_data"
        }
       ]
      }
     },
     "011bfa95f323457b8c54af09fb0a340b": {
      "model_module": "@jupyter-widgets/controls",
      "model_module_version": "1.5.0",
      "model_name": "SliderStyleModel",
      "state": {
       "description_width": ""
      }
     },
     "019605bf3d354a24a8fd3196943468c5": {
      "model_module": "@jupyter-widgets/base",
      "model_module_version": "1.2.0",
      "model_name": "LayoutModel",
      "state": {}
     },
     "019d4c953d064346b5850283f10abb00": {
      "model_module": "@jupyter-widgets/controls",
      "model_module_version": "1.5.0",
      "model_name": "VBoxModel",
      "state": {
       "_dom_classes": [
        "widget-interact"
       ],
       "children": [
        "IPY_MODEL_bd29e94fa8f04195bdafb5a994575df3",
        "IPY_MODEL_99b5e203ae77433d864847c0b5a87bf9"
       ],
       "layout": "IPY_MODEL_2786c4ac6ba54e4e962b08833c2a0a3f"
      }
     },
     "01a776e30bac432abe382f511380dcee": {
      "model_module": "@jupyter-widgets/base",
      "model_module_version": "1.2.0",
      "model_name": "LayoutModel",
      "state": {}
     },
     "02b0d22d263d4d1e9f7a6770a3bbe131": {
      "model_module": "@jupyter-widgets/base",
      "model_module_version": "1.2.0",
      "model_name": "LayoutModel",
      "state": {}
     },
     "0427a8bc9d6f4da49c6205520f1a1d0b": {
      "model_module": "@jupyter-widgets/base",
      "model_module_version": "1.2.0",
      "model_name": "LayoutModel",
      "state": {
       "height": "350px"
      }
     },
     "04bb8d072451461f84fdc93500e66968": {
      "model_module": "@jupyter-widgets/controls",
      "model_module_version": "1.5.0",
      "model_name": "LinkModel",
      "state": {
       "source": [
        "IPY_MODEL_ae47719ae67c4b7e96b566e68f39246e",
        "value"
       ],
       "target": [
        "IPY_MODEL_34d7f17ff4cb4843a018369e8bb81caa",
        "value"
       ]
      }
     },
     "063de81fecfc4b71877543dfe25da3c7": {
      "model_module": "@jupyter-widgets/controls",
      "model_module_version": "1.5.0",
      "model_name": "SliderStyleModel",
      "state": {
       "description_width": ""
      }
     },
     "0671707f8b8d442e914cc5c62f369b33": {
      "model_module": "@jupyter-widgets/base",
      "model_module_version": "1.2.0",
      "model_name": "LayoutModel",
      "state": {}
     },
     "0873ad98964945c2ab139d2d248ac5d3": {
      "model_module": "@jupyter-widgets/controls",
      "model_module_version": "1.5.0",
      "model_name": "PlayModel",
      "state": {
       "_playing": true,
       "description": "Press play",
       "interval": 500,
       "layout": "IPY_MODEL_45537c9a91414c058cbc82007a60d3be",
       "step": 0,
       "style": "IPY_MODEL_5152f745c7ed4c3ab8373d6ff5d4555d",
       "value": 50
      }
     },
     "09b072a6b9b047e8b6f1232d8ac26f79": {
      "model_module": "@jupyter-widgets/controls",
      "model_module_version": "1.5.0",
      "model_name": "FloatSliderModel",
      "state": {
       "description": "bw",
       "layout": "IPY_MODEL_d7dce2c74f8246b8b92c95f01e2cfe26",
       "max": 3,
       "min": 0.1,
       "step": 0.1,
       "style": "IPY_MODEL_81e1248dc0aa41c9914409a0096dbf9b",
       "value": 0.3
      }
     },
     "0d0e8a6b3f2640059635679d3f2cd622": {
      "model_module": "@jupyter-widgets/controls",
      "model_module_version": "1.5.0",
      "model_name": "DescriptionStyleModel",
      "state": {
       "description_width": ""
      }
     },
     "0df1026402f84ff69ed23e6ed89d88a8": {
      "model_module": "@jupyter-widgets/base",
      "model_module_version": "1.2.0",
      "model_name": "LayoutModel",
      "state": {}
     },
     "0e1a5d5272eb41dc8f97c6bf20df91de": {
      "model_module": "@jupyter-widgets/base",
      "model_module_version": "1.2.0",
      "model_name": "LayoutModel",
      "state": {}
     },
     "0e7deffe12564af7835283e2de0da0c4": {
      "model_module": "@jupyter-widgets/base",
      "model_module_version": "1.2.0",
      "model_name": "LayoutModel",
      "state": {}
     },
     "0fc2210518094a5b86f0f57c90118f10": {
      "model_module": "@jupyter-widgets/controls",
      "model_module_version": "1.5.0",
      "model_name": "SliderStyleModel",
      "state": {
       "description_width": ""
      }
     },
     "101d70b453874dbc941eb359adf31bf6": {
      "model_module": "@jupyter-widgets/base",
      "model_module_version": "1.2.0",
      "model_name": "LayoutModel",
      "state": {}
     },
     "1081f4dfe9b54523a3b410437c7d1047": {
      "model_module": "@jupyter-widgets/controls",
      "model_module_version": "1.5.0",
      "model_name": "IntSliderModel",
      "state": {
       "layout": "IPY_MODEL_a8ca2d3589a0416ebedb64f3458fe576",
       "style": "IPY_MODEL_7723fabe9761443d97d447f68cb38144"
      }
     },
     "113f4c0898424a08a73dae5e248afdd1": {
      "model_module": "@jupyter-widgets/output",
      "model_module_version": "1.0.0",
      "model_name": "OutputModel",
      "state": {
       "layout": "IPY_MODEL_6d726c47b2e24c4bbb53522b4f82b0d5",
       "outputs": [
        {
         "data": {
          "image/png": "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\n",
          "text/plain": "<Figure size 432x288 with 1 Axes>"
         },
         "metadata": {
          "needs_background": "light"
         },
         "output_type": "display_data"
        }
       ]
      }
     },
     "149fe1ed80224d65956089eca87c0d5e": {
      "model_module": "@jupyter-widgets/base",
      "model_module_version": "1.2.0",
      "model_name": "LayoutModel",
      "state": {}
     },
     "161d4b59d1424bfc83cb8baaa21ad3e6": {
      "model_module": "@jupyter-widgets/controls",
      "model_module_version": "1.5.0",
      "model_name": "DescriptionStyleModel",
      "state": {
       "description_width": ""
      }
     },
     "178583886e1d41818d8e2c9e0bdf4f58": {
      "model_module": "@jupyter-widgets/base",
      "model_module_version": "1.2.0",
      "model_name": "LayoutModel",
      "state": {}
     },
     "1a630388707849eb92200829720e38af": {
      "model_module": "@jupyter-widgets/base",
      "model_module_version": "1.2.0",
      "model_name": "LayoutModel",
      "state": {}
     },
     "1c4ec0517ae94e689bc20b89efff0ff3": {
      "model_module": "@jupyter-widgets/base",
      "model_module_version": "1.2.0",
      "model_name": "LayoutModel",
      "state": {}
     },
     "1fd9f1ffb3184a01b76e0b88fd900b6e": {
      "model_module": "@jupyter-widgets/controls",
      "model_module_version": "1.5.0",
      "model_name": "VBoxModel",
      "state": {
       "_dom_classes": [
        "widget-interact"
       ],
       "children": [
        "IPY_MODEL_09b072a6b9b047e8b6f1232d8ac26f79",
        "IPY_MODEL_6243ea5fc2ad4fc887e6ca3c0c620a7d"
       ],
       "layout": "IPY_MODEL_9eb5936daa064d768d3f0cd86a848894"
      }
     },
     "22c133edd102407b8ae7c6269546ab47": {
      "model_module": "@jupyter-widgets/controls",
      "model_module_version": "1.5.0",
      "model_name": "SliderStyleModel",
      "state": {
       "description_width": ""
      }
     },
     "23fa8c04486f43c490a00e11641b4831": {
      "model_module": "@jupyter-widgets/output",
      "model_module_version": "1.0.0",
      "model_name": "OutputModel",
      "state": {
       "layout": "IPY_MODEL_101d70b453874dbc941eb359adf31bf6",
       "outputs": [
        {
         "data": {
          "image/png": "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\n",
          "text/plain": "<Figure size 432x288 with 1 Axes>"
         },
         "metadata": {
          "needs_background": "light"
         },
         "output_type": "display_data"
        }
       ]
      }
     },
     "246ec54e62114af596a8bfbefc313d17": {
      "model_module": "@jupyter-widgets/base",
      "model_module_version": "1.2.0",
      "model_name": "LayoutModel",
      "state": {}
     },
     "24893574baf7486494f2d69e7a624786": {
      "model_module": "@jupyter-widgets/base",
      "model_module_version": "1.2.0",
      "model_name": "LayoutModel",
      "state": {
       "height": "350px"
      }
     },
     "24d2c08256ef49a8925d4581ff710f42": {
      "model_module": "@jupyter-widgets/base",
      "model_module_version": "1.2.0",
      "model_name": "LayoutModel",
      "state": {}
     },
     "25a7856acc904c10ad6b45b4ac97622d": {
      "model_module": "@jupyter-widgets/controls",
      "model_module_version": "1.5.0",
      "model_name": "IntSliderModel",
      "state": {
       "description": "bandwidth",
       "layout": "IPY_MODEL_7ae0a6de87c2454d8d27f411c1dbc38f",
       "max": 3,
       "readout_format": ".1f",
       "step": 0,
       "style": "IPY_MODEL_2c998d00554b48dba9c903b3101c0e66",
       "value": 1
      }
     },
     "25eb331629dc438f9a390ef2e77d92f1": {
      "model_module": "@jupyter-widgets/output",
      "model_module_version": "1.0.0",
      "model_name": "OutputModel",
      "state": {
       "layout": "IPY_MODEL_3b340e1d6cf445a7b0b92bd6f0cbee98",
       "outputs": [
        {
         "data": {
          "image/png": "iVBORw0KGgoAAAANSUhEUgAAAYIAAAD8CAYAAAB6paOMAAAABHNCSVQICAgIfAhkiAAAAAlwSFlzAAALEgAACxIB0t1+/AAAADh0RVh0U29mdHdhcmUAbWF0cGxvdGxpYiB2ZXJzaW9uMy4yLjIsIGh0dHA6Ly9tYXRwbG90bGliLm9yZy+WH4yJAAAgAElEQVR4nO3deXwV9bnH8c9DwhL2Lew7BBREUCOIuICCCi5Uay22t9q6IFVaW7tcvXTR29trtdVal2qxbq0rtqKouIAbaosS9h0CAgkgCWsCIZDluX/k2JvGEwgkkznJfN+vV16Z5XfO+WZOcp7MzG/mZ+6OiIhEV4OwA4iISLhUCEREIk6FQEQk4lQIREQiToVARCTiVAhERCKuRgqBmT1uZjlmtrzcsrZmNtvM1sW+t6nksReY2RozyzSzW2sij4iIVF1N7RE8CVxQYdmtwDvunga8E5v/N2aWBDwEjAMGAlea2cAayiQiIlVQI4XA3ecCuyosngA8FZt+CvhKnIcOAzLdfYO7HwKejz1ORERqSXKAz93R3bcBuPs2M+sQp01XIKvcfDYwPN6TmdkkYBJAs2bNTjnuuONqOK6IhG17XiE5+Qfp37EFjZN1CrOmLViwYIe7p1ZcHmQhqAqLsyzuPS/cfRowDSA9Pd0zMjKCzCUitaywqISRv3mXsd1b8/i3Tw07Tr1kZpviLQ+y5G43s86xF+8M5MRpkw10LzffDdgaYCYRSVAzF29l5/5DXHtG77CjRE6QhWAmcHVs+mrglTht5gNpZtbbzBoBE2OPE5EIKS11/jR3PQM7t+T0vu3CjhM5NdV99Dngn8AAM8s2s2uB3wBjzWwdMDY2j5l1MbNZAO5eDEwB3gJWAdPdfUVNZBKRuuOd1Tmsz93PDWf3wSzeEWMJUo2cI3D3KytZdW6ctluB8eXmZwGzaiKHiNRNf/pgPV1bp3Dh4M5hR4kknZYXkVBlbNxFxqbdXH9mb5KT9JEUBm11EQnVn+ZuoHXThlxxavcjN5ZAqBCISGgyc/Yxe+V2rhrRi6aNwu7NHl0qBCISmkfnbqBxcgOuHtEz7CiRFqlC8NG6HTz47rqwY4gIZVcRz1i0hSvSu9OueeOw40RapArBh+tyuXf2Wjbu2B92FJHIe+LjjRSXlnLdmbqALGyRKgTXnlHWK+GRD9aHHUUk0vILi3hm3ibGDe5Mz3bNwo4TeZEqBB1aNuHr6d35+8Jstu09EHYckch69pPN5B8sZvJZfcOOIkSsEABMOqsPpQ6Pzv0s7CgikVRYVMKfP/qMkf3aMbhbq7DjCBEsBN3bNmXC0C489+lmdu47GHYckciZnpFFbv5BpoxOCzuKxESuEADcOKovhcUlPPmPjWFHEYmUQ8WlPPL+etJ7tuG0Pm3DjiMxkSwE/Tq04PyBnXjyHxvJLywKO45IZLy8aAtb9xZy0zn9dHO5BBLJQgBw0+h+5BcW89d5ccdpEJEaVlxSyh/fz+SEri0Z1f9Lg2RJiCJbCAZ3a8VZ/VN57MPPOHCoJOw4IvXe68u2sXFnAVNGp2lvIMFEthAA3DSqLzv3H2J6RtaRG4vIMSstdR56L5P+HZtz3sCOYceRCiJdCIb1bkt6zzb86YP1HCouDTuOSL319srtrN2+j5tG96NBA+0NJJpIFwIz46Zz+rF1byF/X5gddhyResndefC9dfRs11QDzySoSBcCgFH9UxnSvTUPvpupvQKRAHywNpflW/K4cVRfDTyToAJ9V8xsgJktLveVZ2Y/qNBmlJntLdfmF0FmipORH4xJY8ueA9orEKlh7s4D72bSpVUTLj2pW9hxpBKBjgTh7muAoQBmlgRsAWbEafqhu18UZJbDGdU/laGxvYKvntyNRsn6r0WkJsxdt4MFm3bzqwmD9HeVwGrznTkXWO/uCddxv/xewd8WaK9ApCa4O7+fvZaurVM0DGWCq81CMBF4rpJ1I8xsiZm9YWaDajHTv5wd2yt46D2dKxCpCe+vyWVx1h6mnNOPxslJYceRw6iVQmBmjYBLgBfjrF4I9HT3IcADwMuVPMckM8sws4zc3NwgMmqvQKSGuDv3zl5L97YpXH6Kzg0kutraIxgHLHT37RVXuHueu++LTc8CGppZ+zjtprl7urunp6YGc3m69gpEasacVTks27KX741Oo6F6CiW82nqHrqSSw0Jm1sli15ub2bBYpp21lKtiln/tFby4QFcbixyLL84N9GzXlEtP7hp2HKmCwAuBmTUFxgIvlVs22cwmx2YvB5ab2RLgfmCiu3vQuSpzdv9UTurRmod0XYHIMXlrxXZWbsvj++dob6CuCPxdcvcCd2/n7nvLLXvE3R+JTT/o7oPcfYi7n+bu/wg60+GU7RX0Z+veQp6fvznMKCJ1Tmmpc9+ctfRp34wJQ7uEHUeqSOU6jrPS2jOsV1seeDeTgkPFYccRqTPeWP45qz/P5+YxabqKuA7ROxWHmfGTCwaQm39Qo5iJVFFJbG+gX4fmXHSi9gbqEhWCSpzaqy2jB6TyyPvr2XtAo5iJHMnLi7awLmcfPxiTRpLuMFqnqBAcxo/PH0BeYTHT5q4PO4pIQjtYXMK9s9cyuGsrxp+gO4zWNSoEhzGoSysuHtKFxz/aSE5+YdhxRBLWM/M2s2XPAX56wQCNN1AHqRAcwS1j+3OopJQ/vqe9ApF49h0s5sH3MhnZrx1npmks4rpIheAIerdvxhXp3Xjmk01k7SoIO45IwvnzhxvYtf8QPz3/uLCjyDFSIaiC759bNtj2fXPWhR1FJKHs3HeQR+duYNwJnRjSvXXYceQYqRBUQedWKVw9oiczFmWzbnt+2HFEEsaD72VyoKiEH503IOwoUg0qBFX03VH9aNoombveXBN2FJGEkLWrgGfmbeaK9O7069A87DhSDSoEVdS2WSO+O6ovc1Zt55/rQ7knnkhC+f2ctWBw85i0sKNINakQHIVrz+hN51ZN+N9ZqygtDe2+eCKhW7F1LzMWbeE7p/eic6uUsONINakQHIUmDZP4yfkDWLZlLzOXbA07jkgo3J1fv76K1ikNuXF0v7DjSA1QIThKXxnalUFdWvLbt9ZQWFQSdhyRWvfOqhz+sX4nPxjTn1YpDcOOIzVAheAoNWhgTB1/PFv2HNAN6SRyikpK+d83VtEntRnfGN4j7DhSQ1QIjsHp/dpzznEdeOjdTHbtPxR2HJFa89ynm9mQu5/bxh2vQWfqEb2Tx+i2ccex/1Ax97+ji8wkGvIKi7hvzjpG9GnHmOM7hB1HapAKwTFK69iCicN68PS8TWzI3Rd2HJHAPfReJrsLDjH1wuOJDTMu9YQKQTX8cEx/mjRM4tevrwo7ikigsnYV8MRHG7nspG6c0LVV2HGkhtXG4PUbzWyZmS02s4w4683M7jezTDNbamYnB52ppqS2aMz3zunHO6tzeG9NTthxRALzmzdX06AB/OR83UqiPqqtPYLR7j7U3dPjrBsHpMW+JgEP11KmGvGdkb3p074Zv3p1JYeKS8OOI1Lj/rl+J68v3cbks/vSqVWTsONIABLh0NAE4C9eZh7Q2szqzBBHjZIb8POLBrJhx36eUndSqWeKS0q549UVdGuTwuSz+4YdRwJSG4XAgbfNbIGZTYqzviuQVW4+O7bs35jZJDPLMLOM3NzcgKIem9HHdWD0gFT+8M46jWQm9crT8zax+vN8fnbhQJo0TAo7jgSkNgrBSHc/mbJDQDeZ2VkV1sfrfvClG/m4+zR3T3f39NTUxBsF6ecXDeRgcQm/1d1JpZ7Yue8g985ey5lp7Tl/UMew40iAAi8E7r419j0HmAEMq9AkG+hebr4bUOdu5NMntTnXjOzNiwuyWZK1J+w4ItX227fWUHCohF9ePEjdReu5QAuBmTUzsxZfTAPnAcsrNJsJXBXrPXQasNfdtwWZKyhTzulH++aNuf3VFbo7qdRpS7P38EJGFt8Z2UtjDURA0HsEHYGPzGwJ8Cnwuru/aWaTzWxyrM0sYAOQCTwK3BhwpsC0aNKQW8cdx6LNe/jbguyw44gck9JS5xevrKB988Z8/1yNNRAFyUE+ubtvAIbEWf5IuWkHbgoyR2267KSuvDB/M3e+sYoxAzvStlmjsCOJHJW/L8xmcdYe7vnaEFo00d1FoyARuo/WKw0aGP/zlcHkFxbzmzd0xbHULbv3H+LON1ZzSs82XHrSlzrvST2lQhCAAZ1acO2ZvZmekc2nn+0KO45Ild35xiryDhTx60tPoEEDnSCOChWCgNx8bhpdW6fws5eXUVSiK44l8X2yYSfTM7K59szeHNepZdhxpBapEASkaaNk7rhkEGu37+Oxjz4LO47IYR0qLmXqy8vp1iaFm3WCOHJUCAI0ZmBHxg7syH1z1pK1qyDsOCKVmjZ3PZk5+/jVhBNo2ijQPiSSgFQIAnb7JYMwjNtnrqCsg5RIYtm4Yz8PvJvJ+MGdGH2cBpyJIhWCgHVtncIPx6bxzuocZi37POw4Iv/G3fn5K8tpmNSAX148KOw4EhIVglpwzcjeDO7ail/OXM5ujXEsCWTGoi18uG4HPz6vPx1b6hbTUaVCUAuSkxpw11dPZE9BEf/92sqw44gAkJNXyB2vruSUnm341oheYceREKkQ1JKBXVpy46i+zFi0hfdWazQzCZe787OXl3OgqIS7Lz+RJF0zEGkqBLXopnP6kdahOf81Yxn5hUVhx5EIe33ZNt5euZ1bxvanb6puKhd1KgS1qHFyEndffiLb8wq5843VYceRiNq57yC/eGUFQ7q14rozeocdRxKACkEtO6lHG64Z2ZtnP9nMP9bvCDuORNDtr64kv7CIuy8fQnKSPgJEhSAUPzpvAL3aNeWnf1vKvoPFYceRCHlrxee8umQr3z8njQGdWoQdRxKECkEIUhol8buvDWHrngP86lX1IpLasXPfQabOWMbxnVsyeZQGopf/p0IQkvRebbnh7L68kJHF7JXbw44j9Zy7c+tLy8g7UMx9Xx9KQx0SknL02xCiH47pz/GdW3LbS0vZue9g2HGkHnsxI5vZK7fz0wsG6JCQfIkKQYgaJTfgvq8PJe9AMbe9tEz3IpJAbN5ZwB2vrmBEn3ZcM1K9hOTLgh68vruZvWdmq8xshZndHKfNKDPba2aLY1+/CDJTohnQqQU/Pr8/b6/czt8Xbgk7jtQzJaXOLdMX06CB8bsrhmiwGYkr6PvNFgM/cveFZtYCWGBms9294hnSD939ooCzJKxrz+jDnJU53D5zBcN7t6V726ZhR5J64pEP1pOxaTf3fX0oXVunhB1HElSgewTuvs3dF8am84FVgAZCrSCpgXHPFUMw4PvPL9KIZlIjlmXv5fez13LhiZ2ZMLRL2HEkgdXaOQIz6wWcBHwSZ/UIM1tiZm+YWdx74ZrZJDPLMLOM3NzcAJOGo3vbptz51cEs2ryHe2evDTuO1HH5hUVMeW4hqS0a8+uvnICZDglJ5WqlEJhZc+DvwA/cPa/C6oVAT3cfAjwAvBzvOdx9mrunu3t6ampqsIFDctGJXbhyWHcefn89c9fWv2IntcPdue2lZWTvPsD9V55E66aNwo4kCS7wQmBmDSkrAs+4+0sV17t7nrvvi03PAhqaWfugcyWqX1w0iLQOzbll+mJy8gvDjiN10PPzs3ht6TZuGdufU3u1DTuO1AFB9xoy4DFglbvfW0mbTrF2mNmwWKadQeZKZCmNknjwGyeTX1jMj6YvobRUXUql6tZ8ns/tM1dwZlp7vnu2rh6Wqgl6j2Ak8C3gnHLdQ8eb2WQzmxxrczmw3MyWAPcDEz3iHeoHdGrBLy8exIfrdvDI3PVhx5E6ouBQMTc9u5AWTRpy7xVD1VVUqizQ7qPu/hFw2N9Gd38QeDDIHHXRlcO68/H6HfzurTUM7d6a0/tG9miZVIG788tXVrA+dx9PXzuc1BaNw44kdYiuLE5QZsZdXz2R3u2b8b1nF7Ft74GwI0kCe+7TLF5ckM33RvdjZD/90yBHR4UggTVvnMyfvpVOYVEJ3316IQeLS8KOJAlo4ebd/HLmcs7un8rNY/qHHUfqIBWCBNevQ3N+97UhLM7aw6808L1UkJt/kBufXkinVk34w8ShGntYjokKQR0wbnBnbjirD0/P28zfFmSHHUcSRFFJKTc9u5A9Bw7xp/9I1/UCcsxUCOqIn5w/gBF92jF1xjKWb9kbdhxJAHfOWs2nn+3izssGM7BLy7DjSB2mQlBHJCc14IFvnES7Zo247qkMcvJ0sVmUTc/I4vGPP+Pbp/fi0pO6hR1H6jgVgjqkffPG/PnqU8krLOL6v2RQWKSTx1E0b8NOps5Yxhn92jP1wuPDjiP1gApBHTOwS0v+MPEklm7Zy49e1JXHUbNxx34mP72AHm2b8tA3T9aQk1Ij9FtUB40d2JFbLziO15du4w/vrAs7jtSSvQeKuPap+Rjw+LdPpVVKw7AjST0R9MA0EpBJZ/UhM2cff3hnHX1SmzFhqIZ5qM+KSkqZ8uxCNu8q4Olrh9OzXbOwI0k9okJQR5kZv750MJt2FfDjF5eQ2rwxp+uK0nrJ3fnZjOV8uG4Hd19+IsP7tAs7ktQzOjRUhzVKbsCj30qnd/tmTPrrAlZsVbfS+uiet9fyQkYW3z83jSvSu4cdR+ohFYI6rlXThjx1zTBaNEnm20/MJ2tXQdiRpAY9+fFnPPheJlcO68EPx6SFHUfqKRWCeqBzqxT+cs0wDhWXctXjn7Jz38GwI0kNeG3pVu54bSXnDezI/2i4SQmQCkE9kdaxBY9dnc7WPQe45sn55BcWhR1JquHjzB3c8sISTu3ZlvuvPEn3EJJAqRDUI+m92vLgN05mxdY8rnlyPgWHisOOJMdg/sZdXPdUBr3bN+PRq9Np0jAp7EhSz6kQ1DNjB3bkvolDWbBpN9c9pauP65pFm3fznSfm07l1E56+briuFZBaoUJQD110YhfuuWII/9ywk8lPL9A4BnXE8i17uerxT2nXvBHPXneaRhmTWhN4ITCzC8xsjZllmtmtcdabmd0fW7/UzE4OOlMUXHpSN+68dDDvr8llyrOLOFRcGnYkOYxV2/L4j8c+oWWThjx7/Wl0atUk7EgSIYEWAjNLAh4CxgEDgSvNbGCFZuOAtNjXJODhIDNFycRhPfjvCYOYvXI7k59eoMNECWpp9h6ufHQeTZKTePb64XRtnRJ2JImYoPcIhgGZ7r7B3Q8BzwMTKrSZAPzFy8wDWptZ54BzRcZVI3rx60tP4L01OVzz5Hz2H9QJ5EQyf+MuvvHoJzRvnMz0G0bo1hESiqALQVcgq9x8dmzZ0bbBzCaZWYaZZeTm5tZ40Prsm8N7cs/XhjBvw06uevxT8tS1NCF8tG4HVz32KR1aNGb6DSPo0a5p2JEkooIuBPE6P1e8b3JV2uDu09w93d3TU1NTayRclFx2cjce/MbJLMnawzcf/YQduugsVLNXbueap+bTs11TXrhhBF10OEhCFHQhyAbK3xylG7D1GNpIDRg/uDPTrjqFdTn5XPbHf/DZjv1hR4qkv87bxA1/zeD4zi15fpJ6B0n4gi4E84E0M+ttZo2AicDMCm1mAlfFeg+dBux1920B54qsc47ryLPXn8a+g8Vc9sePWbh5d9iRIqO01LnrzdX8/OXljB7QgeeuH64B5yUhBFoI3L0YmAK8BawCprv7CjObbGaTY81mARuATOBR4MYgMwmc3KMNL333dFqmNOTKafN4a8XnYUeq9w4Wl/DD6Yt5+P31fHN4D/70rVNo2kh3gZfEYO51b6jD9PR0z8jICDtGnbdz30GueSqDpdl7+Mn5A/ju2X11Y7MA5OQXcuPTC8nYtJufXqDtLOExswXunl5xua4sjrB2zRvz/PWncdGJXbj7zTVMeW6R7k9Uw5Zk7eGSBz5m+da9PHDlSdw4qp+KgCQc7ZtGXEqjJO6fOJRBXVpy15ur2ZC7n2nfOoXubdWVsbr+tiCb/5qxjNTmjXnpuyMZ2KVl2JFE4tIegWBmTD67L098+1S27C7g4gc/Ys7K7WHHqrMKi0r42cvL+PGLSzilRxte/d4ZKgKS0FQI5F9GDejAzCln0LV1Ctf9JYM7Xl2hG9YdpcycfL7y0Mc8PW8z15/Zm79eO4y2zdQzSBKbCoH8m17tm/HSjafznZG9eOLjjVz2x3+wIXdf2LESnrszPSOLix/4mJz8gzzx7VOZeuFAkpP0JyaJT7+l8iWNk5P45cWDePSqdLbsOcCF93/Ekx9/Rmlp3ethVhty8gq5/i8L+OnfljK0e2veuPlMRh/XIexYIlWmQiCVGjuwI2/cfCbDerfl9ldXMvHReWzU1cj/4u7MWJTN2N/P5cN1uUwdfzxPXzecji11C2mpW3QdgRyRu/O3Bdn892srKSop5Ydj+vOdkb1plBzd/yM27yzg9ldX8O7qHE7p2Ya7Lz+RvqnNw44lcliVXUegQiBV9vneQn728nLmrNpO39Rm3HHJCZyR1j7sWLWqsKiEh99fz8MfrCe5gXHL2LKiqMHlpS5QIZAa8+7q7dzx6ko27Sxg3Amd+M8LjqNX+/p9H/3SUueN5Z/zmzdXkbXrABcP6cLU8cdrJDGpUyorBLqgTI7aOcd15PS+7Xnso8948N1MZq/czhWnduf756TVuw9Gd2fuuh389q3VLN+Sx4COLXj2+uGc3jdae0JSv2mPQKolJ7+Qh97N5NlPN9PAjP84rSfXndmbzq3q9v313Z0P1+3gofcy+eSzXXRrk8ItY/szYWhXHQaSOkuHhiRQWbsKuG/OOl5evAUDLhnShevO7FPnrqgtKill1rJtPPLBBlZty6NDi8bcNLofVw7rEemT41I/qBBIrcjaVcATH2/k+fmbKThUwvDebZk4rDvjTuhMk4ZJYcerVNauAqZnZPFiRjaf5xWS1qE515/VhwlDu9A4OXFzixwNFQKpVXsLinj20808P38zm3YW0KJJMhOGduHCwV04tVebhLjidvf+Q8xetZ2Zi7fyUeYOGljZbTa+ObwHowd0oIEOAUk9o0IgoSgtdT75bBfTM7KYtWwbB4tLadusEWOP78iYgR0Z1rstrVIa1koWd2fDjv18nLmDt1Z8zrwNuygpdbq1SeGK9O5cfko3jR0s9ZoKgYRu/8FiPliby1srPufdVTnkHyzGDAZ1aclpvdsxtEdrju/ckl7tmtXICdmCQ8Ws2pbH8i15LNq8m39u2Mn2vIMA9EltxrgTOnHBoM6c0LWlxgiQSFAhkIRysLiERZv3MG/DTuZt2MnCzXs4VFwKQErDJPp1aE7X1il0bZNCl9YptEppSIsmybRokkzDpAa4l/2HX1Ti7D1QxJ4Dh9hTUET27gNk7Soga3cBm3cV8MWvd/vmjTmtT1tO79ueEX3b0atdU334S+TUeiEws98CFwOHgPXAd9x9T5x2G4F8oAQojheyIhWC+udgcQnrtu9j1bY8Vm3LZ33uPrbsOUD27gIKi0qr/DxtmzWie9umdG+TQt/U5gzu2opBXVvSqWUTffBL5IVxQdls4DZ3Lzazu4DbgP+spO1od98RYBZJcI2TkzihaytO6Nrq35a7O3sKisgrLCK/sJi8wiJKSh3DMIPkBkarpg1pndKIVikNSWmkHj4iRyuwQuDub5ebnQdcHtRrSf1lZrRp1og2GtxFJDC11YfvGuCNStY58LaZLTCzSZU9gZlNMrMMM8vIzc0NJKSISBRVa4/AzOYAneKsmurur8TaTAWKgWcqeZqR7r7VzDoAs81stbvPrdjI3acB06DsHEF1couIyP+rViFw9zGHW29mVwMXAed6JWel3X1r7HuOmc0AhgFfKgQiIhKMwA4NmdkFlJ0cvsTdCypp08zMWnwxDZwHLA8qk4iIfFmQ5wgeBFpQdrhnsZk9AmBmXcxsVqxNR+AjM1sCfAq87u5vBphJREQqCLLXUL9Klm8FxsemNwBDgsogIiJHFv6dv0REJFQqBCIiEadCICIScSoEIiIRp0IgIhJxKgQiIhGnQiAiEnEqBCIiEadCICIScSoEIiIRp0IgIhJxKgQiIhGnQiAiEnEqBCIiEadCICIScSoEIiIRp0IgIhJxKgQiIhEX5OD1t5vZlth4xYvNbHwl7S4wszVmlmlmtwaVR0RE4gtszOKY37v77ypbaWZJwEPAWCAbmG9mM919ZcC5REQkJuxDQ8OATHff4O6HgOeBCSFnEhGJlKALwRQzW2pmj5tZmzjruwJZ5eazY8u+xMwmmVmGmWXk5uYGkVVEJJKqVQjMbI6ZLY/zNQF4GOgLDAW2AffEe4o4yzzea7n7NHdPd/f01NTU6sQWEZFyqnWOwN3HVKWdmT0KvBZnVTbQvdx8N2BrdTKJiMjRCbLXUOdys5cCy+M0mw+kmVlvM2sETARmBpVJRES+LMheQ3eb2VDKDvVsBG4AMLMuwJ/dfby7F5vZFOAtIAl43N1XBJhJREQqCKwQuPu3Klm+FRhfbn4WMCuoHCIicnhhdx8VEZGQqRCIiEScCoGISMSpEIiIRJwKgYhIxKkQiIhEnAqBiEjEqRCIiEScCoGISMSpEIiIRJwKgYhIxKkQiIhEnAqBiEjEqRCIiEScCoGISMSpEIiIRJwKgYhIxKkQiIhEXGBDVZrZC8CA2GxrYI+7D43TbiOQD5QAxe6eHlQmERH5siDHLP76F9Nmdg+w9zDNR7v7jqCyiIhI5QIrBF8wMwOuAM4J+rVEROTo1cY5gjOB7e6+rpL1DrxtZgvMbFIt5BERkXKqtUdgZnOATnFWTXX3V2LTVwLPHeZpRrr7VjPrAMw2s9XuPjfOa00CJgH06NGjOrFFRKQcc/fgntwsGdgCnOLu2VVofzuwz91/d7h26enpnpGRUTMhRUQiwswWxOuQE/ShoTHA6sqKgJk1M7MWX0wD5wHLA84kIiLlBF0IJlLhsJCZdTGzWbHZjsBHZrYE+BR43d3fDDiTiIiUE2ivIXf/dpxlW4HxsekNwJAgM4iIyOHpymIRkYhTIRARiTgVAhGRiFMhEBGJOBUCEZGIUyEQEYk4FQIRkYhTIRARiTgVAhGRiFMhEBGJOBUCEZGIUyEQEYk4FQIRkYhTIRARiTgVAvzfXzkAAAYOSURBVBGRiFMhEBGJOBUCEZGIUyEQEYk4FQIRkYirViEws6+Z2QozKzWz9ArrbjOzTDNbY2bnV/L4tmY228zWxb63qU4eERE5etXdI1gOXAbMLb/QzAYCE4FBwAXAH80sKc7jbwXecfc04J3YvIiI1KJqFQJ3X+Xua+KsmgA87+4H3f0zIBMYVkm7p2LTTwFfqU4eERE5eskBPW9XYF65+ezYsoo6uvs2AHffZmYdKntCM5sETIrN7jOzeAWoKtoDO47xsUFSrqOjXEdHuY5OouaC6mXrGW/hEQuBmc0BOsVZNdXdX6nsYXGW+ZFe63DcfRowrTrPAWBmGe6efuSWtUu5jo5yHR3lOjqJmguCyXbEQuDuY47hebOB7uXmuwFb47TbbmadY3sDnYGcY3gtERGphqC6j84EJppZYzPrDaQBn1bS7urY9NVAZXsYIiISkOp2H73UzLKBEcDrZvYWgLuvAKYDK4E3gZvcvST2mD+X62r6G2Csma0Dxsbmg1btw0sBUa6jo1xHR7mOTqLmggCymXu1Dt2LiEgdpyuLRUQiToVARCTi6mUhqAu3vjCzF8xscexro5ktrqTdRjNbFmuXUdM54rze7Wa2pVy28ZW0uyC2DTPNLPArws3st2a22syWmtkMM2tdSbta2V5H+vmtzP2x9UvN7OSgspR7ze5m9p6ZrYr9/t8cp80oM9tb7v39RdC5Yq972PclpO01oNx2WGxmeWb2gwptamV7mdnjZpZjZsvLLavS51CN/C26e737Ao4HBgDvA+nllg8ElgCNgd7AeiApzuPvBm6NTd8K3BVw3nuAX1SybiPQvha33e3Aj4/QJim27foAjWLbdGDAuc4DkmPTd1X2ntTG9qrKzw+MB96g7Jqa04BPauG96wycHJtuAayNk2sU8Fpt/T5V9X0JY3vFeU8/B3qGsb2As4CTgeXllh3xc6im/hbr5R6B16FbX5iZAVcAzwX1GgEYBmS6+wZ3PwQ8T9k2C4y7v+3uxbHZeZRdmxKWqvz8E4C/eJl5QOvYtTKBcfdt7r4wNp0PrCL+Ff2JqNa3VwXnAuvdfVMtvua/uPtcYFeFxVX5HKqRv8V6WQgOoyuQVW6+Sre+ACq99UUNOBPY7u7rKlnvwNtmtiB2m43aMCW2e/54JbujVd2OQbmGsv8e46mN7VWVnz/UbWRmvYCTgE/irB5hZkvM7A0zG1RLkY70voT9OzWRyv8ZC2N7QdU+h2pkuwV1r6HAWYLc+uJwqpjxSg6/NzDS3bda2X2YZpvZ6th/D4HkAh4GfkXZdvkVZYetrqn4FHEeW+3tWJXtZWZTgWLgmUqepsa3V7yocZZV/Plr9Xft317YrDnwd+AH7p5XYfVCyg5/7Iud/3mZsgs+g3ak9yXM7dUIuAS4Lc7qsLZXVdXIdquzhcDrwK0vjpTRzJIpu433KYd5jq2x7zlmNoOyXcFqfbBVdduZ2aPAa3FWVXU71mguM7sauAg412MHSOM8R41vrziq8vMHso2OxMwaUlYEnnH3lyquL18Y3H2Wmf3RzNq7e6A3WKvC+xLK9ooZByx09+0VV4S1vWKq8jlUI9staoeGEu3WF2OA1e6eHW+lmTUzsxZfTFN2wnR5vLY1pcJx2Usreb35QJqZ9Y79NzWRsm0WZK4LgP8ELnH3gkra1Nb2qsrPPxO4KtYb5jRg7xe7+UGJnW96DFjl7vdW0qZTrB1mNoyyz4CdAeeqyvtS69urnEr3ysPYXuVU5XOoZv4Wgz4bHsYXZR9g2cBBYDvwVrl1Uyk7y74GGFdu+Z+J9TAC2lE2UM662Pe2AeV8EphcYVkXYFZsug9lvQCWACsoO0QS9Lb7K7AMWBr7hepcMVdsfjxlvVLW11KuTMqOhS6OfT0S5vaK9/MDk794PynbZX8otn4Z5XqvBZjpDMoOCywtt53GV8g1JbZtllB20v30WsgV930Je3vFXrcpZR/srcotq/XtRVkh2gYUxT67rq3scyiIv0XdYkJEJOKidmhIREQqUCEQEYk4FQIRkYhTIRARiTgVAhGRiFMhEBGJOBUCEZGI+z8GMjV/Jf77YAAAAABJRU5ErkJggg==\n",
          "text/plain": "<Figure size 432x288 with 1 Axes>"
         },
         "metadata": {
          "needs_background": "light"
         },
         "output_type": "display_data"
        }
       ]
      }
     },
     "2650bbedd37e449180415e014ce02a82": {
      "model_module": "@jupyter-widgets/controls",
      "model_module_version": "1.5.0",
      "model_name": "VBoxModel",
      "state": {
       "_dom_classes": [
        "widget-interact"
       ],
       "children": [
        "IPY_MODEL_cdf4e5b3d7cd4a8b9a330935074f0ed3",
        "IPY_MODEL_23fa8c04486f43c490a00e11641b4831"
       ],
       "layout": "IPY_MODEL_4a52648c98d140b488bc7387edc13623"
      }
     },
     "275d0524a9264e6e9b6069949762d5a6": {
      "model_module": "@jupyter-widgets/base",
      "model_module_version": "1.2.0",
      "model_name": "LayoutModel",
      "state": {}
     },
     "2785733f4aed479b8b592c011bd9f032": {
      "model_module": "@jupyter-widgets/base",
      "model_module_version": "1.2.0",
      "model_name": "LayoutModel",
      "state": {}
     },
     "2786c4ac6ba54e4e962b08833c2a0a3f": {
      "model_module": "@jupyter-widgets/base",
      "model_module_version": "1.2.0",
      "model_name": "LayoutModel",
      "state": {}
     },
     "297ecc833db0444180696af446871699": {
      "model_module": "@jupyter-widgets/base",
      "model_module_version": "1.2.0",
      "model_name": "LayoutModel",
      "state": {}
     },
     "29b4490dcc7f4853bcfc40396e7f7bcd": {
      "model_module": "@jupyter-widgets/controls",
      "model_module_version": "1.5.0",
      "model_name": "HBoxModel",
      "state": {
       "children": [
        "IPY_MODEL_0873ad98964945c2ab139d2d248ac5d3",
        "IPY_MODEL_7a86cd92dfb84b818a94aa1b15d8c7fd"
       ],
       "layout": "IPY_MODEL_0e7deffe12564af7835283e2de0da0c4"
      }
     },
     "2a6a241cef604c989af73134cb65708b": {
      "model_module": "@jupyter-widgets/base",
      "model_module_version": "1.2.0",
      "model_name": "LayoutModel",
      "state": {}
     },
     "2b947da396af41c0b8d9cfdc90586f92": {
      "model_module": "@jupyter-widgets/base",
      "model_module_version": "1.2.0",
      "model_name": "LayoutModel",
      "state": {}
     },
     "2c37137da2c44a0f9280771203da6448": {
      "model_module": "@jupyter-widgets/controls",
      "model_module_version": "1.5.0",
      "model_name": "SliderStyleModel",
      "state": {
       "description_width": ""
      }
     },
     "2c565e345b914f67807a47bcdddbaeb0": {
      "model_module": "@jupyter-widgets/controls",
      "model_module_version": "1.5.0",
      "model_name": "LinkModel",
      "state": {
       "source": [
        "IPY_MODEL_9872163a810b44f88265aca6eff1bff9",
        "value"
       ],
       "target": [
        "IPY_MODEL_cdf4e5b3d7cd4a8b9a330935074f0ed3",
        "value"
       ]
      }
     },
     "2c998d00554b48dba9c903b3101c0e66": {
      "model_module": "@jupyter-widgets/controls",
      "model_module_version": "1.5.0",
      "model_name": "SliderStyleModel",
      "state": {
       "description_width": ""
      }
     },
     "30373cc5626f4494b87d0700c896cf55": {
      "model_module": "@jupyter-widgets/base",
      "model_module_version": "1.2.0",
      "model_name": "LayoutModel",
      "state": {}
     },
     "3127b59436e84ec98f32ece0c79cbb81": {
      "model_module": "@jupyter-widgets/base",
      "model_module_version": "1.2.0",
      "model_name": "LayoutModel",
      "state": {}
     },
     "314220e685484645abcfa35c86ef38e9": {
      "model_module": "@jupyter-widgets/controls",
      "model_module_version": "1.5.0",
      "model_name": "VBoxModel",
      "state": {
       "_dom_classes": [
        "widget-interact"
       ],
       "children": [
        "IPY_MODEL_33d32050777e423eaf12208112b71522",
        "IPY_MODEL_e2803f7be87044aa8e99d3e8365b4fbe",
        "IPY_MODEL_ad9848b0c8d94ce8837176a998401c6b",
        "IPY_MODEL_869a7abd05a44b699977b43cbce37951"
       ],
       "layout": "IPY_MODEL_a920da24718c45fbb7749eeab54b7dd2"
      }
     },
     "31cc2c5e8ecd4f80b786d3585233b809": {
      "model_module": "@jupyter-widgets/base",
      "model_module_version": "1.2.0",
      "model_name": "LayoutModel",
      "state": {}
     },
     "32385703d4c64cc985de4332e101ff5c": {
      "model_module": "@jupyter-widgets/controls",
      "model_module_version": "1.5.0",
      "model_name": "FloatSliderModel",
      "state": {
       "description": "b",
       "layout": "IPY_MODEL_f98fd9d6c22a49ad91bad9eef34b301c",
       "max": 3,
       "min": -3,
       "step": 0.1,
       "style": "IPY_MODEL_9c046a077dd24f0e9345450f51ccb929",
       "value": -1.5
      }
     },
     "3242d68478054dfda3f4911e1983dcd9": {
      "model_module": "@jupyter-widgets/controls",
      "model_module_version": "1.5.0",
      "model_name": "FloatSliderModel",
      "state": {
       "description": "bw",
       "layout": "IPY_MODEL_9f701a81a2e64c46975ee349a2825d46",
       "max": 3,
       "min": 0.1,
       "step": 0.1,
       "style": "IPY_MODEL_fa73646152a94dac8dbce37527cc996d",
       "value": 1.3
      }
     },
     "33d32050777e423eaf12208112b71522": {
      "model_module": "@jupyter-widgets/controls",
      "model_module_version": "1.5.0",
      "model_name": "FloatSliderModel",
      "state": {
       "description": "a",
       "layout": "IPY_MODEL_9dfacc987b9e4c968bace6db6764d1ce",
       "max": 2,
       "min": -2,
       "step": 0.1,
       "style": "IPY_MODEL_f6a8d4d891744587918a1a975135aaed",
       "value": 0.1
      }
     },
     "34396293f80147208db0d193a74e0ca4": {
      "model_module": "@jupyter-widgets/base",
      "model_module_version": "1.2.0",
      "model_name": "LayoutModel",
      "state": {}
     },
     "34d7f17ff4cb4843a018369e8bb81caa": {
      "model_module": "@jupyter-widgets/controls",
      "model_module_version": "1.5.0",
      "model_name": "FloatSliderModel",
      "state": {
       "description": "bw",
       "layout": "IPY_MODEL_e4d5f2711ac44ec78dd708820ec79e73",
       "step": 0.1,
       "style": "IPY_MODEL_b493da199a464a2daa20b647e6933e93"
      }
     },
     "3502c290a61743b395bad743e3af000e": {
      "model_module": "@jupyter-widgets/controls",
      "model_module_version": "1.5.0",
      "model_name": "FloatSliderModel",
      "state": {
       "description": "b",
       "layout": "IPY_MODEL_275d0524a9264e6e9b6069949762d5a6",
       "max": 3,
       "min": -3,
       "step": 0.5,
       "style": "IPY_MODEL_c19927b7816148e09a9f00b66a4128ad"
      }
     },
     "35d4d85bbc7b4ec6af98321d195057d5": {
      "model_module": "@jupyter-widgets/base",
      "model_module_version": "1.2.0",
      "model_name": "LayoutModel",
      "state": {}
     },
     "368e8fc67bf3407d86a2b8dee90c6f4f": {
      "model_module": "@jupyter-widgets/base",
      "model_module_version": "1.2.0",
      "model_name": "LayoutModel",
      "state": {}
     },
     "36d1ccb9c81d43f693e511eceff07483": {
      "model_module": "@jupyter-widgets/controls",
      "model_module_version": "1.5.0",
      "model_name": "VBoxModel",
      "state": {
       "_dom_classes": [
        "widget-interact"
       ],
       "children": [
        "IPY_MODEL_749ed77fa8ee4a5da8878036c8287026",
        "IPY_MODEL_cd4bb21bab4747f6ad5a4c8464f406af"
       ],
       "layout": "IPY_MODEL_615e83af13cf4c379bbe0fd70e876ba7"
      }
     },
     "376974da61c34c98a912543fd9b39dcd": {
      "model_module": "@jupyter-widgets/controls",
      "model_module_version": "1.5.0",
      "model_name": "SliderStyleModel",
      "state": {
       "description_width": ""
      }
     },
     "3878e5f3b61c4307b88c18845c5aa4a6": {
      "model_module": "@jupyter-widgets/controls",
      "model_module_version": "1.5.0",
      "model_name": "FloatTextModel",
      "state": {
       "layout": "IPY_MODEL_dcb35f8f3c0f4998bb58090d227a4867",
       "step": null,
       "style": "IPY_MODEL_8a1e8b58b4f84082ac18f777c2de1dc0",
       "value": 42.642
      }
     },
     "39001518a15244e2ad8463ee6486a35b": {
      "model_module": "@jupyter-widgets/controls",
      "model_module_version": "1.5.0",
      "model_name": "SliderStyleModel",
      "state": {
       "description_width": ""
      }
     },
     "3998a1e48d4d498c94b2844a712d3e1a": {
      "model_module": "@jupyter-widgets/controls",
      "model_module_version": "1.5.0",
      "model_name": "FloatSliderModel",
      "state": {
       "description": "a",
       "layout": "IPY_MODEL_65cc42c6cc04481da6b8288ca9a5b60e",
       "max": 2,
       "min": -2,
       "step": 0.1,
       "style": "IPY_MODEL_22c133edd102407b8ae7c6269546ab47",
       "value": -0.1
      }
     },
     "39aa6dad1dff4ff596e7397d6b2bfb62": {
      "model_module": "@jupyter-widgets/controls",
      "model_module_version": "1.5.0",
      "model_name": "HBoxModel",
      "state": {
       "children": [
        "IPY_MODEL_44edd716f8ff4371b139f68f07640085",
        "IPY_MODEL_4c46d98599ae47c0ab3312fd9b47e233"
       ],
       "layout": "IPY_MODEL_5728f40042754fe58ffde7092070d376"
      }
     },
     "3a6e15724cce4465b3c220085b312435": {
      "model_module": "@jupyter-widgets/controls",
      "model_module_version": "1.5.0",
      "model_name": "PlayModel",
      "state": {
       "description": "Press play",
       "interval": 500,
       "layout": "IPY_MODEL_cbb30afc05d34ce7a56bfed85ae564c8",
       "style": "IPY_MODEL_0d0e8a6b3f2640059635679d3f2cd622",
       "value": 50
      }
     },
     "3aa21024448e42119beb8ea2ac770ccd": {
      "model_module": "@jupyter-widgets/controls",
      "model_module_version": "1.5.0",
      "model_name": "FloatSliderModel",
      "state": {
       "description": "a",
       "layout": "IPY_MODEL_d84afc110f614095996502fa87648e64",
       "max": 2,
       "min": -2,
       "step": 0.1,
       "style": "IPY_MODEL_89944a93f911412f85b6fa3540993981",
       "value": 0.2
      }
     },
     "3b025d3030da4977a1f59e1633dd84e5": {
      "model_module": "@jupyter-widgets/output",
      "model_module_version": "1.0.0",
      "model_name": "OutputModel",
      "state": {
       "layout": "IPY_MODEL_24893574baf7486494f2d69e7a624786",
       "outputs": [
        {
         "data": {
          "image/png": "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\n",
          "text/plain": "<Figure size 432x288 with 1 Axes>"
         },
         "metadata": {
          "needs_background": "light"
         },
         "output_type": "display_data"
        }
       ]
      }
     },
     "3b340e1d6cf445a7b0b92bd6f0cbee98": {
      "model_module": "@jupyter-widgets/base",
      "model_module_version": "1.2.0",
      "model_name": "LayoutModel",
      "state": {
       "height": "350px"
      }
     },
     "3bb93faf3ad44fad81a7263cc872dbe8": {
      "model_module": "@jupyter-widgets/base",
      "model_module_version": "1.2.0",
      "model_name": "LayoutModel",
      "state": {}
     },
     "3f5d28aafb434fd1a95159236921eaa0": {
      "model_module": "@jupyter-widgets/base",
      "model_module_version": "1.2.0",
      "model_name": "LayoutModel",
      "state": {}
     },
     "410e21348ef84e4aaab094d9d958589f": {
      "model_module": "@jupyter-widgets/controls",
      "model_module_version": "1.5.0",
      "model_name": "VBoxModel",
      "state": {
       "_dom_classes": [
        "widget-interact"
       ],
       "children": [
        "IPY_MODEL_3998a1e48d4d498c94b2844a712d3e1a",
        "IPY_MODEL_32385703d4c64cc985de4332e101ff5c",
        "IPY_MODEL_e14511d0b18b4b609d9c32fa054e7124",
        "IPY_MODEL_00c84b8fc37b454ea616bd7179cb97ad"
       ],
       "layout": "IPY_MODEL_7dbae9b59f1747c0a8f66e777c77a501"
      }
     },
     "4231f9c157224616846bc660151e59f2": {
      "model_module": "@jupyter-widgets/controls",
      "model_module_version": "1.5.0",
      "model_name": "FloatSliderModel",
      "state": {
       "description": "bw",
       "layout": "IPY_MODEL_652d491d7cc54e89bc84d570a253d10e",
       "max": 3,
       "min": 0.1,
       "step": 0.1,
       "style": "IPY_MODEL_7abfeb020bae4b0b943cfbdd6a16dc8c",
       "value": 2.6
      }
     },
     "42ccac299048441c9ebe726e8e68679d": {
      "model_module": "@jupyter-widgets/controls",
      "model_module_version": "1.5.0",
      "model_name": "FloatSliderModel",
      "state": {
       "layout": "IPY_MODEL_2b947da396af41c0b8d9cfdc90586f92",
       "step": 0.1,
       "style": "IPY_MODEL_f87be6cfc2c4458fb10f99212fcd9d9c"
      }
     },
     "434f54f9b6544b40a5662119e2c5411a": {
      "model_module": "@jupyter-widgets/output",
      "model_module_version": "1.0.0",
      "model_name": "OutputModel",
      "state": {
       "layout": "IPY_MODEL_2785733f4aed479b8b592c011bd9f032",
       "outputs": [
        {
         "data": {
          "image/png": "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\n",
          "text/plain": "<Figure size 432x288 with 1 Axes>"
         },
         "metadata": {
          "needs_background": "light"
         },
         "output_type": "display_data"
        }
       ]
      }
     },
     "43958d2db4f54c249406c8626f62cf13": {
      "model_module": "@jupyter-widgets/base",
      "model_module_version": "1.2.0",
      "model_name": "LayoutModel",
      "state": {}
     },
     "43af10ebfe2b4578ae5139019fd2acc5": {
      "model_module": "@jupyter-widgets/base",
      "model_module_version": "1.2.0",
      "model_name": "LayoutModel",
      "state": {}
     },
     "44affbf0874f4e65af8aa46a0b553144": {
      "model_module": "@jupyter-widgets/base",
      "model_module_version": "1.2.0",
      "model_name": "LayoutModel",
      "state": {}
     },
     "44edd716f8ff4371b139f68f07640085": {
      "model_module": "@jupyter-widgets/controls",
      "model_module_version": "1.5.0",
      "model_name": "PlayModel",
      "state": {
       "description": "Press play",
       "interval": 500,
       "layout": "IPY_MODEL_368e8fc67bf3407d86a2b8dee90c6f4f",
       "style": "IPY_MODEL_e92ea61529f64d8ba99ba8b8414a05af",
       "value": 58
      }
     },
     "45537c9a91414c058cbc82007a60d3be": {
      "model_module": "@jupyter-widgets/base",
      "model_module_version": "1.2.0",
      "model_name": "LayoutModel",
      "state": {}
     },
     "4604007f5e7d4e13a05e09bb5b55816a": {
      "model_module": "@jupyter-widgets/controls",
      "model_module_version": "1.5.0",
      "model_name": "SliderStyleModel",
      "state": {
       "description_width": ""
      }
     },
     "471c3b7545744b81bd411fbd122b4194": {
      "model_module": "@jupyter-widgets/controls",
      "model_module_version": "1.5.0",
      "model_name": "DescriptionStyleModel",
      "state": {
       "description_width": ""
      }
     },
     "47e7dedb20254bf5b9889a75e57b36f7": {
      "model_module": "@jupyter-widgets/output",
      "model_module_version": "1.0.0",
      "model_name": "OutputModel",
      "state": {
       "layout": "IPY_MODEL_b431ffc967d54c5baf27578471b14b5c",
       "outputs": [
        {
         "data": {
          "image/png": "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\n",
          "text/plain": "<Figure size 432x288 with 1 Axes>"
         },
         "metadata": {
          "needs_background": "light"
         },
         "output_type": "display_data"
        }
       ]
      }
     },
     "481eb7f27ca040ed8be52e708269526f": {
      "model_module": "@jupyter-widgets/controls",
      "model_module_version": "1.5.0",
      "model_name": "SliderStyleModel",
      "state": {
       "description_width": ""
      }
     },
     "48f2441148e04d87abc25e51b957cfce": {
      "model_module": "@jupyter-widgets/controls",
      "model_module_version": "1.5.0",
      "model_name": "SliderStyleModel",
      "state": {
       "description_width": ""
      }
     },
     "493212d154f84a19a0d371e02b1a668b": {
      "model_module": "@jupyter-widgets/controls",
      "model_module_version": "1.5.0",
      "model_name": "VBoxModel",
      "state": {
       "_dom_classes": [
        "widget-interact"
       ],
       "children": [
        "IPY_MODEL_25a7856acc904c10ad6b45b4ac97622d",
        "IPY_MODEL_f660a1cd93a14a898ca016be36be05f7"
       ],
       "layout": "IPY_MODEL_c71105b810114301b9c4d24438750115"
      }
     },
     "494186b895d9482194d7626e6d69377a": {
      "model_module": "@jupyter-widgets/output",
      "model_module_version": "1.0.0",
      "model_name": "OutputModel",
      "state": {
       "layout": "IPY_MODEL_3127b59436e84ec98f32ece0c79cbb81",
       "outputs": [
        {
         "data": {
          "image/png": "iVBORw0KGgoAAAANSUhEUgAAAZgAAAEKCAYAAAAvlUMdAAAABHNCSVQICAgIfAhkiAAAAAlwSFlzAAALEgAACxIB0t1+/AAAADh0RVh0U29mdHdhcmUAbWF0cGxvdGxpYiB2ZXJzaW9uMy4yLjIsIGh0dHA6Ly9tYXRwbG90bGliLm9yZy+WH4yJAAAgAElEQVR4nO3deXxV9Z3/8dcnGyEESAJhX4UoIlrEgFh3qxao/aFdrE5bHccZ6lhnbGemHduZ6dh2pmOt2qkzjoy2TtW2olVb0KGD1n1DCMqOYECEQICwhbBk//z+uCc3l5DlJrknNwnv5+NxH/cs3++93y+H5JPzPd/zOebuiIiIJFpKshsgIiK9kwKMiIiEQgFGRERCoQAjIiKhUIAREZFQKMCIiEgoQg0wZjbLzDaaWbGZ3dHMfjOz+4P9q81sWrA908yWmdkqM1tnZt+PqZNnZi+a2YfBe26YfRARkY4JLcCYWSrwADAbmAxcb2aTmxSbDRQEr3nAg8H2KuAyd/8EMBWYZWYzg313AC+5ewHwUrAuIiLdTJhnMDOAYnff4u7VwAJgbpMyc4HHPGIpkGNmw4P1w0GZ9ODlMXUeDZYfBa4OsQ8iItJBaSF+9khge8x6CXBuHGVGAqXBGdAKYCLwgLu/G5QZ6u6lAO5eamZDmvtyM5tH5KyIfv36nTNp0qROdkdE5OSyYsWKve6e39H6YQYYa2Zb07w0LZZx9zpgqpnlAL8zsynuvjbeL3f3h4CHAAoLC72oqCjeqiIiApjZx52pH+YQWQkwOmZ9FLCzvWXc/SDwKjAr2LTbzIYDBO97EtdkERFJlDADzHKgwMzGm1kGcB2wqEmZRcANwWyymUB5MOyVH5y5YGZ9gcuBD2Lq3Bgs3wgsDLEPIiLSQaENkbl7rZndBiwBUoFH3H2dmd0S7J8PLAbmAMXAUeCmoPpw4NHgOkwK8JS7Px/suwt4ysxuBrYBXwyrDyIi0nF2MqTr1zUYEZH2M7MV7l7Y0fq6k19EREKhACMiIqFQgBERkVAowIiISCgUYEREJBQKMCIiEgoFGBERCYUCjIiIhEIBRkREQqEAIyIioVCAERGRUCjAiIhIKBRgREQkFAowIiISCgUYEREJhQKMiIiEQgFGRERCoQAjIiKhUIAREZFQKMCIiEgoFGBERCQUCjAiIhIKBRgREQmFAoyIiIRCAUZEREKhACMiIqFQgBERkVCEGmDMbJaZbTSzYjO7o5n9Zmb3B/tXm9m0YPtoM3vFzDaY2Tozuz2mzp1mtsPMVgavOWH2QUREOiYtrA82s1TgAeAKoARYbmaL3H19TLHZQEHwOhd4MHivBf7W3d8zs/7ACjN7MabuT939nrDaLiIinRfmGcwMoNjdt7h7NbAAmNukzFzgMY9YCuSY2XB3L3X39wDcvQLYAIwMsa0iIpJgYQaYkcD2mPUSTgwSbZYxs3HA2cC7MZtvC4bUHjGz3EQ1WEREEifMAGPNbPP2lDGzbOAZ4BvufijY/CAwAZgKlAL3NvvlZvPMrMjMisrKytrbdhER6aQwA0wJMDpmfRSwM94yZpZOJLj82t2fbSjg7rvdvc7d64GHiQzFncDdH3L3QncvzM/P73RnRESkfcIMMMuBAjMbb2YZwHXAoiZlFgE3BLPJZgLl7l5qZgb8Atjg7vfFVjCz4TGr1wBrw+uCiIh0VGizyNy91sxuA5YAqcAj7r7OzG4J9s8HFgNzgGLgKHBTUP184KvAGjNbGWz7rrsvBu42s6lEhtK2Al8Lqw8iItJx5t70skjvU1hY6EVFRcluhohIj2JmK9y9sKP1dSe/iIiEQgFGRERCoQAjIiKhUIAREZFQKMCIiEgoFGBERCQUCjAiIhIKBRgREQmFAoyIiIRCAUZEREKhACMiIqFQgBERkVAowIiISCgUYEREJBQKMCIiEgoFGBERCYUCjIiIhEIBRkREQqEAIyIioVCAERGRUCjAiIhIKBRgREQkFAowIiISCgUYEREJhQKMiIiEQgFGRERCoQAjIiKhUIAREZFQhBpgzGyWmW00s2Izu6OZ/WZm9wf7V5vZtGD7aDN7xcw2mNk6M7s9pk6emb1oZh8G77lh9kFERDomtABjZqnAA8BsYDJwvZlNblJsNlAQvOYBDwbba4G/dffTgZnA12Pq3gG85O4FwEvBuoiIdDNhnsHMAIrdfYu7VwMLgLlNyswFHvOIpUCOmQ1391J3fw/A3SuADcDImDqPBsuPAleH2AcREemgMAPMSGB7zHoJjUEi7jJmNg44G3g32DTU3UsBgvchzX25mc0zsyIzKyorK+tgF0REpKPCDDDWzDZvTxkzywaeAb7h7ofa8+Xu/pC7F7p7YX5+fnuqiohIAoQZYEqA0THro4Cd8ZYxs3QiweXX7v5sTJndZjY8KDMc2JPgdouISAKEGWCWAwVmNt7MMoDrgEVNyiwCbghmk80Eyt291MwM+AWwwd3va6bOjcHyjcDC8LogIiIdlRbWB7t7rZndBiwBUoFH3H2dmd0S7J8PLAbmAMXAUeCmoPr5wFeBNWa2Mtj2XXdfDNwFPGVmNwPbgC+G1QcREek4c296WaT3KSws9KKiomQ3Q0SkRzGzFe5e2NH6upNfRERCoQAjIiKhUIAREZFQKMCIiEgoFGBERCQUCjAiIhIKBRgREQmFAoyIiIRCAUZEREKhACMiIqFQgBERkVAowIiISCgUYEREJBQKMCIiEoq4AoyZPWNmnzEzBSQREYlLvAHjQeBPgA/N7C4zmxRim0REpBeIK8C4+x/d/cvANGAr8KKZvW1mN5lZepgNFBGRninuIS8zGwT8KfDnwPvAz4gEnBdDaZmIiPRoafEUMrNngUnA48Bn3b002PWkmelZxCIicoK4Agzwc3dfHLvBzPq4e1VnntcsIiK9V7xDZP/SzLZ3EtkQERHpXVo9gzGzYcBIoK+ZnQ1YsGsAkBVy20REpAdra4js00Qu7I8C7ovZXgF8N6Q2iYhIL9BqgHH3R4FHzezz7v5MF7VJRER6gbaGyL7i7r8CxpnZ3zTd7+73NVNNRESkzSGyfsF7dtgNERGR3qWtIbL/Dt6/3zXNERGR3iLeZJd3m9kAM0s3s5fMbK+ZfSWOerPMbKOZFZvZHc3sNzO7P9i/2symxex7xMz2mNnaJnXuNLMdZrYyeM2Jpw8iItK14r0P5kp3PwRcBZQApwLfaq2CmaUCDwCzgcnA9WY2uUmx2UBB8JpHJKlmg18Cs1r4+J+6+9TgtbiFMiIikkTxBpiGhJZzgCfcfX8cdWYAxe6+xd2rgQXA3CZl5gKPecRSIMfMhgO4++tAPN8jIiLdULwB5jkz+wAoBF4ys3ygso06I4HtMeslwbb2lmnObcGQ2iNmlttcATObZ2ZFZlZUVlYWx0eKiEgixZuu/w7gPKDQ3WuAI5x4NtKUNbPNO1CmqQeBCcBUoBS4t7lC7v6Quxe6e2F+fn4bHykiIokWb7JLgNOJ3A8TW+exVsqXAKNj1kcBOztQ5jjuvrth2cweBp5vrbyIiCRHvLPIHgfuAS4ApgevtrIoLwcKzGy8mWUA1wGLmpRZBNwQzCabCZTHPAqgpbYMj1m9BljbUlkREUmeeM9gCoHJ7t7W8FWUu9ea2W3AEiAVeMTd15nZLcH++cBiIhMHioGjwE0N9c3sCeASYLCZlQD/7O6/AO42s6lEhtK2Al+Lt00iItJ14g0wa4FhRK55xC2YQry4ybb5McsOfL2Fute3sP2r7WmDiIgkR7wBZjCw3syWAVUNG939/4XSKhER6fHiDTB3htkIERHpfeIKMO7+mpmNBQrc/Y9mlkXkuoqIiEiz4gowZvYXRFK55BG5B2UkMB/4VHhNEzne5rLDPFW0nXe37GfnwWM4MCG/HxdMHMy100czpH9mspsoIjHiHSL7OpHUL+8CuPuHZjYktFaJxNhTUcm//u8GFq488Rapsooqlm7Zz/0vF/PXl03kaxdPID013gQVIhKmeH8Sq4J8YgAEN1vGPWVZpKPeKt7Lp3/6erPBJVZ1bT33vLCJL//8XQ4erW61rIh0jXjPYF4zs+8Cfc3sCuBW4LnwmiUCz6wo4VtPr6I+5k+ZaWNyuPS0IYwb3I/6emfj7goWryll676jACz7aD/X/vc7PDnvPHL7ZSSp5SICYPHcO2lmKcDNwJVE8octAX7enhsvk6mwsNCLioqS3Qxph6eD4NLwPywnK51bL5nImSMHnlC2rt5ZuHIHv11REt129pgcfvPnM+mbobkoIh1lZivcva2sLS2KN9llPfB74FZ3/4K7P9xTgov0PK9vKuPvn1kdDS5j87L40TVnNhtcAFJTjM9NG8Wtl0yIZk99f9tB/mmhsgiJJFOrASbIEXanme0FPgA2mlmZmX2va5onJ5uP9x3h679+j7pgXGxsXhb/+JnJ5Ga1Pdx1YUE+N5w3Lrr+9IoSflu0veUKIhKqts5gvgGcD0x390HungecC5xvZt8MvXVyUqmsqePrv3mPiqpaAPL6ZfDtWZPIzow/6fenzxjKRQWDo+s/eG49u8rbenSRiIShrQBzA3C9u3/UsMHdtwBfCfaJJMxP/7iJtTsOAZCWYvzNFaeS184L9WbGTeePZ9iAyD0xFVW1/OPvNVQmkgxtBZh0d9/bdKO7l9H4GGWRTntv2wEefn1LdP3L545hQn52hz4rMz2VeRedEl3/44bdvPLBnk63UUTap60A09oNBbrZQBKitq6e7z67Jjod+YwRA7jyjGGd+szThw/g0tMa7wX+4fPrqa6t79Rnikj7tBVgPmFmh5p5VQBndkUDpfd7fOnHfLCrAoA+aSl87aJTSLHmnqbdPl+aPpq+6ZFpylv2HuHJ5ds6/ZkiEr9WA4y7p7r7gGZe/d1dQ2TSaQeOVHPfi5ui61efPZL8BOUUG9g3nc9NGxldv//lYo5V1yXks0WkbUraJEn1n68UU1EZmTU2bEAmnzlzeBs12ufKycPIzYr8LVRWUcWj72xN6OeLSMsUYCRpSg4c5fF3Po6uXz9jTMITVWakpfC5aaOi6z9/YwuVNTqLEekKCjCSNA+8spnqusiF94Ih2UwflxvK91xyaj6DgunOew9Xs2CZrsWIdAUFGEmKkgNHj7vL/kvTR2MJuLDfnLTUFK46a0R0/aHXt1BTpxllImFTgJGkmP/aZmqDecmThvVn8vABoX7fZZOGMCDICLCzvJLFa0pD/T4RUYCRJNh7uIrfFjVmPv7ctFGhnb00yEhLOe7emoff2ILytYqESwFGutyjb2+lKrjpcfzgfkwZEe7ZS4MrJg8lPTUSyNbuOMTSLfu75HtFTlYKMNKlKmvq+NXSxpljnz1rROhnLw0GZKZzUUF+dP3Rt7d2yfeKnKwUYKRLLVy5gwNHawDIz+7DjPF5Xfr9s6Y0DpO9sH4XJQeOdun3i5xMFGCky7g7//PW1uj6lWcMJTWla85eGozKzWJK8OCyeodfLdWUZZGwKMBIl1m+9cBxOccuiUlG2ZU+fcbQ6PJTRdupqtWNlyJhCDXAmNksM9toZsVmdkcz+83M7g/2rzazaTH7HjGzPWa2tkmdPDN70cw+DN7DuTtPEu7X7zZee7lg4mCy+8T/ILFEmjY6N3rj5f4j1fxhza6ktEOktwstwJhZKvAAMBuYDFxvZpObFJsNFASvecCDMft+Ccxq5qPvAF5y9wLgpWBdurmmv8g/dfrQVkqHKyXFjvv+2EkHIpI4YZ7BzACK3X2Lu1cDC4C5TcrMBR7ziKVAjpkNB3D314Hm5pHOBR4Nlh8Frg6l9ZJQz6woiaaFmTgkm/GD+yW1PZeelk9qMHut6OMDbNpdkdT2iPRGYQaYkcD2mPWSYFt7yzQ11N1LAYL3ZgfyzWyemRWZWVFZWVm7Gi6J5e48GZMW5rJJybn2EisnK4PCmNxnv3lXF/tFEi3MANPc9KCmt07HU6ZD3P0hdy9098L8/Py2K0ho3t9+kOI9h4HIxf3zThmU5BZFxA6TPfNeiZ4VI5JgYQaYEmB0zPooYGcHyjS1u2EYLXjXw9a7uaeWN569nHfKIDKDp0wm2xkjBjB0QB8AKiprlZ9MJMHCDDDLgQIzG29mGcB1wKImZRYBNwSzyWYC5Q3DX61YBNwYLN8ILExkoyWxKmvqeH514yFN1tTk5qSYcWlMexbokcoiCRVagHH3WuA2YAmwAXjK3deZ2S1mdktQbDGwBSgGHgZubahvZk8A7wCnmVmJmd0c7LoLuMLMPgSuCNalm3ph/W4OVzU+sfLUodlJbtHxLj618WL/8q0HKN6ji/0iiRLqjQjuvphIEIndNj9m2YGvt1D3+ha27wM+lcBmSoieWdGYNfnCgsFdlncsXjlZGUwbm8PyrQcAWLBsO/94VdPZ9CLSEbqTX0Kzp6KSNz5snMF3YcHgJLamZbGz2p59f4fu7BdJEAUYCc1zq0oJninGpGH9ye+fmdwGteCskTkMzm68s//F9buT3CKR3kEBRkKzcOWO6PIF3fTsBSJ39l98aszF/mXbWyktIvFSgJFQbC47zOqScgDSUoxzx3ePe19aculp+dGbst4s3sv2/UrjL9JZCjASioUrG29nmjo6J2mJLeM1KLsPnxidE11/crnOYkQ6SwFGEs7deW5VY4A5f2L3HR6LFXtPzG9XbKc2yJ0mIh2jACMJt3bHIT7aewSAzPQUpo3pGU9UmDY2h4F90wHYfaiKVzYqh51IZyjASMItWtV4cX/62Dwy0nrGf7O0lBQuPrUxb92CZbqzX6QzesZPvvQY9fV+XGqYT07s3hf3m4q9J+aVjXvYefBYElsj0rMpwEhCrdh2gNLySgCy+6QxZeTAJLeofYYOyIy2ud51sV+kMxRgJKFiL+6fOz6PtJSe91/s8knHJ8Cs0cV+kQ7peT/90m3V1tUfl/L+vAk9a3iswTnjco+72P/SBt3ZL9IRCjCSMEu37Gfv4WoAcvqmc/qwAUluUcekpaRw6WmNF/t/tVQX+0U6QgFGEub51Y3DYzNPGURKSvfKnNwel00aSkPi5zeL97K57HByGyTSAynASEJU19bzh7W7ous9dXisQX7/Psfdv/P4Ox8nsTUiPZMCjCTEW8V7KT9WA8Dg7AwKhnSvB4t1xJWTh0aXn1lREn1wmojERwFGEiJ29tjMUwZ1uweLdcSUkQMZkRN5xEBFVS1PF2nKskh7KMBIp1XW1PFCzDNUPjmhZ+Qea0uKGbPOGBZd/+XbW6lveMCNiLRJAUY67dWNe6LDR8MGZDJuUFaSW5Q4Fxbk0y8jFYCt+47yR01ZFombAox02qKY4bHzJvSO4bEGmempx6WPefiNLUlsjUjPogAjnVJRWcMfN+yJrn+yh88ea86sKcNJDaZcL996gBUfH0hyi0R6BgUY6ZQX1u2mujaSSmVsXhajcnvP8FiDvH4ZnB8TOP/rleIktkak51CAkU5ZGDM81hvPXhp89hMjoo9UfumDPazdUZ7U9oj0BAow0mFlFVW8+WHjQ7nO6yWzx5ozKjeLGePzouv/8fKHSWyNSM+gACMd9vzqnTTM2p00rD/5/fskt0Ehu/rskdHlJet2s6ZEZzEirVGAkQ77/crG4bHzJ/bes5cG4wb1O+4s5p4XNiaxNSLdnwKMdMiWssOs2n4QgNQUY+b43nv9JdYXzxkVTYL52qYy3ogZIhSR44UaYMxslpltNLNiM7ujmf1mZvcH+1eb2bS26prZnWa2w8xWBq85YfZBmvfsezuiy2ePziE7My2Jrek6o3KzuLigMZX/vzy/gVo9kEykWaEFGDNLBR4AZgOTgevNbHKTYrOBguA1D3gwzro/dfepwWtxWH2Q5tXXO797vzHAXBTzC/dkcO300fRJi/zobNxdweNLlWlZpDlhnsHMAIrdfYu7VwMLgLlNyswFHvOIpUCOmQ2Ps64kydKP9rHj4DEAsvukMXVMTpJb1LVyszK4emrjBf97lmxkZ/DvISKNwgwwI4HY9LMlwbZ4yrRV97ZgSO0RM8tFutTTRSXR5fMmDCI99eS7lHfVWcMZmdMXgCPVdfz9M6uVCFOkiTB/MzSXkKrpT2BLZVqr+yAwAZgKlAL3NvvlZvPMrMjMisrKdCE2UQ5V1rB4bWl0/ZJTT67hsQZpqSn8+YXjo/9R3/hwL798e2uo31lf7xytrqVOgUx6iDCvzJYAo2PWRwE74yyT0VJdd4+mszWzh4Hnm/tyd38IeAigsLBQP5EJ8vyqUiprGlPDjB/cL8ktSp5JwwbwmbOG8/zqSMD90eINnDlqINPH5bVRMz77j1Tz4vpdvLapjNUl5ZSWV0aDy8icvnxi9EAumzSU2VOG0a/PyTHJQnqWMP9XLgcKzGw8sAO4DviTJmUWERnuWgCcC5S7e6mZlbVU18yGu3vDn9DXAGtD7IM0sWD5tujyJafl96rMyR1xbeFo1u08xEd7j1Bb79zy+Ap+e8t5nJLf8Sd6rvh4P4+8uZUX1u+ipq75v412HDzGjoPHWLxmF99ftI6vnjeWr108gYF90zv8vSKJFtoQmbvXArcBS4ANwFPuvs7MbjGzW4Jii4EtQDHwMHBra3WDOneb2RozWw1cCnwzrD7I8dbuKGd1cPd6eqqdFDdXtiU9NYVvXn4q/YNp2vuOVPPln7/L5rLD7focd+e1TWVcO/8dPv/gO/zvmtJmg0t6qp0wflxRVct/vbqZS+95ld+/vwN3nbBL92Anw3/GwsJCLyoqSnYzerzvPLuGJ5ZFzmAumDiYr186Mckt6j427a7gR4s3UBVklh6Qmca/XzeVyyYNbbVeXb3z4vrdPPja5uiNq7EmDsnm3PF5nDFiIKNy+5KemkJtXT07Dh5j1faDvLqpjNLyyuPqzDlzGP92zVkMzNLZjHSOma1w98IO11eAkXgcqqxh5o9e4mh1HQD//NnJTBo2IMmt6l7W7ijnJ0s2Uh1z4+WcM4fxtYsmcNaogdHhRHdnc9lh/rBmF79dUcK2/UeP+5xUMy4oGMzsKcMYO6j1a1z17ryzeR9PLNvGviPV0e2j8/oy/yvncMaIgQnsoZxsFGDioADTeY+8+RE/eH49AKNy+3L358866a+/NGdz2WHueWEjB4/WHLd9UL8MxgzKot5h+/6j7I8JBg3SU41LTxvCZz8xgsHZ7Usceqy6jt8s+/i4h79lpqfw02unMvvM4R3rjJz0FGDioADTOfX1zmX3vsrWfZG/tG++YDyXn9760M/J7NCxGn75zlbe2bwvrvL9+qTyqUlDmTVlGLlZGZ367mUf7Wf+a5s5VlMX3fbtWafxlxdP0B8E0m6dDTCa2yhtenXTnmhw6ZeRygW6uN+qAX3T+evLCvjsWSP4w5pS3tt+gCNVdceV6ZueyhkjBjDzlEEUjsulT1pqQr57xvg8Rub25Z4lG9l1KHJt5u7/28i2fUf54dVTTsqbYiV5FGCkTQ+9viW6fMlpQ8hMT8wvw95u/OB+3HrpROrrnbLDVRw4Wk2KGTl90xncvw8pIZ1RjMzpyw/nTuGnf9zE+tJDACxYvp3S8koe+PI0snXPjHQR/TkjrVpdcpClW/YDkYvPs6cMS3KLep6UFGPogEwmDRvAqUP7M2RAZmjBpUF2ZhrfmT3puLPNhmnQpeXKmyZdQwFGWvXgq5ujyzMnDGJQOy8+S/KkpaZw6yUTuCbmSZzrSw9x9QNv6Wmc0iUUYKRFm3ZX8Ie1u6LrV52l2Ug9jZlxbeFo5l10CqnBWdPuQ1V8Yf7bLFy5o43aIp2jACMteuCV4ujytDG5jGvjngzpvi49bQh3zJ5Ev4zI9bOq2npuX7CSOxeto7pWD0yTcCjASLM27qpg0arG3KSxwyzSM00ZOZAfXj2FETmZ0W2/fHsrX5j/Nh/tPZLElklvpQAjzbr3hY003CI1dXQOE4d0PHmjdB/DB0ZmmE0f1/gYpdUl5cz52Rs8/s5WPdNGEkoBRk5QtHU/L6yPPhWBL00f3Upp6WmyMtL45uWn8tWZY0lNiVyXOVZTxz8tXMd1Dy1l0+6KJLdQegsFGDlOfb1HU8JA5ImVuvbS+5gZc84czg/nTok+mRNg2db9zPnZG/zw+fWUN0l3I9JeCjBynKffKzkuJf/108ckuUUSpvGD+/Gja85k7tQR0VlmtfXOL978iIt+8goPvb6Zypq6Nj5FpHkKMBK1/0g1/7Z4Q3T9M2cOJ7+/7nvp7TLSUrhu+hj+7XNnMmlY/+j28mM1/GjxB1x09ys88uZHCjTSbgowEvUv/7ueA8GwyODsDOZO1cyxk8novCy+d9Vkbv9UAUNi/rDYU1HFD55fzwU/fpkHXimm/JiGziQ+CjACwAvrdvHse4033t30yfHKOXYSMjNmnjKIe7/4Cf7s/HHkxjy0bO/han6yZCPn3/UyP3x+PdubPMdGpCml6xd2H6pkzs/eiD6w6vwJg7jtsoIkt0q6g+rael7+YA/Prd55wjNsUgyumDyUGz85jvNOGaTHAfRCStcvnVJbV89fP/F+NLjkZKXzp58cn+RWSXeRkZbCrCnDuPz0Iby1eS/PrSplx8FIssx6hyXrdrNk3W4m5Pfj+hlj+Ny0UeT169wzbaT30BnMSe77z63jf97aCoAZ/MOc0/WYXWlRvTurth9k8dpdrN1xYsLMjNQULp88hGvOHsXFp+aTkaZR+J5MZzDSYY+/szUaXAA+P22Ugou0KsWMs8fkcvaYXEoOHOWF9bt548MyKmsi+cyq6+pZvGYXi9fsYkBmGldMHsaVZwzlwoLBZGXo183JRmcwJ6mFK3fwjSdXRtPBzBifx+2fKgj9OSXS+xyrruPtzXt5ZeMeNpc1n9MsIy2FGePy+OTEQcwYl8eUkQM1iaQH6OwZjALMSejpFSV8++lVNKSdmpDfj3/8zGT9wEunlRw4yhsf7uXtzXvZe7i6xXJpKcZpw/pz+vABFAzJZtzgfozOzWL4wExystI1YaCbUICJgwJMhLvzny8Xc++Lm6LbRuX25XtXTaZ/ZnorNUXax93ZXHaEoo/3s+LjA5QciP8pmhmpKeT1y2Bg33SyM9Po1yeNvukpZKankpGaQp/0FDJSU+mTnkJmWip9M1LIyqZsB6cAAAphSURBVEijf2YaOVkZDOqXwZD+fRiU3Seaa006RtdgJC7lR2v41tOrjktiOTYvi+/MOV3BRRLOzJg4JJuJQ7K5bvoY9h2uYu3OQ2woPcTGXRXsOlTZYt3qunp2HapstUw80lKMETl9GTsoiwn52dEzpknD+utsvYvoDKaXc3eWrNvF9xauY09FVXT7GSMG8I3LTyW7j/7GkK53pKqWj/cdoeTAMXYcPMauQ5XsPVzFgSM1HAs5JU3D8NzZY3I4Z2wuhWPzGJXbV8NyzdAQWRxO1gCz7KP93PfiRpZu2X/c9k+fMYyvzBxDWoqmkEr3U1lTx+GqWo5U1XKsuo7K2jqqauqprqunts6pqa+nptapqYtsq6qtp7KmjiNBnfLKWg4cqeZwVW3c3zl8YCYzxudFXuPymDgkWwEHBZi4nEwB5uDRahav2cWC5duiWZEbDOybzs0XjGf6uLwktU6k61TV1rHnUBW7yivZcfAY2/YfZeu+I5SWtz30lpuVzjljc5k2Npepo3M4c+TAk3IouVsHGDObBfwMSAV+7u53Ndlvwf45wFHgT939vdbqmlke8CQwDtgKXOvuB1prR28NMO5OWUUV60oP8f62gyzdvI8V2w5Q1+SphCkGl58+lC+eM5rsTA2JycntSFUtm8sO8+Gew2zcVcGHeyqi9/G0ZtygLE4fPoBTh/ZnwpBsxg/qx+i8vgzs23tnvXXbAGNmqcAm4AqgBFgOXO/u62PKzAH+ikiAORf4mbuf21pdM7sb2O/ud5nZHUCuu/99a23pCQHmUGUNC1fu5EhVLXX1TnVt5PS/sqaOY9WRIYNDwal/WUVV3BdAx+ZlMXfqCIYOyGy7sMhJqN6drfuO8kHpITbsqjgh51q8+mWkMii7D7lZ6Qzom06/jDSy+qSSlZFKZloqGWkppKemkJ5qpKakkJoSuXE18opMjMjv34crJw8lLbV7DF9351lkM4Bid98CYGYLgLnA+pgyc4HHPBLllppZjpkNJ3J20lLducAlQf1HgVeBVgNMd7dt31Fm/ex1jlYn/uLmx/uPcv/LxQn/XBE53pHqOo7sP8q2/W2XbU3BkGz+cPuF3SbIdEaYAWYksD1mvYTIWUpbZUa2UXeou5cCuHupmQ1p7svNbB4wL1g9bGYbO9KJThoM7G2rUEpm/5y0nKETuqA9HVZ3tJzUrN6RRkZ96X56Sz+g830pBdK/vXU1dbXd4cE7p3WmcpgBprlByabjcS2Viaduq9z9IeCh9tRJNDMr6szpZXdiZkW15XvUl26mt/Slt/QDel9fOlM/zHOwEmB0zPooYGecZVqruzsYRiN435PANouISIKEGWCWAwVmNt7MMoDrgEVNyiwCbrCImUB5MPzVWt1FwI3B8o3AwhD7ICIiHRTaEJm715rZbcASIlONH3H3dWZ2S7B/PrCYyAyyYiLTlG9qrW7w0XcBT5nZzcA24Ith9SEBkjpEl2DqS/fUW/rSW/oB6kvUSXGjpYiIdL2ePw9ORES6JQUYEREJhQJMSMxslpltNLPiIONAj2JmW81sjZmtbJiqaGZ5ZvaimX0YvOcmu51NmdkjZrbHzNbGbGux3Wb2neAYbTSzTyen1c1roS93mtmO4LisDLJhNOzrln0xs9Fm9oqZbTCzdWZ2e7C9xx2XVvrSE49LppktM7NVQV++H2xP3HFxd70S/CIyMWEzcAqQAawCJie7Xe3sw1ZgcJNtdwN3BMt3AD9OdjubafdFwDRgbVvtBiYHx6YPMD44ZqnJ7kMbfbkT+LtmynbbvgDDgWnBcn8iaaAm98Tj0kpfeuJxMSA7WE4H3gVmJvK46AwmHNE0Oe5eDTSkuunp5hJJz0PwfnUS29Isd38daJqso6V2zwUWuHuVu39EZDbjjC5paBxa6EtLum1f3L3UgyS27l4BbCCSraPHHZdW+tKS7twXd/fDwWp68HISeFwUYMLRUgqcnsSBF8xsRZB2B5qk6QGaTdPTDbXU7p56nG4zs9XBEFrD8EWP6IuZjQPOJvLXco8+Lk36Aj3wuJhZqpmtJHLD+ovuntDjogATjk6nuukGznf3acBs4OtmdlGyGxSCnnicHgQmAFOJpK26N9je7ftiZtnAM8A33P1Qa0Wb2dbd+9Ijj4u717n7VCLZUmaY2ZRWire7Lwow4YgnTU635u47g/c9wO+InAr31DQ9LbW7xx0nd98d/FKoBx6mcYiiW/fFzNKJ/EL+tbs/G2zukcelub701OPSwN0PEslMP4sEHhcFmHDEkyan2zKzfmbWv2EZuBJYS89N09NSuxcB15lZHzMbDxQAy5LQvrg1/OAHriFyXKAb98XMDPgFsMHd74vZ1eOOS0t96aHHJd/McoLlvsDlwAck8rgkeyZDb30RSYGzichMi39Idnva2fZTiMwWWQWsa2g/MAh4CfgweM9LdlubafsTRIYoaoj8xXVza+0G/iE4RhuB2clufxx9eRxYA6wOfuCHd/e+ABcQGUpZDawMXnN64nFppS898bicBbwftHkt8L1ge8KOi1LFiIhIKDREJiIioVCAERGRUCjAiIhIKBRgREQkFAowIiISCgUYkRhmNi42e7GIdJwCjEiCmFlojyBPpJ7STun5FGBETpRqZg8Hz8h4wcz6mtlUM1saJDP8XUMyQzN71cx+ZGavAbeb2RfNbG3wjI3XgzKpZvYTM1se1P9asP0SM3s9+Lz1ZjbfzFKCfddb5Hk8a83sx8G2a83svmD5djPbEixPMLM3g+VzzOy1IEnpkpiUH8e1s2v/OeVkpb9kRE5UAFzv7n9hZk8Bnwe+DfyVu79mZj8A/hn4RlA+x90vBjCzNcCn3X1HQxoOInfgl7v7dDPrA7xlZi8E+2YQec7Gx8D/AZ8zs7eBHwPnAAeIZLW+Gngd+FZQ70Jgn5mNJHJ3+RtBjqz/AOa6e5mZfQn4V+DPmrZTpCsowIic6CN3XxksryCSJTfH3V8Ltj0K/Dam/JMxy28BvwwCU0NSxyuBs8zsC8H6QCJBrBpY5u4NZyJPEAkWNcCr7l4WbP81cJG7/97MsoM8caOB3xB5KNmFwXedBkwBXoykzCKVSKqZ5topEjoFGJETVcUs1wE5LRUMHGlYcPdbzOxc4DPASjObSiTN+V+5+5LYSmZ2CSemO3eaT4ve4B3gJiK5oN4gcnZyHvC3wBhgnbuf11Y7RbqCrsGItK0cOGBmFwbrXwVea66gmU1w93fd/XvAXiJnGkuAvwyGsDCzU4Ms1RB5Bsf44NrLl4A3iTzA6mIzG2xmqcD1Md/3OvB3wfv7wKVAlbuXEwk6+WZ2XvA96WZ2RuL+GUTaR2cwIvG5EZhvZlnAFiJnEc35iZkVEDkLeYlIRurVwDjgvSDdexmNj6F9B7gLOJNI0Pidu9eb2XeAV4LPWezuDSnT3yAStF539zoz204kxTruXh0Mw91vZgOJ/Hz/O5GM2CJdTtmURZIkGCL7O3e/KtltEQmDhshERCQUOoMREZFQ6AxGRERCoQAjIiKhUIAREZFQKMCIiEgoFGBERCQU/x9YGF4aZy+RNwAAAABJRU5ErkJggg==\n",
          "text/plain": "<Figure size 432x288 with 1 Axes>"
         },
         "metadata": {
          "needs_background": "light"
         },
         "output_type": "display_data"
        }
       ]
      }
     },
     "4945e8c589bd440ea44e53b20361dfa1": {
      "model_module": "@jupyter-widgets/controls",
      "model_module_version": "1.5.0",
      "model_name": "VBoxModel",
      "state": {
       "_dom_classes": [
        "widget-interact"
       ],
       "children": [
        "IPY_MODEL_4231f9c157224616846bc660151e59f2",
        "IPY_MODEL_113f4c0898424a08a73dae5e248afdd1"
       ],
       "layout": "IPY_MODEL_89fde2c5c36e4c78af7e62beac080781"
      }
     },
     "495edc73d3284e08a6e167e740a5b8f2": {
      "model_module": "@jupyter-widgets/controls",
      "model_module_version": "1.5.0",
      "model_name": "VBoxModel",
      "state": {
       "_dom_classes": [
        "widget-interact"
       ],
       "children": [
        "IPY_MODEL_f32a74687a1145a29aa3756d530663fd",
        "IPY_MODEL_ab02d9e9920d4ce2a85158b0a8bed156"
       ],
       "layout": "IPY_MODEL_f9e5c5ff6cc6474cbdec2a2e49a88db6"
      }
     },
     "4a52648c98d140b488bc7387edc13623": {
      "model_module": "@jupyter-widgets/base",
      "model_module_version": "1.2.0",
      "model_name": "LayoutModel",
      "state": {}
     },
     "4b87ed20ca1a40e19dea1ad6053b92d4": {
      "model_module": "@jupyter-widgets/base",
      "model_module_version": "1.2.0",
      "model_name": "LayoutModel",
      "state": {}
     },
     "4bbc7dbb4d034ccbba08d5bee8e24c45": {
      "model_module": "@jupyter-widgets/controls",
      "model_module_version": "1.5.0",
      "model_name": "SliderStyleModel",
      "state": {
       "description_width": ""
      }
     },
     "4c3fb9340efe4e93bbfff20d72a61449": {
      "model_module": "@jupyter-widgets/output",
      "model_module_version": "1.0.0",
      "model_name": "OutputModel",
      "state": {
       "layout": "IPY_MODEL_00a9ed71b8bd4664bf271e4117fa5008",
       "outputs": [
        {
         "data": {
          "image/png": "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\n",
          "text/plain": "<Figure size 432x288 with 1 Axes>"
         },
         "metadata": {
          "needs_background": "light"
         },
         "output_type": "display_data"
        }
       ]
      }
     },
     "4c46d98599ae47c0ab3312fd9b47e233": {
      "model_module": "@jupyter-widgets/controls",
      "model_module_version": "1.5.0",
      "model_name": "FloatSliderModel",
      "state": {
       "layout": "IPY_MODEL_149fe1ed80224d65956089eca87c0d5e",
       "step": 0.1,
       "style": "IPY_MODEL_849f1e80af4342128eae99e947846c38",
       "value": 58
      }
     },
     "4cce5940bef2484cb2b6a2c4ec381120": {
      "model_module": "@jupyter-widgets/controls",
      "model_module_version": "1.5.0",
      "model_name": "LinkModel",
      "state": {
       "source": [
        "IPY_MODEL_3a6e15724cce4465b3c220085b312435",
        "value"
       ],
       "target": [
        "IPY_MODEL_508406c0e0804f5fbc8154c560b3a2c2",
        "value"
       ]
      }
     },
     "4d2bb2a6abd449d286b3466fb0e6290e": {
      "model_module": "@jupyter-widgets/output",
      "model_module_version": "1.0.0",
      "model_name": "OutputModel",
      "state": {
       "layout": "IPY_MODEL_ab4a7c0e45a24e2ba7f2a45b46a07348",
       "outputs": [
        {
         "data": {
          "image/png": "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\n",
          "text/plain": "<Figure size 432x288 with 1 Axes>"
         },
         "metadata": {
          "needs_background": "light"
         },
         "output_type": "display_data"
        }
       ]
      }
     },
     "4d8ea770ba33467e87ada08b9e7888e3": {
      "model_module": "@jupyter-widgets/output",
      "model_module_version": "1.0.0",
      "model_name": "OutputModel",
      "state": {
       "layout": "IPY_MODEL_f75e693e87b844cdb88a5aa79bb5ba3e",
       "outputs": [
        {
         "name": "stderr",
         "output_type": "stream",
         "text": "C:\\Users\\JC\\anaconda3\\lib\\site-packages\\scipy\\stats\\kde.py:571: RuntimeWarning: divide by zero encountered in true_divide\n  self.inv_cov = self._data_inv_cov / self.factor**2\n"
        },
        {
         "data": {
          "image/png": "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\n",
          "text/plain": "<Figure size 432x288 with 1 Axes>"
         },
         "metadata": {
          "needs_background": "light"
         },
         "output_type": "display_data"
        }
       ]
      }
     },
     "4e12a0714ed54e6fa63489e2791fbc8c": {
      "model_module": "@jupyter-widgets/output",
      "model_module_version": "1.0.0",
      "model_name": "OutputModel",
      "state": {
       "layout": "IPY_MODEL_a0695c3437a04077be5fab8c117d2dd2",
       "outputs": [
        {
         "data": {
          "image/png": "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\n",
          "text/plain": "<Figure size 432x288 with 1 Axes>"
         },
         "metadata": {
          "needs_background": "light"
         },
         "output_type": "display_data"
        }
       ]
      }
     },
     "4f1bb1a346c04b83a589a0193e9c6f3c": {
      "model_module": "@jupyter-widgets/controls",
      "model_module_version": "1.5.0",
      "model_name": "SliderStyleModel",
      "state": {
       "description_width": ""
      }
     },
     "4f437be88ebd41deaf823add02df2085": {
      "model_module": "@jupyter-widgets/output",
      "model_module_version": "1.0.0",
      "model_name": "OutputModel",
      "state": {
       "layout": "IPY_MODEL_a640d3bb28fc44e7879f0970131a468f",
       "outputs": [
        {
         "data": {
          "image/png": "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\n",
          "text/plain": "<Figure size 432x288 with 1 Axes>"
         },
         "metadata": {
          "needs_background": "light"
         },
         "output_type": "display_data"
        }
       ]
      }
     },
     "508406c0e0804f5fbc8154c560b3a2c2": {
      "model_module": "@jupyter-widgets/controls",
      "model_module_version": "1.5.0",
      "model_name": "IntSliderModel",
      "state": {
       "layout": "IPY_MODEL_d759235afc694e299be46ed8dec4201c",
       "style": "IPY_MODEL_7f00940a786d46669e27d5ea0e9e3e7a",
       "value": 50
      }
     },
     "50e638c3fa6547bba0513daaadb238f9": {
      "model_module": "@jupyter-widgets/base",
      "model_module_version": "1.2.0",
      "model_name": "LayoutModel",
      "state": {}
     },
     "5152f745c7ed4c3ab8373d6ff5d4555d": {
      "model_module": "@jupyter-widgets/controls",
      "model_module_version": "1.5.0",
      "model_name": "DescriptionStyleModel",
      "state": {
       "description_width": ""
      }
     },
     "51a7ac7a565e472489a8285c31606227": {
      "model_module": "@jupyter-widgets/controls",
      "model_module_version": "1.5.0",
      "model_name": "LinkModel",
      "state": {
       "source": [
        "IPY_MODEL_feab31d79ec74c70aa27bbd63ddad465",
        "value"
       ],
       "target": [
        "IPY_MODEL_42ccac299048441c9ebe726e8e68679d",
        "value"
       ]
      }
     },
     "5269b92c97ce4b5a8750eccf39cd4552": {
      "model_module": "@jupyter-widgets/controls",
      "model_module_version": "1.5.0",
      "model_name": "HBoxModel",
      "state": {
       "children": [
        "IPY_MODEL_6a75a85115bc440187bbe4493a7d8613",
        "IPY_MODEL_f8a78004cde94adfbfdcd8c3702c1a7d"
       ],
       "layout": "IPY_MODEL_30373cc5626f4494b87d0700c896cf55"
      }
     },
     "52f94d1dad704622a5e8d49b83a5e02f": {
      "model_module": "@jupyter-widgets/controls",
      "model_module_version": "1.5.0",
      "model_name": "HBoxModel",
      "state": {
       "children": [
        "IPY_MODEL_3a6e15724cce4465b3c220085b312435",
        "IPY_MODEL_508406c0e0804f5fbc8154c560b3a2c2"
       ],
       "layout": "IPY_MODEL_e8c5ebb7d90041a6a41195849ae30a28"
      }
     },
     "540812693c434fca9da2997d99350046": {
      "model_module": "@jupyter-widgets/base",
      "model_module_version": "1.2.0",
      "model_name": "LayoutModel",
      "state": {}
     },
     "55546fdeacb34a7883245a257509ccb8": {
      "model_module": "@jupyter-widgets/controls",
      "model_module_version": "1.5.0",
      "model_name": "FloatSliderModel",
      "state": {
       "description": "bw",
       "layout": "IPY_MODEL_fdcee04a4f8645d4b3f842640e01d8a1",
       "max": 3,
       "min": 0.1,
       "step": 0.1,
       "style": "IPY_MODEL_77b332587c4e4ce5add6911370df034e",
       "value": 0.6
      }
     },
     "5589d47eddff4044a6c7eae58a83e736": {
      "model_module": "@jupyter-widgets/base",
      "model_module_version": "1.2.0",
      "model_name": "LayoutModel",
      "state": {}
     },
     "56b2897972b8486fb2171b17ad8482fc": {
      "model_module": "@jupyter-widgets/base",
      "model_module_version": "1.2.0",
      "model_name": "LayoutModel",
      "state": {
       "height": "350px"
      }
     },
     "5728f40042754fe58ffde7092070d376": {
      "model_module": "@jupyter-widgets/base",
      "model_module_version": "1.2.0",
      "model_name": "LayoutModel",
      "state": {}
     },
     "587d336beb48494e8f9863b720eacb32": {
      "model_module": "@jupyter-widgets/controls",
      "model_module_version": "1.5.0",
      "model_name": "VBoxModel",
      "state": {
       "_dom_classes": [
        "widget-interact"
       ],
       "children": [
        "IPY_MODEL_af43681b53bd442792009580066f0897",
        "IPY_MODEL_434f54f9b6544b40a5662119e2c5411a"
       ],
       "layout": "IPY_MODEL_dc0846b1dc7d411d986a52c637599a5c"
      }
     },
     "5aa6095114df4f4bb946c8393f82a9bd": {
      "model_module": "@jupyter-widgets/base",
      "model_module_version": "1.2.0",
      "model_name": "LayoutModel",
      "state": {}
     },
     "5abd12beefec4da0a235678791abe927": {
      "model_module": "@jupyter-widgets/base",
      "model_module_version": "1.2.0",
      "model_name": "LayoutModel",
      "state": {}
     },
     "5bf2b2040399458caebe695b2728d311": {
      "model_module": "@jupyter-widgets/output",
      "model_module_version": "1.0.0",
      "model_name": "OutputModel",
      "state": {
       "layout": "IPY_MODEL_34396293f80147208db0d193a74e0ca4",
       "outputs": [
        {
         "data": {
          "image/png": "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\n",
          "text/plain": "<Figure size 432x288 with 1 Axes>"
         },
         "metadata": {
          "needs_background": "light"
         },
         "output_type": "display_data"
        }
       ]
      }
     },
     "5c84653a43ef4381970f3c19ed4f7423": {
      "model_module": "@jupyter-widgets/base",
      "model_module_version": "1.2.0",
      "model_name": "LayoutModel",
      "state": {}
     },
     "5cb8024a1dc04f87a758f0be816610f1": {
      "model_module": "@jupyter-widgets/base",
      "model_module_version": "1.2.0",
      "model_name": "LayoutModel",
      "state": {}
     },
     "5dd160c3077145f79741fb5422cfc2ae": {
      "model_module": "@jupyter-widgets/base",
      "model_module_version": "1.2.0",
      "model_name": "LayoutModel",
      "state": {}
     },
     "5fbc31d64a444702a72c243f01775628": {
      "model_module": "@jupyter-widgets/base",
      "model_module_version": "1.2.0",
      "model_name": "LayoutModel",
      "state": {}
     },
     "614a13b2824b4cd0b32c13ab0a7a7ea3": {
      "model_module": "@jupyter-widgets/controls",
      "model_module_version": "1.5.0",
      "model_name": "LinkModel",
      "state": {
       "source": [
        "IPY_MODEL_6a75a85115bc440187bbe4493a7d8613",
        "value"
       ],
       "target": [
        "IPY_MODEL_f8a78004cde94adfbfdcd8c3702c1a7d",
        "value"
       ]
      }
     },
     "615e83af13cf4c379bbe0fd70e876ba7": {
      "model_module": "@jupyter-widgets/base",
      "model_module_version": "1.2.0",
      "model_name": "LayoutModel",
      "state": {}
     },
     "6243ea5fc2ad4fc887e6ca3c0c620a7d": {
      "model_module": "@jupyter-widgets/output",
      "model_module_version": "1.0.0",
      "model_name": "OutputModel",
      "state": {
       "layout": "IPY_MODEL_f315c2c8b1514a76bf08341ebca5eb7f",
       "outputs": [
        {
         "data": {
          "image/png": "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\n",
          "text/plain": "<Figure size 432x288 with 1 Axes>"
         },
         "metadata": {
          "needs_background": "light"
         },
         "output_type": "display_data"
        }
       ]
      }
     },
     "62db065b29f740c3b7e3ce55d217179d": {
      "model_module": "@jupyter-widgets/output",
      "model_module_version": "1.0.0",
      "model_name": "OutputModel",
      "state": {
       "layout": "IPY_MODEL_ea776d7dfd4b4ba4a570a1c00beb2b69",
       "outputs": [
        {
         "data": {
          "image/png": "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\n",
          "text/plain": "<Figure size 432x288 with 1 Axes>"
         },
         "metadata": {
          "needs_background": "light"
         },
         "output_type": "display_data"
        }
       ]
      }
     },
     "63c6d088410c496fb89220bbbd06b088": {
      "model_module": "@jupyter-widgets/base",
      "model_module_version": "1.2.0",
      "model_name": "LayoutModel",
      "state": {}
     },
     "64be7f8feea442cc97c27546471617e2": {
      "model_module": "@jupyter-widgets/controls",
      "model_module_version": "1.5.0",
      "model_name": "SliderStyleModel",
      "state": {
       "description_width": ""
      }
     },
     "652d491d7cc54e89bc84d570a253d10e": {
      "model_module": "@jupyter-widgets/base",
      "model_module_version": "1.2.0",
      "model_name": "LayoutModel",
      "state": {}
     },
     "65cc42c6cc04481da6b8288ca9a5b60e": {
      "model_module": "@jupyter-widgets/base",
      "model_module_version": "1.2.0",
      "model_name": "LayoutModel",
      "state": {}
     },
     "6673ff97ac7c484584724e79aa7b6431": {
      "model_module": "@jupyter-widgets/base",
      "model_module_version": "1.2.0",
      "model_name": "LayoutModel",
      "state": {}
     },
     "6724350cc7b64a54915c7cc3d0cc40aa": {
      "model_module": "@jupyter-widgets/controls",
      "model_module_version": "1.5.0",
      "model_name": "FloatSliderModel",
      "state": {
       "description": "bandwidth",
       "layout": "IPY_MODEL_297ecc833db0444180696af446871699",
       "max": 3,
       "min": 0.1,
       "readout_format": ".1f",
       "step": 0.1,
       "style": "IPY_MODEL_6e414f75e4794e1cb24ebdea80738041",
       "value": 1.2
      }
     },
     "67b44875785341c29547f68db7c95fe4": {
      "model_module": "@jupyter-widgets/controls",
      "model_module_version": "1.5.0",
      "model_name": "SliderStyleModel",
      "state": {
       "description_width": ""
      }
     },
     "6a75a85115bc440187bbe4493a7d8613": {
      "model_module": "@jupyter-widgets/controls",
      "model_module_version": "1.5.0",
      "model_name": "PlayModel",
      "state": {
       "_playing": true,
       "description": "Press play",
       "interval": 500,
       "layout": "IPY_MODEL_82cd08056e304a9dadaecc636a752ab5",
       "step": 0,
       "style": "IPY_MODEL_b97dc1f0df004712a5538cd189d5015d"
      }
     },
     "6b0286a01b294076a3133ebfa9b8f387": {
      "model_module": "@jupyter-widgets/controls",
      "model_module_version": "1.5.0",
      "model_name": "VBoxModel",
      "state": {
       "_dom_classes": [
        "widget-interact"
       ],
       "children": [
        "IPY_MODEL_737b0453c4294a6b891622b4f5c262c9",
        "IPY_MODEL_98be279d6dd64815b287fc03dd166e7c",
        "IPY_MODEL_a283b451b40e4dd88c5bcb7724e40ba0",
        "IPY_MODEL_8ab2a7f197404e04b39034665022311a"
       ],
       "layout": "IPY_MODEL_44affbf0874f4e65af8aa46a0b553144"
      }
     },
     "6c2612dc6ebe4db28324bf853d4f55bc": {
      "model_module": "@jupyter-widgets/base",
      "model_module_version": "1.2.0",
      "model_name": "LayoutModel",
      "state": {}
     },
     "6cd79b3b52ef40c1a915e9ee02a49941": {
      "model_module": "@jupyter-widgets/controls",
      "model_module_version": "1.5.0",
      "model_name": "SliderStyleModel",
      "state": {
       "description_width": ""
      }
     },
     "6d726c47b2e24c4bbb53522b4f82b0d5": {
      "model_module": "@jupyter-widgets/base",
      "model_module_version": "1.2.0",
      "model_name": "LayoutModel",
      "state": {}
     },
     "6e414f75e4794e1cb24ebdea80738041": {
      "model_module": "@jupyter-widgets/controls",
      "model_module_version": "1.5.0",
      "model_name": "SliderStyleModel",
      "state": {
       "description_width": ""
      }
     },
     "6e76363cbde34df1bb139ae68ae3790f": {
      "model_module": "@jupyter-widgets/base",
      "model_module_version": "1.2.0",
      "model_name": "LayoutModel",
      "state": {}
     },
     "6fe1ee8e2981436993865893315f8a3b": {
      "model_module": "@jupyter-widgets/base",
      "model_module_version": "1.2.0",
      "model_name": "LayoutModel",
      "state": {}
     },
     "707e55a244b64a248d4e92a96deabde1": {
      "model_module": "@jupyter-widgets/controls",
      "model_module_version": "1.5.0",
      "model_name": "FloatSliderModel",
      "state": {
       "description": "m",
       "layout": "IPY_MODEL_735627cc17924349a25bb42f002a8e54",
       "max": 2,
       "min": -2,
       "step": 0.1,
       "style": "IPY_MODEL_39001518a15244e2ad8463ee6486a35b",
       "value": 0.4
      }
     },
     "70b534fcfa0f4aa7a61b4d7dfa958d5c": {
      "model_module": "@jupyter-widgets/controls",
      "model_module_version": "1.5.0",
      "model_name": "VBoxModel",
      "state": {
       "_dom_classes": [
        "widget-interact"
       ],
       "children": [
        "IPY_MODEL_8d5f241ad4ee423984ba6bcc029b6913",
        "IPY_MODEL_4c3fb9340efe4e93bbfff20d72a61449"
       ],
       "layout": "IPY_MODEL_01a776e30bac432abe382f511380dcee"
      }
     },
     "70cf5e380a734f7e8ca72c29603bc65d": {
      "model_module": "@jupyter-widgets/output",
      "model_module_version": "1.0.0",
      "model_name": "OutputModel",
      "state": {
       "layout": "IPY_MODEL_86cbab8e6ede4d3b966f8442bb4fc2b3",
       "outputs": [
        {
         "data": {
          "image/png": "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\n",
          "text/plain": "<Figure size 432x288 with 1 Axes>"
         },
         "metadata": {
          "needs_background": "light"
         },
         "output_type": "display_data"
        }
       ]
      }
     },
     "71c6a58525324b7abb696b04559b1d3a": {
      "model_module": "@jupyter-widgets/base",
      "model_module_version": "1.2.0",
      "model_name": "LayoutModel",
      "state": {}
     },
     "732b1c956879403ca69fb9f5508149c3": {
      "model_module": "@jupyter-widgets/controls",
      "model_module_version": "1.5.0",
      "model_name": "FloatSliderModel",
      "state": {
       "description": "b",
       "layout": "IPY_MODEL_6673ff97ac7c484584724e79aa7b6431",
       "max": 3,
       "min": -3,
       "step": 0.1,
       "style": "IPY_MODEL_f345625ae11f4e7fa96215d9cbfedb3f",
       "value": 1
      }
     },
     "735627cc17924349a25bb42f002a8e54": {
      "model_module": "@jupyter-widgets/base",
      "model_module_version": "1.2.0",
      "model_name": "LayoutModel",
      "state": {}
     },
     "737b0453c4294a6b891622b4f5c262c9": {
      "model_module": "@jupyter-widgets/controls",
      "model_module_version": "1.5.0",
      "model_name": "FloatSliderModel",
      "state": {
       "description": "a",
       "layout": "IPY_MODEL_0671707f8b8d442e914cc5c62f369b33",
       "max": 2,
       "min": -2,
       "step": 0.1,
       "style": "IPY_MODEL_481eb7f27ca040ed8be52e708269526f",
       "value": -0.7
      }
     },
     "749ed77fa8ee4a5da8878036c8287026": {
      "model_module": "@jupyter-widgets/controls",
      "model_module_version": "1.5.0",
      "model_name": "FloatSliderModel",
      "state": {
       "description": "bw",
       "layout": "IPY_MODEL_db2f9ce13aba40e082d465564ecc8ee8",
       "max": 3,
       "min": 0.1,
       "step": 0.1,
       "style": "IPY_MODEL_de076e19ba304b2da129bf9fb4510c56",
       "value": 0.9
      }
     },
     "7723fabe9761443d97d447f68cb38144": {
      "model_module": "@jupyter-widgets/controls",
      "model_module_version": "1.5.0",
      "model_name": "SliderStyleModel",
      "state": {
       "description_width": ""
      }
     },
     "7769ca26aa244949a40efc66ae14c22e": {
      "model_module": "@jupyter-widgets/controls",
      "model_module_version": "1.5.0",
      "model_name": "VBoxModel",
      "state": {
       "_dom_classes": [
        "widget-interact"
       ],
       "children": [
        "IPY_MODEL_3242d68478054dfda3f4911e1983dcd9",
        "IPY_MODEL_47e7dedb20254bf5b9889a75e57b36f7"
       ],
       "layout": "IPY_MODEL_d75be5871964479bb9208314dc7b8430"
      }
     },
     "77b332587c4e4ce5add6911370df034e": {
      "model_module": "@jupyter-widgets/controls",
      "model_module_version": "1.5.0",
      "model_name": "SliderStyleModel",
      "state": {
       "description_width": ""
      }
     },
     "7801894c27be44aa85d5cdab0f88c950": {
      "model_module": "@jupyter-widgets/base",
      "model_module_version": "1.2.0",
      "model_name": "LayoutModel",
      "state": {}
     },
     "7880c0ec919747529eb8b1b5a0bf5e1e": {
      "model_module": "@jupyter-widgets/base",
      "model_module_version": "1.2.0",
      "model_name": "LayoutModel",
      "state": {}
     },
     "79a76655902b4e409ed4a540974e07f0": {
      "model_module": "@jupyter-widgets/controls",
      "model_module_version": "1.5.0",
      "model_name": "IntSliderModel",
      "state": {
       "layout": "IPY_MODEL_7880c0ec919747529eb8b1b5a0bf5e1e",
       "style": "IPY_MODEL_c954135964ca43818c2bcda1372b7267"
      }
     },
     "7a86cd92dfb84b818a94aa1b15d8c7fd": {
      "model_module": "@jupyter-widgets/controls",
      "model_module_version": "1.5.0",
      "model_name": "FloatSliderModel",
      "state": {
       "layout": "IPY_MODEL_7801894c27be44aa85d5cdab0f88c950",
       "step": 0.1,
       "style": "IPY_MODEL_4bbc7dbb4d034ccbba08d5bee8e24c45",
       "value": 50
      }
     },
     "7abfeb020bae4b0b943cfbdd6a16dc8c": {
      "model_module": "@jupyter-widgets/controls",
      "model_module_version": "1.5.0",
      "model_name": "SliderStyleModel",
      "state": {
       "description_width": ""
      }
     },
     "7ad02664044a4fc9954e15ee9184c8e3": {
      "model_module": "@jupyter-widgets/controls",
      "model_module_version": "1.5.0",
      "model_name": "FloatSliderModel",
      "state": {
       "description": "c",
       "layout": "IPY_MODEL_894b67beda3543d2ba180d8117bf2669",
       "max": 1,
       "min": -1,
       "step": 0.1,
       "style": "IPY_MODEL_99ffc3d5b99b43b1a9171a0988ce3722"
      }
     },
     "7ae0a6de87c2454d8d27f411c1dbc38f": {
      "model_module": "@jupyter-widgets/base",
      "model_module_version": "1.2.0",
      "model_name": "LayoutModel",
      "state": {}
     },
     "7c0fb56608a642e7896a8d6eea415881": {
      "model_module": "@jupyter-widgets/controls",
      "model_module_version": "1.5.0",
      "model_name": "LinkModel",
      "state": {
       "source": [
        "IPY_MODEL_0873ad98964945c2ab139d2d248ac5d3",
        "value"
       ],
       "target": [
        "IPY_MODEL_7a86cd92dfb84b818a94aa1b15d8c7fd",
        "value"
       ]
      }
     },
     "7dbae9b59f1747c0a8f66e777c77a501": {
      "model_module": "@jupyter-widgets/base",
      "model_module_version": "1.2.0",
      "model_name": "LayoutModel",
      "state": {}
     },
     "7f00940a786d46669e27d5ea0e9e3e7a": {
      "model_module": "@jupyter-widgets/controls",
      "model_module_version": "1.5.0",
      "model_name": "SliderStyleModel",
      "state": {
       "description_width": ""
      }
     },
     "8131ee9a5aeb4ff6b7d9b63a26bdec6b": {
      "model_module": "@jupyter-widgets/output",
      "model_module_version": "1.0.0",
      "model_name": "OutputModel",
      "state": {
       "layout": "IPY_MODEL_bcb31569a34b483fa9621a81f3881129",
       "outputs": [
        {
         "name": "stderr",
         "output_type": "stream",
         "text": "C:\\Users\\JC\\anaconda3\\lib\\site-packages\\scipy\\stats\\kde.py:571: RuntimeWarning: divide by zero encountered in true_divide\n  self.inv_cov = self._data_inv_cov / self.factor**2\n"
        },
        {
         "data": {
          "image/png": "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\n",
          "text/plain": "<Figure size 432x288 with 1 Axes>"
         },
         "metadata": {
          "needs_background": "light"
         },
         "output_type": "display_data"
        }
       ]
      }
     },
     "8185b663b86f4eda95cd834b024b3b45": {
      "model_module": "@jupyter-widgets/controls",
      "model_module_version": "1.5.0",
      "model_name": "SliderStyleModel",
      "state": {
       "description_width": ""
      }
     },
     "81e1248dc0aa41c9914409a0096dbf9b": {
      "model_module": "@jupyter-widgets/controls",
      "model_module_version": "1.5.0",
      "model_name": "SliderStyleModel",
      "state": {
       "description_width": ""
      }
     },
     "82cd08056e304a9dadaecc636a752ab5": {
      "model_module": "@jupyter-widgets/base",
      "model_module_version": "1.2.0",
      "model_name": "LayoutModel",
      "state": {}
     },
     "83026964368142868cf7eca811350276": {
      "model_module": "@jupyter-widgets/controls",
      "model_module_version": "1.5.0",
      "model_name": "FloatSliderModel",
      "state": {
       "description": "bw",
       "layout": "IPY_MODEL_24d2c08256ef49a8925d4581ff710f42",
       "max": 3,
       "min": 0.1,
       "step": 0.1,
       "style": "IPY_MODEL_009f42a2c161493ba1539d46779e6599",
       "value": 0.5
      }
     },
     "832b424da895441abc692afce548fbc9": {
      "model_module": "@jupyter-widgets/base",
      "model_module_version": "1.2.0",
      "model_name": "LayoutModel",
      "state": {}
     },
     "849f1e80af4342128eae99e947846c38": {
      "model_module": "@jupyter-widgets/controls",
      "model_module_version": "1.5.0",
      "model_name": "SliderStyleModel",
      "state": {
       "description_width": ""
      }
     },
     "869a7abd05a44b699977b43cbce37951": {
      "model_module": "@jupyter-widgets/output",
      "model_module_version": "1.0.0",
      "model_name": "OutputModel",
      "state": {
       "layout": "IPY_MODEL_0427a8bc9d6f4da49c6205520f1a1d0b",
       "outputs": [
        {
         "data": {
          "image/png": "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\n",
          "text/plain": "<Figure size 432x288 with 1 Axes>"
         },
         "metadata": {
          "needs_background": "light"
         },
         "output_type": "display_data"
        }
       ]
      }
     },
     "86aa080df3744bef9b387bcb3fecd4ee": {
      "model_module": "@jupyter-widgets/base",
      "model_module_version": "1.2.0",
      "model_name": "LayoutModel",
      "state": {}
     },
     "86cbab8e6ede4d3b966f8442bb4fc2b3": {
      "model_module": "@jupyter-widgets/base",
      "model_module_version": "1.2.0",
      "model_name": "LayoutModel",
      "state": {}
     },
     "88c1b1b404f448239b5269b0aaacf2bf": {
      "model_module": "@jupyter-widgets/base",
      "model_module_version": "1.2.0",
      "model_name": "LayoutModel",
      "state": {
       "height": "350px"
      }
     },
     "88f4d84bf02146948c15e8a9c112f200": {
      "model_module": "@jupyter-widgets/base",
      "model_module_version": "1.2.0",
      "model_name": "LayoutModel",
      "state": {}
     },
     "893bc48d6df3492da4cb5220f93b3c2d": {
      "model_module": "@jupyter-widgets/controls",
      "model_module_version": "1.5.0",
      "model_name": "LinkModel",
      "state": {
       "source": [
        "IPY_MODEL_3878e5f3b61c4307b88c18845c5aa4a6",
        "value"
       ],
       "target": [
        "IPY_MODEL_cad201356773455695823ba9445a1661",
        "value"
       ]
      }
     },
     "894b67beda3543d2ba180d8117bf2669": {
      "model_module": "@jupyter-widgets/base",
      "model_module_version": "1.2.0",
      "model_name": "LayoutModel",
      "state": {}
     },
     "89944a93f911412f85b6fa3540993981": {
      "model_module": "@jupyter-widgets/controls",
      "model_module_version": "1.5.0",
      "model_name": "SliderStyleModel",
      "state": {
       "description_width": ""
      }
     },
     "89fde2c5c36e4c78af7e62beac080781": {
      "model_module": "@jupyter-widgets/base",
      "model_module_version": "1.2.0",
      "model_name": "LayoutModel",
      "state": {}
     },
     "8a1e8b58b4f84082ac18f777c2de1dc0": {
      "model_module": "@jupyter-widgets/controls",
      "model_module_version": "1.5.0",
      "model_name": "DescriptionStyleModel",
      "state": {
       "description_width": ""
      }
     },
     "8ab2a7f197404e04b39034665022311a": {
      "model_module": "@jupyter-widgets/output",
      "model_module_version": "1.0.0",
      "model_name": "OutputModel",
      "state": {
       "layout": "IPY_MODEL_88c1b1b404f448239b5269b0aaacf2bf",
       "outputs": [
        {
         "data": {
          "image/png": "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\n",
          "text/plain": "<Figure size 432x288 with 1 Axes>"
         },
         "metadata": {
          "needs_background": "light"
         },
         "output_type": "display_data"
        }
       ]
      }
     },
     "8bb47bc46c604cc2a6fabdc62af07d1a": {
      "model_module": "@jupyter-widgets/controls",
      "model_module_version": "1.5.0",
      "model_name": "VBoxModel",
      "state": {
       "_dom_classes": [
        "widget-interact"
       ],
       "children": [
        "IPY_MODEL_d35c8fd760b24c66ba58836378be7d98",
        "IPY_MODEL_4f437be88ebd41deaf823add02df2085"
       ],
       "layout": "IPY_MODEL_a1da8566759b42028c187e2c6fe76e37"
      }
     },
     "8d5f241ad4ee423984ba6bcc029b6913": {
      "model_module": "@jupyter-widgets/controls",
      "model_module_version": "1.5.0",
      "model_name": "FloatSliderModel",
      "state": {
       "description": "bandwidth",
       "layout": "IPY_MODEL_e5a3303f57864e5a9edd1fb25a1e44b8",
       "max": 3,
       "min": 0.1,
       "readout_format": ".1f",
       "step": 0.1,
       "style": "IPY_MODEL_2c37137da2c44a0f9280771203da6448",
       "value": 2.1
      }
     },
     "8d842d8ac8054649a259744351364e85": {
      "model_module": "@jupyter-widgets/controls",
      "model_module_version": "1.5.0",
      "model_name": "LinkModel",
      "state": {
       "source": [
        "IPY_MODEL_44edd716f8ff4371b139f68f07640085",
        "value"
       ],
       "target": [
        "IPY_MODEL_4c46d98599ae47c0ab3312fd9b47e233",
        "value"
       ]
      }
     },
     "8f16757b7be540ffa59f3eade06ded39": {
      "model_module": "@jupyter-widgets/controls",
      "model_module_version": "1.5.0",
      "model_name": "SliderStyleModel",
      "state": {
       "description_width": ""
      }
     },
     "8f26e59828fd4e938888140f06845a54": {
      "model_module": "@jupyter-widgets/base",
      "model_module_version": "1.2.0",
      "model_name": "LayoutModel",
      "state": {}
     },
     "8f47180fe35b4c59a63fd2e244fbcd62": {
      "model_module": "@jupyter-widgets/controls",
      "model_module_version": "1.5.0",
      "model_name": "FloatSliderModel",
      "state": {
       "description": "c",
       "layout": "IPY_MODEL_ee8d59449b3e4911a6e843f09b411050",
       "max": 5,
       "min": -5,
       "step": 0.1,
       "style": "IPY_MODEL_64be7f8feea442cc97c27546471617e2",
       "value": -3.4
      }
     },
     "8faf6dcf4e414ff0a060e277c8aa09d3": {
      "model_module": "@jupyter-widgets/base",
      "model_module_version": "1.2.0",
      "model_name": "LayoutModel",
      "state": {}
     },
     "907db3242e794941b73ac3792b2d41d5": {
      "model_module": "@jupyter-widgets/controls",
      "model_module_version": "1.5.0",
      "model_name": "FloatSliderModel",
      "state": {
       "description": "bandwidth",
       "layout": "IPY_MODEL_02b0d22d263d4d1e9f7a6770a3bbe131",
       "max": 3,
       "min": 0.1,
       "readout_format": ".1f",
       "step": 0.1,
       "style": "IPY_MODEL_99c1d85730564ea0aa4e6db76daf2370",
       "value": 1
      }
     },
     "91926dbc559b457cadddf88850c179c4": {
      "model_module": "@jupyter-widgets/controls",
      "model_module_version": "1.5.0",
      "model_name": "FloatSliderModel",
      "state": {
       "description": "a",
       "layout": "IPY_MODEL_4b87ed20ca1a40e19dea1ad6053b92d4",
       "max": 2,
       "min": -2,
       "step": 0.1,
       "style": "IPY_MODEL_f1d7756e352a4f56946a5ea726f3fc3a",
       "value": 0.6
      }
     },
     "961e621c8fe747e79258fbdf5517c1fe": {
      "model_module": "@jupyter-widgets/controls",
      "model_module_version": "1.5.0",
      "model_name": "FloatSliderModel",
      "state": {
       "description": "bw",
       "layout": "IPY_MODEL_31cc2c5e8ecd4f80b786d3585233b809",
       "max": 3,
       "min": 0.1,
       "step": 0.1,
       "style": "IPY_MODEL_bf5fdc5cc7c64e89b4e6b34075571e33",
       "value": 1
      }
     },
     "9872163a810b44f88265aca6eff1bff9": {
      "model_module": "@jupyter-widgets/controls",
      "model_module_version": "1.5.0",
      "model_name": "PlayModel",
      "state": {
       "description": "Press play",
       "interval": 500,
       "layout": "IPY_MODEL_5dd160c3077145f79741fb5422cfc2ae",
       "max": 3,
       "min": 1,
       "style": "IPY_MODEL_cf5c55ac623945b2a2d95c8395bb7262",
       "value": 1
      }
     },
     "98be279d6dd64815b287fc03dd166e7c": {
      "model_module": "@jupyter-widgets/controls",
      "model_module_version": "1.5.0",
      "model_name": "FloatSliderModel",
      "state": {
       "description": "b",
       "layout": "IPY_MODEL_c95573991f3142da9153e0f67399ba07",
       "max": 3,
       "min": -3,
       "step": 0.1,
       "style": "IPY_MODEL_063de81fecfc4b71877543dfe25da3c7",
       "value": 3
      }
     },
     "99b5e203ae77433d864847c0b5a87bf9": {
      "model_module": "@jupyter-widgets/output",
      "model_module_version": "1.0.0",
      "model_name": "OutputModel",
      "state": {
       "layout": "IPY_MODEL_178583886e1d41818d8e2c9e0bdf4f58",
       "outputs": [
        {
         "data": {
          "image/png": "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\n",
          "text/plain": "<Figure size 432x288 with 1 Axes>"
         },
         "metadata": {
          "needs_background": "light"
         },
         "output_type": "display_data"
        }
       ]
      }
     },
     "99c1d85730564ea0aa4e6db76daf2370": {
      "model_module": "@jupyter-widgets/controls",
      "model_module_version": "1.5.0",
      "model_name": "SliderStyleModel",
      "state": {
       "description_width": ""
      }
     },
     "99ffc3d5b99b43b1a9171a0988ce3722": {
      "model_module": "@jupyter-widgets/controls",
      "model_module_version": "1.5.0",
      "model_name": "SliderStyleModel",
      "state": {
       "description_width": ""
      }
     },
     "9c046a077dd24f0e9345450f51ccb929": {
      "model_module": "@jupyter-widgets/controls",
      "model_module_version": "1.5.0",
      "model_name": "SliderStyleModel",
      "state": {
       "description_width": ""
      }
     },
     "9ce55047c441422cb56f754308efa8ee": {
      "model_module": "@jupyter-widgets/controls",
      "model_module_version": "1.5.0",
      "model_name": "IntSliderModel",
      "state": {
       "description": "bandwidth",
       "layout": "IPY_MODEL_246ec54e62114af596a8bfbefc313d17",
       "max": 3,
       "readout_format": ".1f",
       "step": 0,
       "style": "IPY_MODEL_ebffb006d9a941968bffb84425517432"
      }
     },
     "9ddca2d68ca24bd6bc414b93f2d57033": {
      "model_module": "@jupyter-widgets/controls",
      "model_module_version": "1.5.0",
      "model_name": "SliderStyleModel",
      "state": {
       "description_width": ""
      }
     },
     "9dfacc987b9e4c968bace6db6764d1ce": {
      "model_module": "@jupyter-widgets/base",
      "model_module_version": "1.2.0",
      "model_name": "LayoutModel",
      "state": {}
     },
     "9eb5936daa064d768d3f0cd86a848894": {
      "model_module": "@jupyter-widgets/base",
      "model_module_version": "1.2.0",
      "model_name": "LayoutModel",
      "state": {}
     },
     "9f701a81a2e64c46975ee349a2825d46": {
      "model_module": "@jupyter-widgets/base",
      "model_module_version": "1.2.0",
      "model_name": "LayoutModel",
      "state": {}
     },
     "a0695c3437a04077be5fab8c117d2dd2": {
      "model_module": "@jupyter-widgets/base",
      "model_module_version": "1.2.0",
      "model_name": "LayoutModel",
      "state": {}
     },
     "a1da8566759b42028c187e2c6fe76e37": {
      "model_module": "@jupyter-widgets/base",
      "model_module_version": "1.2.0",
      "model_name": "LayoutModel",
      "state": {}
     },
     "a283b451b40e4dd88c5bcb7724e40ba0": {
      "model_module": "@jupyter-widgets/controls",
      "model_module_version": "1.5.0",
      "model_name": "FloatSliderModel",
      "state": {
       "description": "c",
       "layout": "IPY_MODEL_5aa6095114df4f4bb946c8393f82a9bd",
       "max": 10,
       "min": -10,
       "step": 0.1,
       "style": "IPY_MODEL_4604007f5e7d4e13a05e09bb5b55816a",
       "value": 10
      }
     },
     "a41c1a6ae27d4c9c8dfc5147982b046e": {
      "model_module": "@jupyter-widgets/controls",
      "model_module_version": "1.5.0",
      "model_name": "VBoxModel",
      "state": {
       "_dom_classes": [
        "widget-interact"
       ],
       "children": [
        "IPY_MODEL_55546fdeacb34a7883245a257509ccb8",
        "IPY_MODEL_4d2bb2a6abd449d286b3466fb0e6290e"
       ],
       "layout": "IPY_MODEL_bcf965ca2867481299b592abaf173470"
      }
     },
     "a640d3bb28fc44e7879f0970131a468f": {
      "model_module": "@jupyter-widgets/base",
      "model_module_version": "1.2.0",
      "model_name": "LayoutModel",
      "state": {}
     },
     "a6a799d73e7c49d4aa31f7966ee264b1": {
      "model_module": "@jupyter-widgets/controls",
      "model_module_version": "1.5.0",
      "model_name": "SliderStyleModel",
      "state": {
       "description_width": ""
      }
     },
     "a6c6d46c5639466d85a33f7d0c7838d4": {
      "model_module": "@jupyter-widgets/base",
      "model_module_version": "1.2.0",
      "model_name": "LayoutModel",
      "state": {}
     },
     "a8ca2d3589a0416ebedb64f3458fe576": {
      "model_module": "@jupyter-widgets/base",
      "model_module_version": "1.2.0",
      "model_name": "LayoutModel",
      "state": {}
     },
     "a8e6653753f149f19652584059154366": {
      "model_module": "@jupyter-widgets/base",
      "model_module_version": "1.2.0",
      "model_name": "LayoutModel",
      "state": {}
     },
     "a920da24718c45fbb7749eeab54b7dd2": {
      "model_module": "@jupyter-widgets/base",
      "model_module_version": "1.2.0",
      "model_name": "LayoutModel",
      "state": {}
     },
     "a999b2e1b9754f7a834a780e6d82fa29": {
      "model_module": "@jupyter-widgets/controls",
      "model_module_version": "1.5.0",
      "model_name": "FloatSliderModel",
      "state": {
       "description": "b",
       "layout": "IPY_MODEL_019605bf3d354a24a8fd3196943468c5",
       "max": 3,
       "min": -3,
       "step": 0.1,
       "style": "IPY_MODEL_8185b663b86f4eda95cd834b024b3b45",
       "value": -1.2
      }
     },
     "ab02d9e9920d4ce2a85158b0a8bed156": {
      "model_module": "@jupyter-widgets/output",
      "model_module_version": "1.0.0",
      "model_name": "OutputModel",
      "state": {
       "layout": "IPY_MODEL_5cb8024a1dc04f87a758f0be816610f1",
       "outputs": [
        {
         "data": {
          "image/png": "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\n",
          "text/plain": "<Figure size 432x288 with 1 Axes>"
         },
         "metadata": {
          "needs_background": "light"
         },
         "output_type": "display_data"
        }
       ]
      }
     },
     "ab4a7c0e45a24e2ba7f2a45b46a07348": {
      "model_module": "@jupyter-widgets/base",
      "model_module_version": "1.2.0",
      "model_name": "LayoutModel",
      "state": {}
     },
     "ac6b1a9b69184f4ab8858e033b40791c": {
      "model_module": "@jupyter-widgets/controls",
      "model_module_version": "1.5.0",
      "model_name": "SliderStyleModel",
      "state": {
       "description_width": ""
      }
     },
     "ad9848b0c8d94ce8837176a998401c6b": {
      "model_module": "@jupyter-widgets/controls",
      "model_module_version": "1.5.0",
      "model_name": "FloatSliderModel",
      "state": {
       "description": "c",
       "layout": "IPY_MODEL_86aa080df3744bef9b387bcb3fecd4ee",
       "max": 1,
       "min": -1,
       "step": 0.1,
       "style": "IPY_MODEL_0fc2210518094a5b86f0f57c90118f10"
      }
     },
     "ae47719ae67c4b7e96b566e68f39246e": {
      "model_module": "@jupyter-widgets/controls",
      "model_module_version": "1.5.0",
      "model_name": "PlayModel",
      "state": {
       "description": "Press play",
       "interval": 500,
       "layout": "IPY_MODEL_35d4d85bbc7b4ec6af98321d195057d5",
       "max": 3,
       "step": 0,
       "style": "IPY_MODEL_161d4b59d1424bfc83cb8baaa21ad3e6"
      }
     },
     "af43681b53bd442792009580066f0897": {
      "model_module": "@jupyter-widgets/controls",
      "model_module_version": "1.5.0",
      "model_name": "FloatSliderModel",
      "state": {
       "description": "bw",
       "layout": "IPY_MODEL_c819e7a991bd466c86d4432ea021a959",
       "max": 3,
       "min": 0.1,
       "step": 0.1,
       "style": "IPY_MODEL_cd473f2abf3e44829c067923a5f09cb0",
       "value": 1
      }
     },
     "b011e52489664765a8771b3149bc84c2": {
      "model_module": "@jupyter-widgets/controls",
      "model_module_version": "1.5.0",
      "model_name": "VBoxModel",
      "state": {
       "_dom_classes": [
        "widget-interact"
       ],
       "children": [
        "IPY_MODEL_907db3242e794941b73ac3792b2d41d5",
        "IPY_MODEL_b756528e7acf4c0e892f4e17387ea188"
       ],
       "layout": "IPY_MODEL_b6a3494e6adb482b98ce4801063b508d"
      }
     },
     "b31ca7b9d5c24394b6e9b955eb23b7f5": {
      "model_module": "@jupyter-widgets/controls",
      "model_module_version": "1.5.0",
      "model_name": "HBoxModel",
      "state": {
       "children": [
        "IPY_MODEL_feab31d79ec74c70aa27bbd63ddad465",
        "IPY_MODEL_42ccac299048441c9ebe726e8e68679d"
       ],
       "layout": "IPY_MODEL_ca6b98ef37bb4cf49e30a1dc4f021c69"
      }
     },
     "b431ffc967d54c5baf27578471b14b5c": {
      "model_module": "@jupyter-widgets/base",
      "model_module_version": "1.2.0",
      "model_name": "LayoutModel",
      "state": {}
     },
     "b493da199a464a2daa20b647e6933e93": {
      "model_module": "@jupyter-widgets/controls",
      "model_module_version": "1.5.0",
      "model_name": "SliderStyleModel",
      "state": {
       "description_width": ""
      }
     },
     "b6a3494e6adb482b98ce4801063b508d": {
      "model_module": "@jupyter-widgets/base",
      "model_module_version": "1.2.0",
      "model_name": "LayoutModel",
      "state": {}
     },
     "b6fb6316547842d980c9698ec5b82db8": {
      "model_module": "@jupyter-widgets/controls",
      "model_module_version": "1.5.0",
      "model_name": "HBoxModel",
      "state": {
       "children": [
        "IPY_MODEL_ae47719ae67c4b7e96b566e68f39246e",
        "IPY_MODEL_34d7f17ff4cb4843a018369e8bb81caa"
       ],
       "layout": "IPY_MODEL_0df1026402f84ff69ed23e6ed89d88a8"
      }
     },
     "b756528e7acf4c0e892f4e17387ea188": {
      "model_module": "@jupyter-widgets/output",
      "model_module_version": "1.0.0",
      "model_name": "OutputModel",
      "state": {
       "layout": "IPY_MODEL_a8e6653753f149f19652584059154366",
       "outputs": [
        {
         "data": {
          "image/png": "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\n",
          "text/plain": "<Figure size 432x288 with 1 Axes>"
         },
         "metadata": {
          "needs_background": "light"
         },
         "output_type": "display_data"
        }
       ]
      }
     },
     "b85277d234b84898bb9a89d2dfc65bf8": {
      "model_module": "@jupyter-widgets/base",
      "model_module_version": "1.2.0",
      "model_name": "LayoutModel",
      "state": {}
     },
     "b97dc1f0df004712a5538cd189d5015d": {
      "model_module": "@jupyter-widgets/controls",
      "model_module_version": "1.5.0",
      "model_name": "DescriptionStyleModel",
      "state": {
       "description_width": ""
      }
     },
     "bcb31569a34b483fa9621a81f3881129": {
      "model_module": "@jupyter-widgets/base",
      "model_module_version": "1.2.0",
      "model_name": "LayoutModel",
      "state": {}
     },
     "bcf965ca2867481299b592abaf173470": {
      "model_module": "@jupyter-widgets/base",
      "model_module_version": "1.2.0",
      "model_name": "LayoutModel",
      "state": {}
     },
     "bd29e94fa8f04195bdafb5a994575df3": {
      "model_module": "@jupyter-widgets/controls",
      "model_module_version": "1.5.0",
      "model_name": "FloatSliderModel",
      "state": {
       "description": "bw",
       "layout": "IPY_MODEL_6e76363cbde34df1bb139ae68ae3790f",
       "max": 3,
       "min": 0.1,
       "step": 0.1,
       "style": "IPY_MODEL_fb701bfb142740fe879651dcda344b7c",
       "value": 1.9
      }
     },
     "bf5fdc5cc7c64e89b4e6b34075571e33": {
      "model_module": "@jupyter-widgets/controls",
      "model_module_version": "1.5.0",
      "model_name": "SliderStyleModel",
      "state": {
       "description_width": ""
      }
     },
     "c001a5e3dd7c4d10a7188948edce603a": {
      "model_module": "@jupyter-widgets/controls",
      "model_module_version": "1.5.0",
      "model_name": "SliderStyleModel",
      "state": {
       "description_width": ""
      }
     },
     "c0bedada780c4599a0f4b1f0803e28cc": {
      "model_module": "@jupyter-widgets/controls",
      "model_module_version": "1.5.0",
      "model_name": "VBoxModel",
      "state": {
       "_dom_classes": [
        "widget-interact"
       ],
       "children": [
        "IPY_MODEL_6724350cc7b64a54915c7cc3d0cc40aa",
        "IPY_MODEL_d3fc7b326e7a425ba68e2efe8f42a692"
       ],
       "layout": "IPY_MODEL_a6c6d46c5639466d85a33f7d0c7838d4"
      }
     },
     "c19927b7816148e09a9f00b66a4128ad": {
      "model_module": "@jupyter-widgets/controls",
      "model_module_version": "1.5.0",
      "model_name": "SliderStyleModel",
      "state": {
       "description_width": ""
      }
     },
     "c2cbad7e741c4105b69bec7260067c99": {
      "model_module": "@jupyter-widgets/controls",
      "model_module_version": "1.5.0",
      "model_name": "SliderStyleModel",
      "state": {
       "description_width": ""
      }
     },
     "c3983139d414455b8139ffd7e9843221": {
      "model_module": "@jupyter-widgets/controls",
      "model_module_version": "1.5.0",
      "model_name": "SliderStyleModel",
      "state": {
       "description_width": ""
      }
     },
     "c50c8388c36346499285548d52595f0a": {
      "model_module": "@jupyter-widgets/controls",
      "model_module_version": "1.5.0",
      "model_name": "VBoxModel",
      "state": {
       "_dom_classes": [
        "widget-interact"
       ],
       "children": [
        "IPY_MODEL_cf436d74ea0841058b75b8913f6c04ac",
        "IPY_MODEL_4e12a0714ed54e6fa63489e2791fbc8c"
       ],
       "layout": "IPY_MODEL_43958d2db4f54c249406c8626f62cf13"
      }
     },
     "c5d1937e1eda4614850382a099440c29": {
      "model_module": "@jupyter-widgets/controls",
      "model_module_version": "1.5.0",
      "model_name": "FloatSliderModel",
      "state": {
       "continuous_update": false,
       "description": "Test:",
       "layout": "IPY_MODEL_f3f1d8a4e2e046ec9ea1d01fe7654bc5",
       "max": 10,
       "orientation": "vertical",
       "readout_format": ".1f",
       "step": 0.1,
       "style": "IPY_MODEL_dcf0af8a18964b05bd22255ed8411da5",
       "value": 7.5
      }
     },
     "c71105b810114301b9c4d24438750115": {
      "model_module": "@jupyter-widgets/base",
      "model_module_version": "1.2.0",
      "model_name": "LayoutModel",
      "state": {}
     },
     "c819e7a991bd466c86d4432ea021a959": {
      "model_module": "@jupyter-widgets/base",
      "model_module_version": "1.2.0",
      "model_name": "LayoutModel",
      "state": {}
     },
     "c954135964ca43818c2bcda1372b7267": {
      "model_module": "@jupyter-widgets/controls",
      "model_module_version": "1.5.0",
      "model_name": "SliderStyleModel",
      "state": {
       "description_width": ""
      }
     },
     "c95573991f3142da9153e0f67399ba07": {
      "model_module": "@jupyter-widgets/base",
      "model_module_version": "1.2.0",
      "model_name": "LayoutModel",
      "state": {}
     },
     "ca5c5137218746d38395c258049bcc0d": {
      "model_module": "@jupyter-widgets/controls",
      "model_module_version": "1.5.0",
      "model_name": "VBoxModel",
      "state": {
       "_dom_classes": [
        "widget-interact"
       ],
       "children": [
        "IPY_MODEL_9ce55047c441422cb56f754308efa8ee",
        "IPY_MODEL_8131ee9a5aeb4ff6b7d9b63a26bdec6b"
       ],
       "layout": "IPY_MODEL_832b424da895441abc692afce548fbc9"
      }
     },
     "ca6b98ef37bb4cf49e30a1dc4f021c69": {
      "model_module": "@jupyter-widgets/base",
      "model_module_version": "1.2.0",
      "model_name": "LayoutModel",
      "state": {}
     },
     "cad201356773455695823ba9445a1661": {
      "model_module": "@jupyter-widgets/controls",
      "model_module_version": "1.5.0",
      "model_name": "FloatSliderModel",
      "state": {
       "layout": "IPY_MODEL_1a630388707849eb92200829720e38af",
       "readout_format": ".3f",
       "step": 0.001,
       "style": "IPY_MODEL_ac6b1a9b69184f4ab8858e033b40791c",
       "value": 42.642
      }
     },
     "cbb30afc05d34ce7a56bfed85ae564c8": {
      "model_module": "@jupyter-widgets/base",
      "model_module_version": "1.2.0",
      "model_name": "LayoutModel",
      "state": {}
     },
     "cbbd8c95365c42cebd4ef23848226b99": {
      "model_module": "@jupyter-widgets/base",
      "model_module_version": "1.2.0",
      "model_name": "LayoutModel",
      "state": {
       "height": "350px"
      }
     },
     "cc1f4a11a1864fec972a7c5bc309d21e": {
      "model_module": "@jupyter-widgets/base",
      "model_module_version": "1.2.0",
      "model_name": "LayoutModel",
      "state": {}
     },
     "cd473f2abf3e44829c067923a5f09cb0": {
      "model_module": "@jupyter-widgets/controls",
      "model_module_version": "1.5.0",
      "model_name": "SliderStyleModel",
      "state": {
       "description_width": ""
      }
     },
     "cd4bb21bab4747f6ad5a4c8464f406af": {
      "model_module": "@jupyter-widgets/output",
      "model_module_version": "1.0.0",
      "model_name": "OutputModel",
      "state": {
       "layout": "IPY_MODEL_5589d47eddff4044a6c7eae58a83e736",
       "outputs": [
        {
         "data": {
          "image/png": "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\n",
          "text/plain": "<Figure size 432x288 with 1 Axes>"
         },
         "metadata": {
          "needs_background": "light"
         },
         "output_type": "display_data"
        }
       ]
      }
     },
     "cdf4e5b3d7cd4a8b9a330935074f0ed3": {
      "model_module": "@jupyter-widgets/controls",
      "model_module_version": "1.5.0",
      "model_name": "FloatSliderModel",
      "state": {
       "description": "bw",
       "layout": "IPY_MODEL_fdb805b5f0ba4608a86f13681682ef7b",
       "step": 0.1,
       "style": "IPY_MODEL_011bfa95f323457b8c54af09fb0a340b",
       "value": 1
      }
     },
     "ceb1a75c4b7a4c0f886b1af3083d8179": {
      "model_module": "@jupyter-widgets/controls",
      "model_module_version": "1.5.0",
      "model_name": "VBoxModel",
      "state": {
       "_dom_classes": [
        "widget-interact"
       ],
       "children": [
        "IPY_MODEL_707e55a244b64a248d4e92a96deabde1",
        "IPY_MODEL_fa3dad29f22943d1a6d689103ca48a23",
        "IPY_MODEL_3b025d3030da4977a1f59e1633dd84e5"
       ],
       "layout": "IPY_MODEL_6fe1ee8e2981436993865893315f8a3b"
      }
     },
     "cf436d74ea0841058b75b8913f6c04ac": {
      "model_module": "@jupyter-widgets/controls",
      "model_module_version": "1.5.0",
      "model_name": "IntSliderModel",
      "state": {
       "description": "bandwidth",
       "layout": "IPY_MODEL_0e1a5d5272eb41dc8f97c6bf20df91de",
       "max": 3,
       "readout_format": ".1f",
       "step": 0,
       "style": "IPY_MODEL_6cd79b3b52ef40c1a915e9ee02a49941",
       "value": 1
      }
     },
     "cf48733d767d44f09f97b3f786b75e58": {
      "model_module": "@jupyter-widgets/controls",
      "model_module_version": "1.5.0",
      "model_name": "VBoxModel",
      "state": {
       "_dom_classes": [
        "widget-interact"
       ],
       "children": [
        "IPY_MODEL_fc7367c8978c4beaa5679a4c057f029a",
        "IPY_MODEL_3502c290a61743b395bad743e3af000e",
        "IPY_MODEL_7ad02664044a4fc9954e15ee9184c8e3",
        "IPY_MODEL_62db065b29f740c3b7e3ce55d217179d"
       ],
       "layout": "IPY_MODEL_71c6a58525324b7abb696b04559b1d3a"
      }
     },
     "cf5c55ac623945b2a2d95c8395bb7262": {
      "model_module": "@jupyter-widgets/controls",
      "model_module_version": "1.5.0",
      "model_name": "DescriptionStyleModel",
      "state": {
       "description_width": ""
      }
     },
     "d09a9d98ea6f4e2fb0346b323dc6e22c": {
      "model_module": "@jupyter-widgets/controls",
      "model_module_version": "1.5.0",
      "model_name": "HBoxModel",
      "state": {
       "children": [
        "IPY_MODEL_9872163a810b44f88265aca6eff1bff9",
        "IPY_MODEL_cdf4e5b3d7cd4a8b9a330935074f0ed3"
       ],
       "layout": "IPY_MODEL_3bb93faf3ad44fad81a7263cc872dbe8"
      }
     },
     "d1d0dd2485c74f3f9fe413514c4b829e": {
      "model_module": "@jupyter-widgets/base",
      "model_module_version": "1.2.0",
      "model_name": "LayoutModel",
      "state": {}
     },
     "d26ea49278a740c6b8536204a1d63220": {
      "model_module": "@jupyter-widgets/controls",
      "model_module_version": "1.5.0",
      "model_name": "VBoxModel",
      "state": {
       "_dom_classes": [
        "widget-interact"
       ],
       "children": [
        "IPY_MODEL_91926dbc559b457cadddf88850c179c4",
        "IPY_MODEL_a999b2e1b9754f7a834a780e6d82fa29",
        "IPY_MODEL_8f47180fe35b4c59a63fd2e244fbcd62",
        "IPY_MODEL_d6204aac95d445db9ac339ee24e0942b"
       ],
       "layout": "IPY_MODEL_88f4d84bf02146948c15e8a9c112f200"
      }
     },
     "d2a64b8bf64a49dd9d02dbdf2a1f8103": {
      "model_module": "@jupyter-widgets/controls",
      "model_module_version": "1.5.0",
      "model_name": "FloatSliderModel",
      "state": {
       "description": "c",
       "layout": "IPY_MODEL_b85277d234b84898bb9a89d2dfc65bf8",
       "max": 1,
       "min": -1,
       "step": 0.1,
       "style": "IPY_MODEL_376974da61c34c98a912543fd9b39dcd",
       "value": -1
      }
     },
     "d35c8fd760b24c66ba58836378be7d98": {
      "model_module": "@jupyter-widgets/controls",
      "model_module_version": "1.5.0",
      "model_name": "FloatSliderModel",
      "state": {
       "description": "bw",
       "layout": "IPY_MODEL_cc1f4a11a1864fec972a7c5bc309d21e",
       "max": 3,
       "min": 0.1,
       "step": 0.1,
       "style": "IPY_MODEL_67b44875785341c29547f68db7c95fe4",
       "value": 1.4
      }
     },
     "d3fc7b326e7a425ba68e2efe8f42a692": {
      "model_module": "@jupyter-widgets/output",
      "model_module_version": "1.0.0",
      "model_name": "OutputModel",
      "state": {
       "layout": "IPY_MODEL_5fbc31d64a444702a72c243f01775628",
       "outputs": [
        {
         "data": {
          "image/png": "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\n",
          "text/plain": "<Figure size 432x288 with 1 Axes>"
         },
         "metadata": {
          "needs_background": "light"
         },
         "output_type": "display_data"
        }
       ]
      }
     },
     "d50157ebd51d447c93fd5946b7b7a375": {
      "model_module": "@jupyter-widgets/controls",
      "model_module_version": "1.5.0",
      "model_name": "VBoxModel",
      "state": {
       "_dom_classes": [
        "widget-interact"
       ],
       "children": [
        "IPY_MODEL_3aa21024448e42119beb8ea2ac770ccd",
        "IPY_MODEL_732b1c956879403ca69fb9f5508149c3",
        "IPY_MODEL_d2a64b8bf64a49dd9d02dbdf2a1f8103",
        "IPY_MODEL_25eb331629dc438f9a390ef2e77d92f1"
       ],
       "layout": "IPY_MODEL_540812693c434fca9da2997d99350046"
      }
     },
     "d6204aac95d445db9ac339ee24e0942b": {
      "model_module": "@jupyter-widgets/output",
      "model_module_version": "1.0.0",
      "model_name": "OutputModel",
      "state": {
       "layout": "IPY_MODEL_cbbd8c95365c42cebd4ef23848226b99",
       "outputs": [
        {
         "data": {
          "image/png": "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\n",
          "text/plain": "<Figure size 432x288 with 1 Axes>"
         },
         "metadata": {
          "needs_background": "light"
         },
         "output_type": "display_data"
        }
       ]
      }
     },
     "d759235afc694e299be46ed8dec4201c": {
      "model_module": "@jupyter-widgets/base",
      "model_module_version": "1.2.0",
      "model_name": "LayoutModel",
      "state": {}
     },
     "d75be5871964479bb9208314dc7b8430": {
      "model_module": "@jupyter-widgets/base",
      "model_module_version": "1.2.0",
      "model_name": "LayoutModel",
      "state": {}
     },
     "d7dce2c74f8246b8b92c95f01e2cfe26": {
      "model_module": "@jupyter-widgets/base",
      "model_module_version": "1.2.0",
      "model_name": "LayoutModel",
      "state": {}
     },
     "d84afc110f614095996502fa87648e64": {
      "model_module": "@jupyter-widgets/base",
      "model_module_version": "1.2.0",
      "model_name": "LayoutModel",
      "state": {}
     },
     "db2f9ce13aba40e082d465564ecc8ee8": {
      "model_module": "@jupyter-widgets/base",
      "model_module_version": "1.2.0",
      "model_name": "LayoutModel",
      "state": {}
     },
     "dc0846b1dc7d411d986a52c637599a5c": {
      "model_module": "@jupyter-widgets/base",
      "model_module_version": "1.2.0",
      "model_name": "LayoutModel",
      "state": {}
     },
     "dc0feb7037e84f999add5078a3df1e89": {
      "model_module": "@jupyter-widgets/controls",
      "model_module_version": "1.5.0",
      "model_name": "IntSliderModel",
      "state": {
       "continuous_update": false,
       "description": "Test:",
       "layout": "IPY_MODEL_e51822ccc73345c688c9927d098c041e",
       "max": 10,
       "style": "IPY_MODEL_48f2441148e04d87abc25e51b957cfce",
       "value": 7
      }
     },
     "dcb35f8f3c0f4998bb58090d227a4867": {
      "model_module": "@jupyter-widgets/base",
      "model_module_version": "1.2.0",
      "model_name": "LayoutModel",
      "state": {}
     },
     "dcf0af8a18964b05bd22255ed8411da5": {
      "model_module": "@jupyter-widgets/controls",
      "model_module_version": "1.5.0",
      "model_name": "SliderStyleModel",
      "state": {
       "description_width": ""
      }
     },
     "de076e19ba304b2da129bf9fb4510c56": {
      "model_module": "@jupyter-widgets/controls",
      "model_module_version": "1.5.0",
      "model_name": "SliderStyleModel",
      "state": {
       "description_width": ""
      }
     },
     "e08f33b079974441aa6a25ca42ed905c": {
      "model_module": "@jupyter-widgets/controls",
      "model_module_version": "1.5.0",
      "model_name": "FloatSliderModel",
      "state": {
       "description": "bandwidth",
       "layout": "IPY_MODEL_6c2612dc6ebe4db28324bf853d4f55bc",
       "max": 3,
       "min": 0.1,
       "orientation": "vertical",
       "readout_format": ".1f",
       "step": 0.1,
       "style": "IPY_MODEL_c2cbad7e741c4105b69bec7260067c99",
       "value": 2
      }
     },
     "e14511d0b18b4b609d9c32fa054e7124": {
      "model_module": "@jupyter-widgets/controls",
      "model_module_version": "1.5.0",
      "model_name": "FloatSliderModel",
      "state": {
       "description": "c",
       "layout": "IPY_MODEL_43af10ebfe2b4578ae5139019fd2acc5",
       "max": 10,
       "min": -10,
       "step": 0.1,
       "style": "IPY_MODEL_9ddca2d68ca24bd6bc414b93f2d57033",
       "value": 4.6
      }
     },
     "e2803f7be87044aa8e99d3e8365b4fbe": {
      "model_module": "@jupyter-widgets/controls",
      "model_module_version": "1.5.0",
      "model_name": "FloatSliderModel",
      "state": {
       "description": "b",
       "layout": "IPY_MODEL_8faf6dcf4e414ff0a060e277c8aa09d3",
       "max": 3,
       "min": -3,
       "step": 0.1,
       "style": "IPY_MODEL_8f16757b7be540ffa59f3eade06ded39"
      }
     },
     "e4d5f2711ac44ec78dd708820ec79e73": {
      "model_module": "@jupyter-widgets/base",
      "model_module_version": "1.2.0",
      "model_name": "LayoutModel",
      "state": {}
     },
     "e51822ccc73345c688c9927d098c041e": {
      "model_module": "@jupyter-widgets/base",
      "model_module_version": "1.2.0",
      "model_name": "LayoutModel",
      "state": {}
     },
     "e5a3303f57864e5a9edd1fb25a1e44b8": {
      "model_module": "@jupyter-widgets/base",
      "model_module_version": "1.2.0",
      "model_name": "LayoutModel",
      "state": {}
     },
     "e8c5ebb7d90041a6a41195849ae30a28": {
      "model_module": "@jupyter-widgets/base",
      "model_module_version": "1.2.0",
      "model_name": "LayoutModel",
      "state": {}
     },
     "e92ea61529f64d8ba99ba8b8414a05af": {
      "model_module": "@jupyter-widgets/controls",
      "model_module_version": "1.5.0",
      "model_name": "DescriptionStyleModel",
      "state": {
       "description_width": ""
      }
     },
     "ea776d7dfd4b4ba4a570a1c00beb2b69": {
      "model_module": "@jupyter-widgets/base",
      "model_module_version": "1.2.0",
      "model_name": "LayoutModel",
      "state": {
       "height": "350px"
      }
     },
     "ebffb006d9a941968bffb84425517432": {
      "model_module": "@jupyter-widgets/controls",
      "model_module_version": "1.5.0",
      "model_name": "SliderStyleModel",
      "state": {
       "description_width": ""
      }
     },
     "ee8d59449b3e4911a6e843f09b411050": {
      "model_module": "@jupyter-widgets/base",
      "model_module_version": "1.2.0",
      "model_name": "LayoutModel",
      "state": {}
     },
     "eee83f8bf70942c3adb30f809e3318f5": {
      "model_module": "@jupyter-widgets/controls",
      "model_module_version": "1.5.0",
      "model_name": "VBoxModel",
      "state": {
       "_dom_classes": [
        "widget-interact"
       ],
       "children": [
        "IPY_MODEL_83026964368142868cf7eca811350276",
        "IPY_MODEL_70cf5e380a734f7e8ca72c29603bc65d"
       ],
       "layout": "IPY_MODEL_2a6a241cef604c989af73134cb65708b"
      }
     },
     "ef8211482da04e049e66e97c099a0b65": {
      "model_module": "@jupyter-widgets/base",
      "model_module_version": "1.2.0",
      "model_name": "LayoutModel",
      "state": {}
     },
     "f1d7756e352a4f56946a5ea726f3fc3a": {
      "model_module": "@jupyter-widgets/controls",
      "model_module_version": "1.5.0",
      "model_name": "SliderStyleModel",
      "state": {
       "description_width": ""
      }
     },
     "f315c2c8b1514a76bf08341ebca5eb7f": {
      "model_module": "@jupyter-widgets/base",
      "model_module_version": "1.2.0",
      "model_name": "LayoutModel",
      "state": {}
     },
     "f32a74687a1145a29aa3756d530663fd": {
      "model_module": "@jupyter-widgets/controls",
      "model_module_version": "1.5.0",
      "model_name": "FloatSliderModel",
      "state": {
       "description": "bw",
       "layout": "IPY_MODEL_5abd12beefec4da0a235678791abe927",
       "max": 3,
       "min": 0.1,
       "step": 0.1,
       "style": "IPY_MODEL_c001a5e3dd7c4d10a7188948edce603a",
       "value": 1
      }
     },
     "f345625ae11f4e7fa96215d9cbfedb3f": {
      "model_module": "@jupyter-widgets/controls",
      "model_module_version": "1.5.0",
      "model_name": "SliderStyleModel",
      "state": {
       "description_width": ""
      }
     },
     "f3f1d8a4e2e046ec9ea1d01fe7654bc5": {
      "model_module": "@jupyter-widgets/base",
      "model_module_version": "1.2.0",
      "model_name": "LayoutModel",
      "state": {}
     },
     "f660a1cd93a14a898ca016be36be05f7": {
      "model_module": "@jupyter-widgets/output",
      "model_module_version": "1.0.0",
      "model_name": "OutputModel",
      "state": {
       "layout": "IPY_MODEL_8f26e59828fd4e938888140f06845a54",
       "outputs": [
        {
         "data": {
          "image/png": "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\n",
          "text/plain": "<Figure size 432x288 with 1 Axes>"
         },
         "metadata": {
          "needs_background": "light"
         },
         "output_type": "display_data"
        }
       ]
      }
     },
     "f6a8d4d891744587918a1a975135aaed": {
      "model_module": "@jupyter-widgets/controls",
      "model_module_version": "1.5.0",
      "model_name": "SliderStyleModel",
      "state": {
       "description_width": ""
      }
     },
     "f75e693e87b844cdb88a5aa79bb5ba3e": {
      "model_module": "@jupyter-widgets/base",
      "model_module_version": "1.2.0",
      "model_name": "LayoutModel",
      "state": {}
     },
     "f7c0dbc74ea54fc58cc4aab509d87d81": {
      "model_module": "@jupyter-widgets/controls",
      "model_module_version": "1.5.0",
      "model_name": "VBoxModel",
      "state": {
       "_dom_classes": [
        "widget-interact"
       ],
       "children": [
        "IPY_MODEL_e08f33b079974441aa6a25ca42ed905c",
        "IPY_MODEL_5bf2b2040399458caebe695b2728d311"
       ],
       "layout": "IPY_MODEL_5c84653a43ef4381970f3c19ed4f7423"
      }
     },
     "f87be6cfc2c4458fb10f99212fcd9d9c": {
      "model_module": "@jupyter-widgets/controls",
      "model_module_version": "1.5.0",
      "model_name": "SliderStyleModel",
      "state": {
       "description_width": ""
      }
     },
     "f8a78004cde94adfbfdcd8c3702c1a7d": {
      "model_module": "@jupyter-widgets/controls",
      "model_module_version": "1.5.0",
      "model_name": "FloatSliderModel",
      "state": {
       "layout": "IPY_MODEL_1c4ec0517ae94e689bc20b89efff0ff3",
       "step": 0.1,
       "style": "IPY_MODEL_a6a799d73e7c49d4aa31f7966ee264b1"
      }
     },
     "f98fd9d6c22a49ad91bad9eef34b301c": {
      "model_module": "@jupyter-widgets/base",
      "model_module_version": "1.2.0",
      "model_name": "LayoutModel",
      "state": {}
     },
     "f9e5c5ff6cc6474cbdec2a2e49a88db6": {
      "model_module": "@jupyter-widgets/base",
      "model_module_version": "1.2.0",
      "model_name": "LayoutModel",
      "state": {}
     },
     "fa3dad29f22943d1a6d689103ca48a23": {
      "model_module": "@jupyter-widgets/controls",
      "model_module_version": "1.5.0",
      "model_name": "FloatSliderModel",
      "state": {
       "description": "b",
       "layout": "IPY_MODEL_63c6d088410c496fb89220bbbd06b088",
       "max": 3,
       "min": -3,
       "step": 0.5,
       "style": "IPY_MODEL_c3983139d414455b8139ffd7e9843221",
       "value": -0.5
      }
     },
     "fa73646152a94dac8dbce37527cc996d": {
      "model_module": "@jupyter-widgets/controls",
      "model_module_version": "1.5.0",
      "model_name": "SliderStyleModel",
      "state": {
       "description_width": ""
      }
     },
     "fb1c67b9f20f4c1b9bc6a7f5f9b0ecfd": {
      "model_module": "@jupyter-widgets/controls",
      "model_module_version": "1.5.0",
      "model_name": "VBoxModel",
      "state": {
       "_dom_classes": [
        "widget-interact"
       ],
       "children": [
        "IPY_MODEL_34d7f17ff4cb4843a018369e8bb81caa",
        "IPY_MODEL_4d8ea770ba33467e87ada08b9e7888e3"
       ],
       "layout": "IPY_MODEL_d1d0dd2485c74f3f9fe413514c4b829e"
      }
     },
     "fb701bfb142740fe879651dcda344b7c": {
      "model_module": "@jupyter-widgets/controls",
      "model_module_version": "1.5.0",
      "model_name": "SliderStyleModel",
      "state": {
       "description_width": ""
      }
     },
     "fc7367c8978c4beaa5679a4c057f029a": {
      "model_module": "@jupyter-widgets/controls",
      "model_module_version": "1.5.0",
      "model_name": "FloatSliderModel",
      "state": {
       "description": "a",
       "layout": "IPY_MODEL_ef8211482da04e049e66e97c099a0b65",
       "max": 2,
       "min": -2,
       "step": 0.1,
       "style": "IPY_MODEL_4f1bb1a346c04b83a589a0193e9c6f3c"
      }
     },
     "fcd163649dae4a9ea8921dac5b0f1db0": {
      "model_module": "@jupyter-widgets/controls",
      "model_module_version": "1.5.0",
      "model_name": "VBoxModel",
      "state": {
       "_dom_classes": [
        "widget-interact"
       ],
       "children": [
        "IPY_MODEL_961e621c8fe747e79258fbdf5517c1fe",
        "IPY_MODEL_494186b895d9482194d7626e6d69377a"
       ],
       "layout": "IPY_MODEL_50e638c3fa6547bba0513daaadb238f9"
      }
     },
     "fdb805b5f0ba4608a86f13681682ef7b": {
      "model_module": "@jupyter-widgets/base",
      "model_module_version": "1.2.0",
      "model_name": "LayoutModel",
      "state": {}
     },
     "fdcee04a4f8645d4b3f842640e01d8a1": {
      "model_module": "@jupyter-widgets/base",
      "model_module_version": "1.2.0",
      "model_name": "LayoutModel",
      "state": {}
     },
     "feab31d79ec74c70aa27bbd63ddad465": {
      "model_module": "@jupyter-widgets/controls",
      "model_module_version": "1.5.0",
      "model_name": "PlayModel",
      "state": {
       "description": "Press play",
       "interval": 500,
       "layout": "IPY_MODEL_3f5d28aafb434fd1a95159236921eaa0",
       "style": "IPY_MODEL_471c3b7545744b81bd411fbd122b4194"
      }
     }
    },
    "version_major": 2,
    "version_minor": 0
   }
  }
 },
 "nbformat": 4,
 "nbformat_minor": 4
}
