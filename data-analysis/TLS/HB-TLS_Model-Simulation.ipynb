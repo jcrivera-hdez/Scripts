{
 "cells": [
  {
   "cell_type": "code",
   "execution_count": 1,
   "metadata": {
    "pycharm": {
     "name": "#%%\n"
    }
   },
   "outputs": [
    {
     "data": {
      "text/html": [
       "<script>\n",
       "code_show=true; \n",
       "function code_toggle() {\n",
       " if (code_show){\n",
       " $('div.input').hide();\n",
       " } else {\n",
       " $('div.input').show();\n",
       " }\n",
       " code_show = !code_show\n",
       "} \n",
       "$( document ).ready(code_toggle);\n",
       "</script>\n",
       "<form action=\"javascript:code_toggle()\"><input type=\"submit\" value=\"Click here to toggle on/off the raw code.\"></form>"
      ],
      "text/plain": [
       "<IPython.core.display.HTML object>"
      ]
     },
     "execution_count": 1,
     "metadata": {},
     "output_type": "execute_result"
    }
   ],
   "source": [
    "%matplotlib inline\n",
    "from IPython.display import HTML\n",
    "from IPython.display import display, Markdown\n",
    "\n",
    "\n",
    "HTML('''<script>\n",
    "code_show=true; \n",
    "function code_toggle() {\n",
    " if (code_show){\n",
    " $('div.input').hide();\n",
    " } else {\n",
    " $('div.input').show();\n",
    " }\n",
    " code_show = !code_show\n",
    "} \n",
    "$( document ).ready(code_toggle);\n",
    "</script>\n",
    "<form action=\"javascript:code_toggle()\"><input type=\"submit\" value=\"Click here to toggle on/off the raw code.\"></form>''')"
   ]
  },
  {
   "cell_type": "markdown",
   "source": [
    "# Non-linear resonator dynamics simulation\n",
    "\n",
    "The purpose of this notebook is to simulate ${\\lambda}/{4}$ coplanar waveguide resonators, capacitively coupled to an open transmission line in a notch configuration.\n",
    "\n",
    "<br>\n",
    "\n",
    "<div>\n",
    "<img src=\"attachment:TLS-Schematics.png\" width=\"300\"/>\n",
    "</div>\n",
    "\n",
    "These resonators are designed and assumed to behave linearly, described as a harmonic LC oscillator to a generally satisfactory degree. \n",
    "We explore whether defects and loss channels, such as parasitic TLS, can give rise to non-linearities that are overlooked in ideal models.\n",
    "\n",
    "<br>\n",
    "\n",
    "<div>\n",
    "<img src=\"attachment:Setup-drawing.png\" width=\"500\"/>\n",
    "</div>\n",
    "\n",
    "<br>\n",
    "Our goal is to simulate the internal dynamics of the resonator $(a)$.\n",
    "Nevertheless, we only have direct access to information at the input $(a_{in})$ and output $(a_{out})$ of the system.\n",
    "Therefore, to calculate the intra-cavity field we use input-output theory to obtain\n",
    "\n",
    "$$ \\dfrac{a_{out}}{e^{i\\alpha}\\sqrt{G}} = \\dfrac{a_{in}}{e^{i\\beta}\\sqrt{\\mathcal{A}}} + \\lambda a \\quad \\rightarrow \\quad a = \\dfrac{1}{\\lambda} e^{i\\alpha} \\left( \\dfrac{a_{out}}{\\sqrt{G}} - e^{i(\\alpha-\\beta)}\\dfrac{a_{in}}{\\sqrt{\\mathcal{A}}} \\right) $$\n",
    "\n",
    "where $G$ and $\\mathcal{A}$ are the gain and attenuation of the output and input line respectively, $\\lambda$ represents the waveguide-resonator coupling rate, and $\\alpha$ and $\\beta$ simbolize the phase delays in the lines.\n",
    "Notice that we only care about the phase difference, $\\phi$, between the input and output line.\n",
    "\n",
    "The dynamics of the resonator are described by the Heisenberg equation of motion \n",
    "\n",
    "$$ \\dot{a} = -i \\omega_r a - \\kappa_0 a - \\kappa_{TLS}(a) a + \\dfrac{\\lambda}{\\sqrt{\\mathcal{A}}}a_{in}, $$\n",
    "\n",
    "where $\\omega_r$ indicates the resonant frequency, $\\kappa_0$ the linear dissipation and $\\kappa_{TLS}(a)$ the non-linear dissipation due to the TLS of the cavity.\n",
    "\n",
    "The TLS non-linear dissipation is given by\n",
    "\n",
    "$$ \\kappa_{TLS}(a) = \\dfrac{ \\kappa_{TLS}}{\\sqrt{1+ \\left( |a|/a_c \\right)^2}}  $$\n",
    "\n",
    "Including this expression in the equation of motion we get\n",
    "\n",
    "$$ \\dot{a} = -i \\omega_r a - \\kappa_0 a - \\dfrac{ \\kappa_{TLS}}{\\sqrt{1+ \\left( |a|/a_c \\right)^2}} a + \\dfrac{\\lambda}{\\sqrt{\\mathcal{A}}}a_{in}. $$\n",
    "\n",
    "We now rewrite this expression in terms of the output and input fields as\n",
    "\n",
    "$$ \\dfrac{\\dot{a}_{out}}{\\sqrt{G}} - e^{i\\phi}\\dfrac{\\dot{a}_{in}}{\\sqrt{\\mathcal{A}}} = -i\\omega_r \\left( \\dfrac{a_{out}}{\\sqrt{G}} - e^{i\\phi}\\dfrac{a_{in}}{\\sqrt{\\mathcal{A}}} \\right) - \\kappa_0 \\left( \\dfrac{a_{out}}{\\sqrt{G}} - e^{i\\phi}\\dfrac{a_{in}}{\\sqrt{\\mathcal{A}}} \\right) - \\dfrac{\\kappa_{TLS}}{\\sqrt{1 + \\left( \\left| \\dfrac{a_{out}}{\\sqrt{G}} - e^{i\\phi}\\dfrac{a_{in}}{\\sqrt{\\mathcal{A}}} \\right| / |\\lambda|a_c \\right)^2 }} \\left( \\dfrac{a_{out}}{\\sqrt{G}} - e^{i\\phi}\\dfrac{a_{in}}{\\sqrt{\\mathcal{A}}} \\right) + \\lambda^2 e^{i\\phi} \\dfrac{a_{in}}{\\sqrt{\\mathcal{A}}} $$\n",
    "\n",
    "We also consider two known drive tones of the form\n",
    "\n",
    "$$ a_{in} = F_0 \\left( \\cos({\\omega_1}t) + \\cos({\\omega_2}t) \\right). $$\n",
    "\n",
    "We then solve the differential equation numerically using the following parameters:\n",
    "\n",
    "| Drive Parameters | System Parameters       |\n",
    "|:-----------------|:------------------------|\n",
    "| $F_0 = 1$        | $\\omega_r = 0$          |\n",
    "| $f_1 = -0.001$   | $\\kappa_0 = 0.025$      |\n",
    "| $f_2 = 0.001$    | $\\kappa_{TLS} = 0.0025$ |\n",
    "|                  | $a_{c} = 1$             |\n",
    "|                  | $\\phi = 0$              |\n",
    "|                  | $\\lambda = 1$           |"
   ],
   "metadata": {
    "collapsed": false,
    "pycharm": {
     "name": "#%% md\n"
    }
   }
  },
  {
   "cell_type": "code",
   "execution_count": null,
   "outputs": [],
   "source": [
    "import numpy as np\n",
    "import matplotlib.pyplot as plt\n",
    "import scipy\n",
    "import scipy.linalg\n",
    "import ipywidgets as widgets\n",
    "import winsound\n",
    "from functools import partial\n",
    "from scipy.integrate import ode\n",
    "from scipy.signal import find_peaks\n",
    "from scipy.optimize import curve_fit\n",
    "from ipywidgets import interactive\n",
    "from tqdm import tqdm\n",
    "from scipy.optimize import curve_fit\n",
    "\n",
    "plt.rcParams['axes.formatter.useoffset'] = False\n",
    "plt.rcParams['figure.constrained_layout.use'] = True\n",
    "\n",
    "# Greek alphabet: α, β, γ, δ, ε, ζ, η, θ, ι, κ, λ, μ, ν, ξ, ο, π, ρ, ς, σ, τ, υ, φ, χ, ψ, ω\n",
    "\n",
    "# Constants\n",
    "π = np.pi"
   ],
   "metadata": {
    "collapsed": false,
    "pycharm": {
     "name": "#%%\n"
    }
   }
  },
  {
   "cell_type": "code",
   "execution_count": null,
   "outputs": [],
   "source": [
    "# Functions\n",
    "def eom_nonlinear(time, state, fr, kappa0, kappa_tls, ac, lambd, drives, ddrives, phi):\n",
    "    # resonant frequency\n",
    "    ωr = 2*π * fr\n",
    "    \n",
    "    # Phase difference\n",
    "    phase_diff = np.exp(1.0j * phi)\n",
    "    \n",
    "    # state normalized by gain\n",
    "    state_norm = state / np.sqrt(gain)\n",
    "    \n",
    "    # drives and its derivatives normalized by attenuation\n",
    "    drives_norm = phase_diff * drives(time) / np.sqrt(att)\n",
    "    ddrives_norm = phase_diff * ddrives(time) / np.sqrt(att)\n",
    "    \n",
    "    return  np.sqrt(gain) * (-1.0j*ωr*(state_norm-drives_norm) - kappa0*(state_norm-drives_norm) - kappa_tls/np.sqrt(1+((np.abs(state_norm-drives_norm)/(ac*lambd))**2))*(state_norm-drives_norm) + ddrives_norm + lambd**2*drives_norm)\n",
    "\n",
    "\n",
    "def eom_nonlinear_real(time, state_real, fr, kappa0, kappa_tls, ac, lambd, drives, ddrives, phi):\n",
    "    state_complex = state_real[::2] + 1j*state_real[1::2]\n",
    "    ret_complex = eom_nonlinear(time, state_complex, fr, kappa0, kappa_tls, ac, lambd, drives, ddrives, phi)\n",
    "    tmp = np.zeros(len(ret_complex)*2)\n",
    "    tmp[::2] = np.real(ret_complex)\n",
    "    tmp[1::2] = np.imag(ret_complex)\n",
    "    \n",
    "    return tmp\n",
    "\n",
    "\n",
    "def imp_drive(time, fd1, fd2, B, φ1=0, φ2=0):\n",
    "    # drive frequencies\n",
    "    ω1 = 2*π * fd1\n",
    "    ω2 = 2*π * fd2\n",
    "    \n",
    "    return B*(np.cos(ω1*time + φ1) + np.cos(ω2*time + φ2))\n",
    "\n",
    "\n",
    "def imp_drive_derivative(time, fd1, fd2, B, φ1=0, φ2=0):\n",
    "    # drive frequencies\n",
    "    ω1 = 2*π * fd1\n",
    "    ω2 = 2*π * fd2\n",
    "    \n",
    "    return -B*(ω1*np.sin(ω1*time + φ1) + ω2*np.sin(ω2*time + φ2))\n",
    "\n",
    "\n",
    "def nonlinear_simulation(time, fr, kappa0, kappa_tls, ac, lambd, fd1, fd2, B, ind_drives, phi=0):\n",
    "    # Drive tones\n",
    "    drives = partial(imp_drive, fd1=fd1, fd2=fd2, B=B)\n",
    "    ddrives = partial(imp_drive_derivative, fd1=fd1, fd2=fd2, B=B)\n",
    "    \n",
    "    # Integrator\n",
    "    o = ode(eom_nonlinear_real).set_integrator('lsoda', atol=1e-11, rtol=1e-11)\n",
    "    o.set_f_params(fr, kappa0, kappa_tls, ac, lambd, drives, ddrives, phi)\n",
    "    o.set_initial_value(y0, 0)\n",
    "    \n",
    "    # Time-domain solution\n",
    "    y_all = np.zeros((len(time), len(y0)))\n",
    "    for i, t in enumerate(time):\n",
    "        o.integrate(t)\n",
    "        y_all[i] = o.y\n",
    "        \n",
    "    # Merge the results onto the complex plane\n",
    "    field_all = y_all[:,0] + 1.0j*y_all[:,1]\n",
    "    \n",
    "    # We save one oscillation once we reached the steady state\n",
    "    field = field_all[-N-1:-1]\n",
    "    t = time[-N-1:-1]\n",
    "    \n",
    "    # Fourier domain solution\n",
    "    Field = np.fft.fft(field) / len(field)\n",
    "    freqs = np.fft.fftfreq(len(t), d=dt)\n",
    "    \n",
    "    # Generated drive array in the frequency and time domain\n",
    "    Field_in = np.zeros_like(Field, dtype=complex)\n",
    "    Field_in[ind_drives] = B\n",
    "    field_in = np.fft.ifft(Field_in)\n",
    "    field_in *= len(field_in)\n",
    "    \n",
    "    return Field, Field_in, field_all, field, field_in, freqs, t, drives\n",
    "\n",
    "\n",
    "def recon_nonlinear(Field, Field_in, field, field_in, freqs, indices, order):\n",
    "    # Angular frequency\n",
    "    ω = 2*π * freqs\n",
    "    \n",
    "    # Create H-matrix\n",
    "    col1 = (1.0j*ω*(Field/np.sqrt(gain) - Field_in/np.sqrt(att)))[indices]\n",
    "    col2 = 1.0j*(Field/np.sqrt(gain) - Field_in/np.sqrt(att))[indices]\n",
    "    col3 = (Field/np.sqrt(gain) - Field_in/np.sqrt(att))[indices]\n",
    "    \n",
    "    # Merge columns\n",
    "    H = np.vstack((col1, col2, col3))\n",
    "    \n",
    "    # Non-linear damping terms\n",
    "    for exp_ind, exp_val in enumerate(order):\n",
    "        col = np.fft.fft(np.abs((field/np.sqrt(gain) - field_in/np.sqrt(att))) ** exp_val * (field / np.sqrt(gain) - field_in / np.sqrt(att)))[indices] / len(field)\n",
    "        H = np.vstack((H, col))\n",
    "    \n",
    "    # Making the matrix real instead of complex\n",
    "    Hcos = np.real(H)\n",
    "    Hsin = np.imag(H)\n",
    "    H = np.hstack((Hcos, Hsin))\n",
    "    \n",
    "    # Normalize H for a more stable inversion\n",
    "    Nm = np.diag(1. / np.max(np.abs(H), axis=1))\n",
    "    H_norm = np.dot(Nm, H)  # normalized H-matrix\n",
    "    \n",
    "    # The drive vector, Q (from the Yasuda paper)\n",
    "    Qcos = np.real(Field_in/np.sqrt(att))[indices]\n",
    "    Qsin = np.imag(Field_in/np.sqrt(att))[indices]\n",
    "    Qmat = np.hstack((Qcos, Qsin))\n",
    "    \n",
    "    # Solve system Q = H*p\n",
    "    H_norm_inv = scipy.linalg.pinv(H_norm)\n",
    "    p_norm = np.dot(Qmat, H_norm_inv)\n",
    "    \n",
    "    # Re-normalize p-values\n",
    "    # Note: we have actually solved Q = H * Nm * Ninv * p\n",
    "    # Thus we obtained Ninv*p and multiply by Nm to obtain p\n",
    "    p = np.dot(Nm, p_norm)  # re-normalize parameter values\n",
    "    \n",
    "    # Forward calculation to check result, should be almost everything zero vector\n",
    "    Q_fit = np.dot(p, H)\n",
    "    \n",
    "    # Scale parameters by drive force assuming known resonant frequency\n",
    "    param_recon = p\n",
    "    \n",
    "    # Parameters reconstructed\n",
    "    lambda_recon = 1 / param_recon[0]\n",
    "    fr_recon = lambda_recon * param_recon[1] / (2*π)\n",
    "    kappa_arr = lambda_recon * param_recon[2:]\n",
    "    \n",
    "    return lambda_recon, fr_recon, kappa_arr, Q_fit\n",
    "\n",
    "\n",
    "def plot_spectra(t_all_, y_all, t, y, yin, f_, Y, Yin, xlim_, ylim_, ind_arr):\n",
    "    figure, axis = plt.subplots(4, 1, figsize=[12, 10])\n",
    "    axis[0].plot(t_all_, np.abs(y_all) )\n",
    "    axis[1].plot(t, np.abs(y), label='output field')\n",
    "    axis[1].plot(t, np.abs(y/np.sqrt(gain)-yin/np.sqrt(att)), label='intra-cavity field')\n",
    "    axis[2].semilogy(f_, np.abs(Y), label='output field')\n",
    "    axis[2].semilogy(f_, np.abs(Y/np.sqrt(gain)-Yin/np.sqrt(att)), label='intra-cavity field')\n",
    "    axis[2].semilogy(f_[ind_arr], np.abs(Y/np.sqrt(gain)-Yin/np.sqrt(att))[ind_arr], '.', label='reconstructed')\n",
    "    axis[3].semilogy(f_, np.abs(Y), label='output field')\n",
    "    axis[3].semilogy(f_, np.abs(Y/np.sqrt(gain)-Yin/np.sqrt(att)), label='intra-cavity field')\n",
    "    axis[3].semilogy(f_[ind_arr], np.abs(Y/np.sqrt(gain)-Yin/np.sqrt(att))[ind_arr], '.', label='reconstructed')\n",
    "    axis[0].set_ylabel('$|a|$ [a.u.]')\n",
    "    axis[1].set_xlabel('time [s]')\n",
    "    axis[1].set_ylabel('$|a|$ [a.u.]')\n",
    "    axis[2].set_ylabel('$|\\mathcal{F}(a)|$ [a.u.]')\n",
    "    axis[3].set_ylabel('$|\\mathcal{F}(a)|$ [a.u.]')\n",
    "    axis[3].set_xlabel('frequency [Hz]')\n",
    "    axis[2].set_ylim(*ylim_)\n",
    "    axis[3].set_ylim(*ylim_)\n",
    "    axis[3].set_xlim(*xlim_)\n",
    "    axis[2].legend()\n",
    "    return figure\n",
    "\n",
    "\n",
    "# Plot the 3rd, 5th and 7th IMP strength as a function of drive power\n",
    "def plot_paramdependence(param_arr, y, axis, ind_drives):\n",
    "    axis.loglog(param_arr, np.abs(y[:, ind_drives[0]]), '.', label='drive 1')\n",
    "    axis.loglog(param_arr, np.abs(y[:, ind_drives[1]]), '.', label='drive 2')\n",
    "    axis.loglog(param_arr, np.abs(y[:, ind_drives[1]+2]), '.', label='3rd order' )\n",
    "    axis.loglog(param_arr, np.abs(y[:, ind_drives[1]+4]), '.', label='5th order' )\n",
    "    axis.loglog(param_arr, np.abs(y[:, ind_drives[1]+6]), '.', label='7th order' )\n",
    "    axis.loglog(param_arr, np.abs(y[:, int(len(y[0])/2)]), '.', label='background' )\n",
    "    axis.legend()"
   ],
   "metadata": {
    "collapsed": false,
    "pycharm": {
     "name": "#%%\n"
    }
   }
  },
  {
   "cell_type": "code",
   "execution_count": null,
   "outputs": [],
   "source": [
    "# Gain and attenuation of the measurement lines\n",
    "gain = 1\n",
    "att = 1\n",
    "\n",
    "# Drive parameters\n",
    "λ = 0.5\n",
    "F0 = 1\n",
    "f1 = -0.001\n",
    "f2 = 0.001\n",
    "df = 0.001\n",
    "fs = 20\n",
    "N = int(round(fs/df))\n",
    "\n",
    "# Drive indices\n",
    "ind_drive = np.array([-1, 1])\n",
    "\n",
    "# Imps indices\n",
    "nimps = 40\n",
    "imp_ind = np.arange(ind_drive[0]-nimps, ind_drive[1]+nimps+2, 2)\n",
    "\n",
    "# Integration parameters\n",
    "T = 1. / df\n",
    "T_relax = 5 * T\n",
    "dt = 1. / fs\n",
    "t_all = dt*(np.arange((T+T_relax)/dt) + 1)\n",
    "\n",
    "# System parameters\n",
    "f0 = 0\n",
    "κ0 = 0.025\n",
    "κtls = 0.0025\n",
    "ac = 1\n",
    "Q_factor = 1/(2*κ0)\n",
    "\n",
    "# Initial conditions\n",
    "y0 = [0,0]"
   ],
   "metadata": {
    "collapsed": false,
    "pycharm": {
     "name": "#%%\n"
    }
   }
  },
  {
   "cell_type": "code",
   "execution_count": null,
   "outputs": [],
   "source": [
    "# Simulation\n",
    "A, Ain, a_all, a, ain, f, t_arr, drive = nonlinear_simulation(t_all, f0, κ0, κtls, ac, λ, f1, f2, F0, ind_drive)"
   ],
   "metadata": {
    "collapsed": false,
    "pycharm": {
     "name": "#%%\n"
    }
   }
  },
  {
   "cell_type": "code",
   "execution_count": null,
   "outputs": [],
   "source": [
    "# Check that the generated drive matches with the simulated drive\n",
    "verbose = False\n",
    "\n",
    "if verbose:\n",
    "    # Drive array in time domain\n",
    "    ain_all_simu = drive(t_all)\n",
    "    ain_simu = ain_all_simu[-N-1:-1]\n",
    "    Ain_simu = np.fft.fft(ain_simu) / len(ain_simu)\n",
    "    \n",
    "    # Drives in time and frequency domain\n",
    "    fig, ax = plt.subplots(3, 1, figsize=[9, 6])\n",
    "    ax[0].plot(t_all, np.abs(ain_all_simu))\n",
    "    ax[1].plot(t_arr, np.abs(ain_simu), label='Simulated')\n",
    "    ax[1].plot(t_arr, np.abs(ain), label='Generated')\n",
    "    ax[2].semilogy(f, np.abs(Ain_simu), label='Simulated')\n",
    "    ax[2].semilogy(f, np.abs(Ain), label='Generated')\n",
    "    ax[0].set_ylabel('$|a_{in}|$ [a.u.]')\n",
    "    ax[1].set_xlabel('time [s]')\n",
    "    ax[1].set_ylabel('$|a_{in}|$ [a.u.]')\n",
    "    ax[2].set_xlabel('frequency [Hz]')\n",
    "    ax[2].set_ylabel('$|\\mathcal{F}(a_{in})|$ [a.u.]')\n",
    "    ax[0].set_ylim(-0.1, 3)\n",
    "    ax[2].set_ylim(1e-17, 1e3)\n",
    "    ax[2].legend()\n",
    "\n",
    "ylim = np.array([1e-16, 1e3])\n",
    "xlim = np.array([-0.1, 0.1])\n",
    "fig1 = plot_spectra(t_all, a_all, t_arr, a, ain, f, A, Ain, xlim, ylim, imp_ind)\n",
    "plt.show()"
   ],
   "metadata": {
    "collapsed": false,
    "pycharm": {
     "name": "#%%\n"
    }
   }
  },
  {
   "cell_type": "markdown",
   "source": [
    "## Parameter dependence\n",
    "\n",
    "We now want to analyze the behaviour of the IMP spectra as a function of the different parameters of the system.\n",
    "This may help us to select an appropiate value for $\\kappa_0$, $\\kappa_{TLS}$ and $a_c$ to imitate as much as possible the experimental results.\n",
    "These sweeps may also help us to get a better intuition of the system itself.\n",
    "\n",
    "### $\\kappa_0$ sweep\n",
    "\n",
    "We start by sweeping the linear damping coefficient $\\kappa_0 \\in [0.01, 10]$ while keeping the rest of the parameters fixed to the values stated in the table above. (Pretty arbitrary values though)"
   ],
   "metadata": {
    "collapsed": false,
    "pycharm": {
     "name": "#%% md\n"
    }
   }
  },
  {
   "cell_type": "code",
   "execution_count": null,
   "outputs": [],
   "source": [
    "# κ0 sweep values\n",
    "κ0_arr = np.logspace(-3, 1, 51)\n",
    "\n",
    "# Spectra arrays\n",
    "A_κ0 = np.zeros((len(κ0_arr), N), dtype=np.complex)\n",
    "Ain_κ0 = np.zeros_like(A_κ0)\n",
    "a_all_κ0 = np.zeros((len(κ0_arr), len(t_all)), dtype=np.complex)\n",
    "a_κ0 = np.zeros_like(A_κ0)\n",
    "ain_κ0 = np.zeros_like(A_κ0)\n",
    "\n",
    "# κ0 sweep\n",
    "with tqdm(total=len(κ0_arr), ncols=80) as pbar:\n",
    "\n",
    "    for κ0_ind, κ0_val in enumerate(κ0_arr):\n",
    "        # Simulation section\n",
    "        A_κ0[κ0_ind], Ain_κ0[κ0_ind], a_all_κ0[κ0_ind], a_κ0[κ0_ind], ain_κ0[κ0_ind], f_κ0, t_κ0, drive_κ0 = nonlinear_simulation(t_all, f0, κ0_val, κtls, ac, λ, f1, f2, F0, ind_drive)\n",
    "        \n",
    "        pbar.update(1)"
   ],
   "metadata": {
    "collapsed": false,
    "pycharm": {
     "name": "#%%\n"
    }
   }
  },
  {
   "cell_type": "code",
   "execution_count": null,
   "outputs": [],
   "source": [
    "def κ0_sweep(κ0_ind_):\n",
    "    # Intra-cavity field in time and frequency domain\n",
    "    ylim = np.array([1e-17, 1e4])\n",
    "    xlim = np.array([-0.1, 0.1])\n",
    "    figure = plot_spectra(t_all, a_all_κ0[κ0_ind_], t_κ0, a_κ0[κ0_ind_], ain_κ0[κ0_ind_], f_κ0, A_κ0[κ0_ind_], Ain_κ0[κ0_ind_], xlim, ylim, imp_ind)\n",
    "    figure.suptitle(f'$\\kappa_0$ = {κ0_arr[κ0_ind_]:.5f}')\n",
    "    \n",
    "# Interactive layout  \n",
    "widgets.interact(κ0_sweep,\n",
    "                 κ0_ind_=widgets.IntSlider(min=0,\n",
    "                                           max=len(κ0_arr)-1,\n",
    "                                           step=1,\n",
    "                                           description='κ0_ind',\n",
    "                                           )\n",
    "                )\n",
    "\n",
    "plt.show()"
   ],
   "metadata": {
    "collapsed": false,
    "pycharm": {
     "name": "#%%\n"
    }
   }
  },
  {
   "cell_type": "code",
   "execution_count": null,
   "outputs": [],
   "source": [
    "fig3, ax3 = plt.subplots(1)\n",
    "plot_paramdependence(κ0_arr, A_κ0, ax3, ind_drive)\n",
    "ax3.set_xlabel('$\\kappa_{0}$ [a.u.]')\n",
    "ax3.set_ylabel('$|\\mathcal{F}(a)|$ [a.u.]')\n",
    "plt.show()"
   ],
   "metadata": {
    "collapsed": false,
    "pycharm": {
     "name": "#%%\n"
    }
   }
  },
  {
   "cell_type": "markdown",
   "source": [
    "Analyzing the last figure, we observe a couple of things.\n",
    "\n",
    "At low $\\kappa_0$ values the background is significantly high (and not noisy). \n",
    "This characteristic can be explained by looking at the spectra at low $\\kappa_0$ values. \n",
    "To be honest, I do not quite understand why the noise floor looks like that at low $\\kappa_0$ values. \n",
    "It may be due to the integrator or the tolerances I use to solve the differential equation.\n",
    "\n",
    "Moreover, the drive and IMP amplitudes diminish as the linear damping increases.\n",
    "This makes sense since the higher damping the lower the linearized Q factor of the resonance."
   ],
   "metadata": {
    "collapsed": false,
    "pycharm": {
     "name": "#%% md\n"
    }
   }
  },
  {
   "cell_type": "markdown",
   "source": [
    "### $\\kappa_{TLS}$ sweep\n",
    "\n",
    "We then sweep the TLS non-linear damping parameter $\\kappa_{TLS} \\in [1\\cdot10^{-4}, 10]$, while fixing the rest of the parameters."
   ],
   "metadata": {
    "collapsed": false,
    "pycharm": {
     "name": "#%% md\n"
    }
   }
  },
  {
   "cell_type": "code",
   "execution_count": null,
   "outputs": [],
   "source": [
    "# κtls sweep values\n",
    "κtls_arr = np.logspace(-4, 1, 51)\n",
    "\n",
    "# Spectra arrays\n",
    "A_κtls = np.zeros((len(κtls_arr), N), dtype=np.complex)\n",
    "Ain_κtls = np.zeros_like(A_κtls)\n",
    "a_all_κtls = np.zeros((len(κtls_arr), len(t_all)), dtype=np.complex)\n",
    "a_κtls = np.zeros_like(A_κtls)\n",
    "ain_κtls = np.zeros_like(A_κtls)\n",
    "\n",
    "# κtls sweep\n",
    "with tqdm(total=len(κtls_arr), ncols=80) as pbar:\n",
    "\n",
    "    for κtls_ind, κtls_val in enumerate(κtls_arr):\n",
    "        # Simulation section\n",
    "        A_κtls[κtls_ind], Ain_κtls[κtls_ind], a_all_κtls[κtls_ind], a_κtls[κtls_ind], ain_κtls[κtls_ind], f_κtls, t_κtls, drive = nonlinear_simulation(t_all, f0, κ0, κtls_val, ac, λ, f1, f2, F0, ind_drive)\n",
    "        \n",
    "        pbar.update(1)"
   ],
   "metadata": {
    "collapsed": false,
    "pycharm": {
     "name": "#%%\n"
    }
   }
  },
  {
   "cell_type": "code",
   "execution_count": null,
   "outputs": [],
   "source": [
    "def κtls_sweep(κtls_ind_):\n",
    "    # Intra-cavity field in time and frequency domain\n",
    "    ylim = np.array([1e-17, 1e3])\n",
    "    xlim = np.array([-0.1, 0.1])\n",
    "    figure = plot_spectra(t_all, a_all_κtls[κtls_ind_], t_κtls, a_κtls[κtls_ind_], ain_κtls[κtls_ind_], f_κtls, A_κtls[κtls_ind_], Ain_κtls[κtls_ind_], xlim, ylim, imp_ind)\n",
    "    figure.suptitle('$\\kappa_{TLS}$ = ' + f'{κtls_arr[κtls_ind_]:.5f}')\n",
    "    \n",
    "# Interactive layout  \n",
    "widgets.interact(κtls_sweep,\n",
    "                 κtls_ind_=widgets.IntSlider(min=0,\n",
    "                                             max=len(κtls_arr)-1,\n",
    "                                             step=1,\n",
    "                                             description='κtls_ind',\n",
    "                                             )\n",
    "                )\n",
    "\n",
    "plt.show()"
   ],
   "metadata": {
    "collapsed": false,
    "pycharm": {
     "name": "#%%\n"
    }
   }
  },
  {
   "cell_type": "code",
   "execution_count": null,
   "outputs": [],
   "source": [
    "# Plot the 3rd, 5th and 7th IMP strength as a function of drive power\n",
    "fig4, ax4 = plt.subplots(1)\n",
    "plot_paramdependence(κtls_arr, A_κtls, ax4, ind_drive)\n",
    "ax4.set_xlabel('$\\kappa_{TLS}$ [a.u.]')\n",
    "ax4.set_ylabel('$|\\mathcal{F}(a)|$ [a.u.]')\n",
    "plt.show()"
   ],
   "metadata": {
    "collapsed": false,
    "pycharm": {
     "name": "#%%\n"
    }
   }
  },
  {
   "cell_type": "markdown",
   "source": [
    "The drive amplitudes remain constant up to roughly $\\kappa_{TLS}=0.5$, where the amplitudes start to decay a bit.\n",
    "Regarding the IMP amplitudes, they increase as $\\kappa_{TLS}$ increases, but they significantly drop after $\\kappa_{TLS}=0.5$.\n",
    "One possible explanation to this behaviour is that as we increase the non-linear damping, we increase the non-linearity generating stronger IMPs, while keeping the drives untouched.\n",
    "However, at this critical $\\kappa_{TLS}$ value, the non-linearity is too strong and starts affecting the drives causing this amplitude drop.\n",
    "\n",
    "We also notice that now we do not have this background problem."
   ],
   "metadata": {
    "collapsed": false,
    "pycharm": {
     "name": "#%% md\n"
    }
   }
  },
  {
   "cell_type": "markdown",
   "source": [
    "### $a_{c}$ sweep\n",
    "\n",
    "Eventually we sweep the critical amplitude parameter $a_c \\in [1\\cdot10^{-4}, 100]$, while fixing the rest of the parameters."
   ],
   "metadata": {
    "collapsed": false,
    "pycharm": {
     "name": "#%% md\n"
    }
   }
  },
  {
   "cell_type": "code",
   "execution_count": null,
   "outputs": [],
   "source": [
    "# ac sweep values\n",
    "ac_arr = np.logspace(-4, 2, 51)\n",
    "\n",
    "# Spectra arrays\n",
    "A_ac = np.zeros((len(ac_arr), N), dtype=np.complex)\n",
    "Ain_ac = np.zeros_like(A_ac)\n",
    "a_all_ac = np.zeros((len(ac_arr), len(t_all)), dtype=np.complex)\n",
    "a_ac = np.zeros_like(A_ac)\n",
    "ain_ac = np.zeros_like(A_ac)\n",
    "\n",
    "# ac sweep\n",
    "with tqdm(total=len(ac_arr), ncols=80) as pbar:\n",
    "\n",
    "    for ac_ind, ac_val in enumerate(ac_arr):\n",
    "        # Simulation section\n",
    "        A_ac[ac_ind], Ain_ac[ac_ind], a_all_ac[ac_ind], a_ac[ac_ind], ain_ac[ac_ind], f_ac, t_ac, drive = nonlinear_simulation(t_all, f0, κ0, κtls, ac_val, λ, f1, f2, F0, ind_drive)\n",
    "        \n",
    "        pbar.update(1)"
   ],
   "metadata": {
    "collapsed": false,
    "pycharm": {
     "name": "#%%\n"
    }
   }
  },
  {
   "cell_type": "code",
   "execution_count": null,
   "outputs": [],
   "source": [
    "np.shape(a_all_ac)"
   ],
   "metadata": {
    "collapsed": false,
    "pycharm": {
     "name": "#%%\n"
    }
   }
  },
  {
   "cell_type": "code",
   "execution_count": null,
   "outputs": [],
   "source": [
    "def ac_sweep(ac_ind_):\n",
    "    # Intra-cavity field in time and frequency domain\n",
    "    ylim = np.array([1e-17, 1e3])\n",
    "    xlim = np.array([-0.1, 0.1])\n",
    "    figure = plot_spectra(t_all, a_all_ac[ac_ind_], t_ac, a_ac[ac_ind_], ain_ac[ac_ind_], f_ac, A_ac[ac_ind_], Ain_ac[ac_ind_], xlim, ylim, imp_ind)\n",
    "    figure.suptitle(f'$a_c$ = {ac_arr[ac_ind_]:.5f}')\n",
    "    \n",
    "# Interactive layout  \n",
    "widgets.interact(ac_sweep,\n",
    "                 ac_ind_=widgets.IntSlider(min=0,\n",
    "                                           max=len(ac_arr)-1,\n",
    "                                           step=1,\n",
    "                                           description='ac_ind',\n",
    "                                           )\n",
    "                )\n",
    "\n",
    "plt.show()"
   ],
   "metadata": {
    "collapsed": false,
    "pycharm": {
     "name": "#%%\n"
    }
   }
  },
  {
   "cell_type": "code",
   "execution_count": null,
   "outputs": [],
   "source": [
    "# Plot the 3rd, 5th and 7th IMP strength as a function of drive power\n",
    "fig5, ax5 = plt.subplots(1)\n",
    "plot_paramdependence(ac_arr, A_ac, ax5, ind_drive)\n",
    "ax5.set_xlabel('$a_c$ [a.u.]')\n",
    "ax5.set_ylabel('$|\\mathcal{F}(a)|$ [a.u.]')\n",
    "plt.show()"
   ],
   "metadata": {
    "collapsed": false,
    "pycharm": {
     "name": "#%%\n"
    }
   }
  },
  {
   "cell_type": "markdown",
   "source": [
    "As $a_c$ increases the non-linearity increases (similarly as increasing $\\kappa_{TLS}$), and therefore the IMP amplitudes increase.\n",
    "For $a_c > 1$, the IMP strengths diminish meaning that the non-linearity is too strong. "
   ],
   "metadata": {
    "collapsed": false,
    "pycharm": {
     "name": "#%% md\n"
    }
   }
  },
  {
   "cell_type": "markdown",
   "source": [
    "### Phase difference sweep\n",
    "\n",
    "So far we have considered the phase delay in the input and output lines to be the same, i.e. $\\phi = \\alpha-\\beta = 0$.\n",
    "However, this assumption is probably not reasonable.\n",
    "Therefore, we simulate the system taking into account phase delays and sweeping the phase difference parameter $\\phi \\in (0,2\\pi)$, while fixing the rest of the parameters."
   ],
   "metadata": {
    "collapsed": false,
    "pycharm": {
     "name": "#%% md\n"
    }
   }
  },
  {
   "cell_type": "code",
   "execution_count": null,
   "outputs": [],
   "source": [
    "# Phase Sweep\n",
    "φ_arr = np.linspace(0, 2*π, 51)\n",
    "\n",
    "# Spectra arrays\n",
    "A_φ = np.zeros((len(φ_arr), N), dtype=np.complex)\n",
    "Ain_φ = np.zeros_like(A_φ)\n",
    "a_all_φ = np.zeros((len(φ_arr), len(t_all)), dtype=np.complex)\n",
    "a_φ = np.zeros_like(A_φ)\n",
    "ain_φ = np.zeros_like(A_φ)\n",
    "\n",
    "# Power sweep\n",
    "with tqdm(total=len(φ_arr), ncols=80) as pbar:\n",
    "\n",
    "    for φ_ind, φ_val in enumerate(φ_arr):\n",
    "        # Simulation section\n",
    "        A_φ[φ_ind], Ain_φ[φ_ind], a_all_φ[φ_ind], a_φ[φ_ind], ain_φ[φ_ind], f_φ, t_φ, drive = nonlinear_simulation(t_all, f0, κ0, κtls, ac, λ, f1, f2, F0, ind_drive, φ_val)\n",
    "        \n",
    "        pbar.update(1)"
   ],
   "metadata": {
    "collapsed": false,
    "pycharm": {
     "name": "#%%\n"
    }
   }
  },
  {
   "cell_type": "code",
   "execution_count": null,
   "outputs": [],
   "source": [
    "def phi_sweep(phi_ind):\n",
    "    # Intra-cavity field in time and frequency domain\n",
    "    ylim = np.array([1e-17, 1e4])\n",
    "    xlim = np.array([-0.1, 0.1])\n",
    "    figure = plot_spectra(t_all, a_all_φ[phi_ind], t_φ, a_φ[phi_ind], ain_φ[phi_ind], f_φ, A_φ[phi_ind], Ain_φ[phi_ind], xlim, ylim, imp_ind)\n",
    "    figure.suptitle(f'$\\phi$ = {φ_arr[phi_ind]:.5f}')\n",
    "    \n",
    "# Interactive layout  \n",
    "widgets.interact(phi_sweep,\n",
    "                 phi_ind=widgets.IntSlider(min=0,\n",
    "                                           max=len(φ_arr)-1,\n",
    "                                           step=1,\n",
    "                                           description='φ_ind',\n",
    "                                           )\n",
    "                )\n",
    "\n",
    "plt.show()"
   ],
   "metadata": {
    "collapsed": false,
    "pycharm": {
     "name": "#%%\n"
    }
   }
  },
  {
   "cell_type": "markdown",
   "source": [
    "As we sweep the phase difference parameter, the intra-cavity field increases and decreases.\n",
    "We suspect due to constructive and destructive interference, since at $\\phi=\\pi$ the intra-cavity field is maximum and higher than the output field, whereas at $\\phi=0$, the field is minimum.\n",
    "\n",
    "Regarding the frequency domain spectra, no relevant changes are appreciated in the amount of IMPs and in their strength."
   ],
   "metadata": {
    "collapsed": false,
    "pycharm": {
     "name": "#%% md\n"
    }
   }
  },
  {
   "cell_type": "code",
   "execution_count": null,
   "outputs": [],
   "source": [
    "# Plot the 3rd, 5th and 7th IMP strength as a function of drive power\n",
    "fig7, ax7 = plt.subplots(1)\n",
    "plot_paramdependence(φ_arr, A_φ, ax7, ind_drive)\n",
    "ax7.set_xlabel('$\\phi$ [a.u.]')\n",
    "ax7.set_ylabel('$|\\mathcal{F}(a)|$ [a.u.]')\n",
    "ax7.legend()\n",
    "plt.show()"
   ],
   "metadata": {
    "collapsed": false,
    "pycharm": {
     "name": "#%%\n"
    }
   }
  },
  {
   "cell_type": "markdown",
   "source": [
    "The drive and IMP magnitudes remain constant."
   ],
   "metadata": {
    "collapsed": false,
    "pycharm": {
     "name": "#%% md\n"
    }
   }
  },
  {
   "cell_type": "markdown",
   "source": [
    "### Power dependence\n",
    "\n",
    "We analyze the power dependence of the IMPs as a function of the drive power.\n",
    "For that we sweep the parameter $F_0$.\n"
   ],
   "metadata": {
    "collapsed": false,
    "pycharm": {
     "name": "#%% md\n"
    }
   }
  },
  {
   "cell_type": "code",
   "execution_count": null,
   "outputs": [],
   "source": [
    "# Power Sweep\n",
    "F0_arr = np.logspace(-4, 2, 201)\n",
    "\n",
    "# Spectra arrays\n",
    "A_F0 = np.zeros((len(F0_arr), N), dtype=np.complex)\n",
    "Ain_F0 = np.zeros_like(A_F0)\n",
    "a_all_F0 = np.zeros((len(F0_arr), len(t_all)), dtype=np.complex)\n",
    "a_F0 = np.zeros_like(A_F0)\n",
    "ain_F0 = np.zeros_like(A_F0)\n",
    "\n",
    "# Power sweep\n",
    "with tqdm(total=len(F0_arr), ncols=80) as pbar:\n",
    "\n",
    "    for F0_ind, F0_val in enumerate(F0_arr):\n",
    "        # Simulation section\n",
    "        A_F0[F0_ind], Ain_F0[F0_ind], a_all_F0[F0_ind], a_F0[F0_ind], ain_F0[F0_ind], f_F0, t_F0, drive = nonlinear_simulation(t_all, f0, κ0, κtls, ac, λ, f1, f2, F0_val, ind_drive)\n",
    "        \n",
    "        pbar.update(1)"
   ],
   "metadata": {
    "collapsed": false,
    "pycharm": {
     "name": "#%%\n"
    }
   }
  },
  {
   "cell_type": "code",
   "execution_count": null,
   "outputs": [],
   "source": [
    "def amp_sweep(amp_ind):\n",
    "    # Intra-cavity field in time and frequency domain\n",
    "    ylim = np.array([1e-19, 1e4])\n",
    "    xlim = np.array([-0.1, 0.1])\n",
    "    figure = plot_spectra(t_all, a_all_F0[amp_ind], t_F0, a_F0[amp_ind], ain_F0[amp_ind], f_F0, A_F0[amp_ind], Ain_F0[amp_ind], xlim, ylim, imp_ind)\n",
    "    figure.suptitle(f'$F_0$ = {F0_arr[amp_ind]:.5f}')\n",
    "# Interactive layout  \n",
    "widgets.interact(amp_sweep,\n",
    "                 amp_ind=widgets.IntSlider(min=0,\n",
    "                                           max=len(F0_arr)-1,\n",
    "                                           step=1,\n",
    "                                           description='F0_ind',\n",
    "                                           )\n",
    "                )\n",
    "\n",
    "plt.show()"
   ],
   "metadata": {
    "collapsed": false,
    "pycharm": {
     "name": "#%%\n"
    }
   }
  },
  {
   "cell_type": "code",
   "execution_count": null,
   "outputs": [],
   "source": [
    "# Plot the 3rd, 5th and 7th IMP strength as a function of drive power\n",
    "fig6, ax6 = plt.subplots(1)\n",
    "plot_paramdependence(F0_arr, A_F0, ax6, ind_drive)\n",
    "ax6.set_xlabel('$F_0$ [a.u.]')\n",
    "ax6.set_ylabel('$|\\mathcal{F}(a)|$ [a.u.]')\n",
    "ax6.legend()\n",
    "plt.show()"
   ],
   "metadata": {
    "collapsed": false,
    "pycharm": {
     "name": "#%%\n"
    }
   }
  },
  {
   "cell_type": "markdown",
   "source": [
    "At high (what is high? what is low?) pump powers, the IMP amplitudes remain constant, whereas at really low drive amplitudes they slightly decay.\n",
    "This characteritic is not too different from the behaviour we (we as Janka) experimentally observed, where the IMP strength remains constant in some power range."
   ],
   "metadata": {
    "collapsed": false,
    "pycharm": {
     "name": "#%% md\n"
    }
   }
  },
  {
   "cell_type": "markdown",
   "source": [
    "## Harmonic balance reconstruction\n",
    "\n",
    "We now want to reconstruct the simulated system using harmonic balance. \n",
    "We first expand the square root of the TLS non-linear damping term as\n",
    "\n",
    "$$ \\kappa_{TLS}(a) = \\dfrac{ \\kappa_{TLS}}{\\sqrt{1+ \\left( |a|/a_c \\right)^2}} = \\kappa_{TLS} \\left( 1 - \\dfrac{1}{2} \\left( \\dfrac{|a|}{a_c} \\right)^2 + \\dfrac{3}{8} \\left( \\dfrac{|a|}{a_c} \\right)^4 + \\mathcal{O}(a^6) \\right)  $$\n",
    "\n",
    "Thus, the equation of motion up to $4^{th}$ order is given by\n",
    "\n",
    "$$ \\dfrac{\\dot{a}_{out}}{\\sqrt{G}} - e^{i\\phi}\\dfrac{\\dot{a}_{in}}{\\sqrt{\\mathcal{A}}} = -i \\omega_r \\left( \\dfrac{a_{out}}{\\sqrt{G}} - e^{i\\phi}\\dfrac{a_{in}}{\\sqrt{\\mathcal{A}}} \\right) - (\\kappa_0+\\kappa_{TLS}) \\left( \\dfrac{a_{out}}{\\sqrt{G}} - e^{i\\phi}\\dfrac{a_{in}}{\\sqrt{\\mathcal{A}}} \\right) + \\dfrac{\\kappa_{TLS}}{2 \\lambda^2 a_c^2} \\left| \\dfrac{a_{out}}{\\sqrt{G}} - e^{i\\phi}\\dfrac{a_{in}}{\\sqrt{\\mathcal{A}}} \\right|^2 \\left( \\dfrac{a_{out}}{\\sqrt{G}} - e^{i\\phi}\\dfrac{a_{in}}{\\sqrt{\\mathcal{A}}} \\right) - \\dfrac{3 \\kappa_{TLS}}{8 \\lambda^4 a_c^4} \\left| \\dfrac{a_{out}}{\\sqrt{G}} - e^{i\\phi}\\dfrac{a_{in}}{\\sqrt{\\mathcal{A}}} \\right|^4 \\left( \\dfrac{a_{out}}{\\sqrt{G}} - e^{i\\phi}\\dfrac{a_{in}}{\\sqrt{\\mathcal{A}}} \\right) + \\lambda^2 e^{i\\phi}\\dfrac{a_{in}}{\\sqrt{\\mathcal{A}}}. $$\n",
    "\n",
    "For simplicity, we express the previous equation as\n",
    "\n",
    "$$ \\dfrac{\\dot{a}_{out}}{\\sqrt{G}} - e^{i\\phi}\\dfrac{\\dot{a}_{in}}{\\sqrt{\\mathcal{A}}} = -i \\omega_r \\left( \\dfrac{a_{out}}{\\sqrt{G}} - e^{i\\phi}\\dfrac{a_{in}}{\\sqrt{\\mathcal{A}}} \\right) - \\kappa_1 \\left( \\dfrac{a_{out}}{\\sqrt{G}} - e^{i\\phi}\\dfrac{a_{in}}{\\sqrt{\\mathcal{A}}} \\right) - \\kappa_3 \\left| \\dfrac{a_{out}}{\\sqrt{G}} - e^{i\\phi}\\dfrac{a_{in}}{\\sqrt{\\mathcal{A}}} \\right|^2 \\left( \\dfrac{a_{out}}{\\sqrt{G}} - e^{i\\phi}\\dfrac{a_{in}}{\\sqrt{\\mathcal{A}}} \\right) - \\dots - \\kappa_n \\left| \\dfrac{a_{out}}{\\sqrt{G}} - e^{i\\phi}\\dfrac{a_{in}}{\\sqrt{\\mathcal{A}}} \\right|^{n-1} \\left( \\dfrac{a_{out}}{\\sqrt{G}} - e^{i\\phi}\\dfrac{a_{in}}{\\sqrt{\\mathcal{A}}} \\right) + \\lambda^2 e^{i\\phi}\\dfrac{a_{in}}{\\sqrt{\\mathcal{A}}}. $$\n",
    "\n",
    "We translate this expression into the Fourier domain, leading to\n",
    "\n",
    "$$ i \\omega_k \\left( \\dfrac{\\dot{A}_{out,k}}{\\sqrt{G}} - e^{i\\phi}\\dfrac{\\dot{A}_{in,k}}{\\sqrt{\\mathcal{A}}} \\right) + i \\omega_r \\left( \\dfrac{A_{out,k}}{\\sqrt{G}} - e^{i\\phi}\\dfrac{A_{in,k}}{\\sqrt{\\mathcal{A}}} \\right) + \\kappa_1 \\left( \\dfrac{A_{out,k}}{\\sqrt{G}} - e^{i\\phi}\\dfrac{A_{in,k}}{\\sqrt{\\mathcal{A}}} \\right) + \\kappa_3 \\mathscr{F}\\left\\{ \\left| \\dfrac{a_{out}}{\\sqrt{G}} - e^{i\\phi}\\dfrac{a_{in}}{\\sqrt{\\mathcal{A}}} \\right|^2 \\left( \\dfrac{a_{out}}{\\sqrt{G}} - e^{i\\phi}\\dfrac{a_{in}}{\\sqrt{\\mathcal{A}}} \\right) \\right\\}_k + \\dots + \\kappa_n \\mathscr{F}\\left\\{ \\left| \\dfrac{a_{out}}{\\sqrt{G}} - e^{i\\phi}\\dfrac{a_{in}}{\\sqrt{\\mathcal{A}}} \\right|^{n-1} \\left( \\dfrac{a_{out}}{\\sqrt{G}} - e^{i\\phi}\\dfrac{a_{in}}{\\sqrt{\\mathcal{A}}} \\right) \\right\\}_k = \\lambda^2 e^{i\\phi}\\dfrac{A_{in,k}}{\\sqrt{\\mathcal{A}}}. $$\n",
    "\n",
    "In matrix form we have\n",
    "\n",
    "$$ \\underbrace{\\begin{pmatrix} i \\omega_k \\left( \\dfrac{\\dot{A}_{out,k}}{\\sqrt{G}} - e^{i\\phi}\\dfrac{\\dot{A}_{in,k}}{\\sqrt{\\mathcal{A}}} \\right) & i \\left( \\dfrac{A_{out,k}}{\\sqrt{G}} - e^{i\\phi}\\dfrac{A_{in,k}}{\\sqrt{\\mathcal{A}}} \\right) & \\dfrac{A_{out,k}}{\\sqrt{G}} - e^{i\\phi}\\dfrac{A_{in,k}}{\\sqrt{\\mathcal{A}}} & \\mathscr{F}\\left\\{ \\left| \\dfrac{a_{out}}{\\sqrt{G}} - e^{i\\phi}\\dfrac{a_{in}}{\\sqrt{\\mathcal{A}}} \\right|^2 \\left( \\dfrac{a_{out}}{\\sqrt{G}} - e^{i\\phi}\\dfrac{a_{in}}{\\sqrt{\\mathcal{A}}} \\right) \\right\\}_k & \\dots & \\mathscr{F}\\left\\{ \\left| \\dfrac{a_{out}}{\\sqrt{G}} - e^{i\\phi}\\dfrac{a_{in}}{\\sqrt{\\mathcal{A}}} \\right|^{n-1} \\left( \\dfrac{a_{out}}{\\sqrt{G}} - e^{i\\phi}\\dfrac{a_{in}}{\\sqrt{\\mathcal{A}}} \\right) \\right\\}_k \\end{pmatrix}}_{\\bar{\\bar{H}}}  \\underbrace{\\begin{pmatrix} 1/\\lambda^2 \\\\ \\omega_r/\\lambda^2 \\\\ \\kappa_1/\\lambda^2 \\\\ \\kappa_3/\\lambda^2 \\\\ \\vdots \\\\\\kappa_n/\\lambda^2 \\end{pmatrix}}_{\\bar{p}} = \\underbrace{e^{i\\phi}\\dfrac{A_{in,k}}{\\sqrt{\\mathcal{A}}}}_{\\bar{q}}. $$\n",
    "\n",
    "In this way we divide the problem into a matrix $\\bar{\\bar{H}}$ containing the measurement information, a vector $\\bar{p}$ with all the unknown parameters and another vector $\\bar{q}$ containing the driving terms. To obtain the least squares best fit to the unknown parameters of the system, we use the pseudo-inverse of matrix $\\bar{\\bar{H}}$ such that\n",
    "$$ \\bar{p} = \\bar{\\bar{H}}^+ \\bar{q}. $$"
   ],
   "metadata": {
    "collapsed": false,
    "pycharm": {
     "name": "#%% md\n"
    }
   }
  },
  {
   "cell_type": "markdown",
   "source": [
    "To check how many terms we need in the reconstruction, we simulate the damping term (blue line) given by\n",
    "\n",
    "$$ \\kappa_0 + \\dfrac{ \\kappa_{TLS}}{\\sqrt{1+ \\left( |a|/a_c \\right)^2}}. $$\n",
    "\n",
    "We then fit a polynomial (red line)\n",
    "\n",
    "$$ \\kappa_1 + \\kappa_3 a^2 + \\kappa_5 a^4 + \\mathcal{O}(a^6). $$\n",
    "\n",
    "Depending on the range of |a| we will need more or less polynmial coefficients to properly fit the TLS damping.\n",
    "We are interested in small |a|. \n",
    "Therefore we pick the following parameters for the system as an initial attempt to reconstruction.\n",
    "\n",
    "| Drive Parameters | System Parameters       |\n",
    "|:-----------------|:------------------------|\n",
    "| $F_0 = 1$        | $\\omega_r = 0$          |\n",
    "| $f_1 = -0.001$   | $\\kappa_0 = 0.5$      |\n",
    "| $f_2 = 0.001$    | $\\kappa_{TLS} = 0.05$ |\n",
    "|                  | $a_{c} = 1$             |\n",
    "|                  | $\\phi = 0$              |\n",
    "|                  | $\\lambda = 1$           |\n",
    "\n",
    "We plot the damping as a function of |a| (blue line) and the polynomial fit (red dotted line) up to the nth order."
   ],
   "metadata": {
    "collapsed": false,
    "pycharm": {
     "name": "#%% md\n"
    }
   }
  },
  {
   "cell_type": "code",
   "execution_count": null,
   "outputs": [],
   "source": [
    "# TLS damping function\n",
    "def tls_function(x, κ0_, κtls_, ac_ ):\n",
    "    return κ0_ + κtls_/np.sqrt(1 + (x/ac_)**2)\n",
    "\n",
    "# Parameters\n",
    "# Drive parameters\n",
    "λ = 1\n",
    "F0 = 1\n",
    "f1 = -0.001\n",
    "f2 = 0.001\n",
    "df = 0.001\n",
    "fs = 20\n",
    "N = int(round(fs/df))\n",
    "\n",
    "# Drive indices\n",
    "ind_drive = np.array([-1, 1])\n",
    "\n",
    "# Imps indices\n",
    "nimps = 40\n",
    "imp_ind = np.arange(ind_drive[0]-nimps, ind_drive[1]+nimps+2, 2)\n",
    "\n",
    "# Integration parameters\n",
    "T = 1. / df\n",
    "T_relax = 5 * T\n",
    "dt = 1. / fs\n",
    "t_all = dt*(np.arange((T+T_relax)/dt) + 1)\n",
    "\n",
    "# System parameters\n",
    "κ0 = 0.5\n",
    "κtls = 0.05\n",
    "ac = 1\n",
    "Q_factor = 1/(2*κ0)\n",
    "\n",
    "# Initial conditions\n",
    "y0 = [0,0]\n",
    "\n",
    "# Gain and attenuation of the input and output lines\n",
    "gain = 10 ** (0 / 10)\n",
    "att = 10 ** (0 / 10)\n",
    "\n",
    "\n",
    "# We simulate the TLS non-linearity\n",
    "x_sim = np.linspace(0, 5, 1000)\n",
    "y_sim = tls_function(x_sim, κ0, κtls, ac)\n",
    "\n",
    "# Polynomial fit up to nth order\n",
    "n = np.arange(0, 19, 2)\n",
    "coefficients = np.polynomial.polynomial.polyfit(x_sim, y_sim, n)\n",
    "\n",
    "# Fit data\n",
    "y_fit = 0\n",
    "print('\\033[1m' + 'FIT PARAMETERS' + '\\033[0m')\n",
    "for coef_ind, coef_val in enumerate(coefficients):\n",
    "    y_fit += coef_val*x_sim**coef_ind\n",
    "    if coef_ind%2 == 0:\n",
    "        print(f'κ{coef_ind+1} = {coef_val:.3e}')\n",
    "\n",
    "# Plot\n",
    "fig7, ax7 = plt.subplots(1)\n",
    "ax7.plot(x_sim, y_sim)\n",
    "ax7.plot(x_sim, y_fit, 'r--')\n",
    "ax7.set_xlabel('|a| [a.u.]')\n",
    "ax7.set_ylabel('Damping')\n",
    "plt.show()"
   ],
   "metadata": {
    "collapsed": false,
    "pycharm": {
     "name": "#%%\n"
    }
   }
  },
  {
   "cell_type": "code",
   "execution_count": null,
   "outputs": [],
   "source": [
    "# Simulation\n",
    "A, Ain, a_all, a, ain, f, t_arr, drive = nonlinear_simulation(t_all, f0, κ0, κtls, ac, λ, f1, f2, F0, ind_drive)"
   ],
   "metadata": {
    "collapsed": false,
    "pycharm": {
     "name": "#%%\n"
    }
   }
  },
  {
   "cell_type": "markdown",
   "source": [
    "Before simulating the dynamics, we need to consider that experimentally we measure the frequency components of a real valued voltage.\n",
    "Therefore, in order to make the simulations more similar to the actual experiment, we need to use only the real part of the time-domain field $(a)$ to compute the frequency-domain field $A_r$ as\n",
    "\n",
    "$$ A_r = \\mathscr{R}\\left\\{ \\text{Re}(a) \\right\\}. $$\n",
    "\n",
    "Then, with this magnitude, we reconstruct the complex time-domain field as\n",
    "\n",
    "$$ a = \\text{Re}(a) + i \\mathscr{R}^{-1}\\left\\{ i\\omega A_r \\right\\}. $$\n",
    "\n",
    "We then simulate the dynamics of the system with the previous parameters in both cases, taking the complex and only the real time-domain field."
   ],
   "metadata": {
    "collapsed": false,
    "pycharm": {
     "name": "#%% md\n"
    }
   }
  },
  {
   "cell_type": "code",
   "execution_count": null,
   "outputs": [],
   "source": [
    "# In the experiment we only have access to a real signal (for example the voltage)\n",
    "rfield = np.real(a)\n",
    "t = t_all[-N-1:-1]\n",
    "\n",
    "# Fourier transform of the real time domain spectra\n",
    "rField = np.fft.rfft(rfield) / len(rfield)\n",
    "rfreqs = np.fft.rfftfreq(len(t), d=dt)\n",
    "\n",
    "# We calculate the complex field in the time and frequency domain using the real spectra\n",
    "field = rfield + 1.0j*np.fft.irfft(1.0j*2*π*rfreqs*rField)*len(rfield)/(2*π)\n",
    "Field = np.fft.fft(field) / len(field)\n",
    "freqs = np.fft.fftfreq(len(t), d=dt)\n",
    "\n",
    "ylim = np.array([1e-18, 1e3])\n",
    "xlim = np.array([-0.1, 0.1])\n",
    "fig8 = plot_spectra(t_all, a_all, t_arr, a, ain, f, A, Ain, xlim, ylim, imp_ind)\n",
    "fig8.suptitle('Dynamics taking the real and imaginary components of the time domain field')\n",
    "fig9 = plot_spectra(t_all, a_all, t_arr, field, ain, freqs, Field, Ain, xlim, ylim, imp_ind)\n",
    "fig9.suptitle('Dynamics taking the real component of the time domain field')\n",
    "plt.show()"
   ],
   "metadata": {
    "collapsed": false,
    "pycharm": {
     "name": "#%%\n"
    }
   }
  },
  {
   "cell_type": "markdown",
   "source": [
    "Both fields look similar (at least near resonance), meaning that we are able to obtain the frequency-domain field using only the real part of the time-domain data."
   ],
   "metadata": {
    "collapsed": false,
    "pycharm": {
     "name": "#%% md\n"
    }
   }
  },
  {
   "cell_type": "markdown",
   "source": [
    "We eventually perform a polynomial reconstruction obtaining the following coefficients"
   ],
   "metadata": {
    "collapsed": false,
    "pycharm": {
     "name": "#%% md\n"
    }
   }
  },
  {
   "cell_type": "code",
   "execution_count": null,
   "outputs": [],
   "source": [
    "# Number of terms of the polynomial reconstruction\n",
    "recon_order = np.arange(2, 19, 2)\n",
    "\n",
    "# Reconstruction using the complex time-domain spectra\n",
    "λ_recon, f0_recon, κ_recon, Qmat_fit = recon_nonlinear(A, Ain, a, ain, f, imp_ind, recon_order)\n",
    "λ_recon = np.sqrt(λ_recon)\n",
    "\n",
    "# Reconstruction using only the real time-domain spectra\n",
    "rλ_recon, rf0_recon, rκ_recon, rQmat_fit = recon_nonlinear(Field, Ain, field, ain, f, imp_ind, recon_order)\n",
    "rλ_recon = np.sqrt(rλ_recon)\n",
    "\n",
    "# Print results\n",
    "print('\\033[1m' + 'RECONSTRUCTED PARAMETERS')\n",
    "print('{:<15} {:<15} {:<15}'.format('Parameter','Complex','Real') + '\\033[0m')\n",
    "print('{:<15} {:<15} {:<15}'.format('f0_recon', f'{f0_recon:.5f} Hz', f'{rf0_recon:.5f} Hz'))\n",
    "print('{:<15} {:<15} {:<15}'.format('λ_recon', f'{λ_recon:.5f}', f'{rλ_recon:.5f}'))\n",
    "print('{:<15} {:<15} {:<15}'.format('κ1_recon', f'{κ_recon[0]:.3e}', f'{rκ_recon[0]:.3e}'))\n",
    "for order_ind, order_val in enumerate(recon_order):\n",
    "    print('{:<15} {:<15} {:<15}'.format(f'κ{order_val+1}_recon', f'{κ_recon[order_ind+1]:.3e}', f'{rκ_recon[order_ind+1]:.3e}'))"
   ],
   "metadata": {
    "collapsed": false,
    "pycharm": {
     "name": "#%%\n"
    }
   }
  },
  {
   "cell_type": "markdown",
   "source": [
    "We then plot the simulated damping directly from the TLS function (blue), the polynomial fit (red dotted) and the harmonic balance reconstructed damping (yellow and green) as a function of $|a|$.\n",
    "We also fit the TLS function to the reconstructed damping to get the simulation parameters $\\kappa_0$, $\\kappa_{TLS}$ and $a_c$."
   ],
   "metadata": {
    "collapsed": false,
    "pycharm": {
     "name": "#%% md\n"
    }
   }
  },
  {
   "cell_type": "code",
   "execution_count": null,
   "outputs": [],
   "source": [
    "# Damping plotting\n",
    "a_sim = np.linspace(0, 1, 1000)\n",
    "\n",
    "# Simulated damping\n",
    "y_sim = κ0 + κtls/np.sqrt(1 + (a_sim/ac)**2)\n",
    "\n",
    "# Fitted damping\n",
    "y_fit = 0\n",
    "for coef_ind, coef_val in enumerate(coefficients):\n",
    "    y_fit += coef_val*a_sim**coef_ind\n",
    "\n",
    "# Reconstructed damping using complex time-domain spectra\n",
    "y_recon = 0\n",
    "ry_recon = 0\n",
    "for coef_ind, (coef_val, rcoef_val) in enumerate(zip(κ_recon, rκ_recon)):\n",
    "    y_recon += coef_val*a_sim**(2*coef_ind)\n",
    "    ry_recon += rcoef_val*a_sim**(2*coef_ind)\n",
    "\n",
    "# curve fit of the reconstructed damping to get the tls parameters\n",
    "popt = curve_fit(tls_function, a_sim, y_recon)\n",
    "rpopt = curve_fit(tls_function, a_sim, ry_recon)\n",
    "\n",
    "print('\\033[1m' + 'RECONSTRUCTED PARAMETERS')\n",
    "print('{:<15} {:<15} {:<15}'.format('Parameter','Complex','Real') + '\\033[0m')\n",
    "print('{:<15} {:<15} {:<15}'.format('f0_recon', f'{f0_recon:.5f} Hz', f'{rf0_recon:.5f} Hz'))\n",
    "print('{:<15} {:<15} {:<15}'.format('λ_recon', f'{λ_recon:.5f}', f'{rλ_recon:.5f}'))\n",
    "print('{:<15} {:<15} {:<15}'.format('κ0_recon', f'{popt[0][0]:.5f}', f'{rpopt[0][0]:.5f}'))\n",
    "print('{:<15} {:<15} {:<15}'.format('κtls_recon', f'{popt[0][1]:.5f}', f'{rpopt[0][1]:.5f}'))\n",
    "print('{:<15} {:<15} {:<15}'.format('ac_recon', f'{popt[0][2]:.5f}', f'{rpopt[0][2]:.5f}'))\n",
    "\n",
    "# Plotting\n",
    "fig7, ax7 = plt.subplots(1)\n",
    "ax7.plot(x_sim, y_sim, label='Simulation')\n",
    "ax7.plot(x_sim, y_fit, 'r--', label='Fit')\n",
    "ax7.plot(x_sim, y_recon, label='Reconstruction Complex')\n",
    "ax7.plot(x_sim, ry_recon, label='Reconstruction Real')\n",
    "ax7.set_xlabel('|a| [a.u.]')\n",
    "ax7.set_ylabel('Damping')\n",
    "ax7.legend()\n",
    "plt.show()"
   ],
   "metadata": {
    "collapsed": false,
    "pycharm": {
     "name": "#%%\n"
    }
   }
  },
  {
   "cell_type": "markdown",
   "source": [
    "We are able to reconstruct the parameters decently, even when we consider only the real time-domain field."
   ],
   "metadata": {
    "collapsed": false,
    "pycharm": {
     "name": "#%% md\n"
    }
   }
  },
  {
   "cell_type": "markdown",
   "source": [
    "### Reconstruction as a function of power\n",
    "\n",
    "We now want to check if our reconstruction is robust when changing the drive powers."
   ],
   "metadata": {
    "collapsed": false,
    "pycharm": {
     "name": "#%% md\n"
    }
   }
  },
  {
   "cell_type": "code",
   "execution_count": null,
   "outputs": [],
   "source": [
    "# Parameters\n",
    "# Power Sweep\n",
    "F0_arr = np.logspace(-1.5, 1, 101)\n",
    "\n",
    "# Reconstruction parameters\n",
    "order_arr = np.arange(9, 24, 2)\n",
    "\n",
    "λ_F0 = np.zeros((len(F0_arr), len(order_arr)), dtype=complex)\n",
    "f0_F0 = np.zeros((len(F0_arr), len(order_arr)))\n",
    "κ0_F0 = np.zeros_like(f0_F0)\n",
    "κtls_F0 = np.zeros_like(f0_F0)\n",
    "ac_F0 = np.zeros_like(f0_F0)\n",
    "\n",
    "# Spectra arrays\n",
    "A_F0 = np.zeros((len(F0_arr), N), dtype=np.complex)\n",
    "Ain_F0 = np.zeros_like(A_F0)\n",
    "a_all_F0 = np.zeros((len(F0_arr), len(t_all)), dtype=np.complex)\n",
    "a_F0 = np.zeros_like(A_F0)\n",
    "ain_F0 = np.zeros_like(A_F0)\n",
    "\n",
    "# Power sweep\n",
    "with tqdm(total=len(F0_arr)*len(order_arr), ncols=80) as pbar:\n",
    "\n",
    "    for F0_ind, F0_val in enumerate(F0_arr):\n",
    "        # Simulation section\n",
    "        A_F0[F0_ind], Ain_F0[F0_ind], a_all_F0[F0_ind], a_F0[F0_ind], ain_F0[F0_ind], f, t, drive = nonlinear_simulation(t_all, f0, κ0, κtls, ac, λ, f1, f2, F0_val, ind_drive)\n",
    "        \n",
    "        for order_ind, order_val in enumerate(order_arr):\n",
    "            recon_order = np.arange(2, order_val, 2)\n",
    "            # Reconstruction\n",
    "            λ_F0[F0_ind, order_ind], f0_F0[F0_ind, order_ind], κ_F0, QF0 = recon_nonlinear(A_F0[F0_ind], Ain_F0[F0_ind], a_F0[F0_ind], ain_F0[F0_ind], f, imp_ind, recon_order)\n",
    "            λ_F0[F0_ind, order_ind] = np.sqrt(λ_F0[F0_ind, order_ind])\n",
    "\n",
    "            # Damping reconstruction\n",
    "            x_sim = np.linspace(-1, 1, 1000)\n",
    "            y_recon = 0\n",
    "            for coef_ind, coef_val in enumerate(κ_F0):\n",
    "                y_recon += coef_val*x_sim**(2*coef_ind)\n",
    "\n",
    "            popt = scipy.optimize.curve_fit(tls_function, x_sim, y_recon)\n",
    "\n",
    "            κ0_F0[F0_ind, order_ind] = popt[0][0]\n",
    "            κtls_F0[F0_ind, order_ind] = popt[0][1]\n",
    "            ac_F0[F0_ind, order_ind] = popt[0][2]\n",
    "        \n",
    "            pbar.update(1)"
   ],
   "metadata": {
    "collapsed": false,
    "pycharm": {
     "name": "#%%\n"
    }
   }
  },
  {
   "cell_type": "code",
   "execution_count": null,
   "outputs": [],
   "source": [
    "def reconorder_sweep(order_ind_):\n",
    "    figure, ax = plt.subplots(5, figsize=[9, 9])\n",
    "    ax[0].loglog(F0_arr, np.abs(λ_F0[:, order_ind_]))\n",
    "    ax[0].axhline(y=λ, linestyle='--', color='black')\n",
    "    ax[1].loglog(F0_arr, np.abs(f0_F0[:, order_ind_]))\n",
    "    ax[1].axhline(y=f0, linestyle='--', color='black')\n",
    "    ax[2].loglog(F0_arr, np.abs(κ0_F0[:, order_ind_]))\n",
    "    ax[2].axhline(y=κ0, linestyle='--', color='black')\n",
    "    ax[3].loglog(F0_arr, np.abs(κtls_F0[:, order_ind_]))\n",
    "    ax[3].axhline(y=κtls, linestyle='--', color='black')\n",
    "    ax[4].loglog(F0_arr, np.abs(ac_F0[:, order_ind_]))\n",
    "    ax[4].axhline(y=ac, linestyle='--', color='black')\n",
    "    ax[0].set_ylabel(r'$|\\lambda|$')\n",
    "    ax[1].set_ylabel(r'$|f_0|$')\n",
    "    ax[2].set_ylabel(r'$|\\kappa_0|$')\n",
    "    ax[3].set_ylabel(r'$|\\kappa_{TLS}|$')\n",
    "    ax[4].set_xlabel(r'$F_0$')\n",
    "    ax[4].set_ylabel(r'$|a_c|$')\n",
    "    ax[1].set_ylim(1e-19, 1e-12)\n",
    "    ax[2].set_ylim(1e-3, 1e9)\n",
    "    ax[3].set_ylim(1e-3, 1e9)\n",
    "    ax[4].set_ylim(1e-3, 1e9)\n",
    "    figure.suptitle('Reconstruction Order = ' + f'{order_arr[order_ind_]:d}')\n",
    "    plt.show()\n",
    "    \n",
    "# Interactive layout  \n",
    "widgets.interact(reconorder_sweep,\n",
    "                 order_ind_=widgets.IntSlider(min=0,\n",
    "                                              max=len(order_arr)-1,\n",
    "                                              step=1,\n",
    "                                              description='order_ind',\n",
    "                                              )\n",
    "                )\n",
    "\n",
    "plt.show()"
   ],
   "metadata": {
    "collapsed": false,
    "pycharm": {
     "name": "#%%\n"
    }
   }
  },
  {
   "cell_type": "markdown",
   "source": [
    "### Phase dependence in the harmonic balance reconstruction\n",
    "\n",
    "We now want to check if the reconstruction is successful when we input the wrong phase difference between input and output field.\n",
    "We then simualte and reconstruct the dynamics sweeping the phase difference from $\\phi \\in (-\\pi, \\pi)$, while fixing the rest of the parameters to its values stated previously. "
   ],
   "metadata": {
    "collapsed": false,
    "pycharm": {
     "name": "#%% md\n"
    }
   }
  },
  {
   "cell_type": "code",
   "execution_count": null,
   "outputs": [],
   "source": [
    "# Parameters\n",
    "α_arr = np.linspace(-π, π, 51)\n",
    "\n",
    "# Reconstruction parameters\n",
    "recon_order = np.arange(2, 19, 2)\n",
    "λ_α = np.zeros(len(α_arr), dtype=complex)\n",
    "f0_α = np.zeros(len(α_arr))\n",
    "κ0_α = np.zeros_like(f0_α)\n",
    "κtls_α = np.zeros_like(f0_α)\n",
    "ac_α = np.zeros_like(f0_α)\n",
    "\n",
    "# Spectra arrays\n",
    "A_α = np.zeros((len(α_arr), N), dtype=np.complex)\n",
    "Ain_α = np.zeros_like(A_α)\n",
    "a_all_α = np.zeros((len(α_arr), len(t_all)), dtype=np.complex)\n",
    "a_α = np.zeros_like(A_α)\n",
    "ain_α = np.zeros_like(A_α)\n",
    "\n",
    "# Power sweep\n",
    "with tqdm(total=len(α_arr), ncols=80) as pbar:\n",
    "\n",
    "    for α_ind, α_val in enumerate(α_arr):\n",
    "        # Simulation section\n",
    "        A_α[α_ind], Ain_α[α_ind], a_all_α[α_ind], a_α[α_ind], ain_α[α_ind], f, t, drive = nonlinear_simulation(t_all, f0, κ0, κtls, ac, λ, f1, f2, F0, ind_drive, α_val)\n",
    "        \n",
    "        # Reconstruction\n",
    "        λ_α[α_ind], f0_α[α_ind], κ_α, Qα = recon_nonlinear(A_α[α_ind], Ain_α[α_ind], a_α[α_ind], ain_α[α_ind], f, imp_ind, recon_order)\n",
    "        λ_α[α_ind] = np.sqrt(λ_α[α_ind])\n",
    "        \n",
    "        # Damping reconstruction\n",
    "        x_sim = np.linspace(-1, 1, 1000)\n",
    "        y_recon = 0\n",
    "        for coef_ind, coef_val in enumerate(κ_α):\n",
    "            y_recon += coef_val*x_sim**(2*coef_ind)\n",
    "        \n",
    "        popt = scipy.optimize.curve_fit(tls_function, x_sim, y_recon)\n",
    "        \n",
    "        κ0_α[α_ind] = popt[0][0]\n",
    "        κtls_α[α_ind] = popt[0][1]\n",
    "        ac_α[α_ind] = popt[0][2]\n",
    "         \n",
    "        pbar.update(1)"
   ],
   "metadata": {
    "collapsed": false,
    "pycharm": {
     "name": "#%%\n"
    }
   }
  },
  {
   "cell_type": "code",
   "execution_count": null,
   "outputs": [],
   "source": [
    "fig, ax = plt.subplots(5, figsize=[9, 9])\n",
    "ax[0].plot(α_arr, np.abs(λ_α))\n",
    "ax[0].axhline(y=λ, linestyle='--', color='black')\n",
    "ax[1].semilogy(α_arr, np.abs(f0_α))\n",
    "ax[1].axhline(y=f0, linestyle='--', color='black')\n",
    "ax[2].semilogy(α_arr, np.abs(κ0_α))\n",
    "ax[2].axhline(y=κ0, linestyle='--', color='black')\n",
    "ax[3].semilogy(α_arr, np.abs(κtls_α))\n",
    "ax[3].axhline(y=κtls, linestyle='--', color='black')\n",
    "ax[4].semilogy(α_arr, ac_α)\n",
    "ax[4].axhline(y=ac, linestyle='--', color='black')\n",
    "ax[0].set_ylabel(r'$|\\lambda|$')\n",
    "ax[1].set_ylabel(r'$|f_0|$')\n",
    "ax[2].set_ylabel(r'$|\\kappa_0|$')\n",
    "ax[3].set_ylabel(r'$|\\kappa_{TLS}|$')\n",
    "ax[4].set_xlabel(r'$\\phi$ (rad)')\n",
    "ax[4].set_ylabel(r'$a_c$')\n",
    "plt.show()"
   ],
   "metadata": {
    "collapsed": false,
    "pycharm": {
     "name": "#%%\n"
    }
   }
  },
  {
   "cell_type": "markdown",
   "source": [
    "### Out of resonance simulation\n",
    "\n",
    "The previous plot indicates that our reconstruction fails when we input the wrong phases.\n",
    "Therefore we will have to find a way to calculate this phases.\n",
    "Maybe if we analyze the spectra out of resonance we can get some valuable infomation.\n",
    "\n",
    "The input-output relation out of resonance is given by\n",
    "\n",
    "$$ \\dfrac{a_{out}}{\\sqrt{G}} = e^{i\\phi} \\dfrac{a_{in}}{\\sqrt{\\mathcal{A}}}. $$\n",
    "\n",
    "In the frequency domain:\n",
    "\n",
    "$$ \\dfrac{A_{out,k}}{\\sqrt{G}} = e^{i\\phi} \\dfrac{A_{in,k}}{\\sqrt{\\mathcal{A}}} \\quad \\rightarrow \\quad e^{i\\phi} = \\sqrt{\\dfrac{\\mathcal{A}}{G}} \\dfrac{A_{out,k}}{A_{in,k}} $$\n",
    "\n",
    "\n",
    "We then solve the same differential equation, but with the two drives far from resonance.\n",
    "We also sweep the phase to check that we are able to reconstruct the phase for several values.\n",
    "The parameters of the simulation are the following:\n",
    "\n",
    "| Drive Parameters | System Parameters       |\n",
    "|:-----------------|:------------------------|\n",
    "| $F_0 = 1$        | $\\omega_r = 0$          |\n",
    "| $f_1 = 10.000$   | $\\kappa_0 = 0.5$        |\n",
    "| $f_2 = 10.002$   | $\\kappa_{TLS} = 0.05$   |\n",
    "|                  | $a_{c} = 1$             |\n",
    "|                  | $\\phi \\in (-\\pi,\\pi)$   |\n",
    "|                  | $\\lambda = 1$           |\n",
    "\n",
    "In the figure below, we show the spectra for the two drives out of resonance for $\\phi=\\pi$."
   ],
   "metadata": {
    "collapsed": false,
    "pycharm": {
     "name": "#%% md\n"
    }
   }
  },
  {
   "cell_type": "code",
   "execution_count": null,
   "outputs": [],
   "source": [
    "# Gain and attenuation of the measurement lines\n",
    "gain = 1\n",
    "att = 1\n",
    "\n",
    "# Drive parameters\n",
    "λ = 1\n",
    "F0 = 1\n",
    "f1_or = 10.000\n",
    "f2_or = 10.002\n",
    "df = 0.001\n",
    "fs_or = 40\n",
    "N = int(round(fs_or/df))\n",
    "phi_arr = np.linspace(-np.pi, np.pi, 16)\n",
    "\n",
    "# Drive indices\n",
    "ind_drive_or = np.array([10000, 10002, -10000, -10002])\n",
    "\n",
    "# Imps indices\n",
    "nimps = 0\n",
    "imp_ind_or = np.arange(ind_drive_or[0]-nimps, ind_drive_or[1]+nimps+2, 2)\n",
    "\n",
    "# Integration parameters\n",
    "T = 1. / df\n",
    "T_relax = 5 * T\n",
    "dt = 1. / fs_or\n",
    "t_all_or = dt*(np.arange((T+T_relax)/dt) + 1)\n",
    "\n",
    "# System parameters\n",
    "f0 = 0\n",
    "κ0 = 0.5\n",
    "κtls = 0.05\n",
    "ac = 1\n",
    "Q_factor = 1/(2*κ0)\n",
    "\n",
    "# Initial conditions\n",
    "y0 = [0,0]"
   ],
   "metadata": {
    "collapsed": false,
    "pycharm": {
     "name": "#%%\n"
    }
   }
  },
  {
   "cell_type": "code",
   "execution_count": null,
   "outputs": [],
   "source": [
    "# Phase sweep\n",
    "phase = np.zeros(len(phi_arr), dtype=complex)\n",
    "\n",
    "with tqdm(total=len(phi_arr), ncols=80) as pbar:\n",
    "\n",
    "    for phi_ind, phi_val in enumerate(phi_arr):\n",
    "        # Simulation section\n",
    "        A, Ain, a_all, a, ain, f_or, t_or, drive = nonlinear_simulation(t_all_or, f0, κ0, κtls, ac, λ, f1_or, f2_or, F0, ind_drive_or, phi_val)\n",
    "        \n",
    "        phase[phi_ind] = -1.0j * np.log(np.sqrt(att/gain) * A[ind_drive_or[0]]/Ain[ind_drive_or[0]])\n",
    "        \n",
    "        pbar.update(1)"
   ],
   "metadata": {
    "collapsed": false,
    "pycharm": {
     "name": "#%%\n"
    }
   }
  },
  {
   "cell_type": "code",
   "execution_count": null,
   "outputs": [],
   "source": [
    "# Plot Fourier spectra of the intra-cavity field\n",
    "ylim = np.array([1e-16, 1e3])\n",
    "xlim = np.array([9.9, 10.1])\n",
    "fig10, ax10 = plt.subplots(2, figsize=(9,6))\n",
    "ax10[0].semilogy(f_or, np.abs(A))\n",
    "ax10[0].semilogy(f_or, np.abs(A-Ain), '--')\n",
    "ax10[1].semilogy(f_or, np.abs(A))\n",
    "ax10[1].semilogy(f_or, np.abs(A-Ain))\n",
    "ax10[0].set_ylabel('$|\\mathcal{F}(a)|$ [a.u.]')\n",
    "ax10[1].set_xlabel('Frequency [Hz]')\n",
    "ax10[1].set_ylabel('$|\\mathcal{F}(a)|$ [a.u.]')\n",
    "ax10[1].set_xlim(*xlim)\n",
    "ax10[0].set_ylim(*ylim)\n",
    "plt.show()"
   ],
   "metadata": {
    "collapsed": false,
    "pycharm": {
     "name": "#%%\n"
    }
   }
  },
  {
   "cell_type": "markdown",
   "source": [
    "We then sweep the phase in the simulation and try to reconstruct.\n",
    "Here we plot the reconstructed phase difference against the simulated phase difference.\n",
    "The dotted yellow line represents slope 1, and ideally all the dots should lie on such line."
   ],
   "metadata": {
    "collapsed": false,
    "pycharm": {
     "name": "#%% md\n"
    }
   }
  },
  {
   "cell_type": "code",
   "execution_count": null,
   "outputs": [],
   "source": [
    "fig11, ax11 = plt.subplots(1)\n",
    "ax11.plot(phi_arr, np.real(phase), '.')\n",
    "ax11.plot(phi_arr, phi_arr, '--')\n",
    "ax11.set_xlabel('$\\phi_{simulated}$ (rad)')\n",
    "ax11.set_ylabel('$\\phi_{reconstructed}$ (rad)')\n",
    "plt.show()"
   ],
   "metadata": {
    "collapsed": false,
    "pycharm": {
     "name": "#%%\n"
    }
   }
  },
  {
   "cell_type": "code",
   "execution_count": null,
   "outputs": [],
   "source": [
    "winsound.Beep(540, 1500)"
   ],
   "metadata": {
    "collapsed": false,
    "pycharm": {
     "name": "#%%\n"
    }
   }
  },
  {
   "cell_type": "code",
   "execution_count": 31,
   "metadata": {
    "pycharm": {
     "name": "#%%\n"
    }
   },
   "outputs": [
    {
     "data": {
      "image/png": "[encoded data removed]",
      "text/plain": [
       "<Figure size 648x648 with 5 Axes>"
      ]
     },
     "metadata": {
      "needs_background": "light"
     },
     "output_type": "display_data"
    }
   ],
   "source": [
    "fig, ax = plt.subplots(5, figsize=[9, 9])\n",
    "ax[0].plot(α_arr, np.abs(λ_α))\n",
    "ax[0].axhline(y=λ, linestyle='--', color='black')\n",
    "ax[1].semilogy(α_arr, np.abs(f0_α))\n",
    "ax[1].axhline(y=f0, linestyle='--', color='black')\n",
    "ax[2].semilogy(α_arr, np.abs(κ0_α))\n",
    "ax[2].axhline(y=κ0, linestyle='--', color='black')\n",
    "ax[3].semilogy(α_arr, np.abs(κtls_α))\n",
    "ax[3].axhline(y=κtls, linestyle='--', color='black')\n",
    "ax[4].semilogy(α_arr, ac_α)\n",
    "ax[4].axhline(y=ac, linestyle='--', color='black')\n",
    "ax[0].set_ylabel(r'$|\\lambda|$')\n",
    "ax[1].set_ylabel(r'$|f_0|$')\n",
    "ax[2].set_ylabel(r'$|\\kappa_0|$')\n",
    "ax[3].set_ylabel(r'$|\\kappa_{TLS}|$')\n",
    "ax[4].set_xlabel(r'$\\phi$ (rad)')\n",
    "ax[4].set_ylabel(r'$a_c$')\n",
    "plt.show()"
   ]
  },
  {
   "cell_type": "markdown",
   "metadata": {},
   "source": [
    "### Out of resonance simulation\n",
    "\n",
    "The previous plot indicates that our reconstruction fails when we input the wrong phases.\n",
    "Therefore we will have to find a way to calculate this phases.\n",
    "Maybe if we analyze the spectra out of resonance we can get some valuable infomation.\n",
    "\n",
    "The input-output relation out of resonance is given by\n",
    "\n",
    "$$ \\dfrac{a_{out}}{\\sqrt{G}} = e^{i\\phi} \\dfrac{a_{in}}{\\sqrt{\\mathcal{A}}}. $$\n",
    "\n",
    "In the frequency domain:\n",
    "\n",
    "$$ \\dfrac{A_{out,k}}{\\sqrt{G}} = e^{i\\phi} \\dfrac{A_{in,k}}{\\sqrt{\\mathcal{A}}} \\quad \\rightarrow \\quad e^{i\\phi} = \\sqrt{\\dfrac{\\mathcal{A}}{G}} \\dfrac{A_{out,k}}{A_{in,k}} $$\n",
    "\n",
    "\n",
    "We then solve the same differential equation, but with the two drives far from resonance.\n",
    "We also sweep the phase to check that we are able to reconstruct the phase for several values.\n",
    "The parameters of the simulation are the following:\n",
    "\n",
    "| Drive Parameters | System Parameters       |\n",
    "|:-----------------|:------------------------|\n",
    "| $F_0 = 1$        | $\\omega_r = 0$          |\n",
    "| $f_1 = 10.000$   | $\\kappa_0 = 0.5$        |\n",
    "| $f_2 = 10.002$   | $\\kappa_{TLS} = 0.05$   |\n",
    "|                  | $a_{c} = 1$             |\n",
    "|                  | $\\phi \\in (-\\pi,\\pi)$   |\n",
    "|                  | $\\lambda = 1$           |\n",
    "\n",
    "In the figure below, we show the spectra for the two drives out of resonance for $\\phi=\\pi$."
   ]
  },
  {
   "cell_type": "code",
   "execution_count": 42,
   "metadata": {},
   "outputs": [],
   "source": [
    "# Gain and attenuation of the measurement lines\n",
    "gain = 1\n",
    "att = 1\n",
    "\n",
    "# Drive parameters\n",
    "λ = 1\n",
    "F0 = 1\n",
    "f1_or = 10.000\n",
    "f2_or = 10.002\n",
    "df = 0.001\n",
    "fs_or = 40\n",
    "N = int(round(fs_or/df))\n",
    "phi_arr = np.linspace(-np.pi, np.pi, 16)\n",
    "\n",
    "# Drive indices\n",
    "ind_drive_or = np.array([10000, 10002, -10000, -10002])\n",
    "\n",
    "# Imps indices\n",
    "nimps = 0\n",
    "imp_ind_or = np.arange(ind_drive_or[0]-nimps, ind_drive_or[1]+nimps+2, 2)\n",
    "\n",
    "# Integration parameters\n",
    "T = 1. / df\n",
    "T_relax = 5 * T\n",
    "dt = 1. / fs_or\n",
    "t_all_or = dt*(np.arange((T+T_relax)/dt) + 1)\n",
    "\n",
    "# System parameters\n",
    "f0 = 0\n",
    "κ0 = 0.5\n",
    "κtls = 0.05\n",
    "ac = 1\n",
    "Q_factor = 1/(2*κ0)\n",
    "\n",
    "# Initial conditions\n",
    "y0 = [0,0]"
   ]
  },
  {
   "cell_type": "code",
   "execution_count": 43,
   "metadata": {},
   "outputs": [
    {
     "name": "stderr",
     "output_type": "stream",
     "text": [
      "100%|████████████████████████████████████████| 16/16 [1:29:49<00:00, 336.85s/it]\n"
     ]
    }
   ],
   "source": [
    "# Phase sweep\n",
    "phase = np.zeros(len(phi_arr), dtype=complex)\n",
    "\n",
    "with tqdm(total=len(phi_arr), ncols=80) as pbar:\n",
    "\n",
    "    for phi_ind, phi_val in enumerate(phi_arr):\n",
    "        # Simulation section\n",
    "        A, Ain, a_all, a, ain, f_or, t_or, drive = nonlinear_simulation(t_all_or, f0, κ0, κtls, ac, λ, f1_or, f2_or, F0, ind_drive_or, phi_val)\n",
    "        \n",
    "        phase[phi_ind] = -1.0j * np.log(np.sqrt(att/gain) * A[ind_drive_or[0]]/Ain[ind_drive_or[0]])\n",
    "        \n",
    "        pbar.update(1)"
   ]
  },
  {
   "cell_type": "code",
   "execution_count": 44,
   "metadata": {},
   "outputs": [
    {
     "data": {
      "image/png": "[encoded data removed]",
      "text/plain": [
       "<Figure size 648x432 with 2 Axes>"
      ]
     },
     "metadata": {
      "needs_background": "light"
     },
     "output_type": "display_data"
    }
   ],
   "source": [
    "# Plot Fourier spectra of the intra-cavity field\n",
    "ylim = np.array([1e-16, 1e3])\n",
    "xlim = np.array([9.9, 10.1])\n",
    "fig10, ax10 = plt.subplots(2, figsize=(9,6))\n",
    "ax10[0].semilogy(f_or, np.abs(A))\n",
    "ax10[0].semilogy(f_or, np.abs(A-Ain), '--')\n",
    "ax10[1].semilogy(f_or, np.abs(A))\n",
    "ax10[1].semilogy(f_or, np.abs(A-Ain))\n",
    "ax10[0].set_ylabel('$|\\mathcal{F}(a)|$ [a.u.]')\n",
    "ax10[1].set_xlabel('Frequency [Hz]')\n",
    "ax10[1].set_ylabel('$|\\mathcal{F}(a)|$ [a.u.]')\n",
    "ax10[1].set_xlim(*xlim)\n",
    "ax10[0].set_ylim(*ylim)\n",
    "plt.show()"
   ]
  },
  {
   "cell_type": "markdown",
   "metadata": {},
   "source": [
    "We then sweep the phase in the simulation and try to reconstruct.\n",
    "Here we plot the reconstructed phase difference against the simulated phase difference.\n",
    "The dotted yellow line represents slope 1, and ideally all the dots should lie on such line."
   ]
  },
  {
   "cell_type": "code",
   "execution_count": 45,
   "metadata": {},
   "outputs": [
    {
     "data": {
      "image/png": "[encoded data removed]",
      "text/plain": [
       "<Figure size 432x288 with 1 Axes>"
      ]
     },
     "metadata": {
      "needs_background": "light"
     },
     "output_type": "display_data"
    }
   ],
   "source": [
    "fig11, ax11 = plt.subplots(1)\n",
    "ax11.plot(phi_arr, np.real(phase), '.')\n",
    "ax11.plot(phi_arr, phi_arr, '--')\n",
    "ax11.set_xlabel('$\\phi_{simulated}$ (rad)')\n",
    "ax11.set_ylabel('$\\phi_{reconstructed}$ (rad)')\n",
    "plt.show()"
   ]
  },
  {
   "cell_type": "code",
   "execution_count": 41,
   "metadata": {
    "pycharm": {
     "name": "#%%\n"
    }
   },
   "outputs": [],
   "source": [
    "winsound.Beep(540, 1500)"
   ]
  },
  {
   "cell_type": "code",
   "execution_count": null,
   "metadata": {},
   "outputs": [],
   "source": []
  }
 ],
 "metadata": {
  "kernelspec": {
   "display_name": "Python 3",
   "language": "python",
   "name": "python3"
  },
  "language_info": {
   "codemirror_mode": {
    "name": "ipython",
    "version": 3
   },
   "file_extension": ".py",
   "mimetype": "text/x-python",
   "name": "python",
   "nbconvert_exporter": "python",
   "pygments_lexer": "ipython3",
   "version": "3.8.3"
  }
 },
 "nbformat": 4,
 "nbformat_minor": 4
}